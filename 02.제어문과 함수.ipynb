{
 "cells": [
  {
   "cell_type": "markdown",
   "metadata": {},
   "source": [
    "### 제어문과 함수\n",
    "\n",
    "#### 1. 제어문\n",
    "\n",
    "##### 1) 조건문"
   ]
  },
  {
   "cell_type": "code",
   "execution_count": 4,
   "metadata": {},
   "outputs": [
    {
     "data": {
      "text/html": [
       "0.282377504045144"
      ],
      "text/latex": [
       "0.282377504045144"
      ],
      "text/markdown": [
       "0.282377504045144"
      ],
      "text/plain": [
       "[1] 0.2823775"
      ]
     },
     "metadata": {},
     "output_type": "display_data"
    },
    {
     "name": "stdout",
     "output_type": "stream",
     "text": [
      "[1] 0.2823775\n",
      "[1] 0.7176225\n"
     ]
    },
    {
     "data": {
      "text/html": [
       "0.717622495954856"
      ],
      "text/latex": [
       "0.717622495954856"
      ],
      "text/markdown": [
       "0.717622495954856"
      ],
      "text/plain": [
       "[1] 0.7176225"
      ]
     },
     "metadata": {},
     "output_type": "display_data"
    }
   ],
   "source": [
    "x <- runif(1)\n",
    "x\n",
    "\n",
    "# 단순 if\n",
    "if(x>0) print(abs(x)) # 절대값을 출력\n",
    "\n",
    "# if ~ else\n",
    "if(x<0.5) print(1-x) else print(x)\n",
    "    \n",
    "# ifesle(조건식, T, F)\n",
    "ifelse(x<0.5, 1-x, x)"
   ]
  },
  {
   "cell_type": "code",
   "execution_count": 5,
   "metadata": {},
   "outputs": [
    {
     "name": "stdout",
     "output_type": "stream",
     "text": [
      "[1] -9\n",
      "[1] \"홀수입니다!\"\n",
      "[1] 9\n"
     ]
    }
   ],
   "source": [
    "# 1. if 블럭\n",
    "a <- -9\n",
    "if(a %% 2 == 0) {\n",
    "    print(a)\n",
    "    print(\"짝수입니다!\")\n",
    "    print(abs(a))\n",
    "} else {\n",
    "    print(a)\n",
    "    print(\"홀수입니다!\")\n",
    "    print(abs(a))    \n",
    "}"
   ]
  },
  {
   "cell_type": "code",
   "execution_count": 8,
   "metadata": {},
   "outputs": [
    {
     "data": {
      "text/html": [
       "9"
      ],
      "text/latex": [
       "9"
      ],
      "text/markdown": [
       "9"
      ],
      "text/plain": [
       "[1] 9"
      ]
     },
     "metadata": {},
     "output_type": "display_data"
    },
    {
     "name": "stdout",
     "output_type": "stream",
     "text": [
      "[1] \"A\"\n"
     ]
    }
   ],
   "source": [
    "# 2. switch문 : break문장은 없음\n",
    "point <- 95\n",
    "\n",
    "# 정수몫\n",
    "grade <- point %/% 10 # / 나누기, %/% 정수몫\n",
    "grade\n",
    "\n",
    "# 변환함수\n",
    "# as.numeric(), as.character(), as.logical()\n",
    "switch(as.character(grade),\n",
    " '10' = print('A+'),\n",
    " '9' = print('A'),\n",
    " '8' = print('B'),\n",
    " '7' = print('C'),\n",
    " '6' = print('D'),\n",
    " print('F')       \n",
    ")"
   ]
  },
  {
   "cell_type": "markdown",
   "metadata": {},
   "source": [
    "##### 2)  반복문"
   ]
  },
  {
   "cell_type": "code",
   "execution_count": 12,
   "metadata": {},
   "outputs": [
    {
     "name": "stdout",
     "output_type": "stream",
     "text": [
      "3 x 1 = 3 \n",
      "3 x 2 = 6 \n",
      "3 x 3 = 9 \n",
      "3 x 4 = 12 \n",
      "3 x 5 = 15 \n",
      "3 x 6 = 18 \n",
      "3 x 7 = 21 \n",
      "3 x 8 = 24 \n",
      "3 x 9 = 27 \n",
      "3 x 10 = 30 \n"
     ]
    }
   ],
   "source": [
    "# 1. for\n",
    "dan <- 3\n",
    "for(i in seq(1,10,by=1)) {\n",
    "    cat(paste(dan, \"x\", i, \"=\", dan*i, \"\\n\"))\n",
    "}"
   ]
  },
  {
   "cell_type": "code",
   "execution_count": 2,
   "metadata": {},
   "outputs": [
    {
     "name": "stdout",
     "output_type": "stream",
     "text": [
      "\n",
      "===== 2 단=====\n",
      "2 x 1 = 2 \n",
      "2 x 2 = 4 \n",
      "2 x 3 = 6 \n",
      "2 x 4 = 8 \n",
      "2 x 5 = 10 \n",
      "2 x 6 = 12 \n",
      "2 x 7 = 14 \n",
      "2 x 8 = 16 \n",
      "2 x 9 = 18 \n",
      "\n",
      "===== 3 단=====\n",
      "3 x 1 = 3 \n",
      "3 x 2 = 6 \n",
      "3 x 3 = 9 \n",
      "3 x 4 = 12 \n",
      "3 x 5 = 15 \n",
      "3 x 6 = 18 \n",
      "3 x 7 = 21 \n",
      "3 x 8 = 24 \n",
      "3 x 9 = 27 \n",
      "\n",
      "===== 4 단=====\n",
      "4 x 1 = 4 \n",
      "4 x 2 = 8 \n",
      "4 x 3 = 12 \n",
      "4 x 4 = 16 \n",
      "4 x 5 = 20 \n",
      "4 x 6 = 24 \n",
      "4 x 7 = 28 \n",
      "4 x 8 = 32 \n",
      "4 x 9 = 36 \n",
      "\n",
      "===== 5 단=====\n",
      "5 x 1 = 5 \n",
      "5 x 2 = 10 \n",
      "5 x 3 = 15 \n",
      "5 x 4 = 20 \n",
      "5 x 5 = 25 \n",
      "5 x 6 = 30 \n",
      "5 x 7 = 35 \n",
      "5 x 8 = 40 \n",
      "5 x 9 = 45 \n",
      "\n",
      "===== 6 단=====\n",
      "6 x 1 = 6 \n",
      "6 x 2 = 12 \n",
      "6 x 3 = 18 \n",
      "6 x 4 = 24 \n",
      "6 x 5 = 30 \n",
      "6 x 6 = 36 \n",
      "6 x 7 = 42 \n",
      "6 x 8 = 48 \n",
      "6 x 9 = 54 \n",
      "\n",
      "===== 7 단=====\n",
      "7 x 1 = 7 \n",
      "7 x 2 = 14 \n",
      "7 x 3 = 21 \n",
      "7 x 4 = 28 \n",
      "7 x 5 = 35 \n",
      "7 x 6 = 42 \n",
      "7 x 7 = 49 \n",
      "7 x 8 = 56 \n",
      "7 x 9 = 63 \n",
      "\n",
      "===== 8 단=====\n",
      "8 x 1 = 8 \n",
      "8 x 2 = 16 \n",
      "8 x 3 = 24 \n",
      "8 x 4 = 32 \n",
      "8 x 5 = 40 \n",
      "8 x 6 = 48 \n",
      "8 x 7 = 56 \n",
      "8 x 8 = 64 \n",
      "8 x 9 = 72 \n",
      "\n",
      "===== 9 단=====\n",
      "9 x 1 = 9 \n",
      "9 x 2 = 18 \n",
      "9 x 3 = 27 \n",
      "9 x 4 = 36 \n",
      "9 x 5 = 45 \n",
      "9 x 6 = 54 \n",
      "9 x 7 = 63 \n",
      "9 x 8 = 72 \n",
      "9 x 9 = 81 \n"
     ]
    }
   ],
   "source": [
    "# 출력문에서 줄바꿈을 하고 싶을 경우 print대신 cat함수를 사용\n",
    "for(i in seq(2,9)) {\n",
    "    cat(paste(\"\\n=====\", i, \"단=====\\n\"))\n",
    "    for(j in seq(1,9)) {\n",
    "        cat(paste(i, \"x\", j, \"=\", i*j, \"\\n\"))\n",
    "    }\n",
    "}"
   ]
  },
  {
   "cell_type": "code",
   "execution_count": 3,
   "metadata": {},
   "outputs": [
    {
     "data": {
      "text/html": [
       "10"
      ],
      "text/latex": [
       "10"
      ],
      "text/markdown": [
       "10"
      ],
      "text/plain": [
       "[1] 10"
      ]
     },
     "metadata": {},
     "output_type": "display_data"
    }
   ],
   "source": [
    "# 2. while\n",
    "sum <- 0\n",
    "i <- 1\n",
    "while (i <= 10) {\n",
    "    sum <- sum + 1 # R은 복합연산자 +=등은 없다.\n",
    "    i <- i+1\n",
    "}\n",
    "sum"
   ]
  },
  {
   "cell_type": "code",
   "execution_count": 4,
   "metadata": {},
   "outputs": [
    {
     "data": {
      "text/html": [
       "10"
      ],
      "text/latex": [
       "10"
      ],
      "text/markdown": [
       "10"
      ],
      "text/plain": [
       "[1] 10"
      ]
     },
     "metadata": {},
     "output_type": "display_data"
    }
   ],
   "source": [
    "# 3. repeat : 선실행후 검사(파이썬, 자바의 do while과 유사)\n",
    "sum <- 0\n",
    "i <- 1\n",
    "repeat {\n",
    "    sum <- sum + 1 # R은 복합연산자 +=등은 없다.\n",
    "    i <- i+1\n",
    "    # 탈출조건 지정\n",
    "    if(i>10) break\n",
    "}\n",
    "sum"
   ]
  },
  {
   "cell_type": "markdown",
   "metadata": {},
   "source": [
    "#### 2. 함수"
   ]
  },
  {
   "cell_type": "code",
   "execution_count": 6,
   "metadata": {},
   "outputs": [
    {
     "name": "stdout",
     "output_type": "stream",
     "text": [
      "단을 입력하세요!9\n",
      "9 x 1 = 9 \n",
      "9 x 2 = 18 \n",
      "9 x 3 = 27 \n",
      "9 x 4 = 36 \n",
      "9 x 5 = 45 \n",
      "9 x 6 = 54 \n",
      "9 x 7 = 63 \n",
      "9 x 8 = 72 \n",
      "9 x 9 = 81 \n"
     ]
    }
   ],
   "source": [
    "# 1. 사용자정의함수\n",
    "# 함수선언방법 : 함수명 <- function() { 실행문... }\n",
    "gugudan <- function() {\n",
    "    # readline : 키보드로 입력값을 받아서 문자열로 저장, 입력대기\n",
    "    dan <- readline(\"단을 입력하세요!\")\n",
    "    dan <- as.integer(dan) # 문자열을 정수로 변환\n",
    "    for(i in seq(9)) {\n",
    "        cat(paste(dan, \"x\", i, \"=\", dan*i, \"\\n\"))\n",
    "    }\n",
    "}\n",
    "gugudan()"
   ]
  },
  {
   "cell_type": "code",
   "execution_count": 17,
   "metadata": {},
   "outputs": [
    {
     "data": {
      "text/html": [
       "2.23606797749979"
      ],
      "text/latex": [
       "2.23606797749979"
      ],
      "text/markdown": [
       "2.23606797749979"
      ],
      "text/plain": [
       "[1] 2.236068"
      ]
     },
     "metadata": {},
     "output_type": "display_data"
    },
    {
     "data": {
      "text/html": [
       "<style>\n",
       ".list-inline {list-style: none; margin:0; padding: 0}\n",
       ".list-inline>li {display: inline-block}\n",
       ".list-inline>li:not(:last-child)::after {content: \"\\00b7\"; padding: 0 .5ex}\n",
       "</style>\n",
       "<ol class=list-inline><li>1</li><li>1.4142135623731</li><li>1.73205080756888</li><li>2</li><li>2.23606797749979</li></ol>\n"
      ],
      "text/latex": [
       "\\begin{enumerate*}\n",
       "\\item 1\n",
       "\\item 1.4142135623731\n",
       "\\item 1.73205080756888\n",
       "\\item 2\n",
       "\\item 2.23606797749979\n",
       "\\end{enumerate*}\n"
      ],
      "text/markdown": [
       "1. 1\n",
       "2. 1.4142135623731\n",
       "3. 1.73205080756888\n",
       "4. 2\n",
       "5. 2.23606797749979\n",
       "\n",
       "\n"
      ],
      "text/plain": [
       "[1] 1.000000 1.414214 1.732051 2.000000 2.236068"
      ]
     },
     "metadata": {},
     "output_type": "display_data"
    },
    {
     "data": {
      "text/plain": [
       "   Min. 1st Qu.  Median    Mean 3rd Qu.    Max. \n",
       "      1       3       5       5       7       9 "
      ]
     },
     "metadata": {},
     "output_type": "display_data"
    },
    {
     "data": {
      "text/html": [
       "5"
      ],
      "text/latex": [
       "5"
      ],
      "text/markdown": [
       "5"
      ],
      "text/plain": [
       "[1] 5"
      ]
     },
     "metadata": {},
     "output_type": "display_data"
    },
    {
     "data": {
      "text/html": [
       "1"
      ],
      "text/latex": [
       "1"
      ],
      "text/markdown": [
       "1"
      ],
      "text/plain": [
       "[1] 1"
      ]
     },
     "metadata": {},
     "output_type": "display_data"
    },
    {
     "data": {
      "text/html": [
       "9"
      ],
      "text/latex": [
       "9"
      ],
      "text/markdown": [
       "9"
      ],
      "text/plain": [
       "[1] 9"
      ]
     },
     "metadata": {},
     "output_type": "display_data"
    },
    {
     "data": {
      "text/html": [
       "5"
      ],
      "text/latex": [
       "5"
      ],
      "text/markdown": [
       "5"
      ],
      "text/plain": [
       "[1] 5"
      ]
     },
     "metadata": {},
     "output_type": "display_data"
    }
   ],
   "source": [
    "# 2. 내장함수(Built-in Function)\n",
    "sqrt(5)\n",
    "sqrt(c(1,2,3,4,5))\n",
    "\n",
    "# 통계관련함수\n",
    "a  <- c(1,2,3,4,5,6,7,8,9)\n",
    "summary(a)\n",
    "mean(a)# 1. 사용자정의함수# 1. 사용자정의함수\n",
    "min(a)\n",
    "max(a)\n",
    "median(a)"
   ]
  },
  {
   "cell_type": "code",
   "execution_count": 28,
   "metadata": {},
   "outputs": [
    {
     "data": {
      "text/html": [
       "30"
      ],
      "text/latex": [
       "30"
      ],
      "text/markdown": [
       "30"
      ],
      "text/plain": [
       "[1] 30"
      ]
     },
     "metadata": {},
     "output_type": "display_data"
    }
   ],
   "source": [
    "# 3. 사용자정의함수 - 인수가 없는 함수\n",
    "test1 <- function() {\n",
    "    x <- 10\n",
    "    y <- 20\n",
    "    return(x+y)\n",
    "}\n",
    "test1()"
   ]
  },
  {
   "cell_type": "code",
   "execution_count": 30,
   "metadata": {},
   "outputs": [
    {
     "data": {
      "text/html": [
       "30"
      ],
      "text/latex": [
       "30"
      ],
      "text/markdown": [
       "30"
      ],
      "text/plain": [
       "[1] 30"
      ]
     },
     "metadata": {},
     "output_type": "display_data"
    }
   ],
   "source": [
    "# 4. 사용자정의함수 - 인수가 있는 함수\n",
    "test2 <- function(x,y) {\n",
    "    return(x+y)\n",
    "}\n",
    "test2(10,20)"
   ]
  },
  {
   "cell_type": "code",
   "execution_count": 31,
   "metadata": {},
   "outputs": [
    {
     "data": {
      "text/html": [
       "30"
      ],
      "text/latex": [
       "30"
      ],
      "text/markdown": [
       "30"
      ],
      "text/plain": [
       "[1] 30"
      ]
     },
     "metadata": {},
     "output_type": "display_data"
    }
   ],
   "source": [
    "# 5. 함수에서 함수호출\n",
    "test3 <- function(x,y) {\n",
    "    return(test2(x,y))\n",
    "}\n",
    "test3(10,20)"
   ]
  },
  {
   "cell_type": "code",
   "execution_count": 35,
   "metadata": {},
   "outputs": [
    {
     "data": {
      "text/html": [
       "30"
      ],
      "text/latex": [
       "30"
      ],
      "text/markdown": [
       "30"
      ],
      "text/plain": [
       "[1] 30"
      ]
     },
     "metadata": {},
     "output_type": "display_data"
    }
   ],
   "source": [
    "# 5. 함수의 리턴값\n",
    "# 함수의 결과값을 화면에 보이지 않게 하고 변수에 값만 대응하레 할 경우\n",
    "test4 <- function(x,y) {\n",
    "    return(invisible(test2(x,y)))\n",
    "}\n",
    "a <- test4(10,20)\n",
    "a"
   ]
  }
 ],
 "metadata": {
  "kernelspec": {
   "display_name": "R",
   "language": "R",
   "name": "ir"
  },
  "language_info": {
   "codemirror_mode": "r",
   "file_extension": ".r",
   "mimetype": "text/x-r-source",
   "name": "R",
   "pygments_lexer": "r",
   "version": "3.6.1"
  }
 },
 "nbformat": 4,
 "nbformat_minor": 4
}
