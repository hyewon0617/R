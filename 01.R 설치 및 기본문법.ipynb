{
 "cells": [
  {
   "cell_type": "markdown",
   "metadata": {},
   "source": [
    "##### 1. R 다운로드 및 설치\n",
    "\n",
    "1.  https://cran.r-project.org \n",
    "      ... Download R for Windows\n",
    "      ... install R for the first time\n",
    "      ... Download R 3.6.? for windows\n",
    "   \n",
    "2. RStudio 다운로드 및 설치\n",
    "   \n",
    "      ... http://www.rstudio.com > Download RStudio > Free Download\n",
    "      \n",
    "3. Anconda에서 R 설치\n",
    "   \n",
    "      ... Anaconda Prompt창에서 : conda install -c r r-essentials\n",
    "  \n",
    "  \n",
    "##### 2. R이란?\n",
    "\n",
    "1. 데이터분석을 위한 언어 및 패키지\n",
    " - SPSS\n",
    " - SAS\n",
    " - Python\n",
    " - R\n",
    " - WEKA : 자바기반의 데이터 마이닝 소프웨어 \n",
    "\n",
    "2. R\n",
    "\n",
    " - 통계계산과 그래프작성에 특화된 언어\n",
    " - 데이터분석을 위한 통계 및 그래픽을 지원하는 Free Software\n",
    " - Google, Facebook등에서 R을 주된 분석 플랫폼으로 사용하고 있음\n",
    " - 다양한 추가기능을 별도의 패키지형태로 제공\n",
    " - Histroy\n",
    "   * 1995년 뉴질랜트 오클랜드대학의 Ross Ihaka 와 Robert Gentlemane이 개발\n",
    "   * 2000년 R1.0공개(개발자 두명의 이름이 모두 R로 시작해서 R로 명명)\n",
    "   * 2002년 R Foundation설립\n",
    "   \n",
    "##### 3. R의 기본문법\n",
    "\n",
    "1. 도움말\n",
    " * help(log)\n",
    " * ?log\n",
    " * 예약어에 대한 도움말을 보고 싶을 경우에는 따옴표로 묶는다. 예를 들어 help(\"for\")\n",
    " * 사용예제를 보고싶을 경우 example()함수를 사용. 예를 들어 lm함수의 예제일 경우 example(lm)\n",
    " \n",
    "2. 주석 : 한줄주석은 #로 시작\n",
    "\n",
    "3. 산술연산자\n",
    "\n",
    "   +, -, *, /(실수나눗셈), `%/%(정수나눗셈)`, %%(나머지), **(거듭제곱)\n",
    "   \n",
    "4. R에서 지원하는 함수\n",
    "\n",
    "   sin(x)\n",
    "   log(x)\n",
    "   sqrt(x) : 제곱근\n",
    "   abs(x) \n",
    "   trunc(x) : 소숫점이하 버림\n",
    "   round(x, 소수자리수) : 소수자리수기준 반올림\n",
    "   runif(n) : 0~1사이의 난수 n개생성 \n",
    "   \n",
    "##### 4. 변수\n",
    "\n",
    "R에서서 사용하는 데이터셋의 형태는 `벡터 Vector`이다. R에서 사용하는 가장 기본적인 데이터셋의 형태는 Vector이고 `하나 이상의 숫자, 문자등의 집합을 벡터(vector)`이라고 한다. \n",
    "벡터는 행과 열로 가지는 표형식으로 확장한 것이 `행렬 Matrix`이다. 또한, 벡터의 집합을 원소로 가지는 데이터의 형태를 `리스트 List`라 하고, 리스트에 포함된 벡터의 길이가 같을 때 이 자룡의 형태를 `데이터프레임 Data Frame`으로 취급할 수 있다.\n",
    "\n",
    "1. 물리학용어\n",
    " * scalar : 크기(값)만 가지고 있는 물리량\n",
    " * vector : 크기(값)와 방향을 모두 가지고 있는 물리량\n",
    "2. R에서의 vector은 `값들의 집합`이다.\n",
    ">* R에서는 scalar인 하나의 숫자도 하나의 원소를 갖는 vector로 취급한다.\n",
    ">* vector는 R에서 `최소단위`이다.\n",
    ">* vector의 `index는 1부터 시작한다`(주의: 0이 아니라 1이다.)\n",
    ">* vector에서 결측값(누락된 값)은 `NA Not Avaliable`을 사용한다.\n",
    "\n",
    "##### 5. 패키지관련\n",
    "\n",
    ">* 인스톨된 패키지를 출력 : `installed.packages()`\n",
    "* 패키지를 사용(로드) : `library(패키지명)`\n",
    "* 패키지 설치 : `install.packages('패키지명')`\n",
    "* 패키지 업데이트 : `update.packages()`\n",
    "* 패키지 버전확인 : `installed.packages()[,c(\"Package\", \"Version\")]`\n",
    "* 자주사용하는 패키지\n",
    ">>* rgl : OpenGL사용해서 3차원 그래프\n",
    ">>* ggplot2 : 데이터시각화 패키지\n",
    ">>* ggthemes : ggplot2에 테마적용\n",
    ">>* data.table : data.frame의 기능을 확장\n",
    ">>* devtools : R패키지의 개발을 쉽게 개발하는데 지원\n",
    ">>* dplyr : 데이터의 조작을 빠르고 쉽게 지원\n",
    ">>* plyr : 데이터의 추가, 연결, 분할하는 등의 기능 제공\n",
    ">>* reshape2 : 데이터의 형태(크기)를 유연하게 재구성기능을 제공\n",
    ">>* scales : 스케일관련 기능을 제공\n",
    ">>* stringr : 문자열데이터를 간단하고 쉽게 조작하는 기능을 제공\n",
    "\n",
    "##### 6. R관련 검색방법\n",
    "\n",
    "* http://rseek.org\n",
    "* http://cran.r-project.org/manuals.html"
   ]
  },
  {
   "cell_type": "code",
   "execution_count": null,
   "metadata": {},
   "outputs": [],
   "source": [
    "installed.packages()[,c(\"Package\", \"Version\")]"
   ]
  },
  {
   "cell_type": "code",
   "execution_count": null,
   "metadata": {},
   "outputs": [],
   "source": [
    "update.packages()"
   ]
  },
  {
   "cell_type": "code",
   "execution_count": 6,
   "metadata": {},
   "outputs": [],
   "source": [
    "# R에서 제공하는 기본데이터셋 목록보기\n",
    "data()"
   ]
  },
  {
   "cell_type": "markdown",
   "metadata": {},
   "source": [
    "##### 변수와 자료형\n",
    "\n",
    "1. scalar : R의 벡터자료구조로서 `한개의 값만 갖는 벡터`이다.\n",
    "2. vector : R은 실수, 복소수, 문자열, 논리값등의 기본 데이터를 하나씩 단독으로 사용하는 것이 아니라 `같은 종류의 데이터를 여러개 묶은 벡터형식`으로 다룬다. \n",
    "\n",
    ">벡터를 만드는 가장 간단한 방법은 `c()`함수를 이용하는 방법이다. 함수 c()의 인수값으로 벡터에 넣고 싶은 값들을 열거하면 목적하는 벡터를 만들 수 있다.\n",
    "\n",
    "###### 1. R에서의 자료형\n",
    "\n",
    "1. 숫자형 : 정수, 실수\n",
    "2. 문자형 : 문자, 문자열\n",
    "3. 논리형 : TRUE(T), FALSE(F)\n",
    "4. 결측형 : NA or NaN\n",
    "\n",
    "###### 2. 자료형확인\n",
    "\n",
    "1. is.numerix() : 숫자여부\n",
    "2. is.integer() : 정수여부\n",
    "3. is.logical() \n",
    "4. is.double() : 실수여부\n",
    "5. is.character() : 문자여부\n",
    "6. is.data.frame() : df여부\n",
    "7. is.na() : NA여부\n",
    "8. is.complex() : 복소수여부\n",
    "9. is.factor() : 범주형여부\n",
    "10.is.nan() : NaN여부\n",
    "\n",
    "###### 3. 자료형변환\n",
    "\n",
    "1. as.numeric()\n",
    "2. as.integer()\n",
    "3. as.logical()\n",
    "4. as.double()\n",
    "5. as.complex()\n",
    "6. as.character()\n",
    "7. as.data.frame()\n",
    "8. as.factor()\n",
    "9. as.list()\n",
    "10. as.vector()\n",
    "11. as.array()\n",
    "12. as.Date()"
   ]
  },
  {
   "cell_type": "code",
   "execution_count": 7,
   "metadata": {},
   "outputs": [
    {
     "data": {
      "text/html": [
       "125"
      ],
      "text/latex": [
       "125"
      ],
      "text/markdown": [
       "125"
      ],
      "text/plain": [
       "[1] 125"
      ]
     },
     "metadata": {},
     "output_type": "display_data"
    },
    {
     "name": "stdout",
     "output_type": "stream",
     "text": [
      "[1] 125\n",
      "[1] 100\n"
     ]
    },
    {
     "data": {
      "text/html": [
       "225"
      ],
      "text/latex": [
       "225"
      ],
      "text/markdown": [
       "225"
      ],
      "text/plain": [
       "[1] 225"
      ]
     },
     "metadata": {},
     "output_type": "display_data"
    },
    {
     "name": "stdout",
     "output_type": "stream",
     "text": [
      "[1] 225\n"
     ]
    },
    {
     "data": {
      "text/html": [
       "'A'"
      ],
      "text/latex": [
       "'A'"
      ],
      "text/markdown": [
       "'A'"
      ],
      "text/plain": [
       "[1] \"A\""
      ]
     },
     "metadata": {},
     "output_type": "display_data"
    },
    {
     "ename": "ERROR",
     "evalue": "Error in a + b: 이항연산자에 수치가 아닌 인수입니다\n",
     "output_type": "error",
     "traceback": [
      "Error in a + b: 이항연산자에 수치가 아닌 인수입니다\nTraceback:\n",
      "1. print(a + b)"
     ]
    }
   ],
   "source": [
    "# 변수\n",
    "a <- 125\n",
    "a\n",
    "print(a)\n",
    "b <- 100\n",
    "print(b)\n",
    "a+b\n",
    "print(a+b)\n",
    "\n",
    "a <- \"A\"\n",
    "a\n",
    "print(a+b) # 파이썬과 동일하게 에러발생"
   ]
  },
  {
   "cell_type": "code",
   "execution_count": 8,
   "metadata": {},
   "outputs": [
    {
     "data": {
      "text/html": [
       "<ol class=list-inline>\n",
       "\t<li>1</li>\n",
       "\t<li>2</li>\n",
       "\t<li>3</li>\n",
       "</ol>\n"
      ],
      "text/latex": [
       "\\begin{enumerate*}\n",
       "\\item 1\n",
       "\\item 2\n",
       "\\item 3\n",
       "\\end{enumerate*}\n"
      ],
      "text/markdown": [
       "1. 1\n",
       "2. 2\n",
       "3. 3\n",
       "\n",
       "\n"
      ],
      "text/plain": [
       "[1] 1 2 3"
      ]
     },
     "metadata": {},
     "output_type": "display_data"
    },
    {
     "data": {
      "text/html": [
       "TRUE"
      ],
      "text/latex": [
       "TRUE"
      ],
      "text/markdown": [
       "TRUE"
      ],
      "text/plain": [
       "[1] TRUE"
      ]
     },
     "metadata": {},
     "output_type": "display_data"
    },
    {
     "data": {
      "text/html": [
       "3"
      ],
      "text/latex": [
       "3"
      ],
      "text/markdown": [
       "3"
      ],
      "text/plain": [
       "[1] 3"
      ]
     },
     "metadata": {},
     "output_type": "display_data"
    },
    {
     "data": {
      "text/html": [
       "TRUE"
      ],
      "text/latex": [
       "TRUE"
      ],
      "text/markdown": [
       "TRUE"
      ],
      "text/plain": [
       "[1] TRUE"
      ]
     },
     "metadata": {},
     "output_type": "display_data"
    },
    {
     "data": {
      "text/html": [
       "TRUE"
      ],
      "text/latex": [
       "TRUE"
      ],
      "text/markdown": [
       "TRUE"
      ],
      "text/plain": [
       "[1] TRUE"
      ]
     },
     "metadata": {},
     "output_type": "display_data"
    },
    {
     "data": {
      "text/html": [
       "FALSE"
      ],
      "text/latex": [
       "FALSE"
      ],
      "text/markdown": [
       "FALSE"
      ],
      "text/plain": [
       "[1] FALSE"
      ]
     },
     "metadata": {},
     "output_type": "display_data"
    }
   ],
   "source": [
    "# 벡터만들기\n",
    "v <- c(1,2,3)\n",
    "v\n",
    "is.vector(v)\n",
    "\n",
    "# 벡터의 길이\n",
    "length(v)\n",
    "\n",
    "is.numeric(v[1])\n",
    "\n",
    "v1 <- c(1,2.5,3,'A')\n",
    "is.vector(v1)\n",
    "is.numeric(v1[1])\n",
    "\n",
    "# 예에서 볼 수 있드시 벡터의 인덱스는 1부터시작한다.\n",
    "# 벡터의 원소에 숫자와 문자가 함께 포함이 되면 벡터의 모든 원소들은 문자(character)로\n",
    "# 변환됨에 주의하여야 한다.\n",
    "# 특정의 변수가 벡터인지 여부를 확인하려면 is.vector()함수를 사용하며 벡터의 크기를 \n",
    "# 알려면 length()함수를 사용한다.\n",
    "\n",
    "# is.vector()함수의 결과가 TRUE이면 벡터임을 FALSE이면 다른 형태의 자료형임을 알려준다."
   ]
  },
  {
   "cell_type": "code",
   "execution_count": 9,
   "metadata": {},
   "outputs": [
    {
     "data": {
      "text/html": [
       "<ol class=list-inline>\n",
       "\t<li>1</li>\n",
       "\t<li>2</li>\n",
       "\t<li>3</li>\n",
       "\t<li>4</li>\n",
       "\t<li>5</li>\n",
       "</ol>\n"
      ],
      "text/latex": [
       "\\begin{enumerate*}\n",
       "\\item 1\n",
       "\\item 2\n",
       "\\item 3\n",
       "\\item 4\n",
       "\\item 5\n",
       "\\end{enumerate*}\n"
      ],
      "text/markdown": [
       "1. 1\n",
       "2. 2\n",
       "3. 3\n",
       "4. 4\n",
       "5. 5\n",
       "\n",
       "\n"
      ],
      "text/plain": [
       "[1] 1 2 3 4 5"
      ]
     },
     "metadata": {},
     "output_type": "display_data"
    },
    {
     "data": {
      "text/html": [
       "<ol class=list-inline>\n",
       "\t<li>5</li>\n",
       "\t<li>4</li>\n",
       "\t<li>3</li>\n",
       "\t<li>2</li>\n",
       "\t<li>1</li>\n",
       "\t<li>0</li>\n",
       "\t<li>-1</li>\n",
       "\t<li>-2</li>\n",
       "\t<li>-3</li>\n",
       "\t<li>-4</li>\n",
       "\t<li>-5</li>\n",
       "</ol>\n"
      ],
      "text/latex": [
       "\\begin{enumerate*}\n",
       "\\item 5\n",
       "\\item 4\n",
       "\\item 3\n",
       "\\item 2\n",
       "\\item 1\n",
       "\\item 0\n",
       "\\item -1\n",
       "\\item -2\n",
       "\\item -3\n",
       "\\item -4\n",
       "\\item -5\n",
       "\\end{enumerate*}\n"
      ],
      "text/markdown": [
       "1. 5\n",
       "2. 4\n",
       "3. 3\n",
       "4. 2\n",
       "5. 1\n",
       "6. 0\n",
       "7. -1\n",
       "8. -2\n",
       "9. -3\n",
       "10. -4\n",
       "11. -5\n",
       "\n",
       "\n"
      ],
      "text/plain": [
       " [1]  5  4  3  2  1  0 -1 -2 -3 -4 -5"
      ]
     },
     "metadata": {},
     "output_type": "display_data"
    }
   ],
   "source": [
    "# 연속된 값을 가진 벡터 생성하기\n",
    "1:5 # 1~5까지 1씩증가하는 벡터\n",
    "5:-5 # 5~-5까지 1씩감소하는 벡터"
   ]
  },
  {
   "cell_type": "markdown",
   "metadata": {},
   "source": [
    "##### 기본함수"
   ]
  },
  {
   "cell_type": "code",
   "execution_count": 10,
   "metadata": {},
   "outputs": [
    {
     "data": {
      "text/html": [
       "<ol class=list-inline>\n",
       "\t<li>1</li>\n",
       "\t<li>2</li>\n",
       "\t<li>3</li>\n",
       "\t<li>1</li>\n",
       "\t<li>2</li>\n",
       "\t<li>3</li>\n",
       "\t<li>1</li>\n",
       "\t<li>2</li>\n",
       "\t<li>3</li>\n",
       "\t<li>1</li>\n",
       "</ol>\n"
      ],
      "text/latex": [
       "\\begin{enumerate*}\n",
       "\\item 1\n",
       "\\item 2\n",
       "\\item 3\n",
       "\\item 1\n",
       "\\item 2\n",
       "\\item 3\n",
       "\\item 1\n",
       "\\item 2\n",
       "\\item 3\n",
       "\\item 1\n",
       "\\end{enumerate*}\n"
      ],
      "text/markdown": [
       "1. 1\n",
       "2. 2\n",
       "3. 3\n",
       "4. 1\n",
       "5. 2\n",
       "6. 3\n",
       "7. 1\n",
       "8. 2\n",
       "9. 3\n",
       "10. 1\n",
       "\n",
       "\n"
      ],
      "text/plain": [
       " [1] 1 2 3 1 2 3 1 2 3 1"
      ]
     },
     "metadata": {},
     "output_type": "display_data"
    },
    {
     "data": {
      "text/html": [
       "<ol class=list-inline>\n",
       "\t<li>1</li>\n",
       "\t<li>2</li>\n",
       "\t<li>3</li>\n",
       "\t<li>1</li>\n",
       "\t<li>2</li>\n",
       "\t<li>3</li>\n",
       "\t<li>1</li>\n",
       "\t<li>2</li>\n",
       "\t<li>3</li>\n",
       "\t<li>1</li>\n",
       "\t<li>2</li>\n",
       "\t<li>3</li>\n",
       "\t<li>1</li>\n",
       "\t<li>2</li>\n",
       "\t<li>3</li>\n",
       "\t<li>1</li>\n",
       "\t<li>2</li>\n",
       "\t<li>3</li>\n",
       "\t<li>1</li>\n",
       "\t<li>2</li>\n",
       "\t<li>3</li>\n",
       "\t<li>1</li>\n",
       "\t<li>2</li>\n",
       "\t<li>3</li>\n",
       "\t<li>1</li>\n",
       "\t<li>2</li>\n",
       "\t<li>3</li>\n",
       "\t<li>1</li>\n",
       "\t<li>2</li>\n",
       "\t<li>3</li>\n",
       "</ol>\n"
      ],
      "text/latex": [
       "\\begin{enumerate*}\n",
       "\\item 1\n",
       "\\item 2\n",
       "\\item 3\n",
       "\\item 1\n",
       "\\item 2\n",
       "\\item 3\n",
       "\\item 1\n",
       "\\item 2\n",
       "\\item 3\n",
       "\\item 1\n",
       "\\item 2\n",
       "\\item 3\n",
       "\\item 1\n",
       "\\item 2\n",
       "\\item 3\n",
       "\\item 1\n",
       "\\item 2\n",
       "\\item 3\n",
       "\\item 1\n",
       "\\item 2\n",
       "\\item 3\n",
       "\\item 1\n",
       "\\item 2\n",
       "\\item 3\n",
       "\\item 1\n",
       "\\item 2\n",
       "\\item 3\n",
       "\\item 1\n",
       "\\item 2\n",
       "\\item 3\n",
       "\\end{enumerate*}\n"
      ],
      "text/markdown": [
       "1. 1\n",
       "2. 2\n",
       "3. 3\n",
       "4. 1\n",
       "5. 2\n",
       "6. 3\n",
       "7. 1\n",
       "8. 2\n",
       "9. 3\n",
       "10. 1\n",
       "11. 2\n",
       "12. 3\n",
       "13. 1\n",
       "14. 2\n",
       "15. 3\n",
       "16. 1\n",
       "17. 2\n",
       "18. 3\n",
       "19. 1\n",
       "20. 2\n",
       "21. 3\n",
       "22. 1\n",
       "23. 2\n",
       "24. 3\n",
       "25. 1\n",
       "26. 2\n",
       "27. 3\n",
       "28. 1\n",
       "29. 2\n",
       "30. 3\n",
       "\n",
       "\n"
      ],
      "text/plain": [
       " [1] 1 2 3 1 2 3 1 2 3 1 2 3 1 2 3 1 2 3 1 2 3 1 2 3 1 2 3 1 2 3"
      ]
     },
     "metadata": {},
     "output_type": "display_data"
    }
   ],
   "source": [
    "# 1. rep()함수 :\n",
    "rep(1:3, length=10) # 길이가 10개인 벡터를 생성하는데 1~3까지를 반복\n",
    "rep(1:3, times=10) # 1~3까지 10번반복"
   ]
  },
  {
   "cell_type": "code",
   "execution_count": 11,
   "metadata": {},
   "outputs": [
    {
     "data": {
      "text/html": [
       "<ol class=list-inline>\n",
       "\t<li>1</li>\n",
       "\t<li>2</li>\n",
       "\t<li>3</li>\n",
       "\t<li>4</li>\n",
       "\t<li>5</li>\n",
       "\t<li>6</li>\n",
       "\t<li>7</li>\n",
       "\t<li>8</li>\n",
       "\t<li>9</li>\n",
       "\t<li>10</li>\n",
       "</ol>\n"
      ],
      "text/latex": [
       "\\begin{enumerate*}\n",
       "\\item 1\n",
       "\\item 2\n",
       "\\item 3\n",
       "\\item 4\n",
       "\\item 5\n",
       "\\item 6\n",
       "\\item 7\n",
       "\\item 8\n",
       "\\item 9\n",
       "\\item 10\n",
       "\\end{enumerate*}\n"
      ],
      "text/markdown": [
       "1. 1\n",
       "2. 2\n",
       "3. 3\n",
       "4. 4\n",
       "5. 5\n",
       "6. 6\n",
       "7. 7\n",
       "8. 8\n",
       "9. 9\n",
       "10. 10\n",
       "\n",
       "\n"
      ],
      "text/plain": [
       " [1]  1  2  3  4  5  6  7  8  9 10"
      ]
     },
     "metadata": {},
     "output_type": "display_data"
    },
    {
     "data": {
      "text/html": [
       "<ol class=list-inline>\n",
       "\t<li>1</li>\n",
       "\t<li>2.5</li>\n",
       "\t<li>4</li>\n",
       "\t<li>5.5</li>\n",
       "\t<li>7</li>\n",
       "\t<li>8.5</li>\n",
       "\t<li>10</li>\n",
       "</ol>\n"
      ],
      "text/latex": [
       "\\begin{enumerate*}\n",
       "\\item 1\n",
       "\\item 2.5\n",
       "\\item 4\n",
       "\\item 5.5\n",
       "\\item 7\n",
       "\\item 8.5\n",
       "\\item 10\n",
       "\\end{enumerate*}\n"
      ],
      "text/markdown": [
       "1. 1\n",
       "2. 2.5\n",
       "3. 4\n",
       "4. 5.5\n",
       "5. 7\n",
       "6. 8.5\n",
       "7. 10\n",
       "\n",
       "\n"
      ],
      "text/plain": [
       "[1]  1.0  2.5  4.0  5.5  7.0  8.5 10.0"
      ]
     },
     "metadata": {},
     "output_type": "display_data"
    },
    {
     "data": {
      "text/html": [
       "<ol class=list-inline>\n",
       "\t<li>1</li>\n",
       "\t<li>3</li>\n",
       "\t<li>5</li>\n",
       "\t<li>7</li>\n",
       "\t<li>9</li>\n",
       "</ol>\n"
      ],
      "text/latex": [
       "\\begin{enumerate*}\n",
       "\\item 1\n",
       "\\item 3\n",
       "\\item 5\n",
       "\\item 7\n",
       "\\item 9\n",
       "\\end{enumerate*}\n"
      ],
      "text/markdown": [
       "1. 1\n",
       "2. 3\n",
       "3. 5\n",
       "4. 7\n",
       "5. 9\n",
       "\n",
       "\n"
      ],
      "text/plain": [
       "[1] 1 3 5 7 9"
      ]
     },
     "metadata": {},
     "output_type": "display_data"
    }
   ],
   "source": [
    "# 2. seq()\n",
    "seq(1,10) # 1~10까지 연속된 벡터생성\n",
    "seq(1,10, length=7) # 1~10까지 7등분\n",
    "seq(1,10, by=2) # 2씩증가"
   ]
  },
  {
   "cell_type": "code",
   "execution_count": 12,
   "metadata": {},
   "outputs": [
    {
     "data": {
      "text/html": [
       "<ol class=list-inline>\n",
       "\t<li>1</li>\n",
       "\t<li>2</li>\n",
       "\t<li>3</li>\n",
       "\t<li>1</li>\n",
       "\t<li>2</li>\n",
       "\t<li>3</li>\n",
       "\t<li>1</li>\n",
       "\t<li>2</li>\n",
       "\t<li>3</li>\n",
       "\t<li>1</li>\n",
       "</ol>\n"
      ],
      "text/latex": [
       "\\begin{enumerate*}\n",
       "\\item 1\n",
       "\\item 2\n",
       "\\item 3\n",
       "\\item 1\n",
       "\\item 2\n",
       "\\item 3\n",
       "\\item 1\n",
       "\\item 2\n",
       "\\item 3\n",
       "\\item 1\n",
       "\\end{enumerate*}\n"
      ],
      "text/markdown": [
       "1. 1\n",
       "2. 2\n",
       "3. 3\n",
       "4. 1\n",
       "5. 2\n",
       "6. 3\n",
       "7. 1\n",
       "8. 2\n",
       "9. 3\n",
       "10. 1\n",
       "\n",
       "\n"
      ],
      "text/plain": [
       " [1] 1 2 3 1 2 3 1 2 3 1"
      ]
     },
     "metadata": {},
     "output_type": "display_data"
    },
    {
     "data": {
      "text/html": [
       "<ol class=list-inline>\n",
       "\t<li>1</li>\n",
       "\t<li>2</li>\n",
       "\t<li>3</li>\n",
       "</ol>\n"
      ],
      "text/latex": [
       "\\begin{enumerate*}\n",
       "\\item 1\n",
       "\\item 2\n",
       "\\item 3\n",
       "\\end{enumerate*}\n"
      ],
      "text/markdown": [
       "1. 1\n",
       "2. 2\n",
       "3. 3\n",
       "\n",
       "\n"
      ],
      "text/plain": [
       "[1] 1 2 3"
      ]
     },
     "metadata": {},
     "output_type": "display_data"
    }
   ],
   "source": [
    "# 3. unique() : 중복된 값 제외\n",
    "rep(1:3, length=10)\n",
    "unique(rep(1:3, length=10))"
   ]
  },
  {
   "cell_type": "code",
   "execution_count": 13,
   "metadata": {},
   "outputs": [
    {
     "data": {
      "text/html": [
       "<ol class=list-inline>\n",
       "\t<li>0</li>\n",
       "\t<li>0</li>\n",
       "\t<li>0</li>\n",
       "\t<li>0</li>\n",
       "\t<li>0</li>\n",
       "\t<li>0</li>\n",
       "\t<li>0</li>\n",
       "\t<li>0</li>\n",
       "\t<li>0</li>\n",
       "\t<li>0</li>\n",
       "</ol>\n"
      ],
      "text/latex": [
       "\\begin{enumerate*}\n",
       "\\item 0\n",
       "\\item 0\n",
       "\\item 0\n",
       "\\item 0\n",
       "\\item 0\n",
       "\\item 0\n",
       "\\item 0\n",
       "\\item 0\n",
       "\\item 0\n",
       "\\item 0\n",
       "\\end{enumerate*}\n"
      ],
      "text/markdown": [
       "1. 0\n",
       "2. 0\n",
       "3. 0\n",
       "4. 0\n",
       "5. 0\n",
       "6. 0\n",
       "7. 0\n",
       "8. 0\n",
       "9. 0\n",
       "10. 0\n",
       "\n",
       "\n"
      ],
      "text/plain": [
       " [1] 0 0 0 0 0 0 0 0 0 0"
      ]
     },
     "metadata": {},
     "output_type": "display_data"
    },
    {
     "name": "stdout",
     "output_type": "stream",
     "text": [
      "\n",
      "numerc> as.numeric(c(\"-.1\",\" 2.7 \",\"B\")) # (-0.1, 2.7, NA)  +  warning\n"
     ]
    },
    {
     "name": "stderr",
     "output_type": "stream",
     "text": [
      "Warning message in eval(ei, envir):\n",
      "\"강제형변환에 의해 생성된 NA 입니다\""
     ]
    },
    {
     "name": "stdout",
     "output_type": "stream",
     "text": [
      "[1] -0.1  2.7   NA\n",
      "\n",
      "numerc> as.numeric(factor(5:10)) # not what you'd expect\n",
      "[1] 1 2 3 4 5 6\n",
      "\n",
      "numerc> f <- factor(1:5)\n",
      "\n",
      "numerc> ## what you typically meant and want:\n",
      "numerc> as.numeric(as.character(f))\n",
      "[1] 1 2 3 4 5\n",
      "\n",
      "numerc> ## the same, considerably (for long factors) more efficient:\n",
      "numerc> as.numeric(levels(f))[f]\n",
      "[1] 1 2 3 4 5\n"
     ]
    }
   ],
   "source": [
    "# 4. numeric() : 0으로 채워진 벡터생성\n",
    "numeric(10) # 0이 10개\n",
    "example(numeric)\n",
    "?numeric"
   ]
  },
  {
   "cell_type": "code",
   "execution_count": 14,
   "metadata": {},
   "outputs": [
    {
     "data": {
      "text/html": [
       "<ol class=list-inline>\n",
       "\t<li>1</li>\n",
       "\t<li>2</li>\n",
       "\t<li>3</li>\n",
       "\t<li>1</li>\n",
       "\t<li>2</li>\n",
       "\t<li>3</li>\n",
       "\t<li>4</li>\n",
       "\t<li>5</li>\n",
       "\t<li>6</li>\n",
       "\t<li>1</li>\n",
       "\t<li>2</li>\n",
       "\t<li>3</li>\n",
       "\t<li>4</li>\n",
       "\t<li>5</li>\n",
       "\t<li>6</li>\n",
       "\t<li>7</li>\n",
       "\t<li>8</li>\n",
       "\t<li>9</li>\n",
       "</ol>\n"
      ],
      "text/latex": [
       "\\begin{enumerate*}\n",
       "\\item 1\n",
       "\\item 2\n",
       "\\item 3\n",
       "\\item 1\n",
       "\\item 2\n",
       "\\item 3\n",
       "\\item 4\n",
       "\\item 5\n",
       "\\item 6\n",
       "\\item 1\n",
       "\\item 2\n",
       "\\item 3\n",
       "\\item 4\n",
       "\\item 5\n",
       "\\item 6\n",
       "\\item 7\n",
       "\\item 8\n",
       "\\item 9\n",
       "\\end{enumerate*}\n"
      ],
      "text/markdown": [
       "1. 1\n",
       "2. 2\n",
       "3. 3\n",
       "4. 1\n",
       "5. 2\n",
       "6. 3\n",
       "7. 4\n",
       "8. 5\n",
       "9. 6\n",
       "10. 1\n",
       "11. 2\n",
       "12. 3\n",
       "13. 4\n",
       "14. 5\n",
       "15. 6\n",
       "16. 7\n",
       "17. 8\n",
       "18. 9\n",
       "\n",
       "\n"
      ],
      "text/plain": [
       " [1] 1 2 3 1 2 3 4 5 6 1 2 3 4 5 6 7 8 9"
      ]
     },
     "metadata": {},
     "output_type": "display_data"
    }
   ],
   "source": [
    "# 5. sequence() : 패턴을 가지는 벡터생성\n",
    "sequence(c(3,6,9)) # 1:3, 1:6, 1:9"
   ]
  },
  {
   "cell_type": "code",
   "execution_count": 15,
   "metadata": {},
   "outputs": [
    {
     "data": {
      "text/html": [
       "<ol class=list-inline>\n",
       "\t<li>90</li>\n",
       "\t<li>85</li>\n",
       "\t<li>70</li>\n",
       "</ol>\n"
      ],
      "text/latex": [
       "\\begin{enumerate*}\n",
       "\\item 90\n",
       "\\item 85\n",
       "\\item 70\n",
       "\\end{enumerate*}\n"
      ],
      "text/markdown": [
       "1. 90\n",
       "2. 85\n",
       "3. 70\n",
       "\n",
       "\n"
      ],
      "text/plain": [
       "[1] 90 85 70"
      ]
     },
     "metadata": {},
     "output_type": "display_data"
    },
    {
     "data": {
      "text/plain": [
       "NULL"
      ]
     },
     "metadata": {},
     "output_type": "display_data"
    },
    {
     "data": {
      "text/html": [
       "<dl class=dl-horizontal>\n",
       "\t<dt>홍길동</dt>\n",
       "\t\t<dd>90</dd>\n",
       "\t<dt>홍길순</dt>\n",
       "\t\t<dd>85</dd>\n",
       "\t<dt>홍길녀</dt>\n",
       "\t\t<dd>70</dd>\n",
       "</dl>\n"
      ],
      "text/latex": [
       "\\begin{description*}\n",
       "\\item[홍길동] 90\n",
       "\\item[홍길순] 85\n",
       "\\item[홍길녀] 70\n",
       "\\end{description*}\n"
      ],
      "text/markdown": [
       "홍길동\n",
       ":   90홍길순\n",
       ":   85홍길녀\n",
       ":   70\n",
       "\n"
      ],
      "text/plain": [
       "홍길동 홍길순 홍길녀 \n",
       "    90     85     70 "
      ]
     },
     "metadata": {},
     "output_type": "display_data"
    },
    {
     "data": {
      "text/html": [
       "<ol class=list-inline>\n",
       "\t<li>'홍길동'</li>\n",
       "\t<li>'홍길순'</li>\n",
       "\t<li>'홍길녀'</li>\n",
       "</ol>\n"
      ],
      "text/latex": [
       "\\begin{enumerate*}\n",
       "\\item '홍길동'\n",
       "\\item '홍길순'\n",
       "\\item '홍길녀'\n",
       "\\end{enumerate*}\n"
      ],
      "text/markdown": [
       "1. '홍길동'\n",
       "2. '홍길순'\n",
       "3. '홍길녀'\n",
       "\n",
       "\n"
      ],
      "text/plain": [
       "[1] \"홍길동\" \"홍길순\" \"홍길녀\""
      ]
     },
     "metadata": {},
     "output_type": "display_data"
    }
   ],
   "source": [
    "# 6. names() : 벡터의 원소에 이름을 부여\n",
    "score <- c(90,85,70)\n",
    "score\n",
    "names(score)\n",
    "names(score) <- c(\"홍길동\", \"홍길순\", \"홍길녀\")\n",
    "score\n",
    "names(score)"
   ]
  },
  {
   "cell_type": "markdown",
   "metadata": {},
   "source": [
    "##### 벡터에서 원소값 접근하기"
   ]
  },
  {
   "cell_type": "code",
   "execution_count": 16,
   "metadata": {},
   "outputs": [
    {
     "data": {
      "text/html": [
       "1"
      ],
      "text/latex": [
       "1"
      ],
      "text/markdown": [
       "1"
      ],
      "text/plain": [
       "[1] 1"
      ]
     },
     "metadata": {},
     "output_type": "display_data"
    },
    {
     "data": {
      "text/html": [
       "5"
      ],
      "text/latex": [
       "5"
      ],
      "text/markdown": [
       "5"
      ],
      "text/plain": [
       "[1] 5"
      ]
     },
     "metadata": {},
     "output_type": "display_data"
    },
    {
     "data": {
      "text/html": [
       "9"
      ],
      "text/latex": [
       "9"
      ],
      "text/markdown": [
       "9"
      ],
      "text/plain": [
       "[1] 9"
      ]
     },
     "metadata": {},
     "output_type": "display_data"
    }
   ],
   "source": [
    "# 1. 벡터원소의 값 추출\n",
    "d <- c(1,4,5,8,9)\n",
    "d[1]\n",
    "d[3]\n",
    "d[5]"
   ]
  },
  {
   "cell_type": "code",
   "execution_count": 18,
   "metadata": {},
   "outputs": [
    {
     "data": {
      "text/html": [
       "<ol class=list-inline>\n",
       "\t<li>1</li>\n",
       "\t<li>4</li>\n",
       "\t<li>5</li>\n",
       "</ol>\n"
      ],
      "text/latex": [
       "\\begin{enumerate*}\n",
       "\\item 1\n",
       "\\item 4\n",
       "\\item 5\n",
       "\\end{enumerate*}\n"
      ],
      "text/markdown": [
       "1. 1\n",
       "2. 4\n",
       "3. 5\n",
       "\n",
       "\n"
      ],
      "text/plain": [
       "[1] 1 4 5"
      ]
     },
     "metadata": {},
     "output_type": "display_data"
    },
    {
     "data": {
      "text/html": [
       "<ol class=list-inline>\n",
       "\t<li>1</li>\n",
       "\t<li>5</li>\n",
       "\t<li>9</li>\n",
       "</ol>\n"
      ],
      "text/latex": [
       "\\begin{enumerate*}\n",
       "\\item 1\n",
       "\\item 5\n",
       "\\item 9\n",
       "\\end{enumerate*}\n"
      ],
      "text/markdown": [
       "1. 1\n",
       "2. 5\n",
       "3. 9\n",
       "\n",
       "\n"
      ],
      "text/plain": [
       "[1] 1 5 9"
      ]
     },
     "metadata": {},
     "output_type": "display_data"
    },
    {
     "data": {
      "text/html": [
       "<ol class=list-inline>\n",
       "\t<li>1</li>\n",
       "\t<li>5</li>\n",
       "\t<li>9</li>\n",
       "</ol>\n"
      ],
      "text/latex": [
       "\\begin{enumerate*}\n",
       "\\item 1\n",
       "\\item 5\n",
       "\\item 9\n",
       "\\end{enumerate*}\n"
      ],
      "text/markdown": [
       "1. 1\n",
       "2. 5\n",
       "3. 9\n",
       "\n",
       "\n"
      ],
      "text/plain": [
       "[1] 1 5 9"
      ]
     },
     "metadata": {},
     "output_type": "display_data"
    },
    {
     "data": {
      "text/html": [
       "<ol class=list-inline>\n",
       "\t<li>1</li>\n",
       "\t<li>5</li>\n",
       "\t<li>8</li>\n",
       "\t<li>9</li>\n",
       "</ol>\n"
      ],
      "text/latex": [
       "\\begin{enumerate*}\n",
       "\\item 1\n",
       "\\item 5\n",
       "\\item 8\n",
       "\\item 9\n",
       "\\end{enumerate*}\n"
      ],
      "text/markdown": [
       "1. 1\n",
       "2. 5\n",
       "3. 8\n",
       "4. 9\n",
       "\n",
       "\n"
      ],
      "text/plain": [
       "[1] 1 5 8 9"
      ]
     },
     "metadata": {},
     "output_type": "display_data"
    },
    {
     "data": {
      "text/html": [
       "<ol class=list-inline>\n",
       "\t<li>5</li>\n",
       "\t<li>8</li>\n",
       "\t<li>9</li>\n",
       "</ol>\n"
      ],
      "text/latex": [
       "\\begin{enumerate*}\n",
       "\\item 5\n",
       "\\item 8\n",
       "\\item 9\n",
       "\\end{enumerate*}\n"
      ],
      "text/markdown": [
       "1. 5\n",
       "2. 8\n",
       "3. 9\n",
       "\n",
       "\n"
      ],
      "text/plain": [
       "[1] 5 8 9"
      ]
     },
     "metadata": {},
     "output_type": "display_data"
    },
    {
     "data": {
      "text/html": [
       "<ol class=list-inline>\n",
       "\t<li>1</li>\n",
       "\t<li>4</li>\n",
       "</ol>\n"
      ],
      "text/latex": [
       "\\begin{enumerate*}\n",
       "\\item 1\n",
       "\\item 4\n",
       "\\end{enumerate*}\n"
      ],
      "text/markdown": [
       "1. 1\n",
       "2. 4\n",
       "\n",
       "\n"
      ],
      "text/plain": [
       "[1] 1 4"
      ]
     },
     "metadata": {},
     "output_type": "display_data"
    }
   ],
   "source": [
    "# 2. 벡터원소여러개의 값을 한번에 추출\n",
    "d <- c(1,4,5,8,9)\n",
    "d[1:3] # 1,4,5\n",
    "d[c(1,3,5)] # 1,5,9\n",
    "d[seq(1,5,2)] # 홀수원소 1,5,9\n",
    "d[-2] # 1,5,8,9\n",
    "# 3~5원소를 뺀 나머지원소의 값을 추출해 보세요!\n",
    "d[c(3:5)] # 5,8,9\n",
    "d[-c(3:5)] # 1,4"
   ]
  },
  {
   "cell_type": "code",
   "execution_count": 19,
   "metadata": {},
   "outputs": [
    {
     "data": {
      "text/html": [
       "<dl class=dl-horizontal>\n",
       "\t<dt>홍길동</dt>\n",
       "\t\t<dd>90</dd>\n",
       "\t<dt>홍길순</dt>\n",
       "\t\t<dd>85</dd>\n",
       "\t<dt>홍길녀</dt>\n",
       "\t\t<dd>70</dd>\n",
       "</dl>\n"
      ],
      "text/latex": [
       "\\begin{description*}\n",
       "\\item[홍길동] 90\n",
       "\\item[홍길순] 85\n",
       "\\item[홍길녀] 70\n",
       "\\end{description*}\n"
      ],
      "text/markdown": [
       "홍길동\n",
       ":   90홍길순\n",
       ":   85홍길녀\n",
       ":   70\n",
       "\n"
      ],
      "text/plain": [
       "홍길동 홍길순 홍길녀 \n",
       "    90     85     70 "
      ]
     },
     "metadata": {},
     "output_type": "display_data"
    },
    {
     "data": {
      "text/html": [
       "<strong>홍길동:</strong> 90"
      ],
      "text/latex": [
       "\\textbf{홍길동:} 90"
      ],
      "text/markdown": [
       "**홍길동:** 90"
      ],
      "text/plain": [
       "홍길동 \n",
       "    90 "
      ]
     },
     "metadata": {},
     "output_type": "display_data"
    },
    {
     "data": {
      "text/html": [
       "<dl class=dl-horizontal>\n",
       "\t<dt>홍길동</dt>\n",
       "\t\t<dd>90</dd>\n",
       "\t<dt>홍길녀</dt>\n",
       "\t\t<dd>70</dd>\n",
       "</dl>\n"
      ],
      "text/latex": [
       "\\begin{description*}\n",
       "\\item[홍길동] 90\n",
       "\\item[홍길녀] 70\n",
       "\\end{description*}\n"
      ],
      "text/markdown": [
       "홍길동\n",
       ":   90홍길녀\n",
       ":   70\n",
       "\n"
      ],
      "text/plain": [
       "홍길동 홍길녀 \n",
       "    90     70 "
      ]
     },
     "metadata": {},
     "output_type": "display_data"
    }
   ],
   "source": [
    "# 3. 벡터에서 이름으로 값을 추출하기\n",
    "score\n",
    "score[\"홍길동\"] # 홍길동 90\n",
    "score[c(\"홍길동\", \"홍길녀\")] # 홍길동과 홍길녀만 추출"
   ]
  },
  {
   "cell_type": "code",
   "execution_count": 20,
   "metadata": {},
   "outputs": [
    {
     "data": {
      "text/html": [
       "<ol class=list-inline>\n",
       "\t<li>1</li>\n",
       "\t<li>5</li>\n",
       "\t<li>7</li>\n",
       "\t<li>8</li>\n",
       "\t<li>9</li>\n",
       "</ol>\n"
      ],
      "text/latex": [
       "\\begin{enumerate*}\n",
       "\\item 1\n",
       "\\item 5\n",
       "\\item 7\n",
       "\\item 8\n",
       "\\item 9\n",
       "\\end{enumerate*}\n"
      ],
      "text/markdown": [
       "1. 1\n",
       "2. 5\n",
       "3. 7\n",
       "4. 8\n",
       "5. 9\n",
       "\n",
       "\n"
      ],
      "text/plain": [
       "[1] 1 5 7 8 9"
      ]
     },
     "metadata": {},
     "output_type": "display_data"
    },
    {
     "data": {
      "text/html": [
       "<ol class=list-inline>\n",
       "\t<li>1</li>\n",
       "\t<li>3</li>\n",
       "\t<li>7</li>\n",
       "\t<li>8</li>\n",
       "\t<li>9</li>\n",
       "</ol>\n"
      ],
      "text/latex": [
       "\\begin{enumerate*}\n",
       "\\item 1\n",
       "\\item 3\n",
       "\\item 7\n",
       "\\item 8\n",
       "\\item 9\n",
       "\\end{enumerate*}\n"
      ],
      "text/markdown": [
       "1. 1\n",
       "2. 3\n",
       "3. 7\n",
       "4. 8\n",
       "5. 9\n",
       "\n",
       "\n"
      ],
      "text/plain": [
       "[1] 1 3 7 8 9"
      ]
     },
     "metadata": {},
     "output_type": "display_data"
    },
    {
     "data": {
      "text/html": [
       "<ol class=list-inline>\n",
       "\t<li>10</li>\n",
       "\t<li>3</li>\n",
       "\t<li>7</li>\n",
       "\t<li>8</li>\n",
       "\t<li>20</li>\n",
       "</ol>\n"
      ],
      "text/latex": [
       "\\begin{enumerate*}\n",
       "\\item 10\n",
       "\\item 3\n",
       "\\item 7\n",
       "\\item 8\n",
       "\\item 20\n",
       "\\end{enumerate*}\n"
      ],
      "text/markdown": [
       "1. 10\n",
       "2. 3\n",
       "3. 7\n",
       "4. 8\n",
       "5. 20\n",
       "\n",
       "\n"
      ],
      "text/plain": [
       "[1] 10  3  7  8 20"
      ]
     },
     "metadata": {},
     "output_type": "display_data"
    }
   ],
   "source": [
    "# 4. 벡터원소의 값을 수정\n",
    "v1 <- c(1,5,7,8,9)\n",
    "v1\n",
    "v1[2] <- 3 # 두번째 원소의 값을 5에서 3으로 변경해 보기\n",
    "v1\n",
    "\n",
    "v1[c(1,5)] <- c(10,20) # 1,9를 각각 10과 20으로 변경해 보기\n",
    "v1"
   ]
  },
  {
   "cell_type": "markdown",
   "metadata": {},
   "source": [
    "###### 벡터의 연산"
   ]
  },
  {
   "cell_type": "code",
   "execution_count": 21,
   "metadata": {},
   "outputs": [
    {
     "data": {
      "text/html": [
       "<ol class=list-inline>\n",
       "\t<li>2</li>\n",
       "\t<li>6</li>\n",
       "\t<li>8</li>\n",
       "\t<li>14</li>\n",
       "\t<li>16</li>\n",
       "</ol>\n"
      ],
      "text/latex": [
       "\\begin{enumerate*}\n",
       "\\item 2\n",
       "\\item 6\n",
       "\\item 8\n",
       "\\item 14\n",
       "\\item 16\n",
       "\\end{enumerate*}\n"
      ],
      "text/markdown": [
       "1. 2\n",
       "2. 6\n",
       "3. 8\n",
       "4. 14\n",
       "5. 16\n",
       "\n",
       "\n"
      ],
      "text/plain": [
       "[1]  2  6  8 14 16"
      ]
     },
     "metadata": {},
     "output_type": "display_data"
    },
    {
     "data": {
      "text/html": [
       "<ol class=list-inline>\n",
       "\t<li>-4</li>\n",
       "\t<li>-2</li>\n",
       "\t<li>-1</li>\n",
       "\t<li>2</li>\n",
       "\t<li>3</li>\n",
       "</ol>\n"
      ],
      "text/latex": [
       "\\begin{enumerate*}\n",
       "\\item -4\n",
       "\\item -2\n",
       "\\item -1\n",
       "\\item 2\n",
       "\\item 3\n",
       "\\end{enumerate*}\n"
      ],
      "text/markdown": [
       "1. -4\n",
       "2. -2\n",
       "3. -1\n",
       "4. 2\n",
       "5. 3\n",
       "\n",
       "\n"
      ],
      "text/plain": [
       "[1] -4 -2 -1  2  3"
      ]
     },
     "metadata": {},
     "output_type": "display_data"
    },
    {
     "data": {
      "text/html": [
       "<ol class=list-inline>\n",
       "\t<li>7</li>\n",
       "\t<li>13</li>\n",
       "\t<li>16</li>\n",
       "\t<li>25</li>\n",
       "\t<li>28</li>\n",
       "</ol>\n"
      ],
      "text/latex": [
       "\\begin{enumerate*}\n",
       "\\item 7\n",
       "\\item 13\n",
       "\\item 16\n",
       "\\item 25\n",
       "\\item 28\n",
       "\\end{enumerate*}\n"
      ],
      "text/markdown": [
       "1. 7\n",
       "2. 13\n",
       "3. 16\n",
       "4. 25\n",
       "5. 28\n",
       "\n",
       "\n"
      ],
      "text/plain": [
       "[1]  7 13 16 25 28"
      ]
     },
     "metadata": {},
     "output_type": "display_data"
    }
   ],
   "source": [
    "# 1. 기본연산\n",
    "d <- c(1,3,4,7,8)\n",
    "d*2\n",
    "d-5\n",
    "d*3+4"
   ]
  },
  {
   "cell_type": "code",
   "execution_count": 22,
   "metadata": {},
   "outputs": [
    {
     "data": {
      "text/html": [
       "<ol class=list-inline>\n",
       "\t<li>-25</li>\n",
       "\t<li>-20</li>\n",
       "\t<li>-15</li>\n",
       "\t<li>-10</li>\n",
       "\t<li>-5</li>\n",
       "\t<li>0</li>\n",
       "\t<li>5</li>\n",
       "\t<li>10</li>\n",
       "\t<li>15</li>\n",
       "\t<li>20</li>\n",
       "\t<li>25</li>\n",
       "</ol>\n"
      ],
      "text/latex": [
       "\\begin{enumerate*}\n",
       "\\item -25\n",
       "\\item -20\n",
       "\\item -15\n",
       "\\item -10\n",
       "\\item -5\n",
       "\\item 0\n",
       "\\item 5\n",
       "\\item 10\n",
       "\\item 15\n",
       "\\item 20\n",
       "\\item 25\n",
       "\\end{enumerate*}\n"
      ],
      "text/markdown": [
       "1. -25\n",
       "2. -20\n",
       "3. -15\n",
       "4. -10\n",
       "5. -5\n",
       "6. 0\n",
       "7. 5\n",
       "8. 10\n",
       "9. 15\n",
       "10. 20\n",
       "11. 25\n",
       "\n",
       "\n"
      ],
      "text/plain": [
       " [1] -25 -20 -15 -10  -5   0   5  10  15  20  25"
      ]
     },
     "metadata": {},
     "output_type": "display_data"
    },
    {
     "data": {
      "text/html": [
       "<ol class=list-inline>\n",
       "\t<li>0</li>\n",
       "\t<li>1</li>\n",
       "\t<li>2</li>\n",
       "\t<li>3</li>\n",
       "\t<li>4</li>\n",
       "\t<li>5</li>\n",
       "\t<li>6</li>\n",
       "\t<li>7</li>\n",
       "\t<li>8</li>\n",
       "\t<li>9</li>\n",
       "\t<li>10</li>\n",
       "</ol>\n"
      ],
      "text/latex": [
       "\\begin{enumerate*}\n",
       "\\item 0\n",
       "\\item 1\n",
       "\\item 2\n",
       "\\item 3\n",
       "\\item 4\n",
       "\\item 5\n",
       "\\item 6\n",
       "\\item 7\n",
       "\\item 8\n",
       "\\item 9\n",
       "\\item 10\n",
       "\\end{enumerate*}\n"
      ],
      "text/markdown": [
       "1. 0\n",
       "2. 1\n",
       "3. 2\n",
       "4. 3\n",
       "5. 4\n",
       "6. 5\n",
       "7. 6\n",
       "8. 7\n",
       "9. 8\n",
       "10. 9\n",
       "11. 10\n",
       "\n",
       "\n"
      ],
      "text/plain": [
       " [1]  0  1  2  3  4  5  6  7  8  9 10"
      ]
     },
     "metadata": {},
     "output_type": "display_data"
    },
    {
     "data": {
      "text/html": [
       "<ol class=list-inline>\n",
       "\t<li>-1</li>\n",
       "\t<li>-0.8</li>\n",
       "\t<li>-0.6</li>\n",
       "\t<li>-0.4</li>\n",
       "\t<li>-0.2</li>\n",
       "\t<li>0</li>\n",
       "\t<li>0.2</li>\n",
       "\t<li>0.4</li>\n",
       "\t<li>0.6</li>\n",
       "\t<li>0.8</li>\n",
       "\t<li>1</li>\n",
       "</ol>\n"
      ],
      "text/latex": [
       "\\begin{enumerate*}\n",
       "\\item -1\n",
       "\\item -0.8\n",
       "\\item -0.6\n",
       "\\item -0.4\n",
       "\\item -0.2\n",
       "\\item 0\n",
       "\\item 0.2\n",
       "\\item 0.4\n",
       "\\item 0.6\n",
       "\\item 0.8\n",
       "\\item 1\n",
       "\\end{enumerate*}\n"
      ],
      "text/markdown": [
       "1. -1\n",
       "2. -0.8\n",
       "3. -0.6\n",
       "4. -0.4\n",
       "5. -0.2\n",
       "6. 0\n",
       "7. 0.2\n",
       "8. 0.4\n",
       "9. 0.6\n",
       "10. 0.8\n",
       "11. 1\n",
       "\n",
       "\n"
      ],
      "text/plain": [
       " [1] -1.0 -0.8 -0.6 -0.4 -0.2  0.0  0.2  0.4  0.6  0.8  1.0"
      ]
     },
     "metadata": {},
     "output_type": "display_data"
    },
    {
     "data": {
      "text/html": [
       "<ol class=list-inline>\n",
       "\t<li>-10</li>\n",
       "\t<li>-9</li>\n",
       "\t<li>-8</li>\n",
       "\t<li>-7</li>\n",
       "\t<li>-6</li>\n",
       "\t<li>-5</li>\n",
       "\t<li>-4</li>\n",
       "\t<li>-3</li>\n",
       "\t<li>-2</li>\n",
       "\t<li>-1</li>\n",
       "\t<li>0</li>\n",
       "</ol>\n"
      ],
      "text/latex": [
       "\\begin{enumerate*}\n",
       "\\item -10\n",
       "\\item -9\n",
       "\\item -8\n",
       "\\item -7\n",
       "\\item -6\n",
       "\\item -5\n",
       "\\item -4\n",
       "\\item -3\n",
       "\\item -2\n",
       "\\item -1\n",
       "\\item 0\n",
       "\\end{enumerate*}\n"
      ],
      "text/markdown": [
       "1. -10\n",
       "2. -9\n",
       "3. -8\n",
       "4. -7\n",
       "5. -6\n",
       "6. -5\n",
       "7. -4\n",
       "8. -3\n",
       "9. -2\n",
       "10. -1\n",
       "11. 0\n",
       "\n",
       "\n"
      ],
      "text/plain": [
       " [1] -10  -9  -8  -7  -6  -5  -4  -3  -2  -1   0"
      ]
     },
     "metadata": {},
     "output_type": "display_data"
    },
    {
     "name": "stdout",
     "output_type": "stream",
     "text": [
      "[1] \"------------------------\"\n"
     ]
    },
    {
     "name": "stderr",
     "output_type": "stream",
     "text": [
      "Warning message in x * z:\n",
      "\"두 객체의 길이가 서로 배수관계에 있지 않습니다\""
     ]
    },
    {
     "data": {
      "text/html": [
       "<ol class=list-inline>\n",
       "\t<li>-5</li>\n",
       "\t<li>-8</li>\n",
       "\t<li>-3</li>\n",
       "\t<li>-4</li>\n",
       "\t<li>-1</li>\n",
       "\t<li>0</li>\n",
       "\t<li>1</li>\n",
       "\t<li>4</li>\n",
       "\t<li>3</li>\n",
       "\t<li>8</li>\n",
       "\t<li>5</li>\n",
       "</ol>\n"
      ],
      "text/latex": [
       "\\begin{enumerate*}\n",
       "\\item -5\n",
       "\\item -8\n",
       "\\item -3\n",
       "\\item -4\n",
       "\\item -1\n",
       "\\item 0\n",
       "\\item 1\n",
       "\\item 4\n",
       "\\item 3\n",
       "\\item 8\n",
       "\\item 5\n",
       "\\end{enumerate*}\n"
      ],
      "text/markdown": [
       "1. -5\n",
       "2. -8\n",
       "3. -3\n",
       "4. -4\n",
       "5. -1\n",
       "6. 0\n",
       "7. 1\n",
       "8. 4\n",
       "9. 3\n",
       "10. 8\n",
       "11. 5\n",
       "\n",
       "\n"
      ],
      "text/plain": [
       " [1] -5 -8 -3 -4 -1  0  1  4  3  8  5"
      ]
     },
     "metadata": {},
     "output_type": "display_data"
    },
    {
     "data": {
      "text/html": [
       "11"
      ],
      "text/latex": [
       "11"
      ],
      "text/markdown": [
       "11"
      ],
      "text/plain": [
       "[1] 11"
      ]
     },
     "metadata": {},
     "output_type": "display_data"
    },
    {
     "data": {
      "text/html": [
       "<ol class=list-inline>\n",
       "\t<li>1</li>\n",
       "\t<li>2</li>\n",
       "\t<li>3</li>\n",
       "\t<li>4</li>\n",
       "\t<li>5</li>\n",
       "\t<li>6</li>\n",
       "\t<li>7</li>\n",
       "\t<li>8</li>\n",
       "\t<li>9</li>\n",
       "\t<li>10</li>\n",
       "\t<li>11</li>\n",
       "</ol>\n"
      ],
      "text/latex": [
       "\\begin{enumerate*}\n",
       "\\item 1\n",
       "\\item 2\n",
       "\\item 3\n",
       "\\item 4\n",
       "\\item 5\n",
       "\\item 6\n",
       "\\item 7\n",
       "\\item 8\n",
       "\\item 9\n",
       "\\item 10\n",
       "\\item 11\n",
       "\\end{enumerate*}\n"
      ],
      "text/markdown": [
       "1. 1\n",
       "2. 2\n",
       "3. 3\n",
       "4. 4\n",
       "5. 5\n",
       "6. 6\n",
       "7. 7\n",
       "8. 8\n",
       "9. 9\n",
       "10. 10\n",
       "11. 11\n",
       "\n",
       "\n"
      ],
      "text/plain": [
       " [1]  1  2  3  4  5  6  7  8  9 10 11"
      ]
     },
     "metadata": {},
     "output_type": "display_data"
    },
    {
     "data": {
      "text/html": [
       "<ol class=list-inline>\n",
       "\t<li>-5</li>\n",
       "\t<li>-8</li>\n",
       "\t<li>-9</li>\n",
       "\t<li>-8</li>\n",
       "\t<li>-5</li>\n",
       "\t<li>0</li>\n",
       "\t<li>7</li>\n",
       "\t<li>16</li>\n",
       "\t<li>27</li>\n",
       "\t<li>40</li>\n",
       "\t<li>55</li>\n",
       "</ol>\n"
      ],
      "text/latex": [
       "\\begin{enumerate*}\n",
       "\\item -5\n",
       "\\item -8\n",
       "\\item -9\n",
       "\\item -8\n",
       "\\item -5\n",
       "\\item 0\n",
       "\\item 7\n",
       "\\item 16\n",
       "\\item 27\n",
       "\\item 40\n",
       "\\item 55\n",
       "\\end{enumerate*}\n"
      ],
      "text/markdown": [
       "1. -5\n",
       "2. -8\n",
       "3. -9\n",
       "4. -8\n",
       "5. -5\n",
       "6. 0\n",
       "7. 7\n",
       "8. 16\n",
       "9. 27\n",
       "10. 40\n",
       "11. 55\n",
       "\n",
       "\n"
      ],
      "text/plain": [
       " [1] -5 -8 -9 -8 -5  0  7 16 27 40 55"
      ]
     },
     "metadata": {},
     "output_type": "display_data"
    },
    {
     "data": {
      "text/html": [
       "<ol class=list-inline>\n",
       "\t<li>-6</li>\n",
       "\t<li>-6</li>\n",
       "\t<li>-6</li>\n",
       "\t<li>-6</li>\n",
       "\t<li>-6</li>\n",
       "\t<li>-6</li>\n",
       "\t<li>-6</li>\n",
       "\t<li>-6</li>\n",
       "\t<li>-6</li>\n",
       "\t<li>-6</li>\n",
       "\t<li>-6</li>\n",
       "</ol>\n"
      ],
      "text/latex": [
       "\\begin{enumerate*}\n",
       "\\item -6\n",
       "\\item -6\n",
       "\\item -6\n",
       "\\item -6\n",
       "\\item -6\n",
       "\\item -6\n",
       "\\item -6\n",
       "\\item -6\n",
       "\\item -6\n",
       "\\item -6\n",
       "\\item -6\n",
       "\\end{enumerate*}\n"
      ],
      "text/markdown": [
       "1. -6\n",
       "2. -6\n",
       "3. -6\n",
       "4. -6\n",
       "5. -6\n",
       "6. -6\n",
       "7. -6\n",
       "8. -6\n",
       "9. -6\n",
       "10. -6\n",
       "11. -6\n",
       "\n",
       "\n"
      ],
      "text/plain": [
       " [1] -6 -6 -6 -6 -6 -6 -6 -6 -6 -6 -6"
      ]
     },
     "metadata": {},
     "output_type": "display_data"
    },
    {
     "data": {
      "text/html": [
       "<ol class=list-inline>\n",
       "\t<li>-4</li>\n",
       "\t<li>-2</li>\n",
       "\t<li>0</li>\n",
       "\t<li>2</li>\n",
       "\t<li>4</li>\n",
       "\t<li>6</li>\n",
       "\t<li>8</li>\n",
       "\t<li>10</li>\n",
       "\t<li>12</li>\n",
       "\t<li>14</li>\n",
       "\t<li>16</li>\n",
       "</ol>\n"
      ],
      "text/latex": [
       "\\begin{enumerate*}\n",
       "\\item -4\n",
       "\\item -2\n",
       "\\item 0\n",
       "\\item 2\n",
       "\\item 4\n",
       "\\item 6\n",
       "\\item 8\n",
       "\\item 10\n",
       "\\item 12\n",
       "\\item 14\n",
       "\\item 16\n",
       "\\end{enumerate*}\n"
      ],
      "text/markdown": [
       "1. -4\n",
       "2. -2\n",
       "3. 0\n",
       "4. 2\n",
       "5. 4\n",
       "6. 6\n",
       "7. 8\n",
       "8. 10\n",
       "9. 12\n",
       "10. 14\n",
       "11. 16\n",
       "\n",
       "\n"
      ],
      "text/plain": [
       " [1] -4 -2  0  2  4  6  8 10 12 14 16"
      ]
     },
     "metadata": {},
     "output_type": "display_data"
    },
    {
     "data": {
      "text/html": [
       "<ol class=list-inline>\n",
       "\t<li>-5</li>\n",
       "\t<li>-2</li>\n",
       "\t<li>-1</li>\n",
       "\t<li>-0.5</li>\n",
       "\t<li>-0.2</li>\n",
       "\t<li>0</li>\n",
       "\t<li>0.142857142857143</li>\n",
       "\t<li>0.25</li>\n",
       "\t<li>0.333333333333333</li>\n",
       "\t<li>0.4</li>\n",
       "\t<li>0.454545454545455</li>\n",
       "</ol>\n"
      ],
      "text/latex": [
       "\\begin{enumerate*}\n",
       "\\item -5\n",
       "\\item -2\n",
       "\\item -1\n",
       "\\item -0.5\n",
       "\\item -0.2\n",
       "\\item 0\n",
       "\\item 0.142857142857143\n",
       "\\item 0.25\n",
       "\\item 0.333333333333333\n",
       "\\item 0.4\n",
       "\\item 0.454545454545455\n",
       "\\end{enumerate*}\n"
      ],
      "text/markdown": [
       "1. -5\n",
       "2. -2\n",
       "3. -1\n",
       "4. -0.5\n",
       "5. -0.2\n",
       "6. 0\n",
       "7. 0.142857142857143\n",
       "8. 0.25\n",
       "9. 0.333333333333333\n",
       "10. 0.4\n",
       "11. 0.454545454545455\n",
       "\n",
       "\n"
      ],
      "text/plain": [
       " [1] -5.0000000 -2.0000000 -1.0000000 -0.5000000 -0.2000000  0.0000000\n",
       " [7]  0.1428571  0.2500000  0.3333333  0.4000000  0.4545455"
      ]
     },
     "metadata": {},
     "output_type": "display_data"
    }
   ],
   "source": [
    "# 2. 원소의 갯수가 다른 경우의 연산\n",
    "# 1) 여러개의 원소를 가진 벡터와 한개의 값을 벡터와의 연산\n",
    "x <- -5:5\n",
    "y <- 5\n",
    "x*y\n",
    "x+y\n",
    "x/y\n",
    "x-y\n",
    "print(\"------------------------\")\n",
    "\n",
    "# 2) 서로 복수개의 원소를 가진 벡터의 연산\n",
    "# 전제조건 : 원소의 갯수가 동일해야 한다.\n",
    "z <- c(1,2)\n",
    "x*z # 에러발생 : 두 객체의 길이가 서로 배수관계에 있지 않습니다\n",
    "length(x)\n",
    "z <- 1:11\n",
    "z\n",
    "x*z\n",
    "x-z\n",
    "x+z\n",
    "x/z"
   ]
  },
  {
   "cell_type": "code",
   "execution_count": 23,
   "metadata": {},
   "outputs": [
    {
     "data": {
      "text/html": [
       "2"
      ],
      "text/latex": [
       "2"
      ],
      "text/markdown": [
       "2"
      ],
      "text/plain": [
       "[1] 2"
      ]
     },
     "metadata": {},
     "output_type": "display_data"
    },
    {
     "data": {
      "text/html": [
       "<ol class=list-inline>\n",
       "\t<li>1</li>\n",
       "\t<li>3</li>\n",
       "\t<li>4</li>\n",
       "\t<li>5</li>\n",
       "</ol>\n"
      ],
      "text/latex": [
       "\\begin{enumerate*}\n",
       "\\item 1\n",
       "\\item 3\n",
       "\\item 4\n",
       "\\item 5\n",
       "\\end{enumerate*}\n"
      ],
      "text/markdown": [
       "1. 1\n",
       "2. 3\n",
       "3. 4\n",
       "4. 5\n",
       "\n",
       "\n"
      ],
      "text/plain": [
       "[1] 1 3 4 5"
      ]
     },
     "metadata": {},
     "output_type": "display_data"
    },
    {
     "data": {
      "text/html": [
       "<ol class=list-inline>\n",
       "\t<li>1</li>\n",
       "\t<li>2</li>\n",
       "\t<li>4</li>\n",
       "\t<li>4</li>\n",
       "\t<li>5</li>\n",
       "</ol>\n"
      ],
      "text/latex": [
       "\\begin{enumerate*}\n",
       "\\item 1\n",
       "\\item 2\n",
       "\\item 4\n",
       "\\item 4\n",
       "\\item 5\n",
       "\\end{enumerate*}\n"
      ],
      "text/markdown": [
       "1. 1\n",
       "2. 2\n",
       "3. 4\n",
       "4. 4\n",
       "5. 5\n",
       "\n",
       "\n"
      ],
      "text/plain": [
       "[1] 1 2 4 4 5"
      ]
     },
     "metadata": {},
     "output_type": "display_data"
    },
    {
     "data": {
      "text/html": [
       "<ol class=list-inline>\n",
       "\t<li>4</li>\n",
       "\t<li>4</li>\n",
       "</ol>\n"
      ],
      "text/latex": [
       "\\begin{enumerate*}\n",
       "\\item 4\n",
       "\\item 4\n",
       "\\end{enumerate*}\n"
      ],
      "text/markdown": [
       "1. 4\n",
       "2. 4\n",
       "\n",
       "\n"
      ],
      "text/plain": [
       "[1] 4 4"
      ]
     },
     "metadata": {},
     "output_type": "display_data"
    },
    {
     "data": {
      "text/html": [
       "<ol class=list-inline>\n",
       "\t<li>FALSE</li>\n",
       "\t<li>FALSE</li>\n",
       "\t<li>FALSE</li>\n",
       "\t<li>TRUE</li>\n",
       "\t<li>TRUE</li>\n",
       "</ol>\n"
      ],
      "text/latex": [
       "\\begin{enumerate*}\n",
       "\\item FALSE\n",
       "\\item FALSE\n",
       "\\item FALSE\n",
       "\\item TRUE\n",
       "\\item TRUE\n",
       "\\end{enumerate*}\n"
      ],
      "text/markdown": [
       "1. FALSE\n",
       "2. FALSE\n",
       "3. FALSE\n",
       "4. TRUE\n",
       "5. TRUE\n",
       "\n",
       "\n"
      ],
      "text/plain": [
       "[1] FALSE FALSE FALSE  TRUE  TRUE"
      ]
     },
     "metadata": {},
     "output_type": "display_data"
    }
   ],
   "source": [
    "# 3. 비교연산\n",
    "x <- c(1,2,3,4,5)\n",
    "x[2]\n",
    "x[-2]\n",
    "x[3] <- 4\n",
    "x\n",
    "x[x>2 & x<5] # 2보다 크고 5보다 작은 값을 출력해 보세요!\n",
    "\n",
    "y <- c(2,1,3,4,5)\n",
    "x == y"
   ]
  },
  {
   "cell_type": "code",
   "execution_count": 24,
   "metadata": {},
   "outputs": [
    {
     "data": {
      "text/html": [
       "<ol class=list-inline>\n",
       "\t<li>5</li>\n",
       "\t<li>7</li>\n",
       "</ol>\n"
      ],
      "text/latex": [
       "\\begin{enumerate*}\n",
       "\\item 5\n",
       "\\item 7\n",
       "\\end{enumerate*}\n"
      ],
      "text/markdown": [
       "1. 5\n",
       "2. 7\n",
       "\n",
       "\n"
      ],
      "text/plain": [
       "[1] 5 7"
      ]
     },
     "metadata": {},
     "output_type": "display_data"
    },
    {
     "data": {
      "text/html": [
       "<ol class=list-inline>\n",
       "\t<li>2</li>\n",
       "\t<li>3</li>\n",
       "\t<li>4</li>\n",
       "</ol>\n"
      ],
      "text/latex": [
       "\\begin{enumerate*}\n",
       "\\item 2\n",
       "\\item 3\n",
       "\\item 4\n",
       "\\end{enumerate*}\n"
      ],
      "text/markdown": [
       "1. 2\n",
       "2. 3\n",
       "3. 4\n",
       "\n",
       "\n"
      ],
      "text/plain": [
       "[1] 2 3 4"
      ]
     },
     "metadata": {},
     "output_type": "display_data"
    }
   ],
   "source": [
    "# 4. 벡터의 연산\n",
    "c(1,2) + c(4,5) # 5, 7\n",
    "c(1,2,3) + 1 # 2,3,4"
   ]
  },
  {
   "cell_type": "code",
   "execution_count": 25,
   "metadata": {},
   "outputs": [
    {
     "data": {
      "text/html": [
       "<ol class=list-inline>\n",
       "\t<li>2</li>\n",
       "\t<li>32</li>\n",
       "\t<li>6</li>\n",
       "\t<li>34</li>\n",
       "</ol>\n"
      ],
      "text/latex": [
       "\\begin{enumerate*}\n",
       "\\item 2\n",
       "\\item 32\n",
       "\\item 6\n",
       "\\item 34\n",
       "\\end{enumerate*}\n"
      ],
      "text/markdown": [
       "1. 2\n",
       "2. 32\n",
       "3. 6\n",
       "4. 34\n",
       "\n",
       "\n"
      ],
      "text/plain": [
       "[1]  2 32  6 34"
      ]
     },
     "metadata": {},
     "output_type": "display_data"
    },
    {
     "data": {
      "text/html": [
       "<ol class=list-inline>\n",
       "\t<li>2</li>\n",
       "\t<li>4</li>\n",
       "\t<li>6</li>\n",
       "\t<li>9</li>\n",
       "\t<li>2</li>\n",
       "\t<li>32</li>\n",
       "\t<li>6</li>\n",
       "\t<li>34</li>\n",
       "</ol>\n"
      ],
      "text/latex": [
       "\\begin{enumerate*}\n",
       "\\item 2\n",
       "\\item 4\n",
       "\\item 6\n",
       "\\item 9\n",
       "\\item 2\n",
       "\\item 32\n",
       "\\item 6\n",
       "\\item 34\n",
       "\\end{enumerate*}\n"
      ],
      "text/markdown": [
       "1. 2\n",
       "2. 4\n",
       "3. 6\n",
       "4. 9\n",
       "5. 2\n",
       "6. 32\n",
       "7. 6\n",
       "8. 34\n",
       "\n",
       "\n"
      ],
      "text/plain": [
       "[1]  2  4  6  9  2 32  6 34"
      ]
     },
     "metadata": {},
     "output_type": "display_data"
    },
    {
     "data": {
      "text/html": [
       "<ol class=list-inline>\n",
       "\t<li>2</li>\n",
       "\t<li>4</li>\n",
       "\t<li>2</li>\n",
       "\t<li>32</li>\n",
       "\t<li>6</li>\n",
       "\t<li>34</li>\n",
       "\t<li>6</li>\n",
       "\t<li>9</li>\n",
       "</ol>\n"
      ],
      "text/latex": [
       "\\begin{enumerate*}\n",
       "\\item 2\n",
       "\\item 4\n",
       "\\item 2\n",
       "\\item 32\n",
       "\\item 6\n",
       "\\item 34\n",
       "\\item 6\n",
       "\\item 9\n",
       "\\end{enumerate*}\n"
      ],
      "text/markdown": [
       "1. 2\n",
       "2. 4\n",
       "3. 2\n",
       "4. 32\n",
       "5. 6\n",
       "6. 34\n",
       "7. 6\n",
       "8. 9\n",
       "\n",
       "\n"
      ],
      "text/plain": [
       "[1]  2  4  2 32  6 34  6  9"
      ]
     },
     "metadata": {},
     "output_type": "display_data"
    }
   ],
   "source": [
    "# 5. 함수를 이용한 벡터자료의 일부를 수정하기\n",
    "# replace(), append()\n",
    "x <- c(2,4,6,9)\n",
    "y <- replace(x, c(2,4), c(32, 34)) # 4->32, 9->34\n",
    "y\n",
    "w <- append(x, y) # x와 y를 합치기\n",
    "w\n",
    "z <- append(x, y, after=2) # x의 2번째 뒤에 y를 삽입하기\n",
    "z"
   ]
  },
  {
   "cell_type": "markdown",
   "metadata": {},
   "source": [
    "###### 벡터에 적용 가능한 함수\n",
    "\n",
    ">* sum() : 벡터에 포함된 값들의 합\n",
    "* mean() : 벡터에 포함된 값들의 평균\n",
    "* median() : 벡터에 포함된 값들의 중앙값\n",
    "* max(), min()\n",
    "* var() : 벡터에 포함된 값들의 분산\n",
    "* sd() : 표준편차\n",
    "* sort() : 값들을 정렬(기본은 오름차순)\n",
    "* range() : 벡터에 포함된 값들의 범위(최소값~최대값)\n",
    "* length() : 벡터의 요소의 갯수"
   ]
  },
  {
   "cell_type": "code",
   "execution_count": 26,
   "metadata": {},
   "outputs": [
    {
     "data": {
      "text/html": [
       "55"
      ],
      "text/latex": [
       "55"
      ],
      "text/markdown": [
       "55"
      ],
      "text/plain": [
       "[1] 55"
      ]
     },
     "metadata": {},
     "output_type": "display_data"
    },
    {
     "data": {
      "text/html": [
       "110"
      ],
      "text/latex": [
       "110"
      ],
      "text/markdown": [
       "110"
      ],
      "text/plain": [
       "[1] 110"
      ]
     },
     "metadata": {},
     "output_type": "display_data"
    },
    {
     "data": {
      "text/html": [
       "10"
      ],
      "text/latex": [
       "10"
      ],
      "text/markdown": [
       "10"
      ],
      "text/plain": [
       "[1] 10"
      ]
     },
     "metadata": {},
     "output_type": "display_data"
    },
    {
     "data": {
      "text/html": [
       "5.5"
      ],
      "text/latex": [
       "5.5"
      ],
      "text/markdown": [
       "5.5"
      ],
      "text/plain": [
       "[1] 5.5"
      ]
     },
     "metadata": {},
     "output_type": "display_data"
    },
    {
     "data": {
      "text/html": [
       "3"
      ],
      "text/latex": [
       "3"
      ],
      "text/markdown": [
       "3"
      ],
      "text/plain": [
       "[1] 3"
      ]
     },
     "metadata": {},
     "output_type": "display_data"
    },
    {
     "data": {
      "text/html": [
       "5"
      ],
      "text/latex": [
       "5"
      ],
      "text/markdown": [
       "5"
      ],
      "text/plain": [
       "[1] 5"
      ]
     },
     "metadata": {},
     "output_type": "display_data"
    },
    {
     "data": {
      "text/html": [
       "10"
      ],
      "text/latex": [
       "10"
      ],
      "text/markdown": [
       "10"
      ],
      "text/plain": [
       "[1] 10"
      ]
     },
     "metadata": {},
     "output_type": "display_data"
    },
    {
     "data": {
      "text/html": [
       "1"
      ],
      "text/latex": [
       "1"
      ],
      "text/markdown": [
       "1"
      ],
      "text/plain": [
       "[1] 1"
      ]
     },
     "metadata": {},
     "output_type": "display_data"
    },
    {
     "data": {
      "text/html": [
       "<ol class=list-inline>\n",
       "\t<li>1</li>\n",
       "\t<li>2</li>\n",
       "\t<li>3</li>\n",
       "\t<li>4</li>\n",
       "\t<li>5</li>\n",
       "\t<li>6</li>\n",
       "\t<li>7</li>\n",
       "\t<li>8</li>\n",
       "\t<li>9</li>\n",
       "\t<li>10</li>\n",
       "</ol>\n"
      ],
      "text/latex": [
       "\\begin{enumerate*}\n",
       "\\item 1\n",
       "\\item 2\n",
       "\\item 3\n",
       "\\item 4\n",
       "\\item 5\n",
       "\\item 6\n",
       "\\item 7\n",
       "\\item 8\n",
       "\\item 9\n",
       "\\item 10\n",
       "\\end{enumerate*}\n"
      ],
      "text/markdown": [
       "1. 1\n",
       "2. 2\n",
       "3. 3\n",
       "4. 4\n",
       "5. 5\n",
       "6. 6\n",
       "7. 7\n",
       "8. 8\n",
       "9. 9\n",
       "10. 10\n",
       "\n",
       "\n"
      ],
      "text/plain": [
       " [1]  1  2  3  4  5  6  7  8  9 10"
      ]
     },
     "metadata": {},
     "output_type": "display_data"
    },
    {
     "data": {
      "text/html": [
       "<ol class=list-inline>\n",
       "\t<li>1</li>\n",
       "\t<li>2</li>\n",
       "\t<li>3</li>\n",
       "\t<li>4</li>\n",
       "\t<li>5</li>\n",
       "\t<li>6</li>\n",
       "\t<li>7</li>\n",
       "\t<li>8</li>\n",
       "\t<li>9</li>\n",
       "\t<li>10</li>\n",
       "</ol>\n"
      ],
      "text/latex": [
       "\\begin{enumerate*}\n",
       "\\item 1\n",
       "\\item 2\n",
       "\\item 3\n",
       "\\item 4\n",
       "\\item 5\n",
       "\\item 6\n",
       "\\item 7\n",
       "\\item 8\n",
       "\\item 9\n",
       "\\item 10\n",
       "\\end{enumerate*}\n"
      ],
      "text/markdown": [
       "1. 1\n",
       "2. 2\n",
       "3. 3\n",
       "4. 4\n",
       "5. 5\n",
       "6. 6\n",
       "7. 7\n",
       "8. 8\n",
       "9. 9\n",
       "10. 10\n",
       "\n",
       "\n"
      ],
      "text/plain": [
       " [1]  1  2  3  4  5  6  7  8  9 10"
      ]
     },
     "metadata": {},
     "output_type": "display_data"
    },
    {
     "data": {
      "text/html": [
       "<ol class=list-inline>\n",
       "\t<li>10</li>\n",
       "\t<li>9</li>\n",
       "\t<li>8</li>\n",
       "\t<li>7</li>\n",
       "\t<li>6</li>\n",
       "\t<li>5</li>\n",
       "\t<li>4</li>\n",
       "\t<li>3</li>\n",
       "\t<li>2</li>\n",
       "\t<li>1</li>\n",
       "</ol>\n"
      ],
      "text/latex": [
       "\\begin{enumerate*}\n",
       "\\item 10\n",
       "\\item 9\n",
       "\\item 8\n",
       "\\item 7\n",
       "\\item 6\n",
       "\\item 5\n",
       "\\item 4\n",
       "\\item 3\n",
       "\\item 2\n",
       "\\item 1\n",
       "\\end{enumerate*}\n"
      ],
      "text/markdown": [
       "1. 10\n",
       "2. 9\n",
       "3. 8\n",
       "4. 7\n",
       "5. 6\n",
       "6. 5\n",
       "7. 4\n",
       "8. 3\n",
       "9. 2\n",
       "10. 1\n",
       "\n",
       "\n"
      ],
      "text/plain": [
       " [1] 10  9  8  7  6  5  4  3  2  1"
      ]
     },
     "metadata": {},
     "output_type": "display_data"
    },
    {
     "data": {
      "text/html": [
       "5.5"
      ],
      "text/latex": [
       "5.5"
      ],
      "text/markdown": [
       "5.5"
      ],
      "text/plain": [
       "[1] 5.5"
      ]
     },
     "metadata": {},
     "output_type": "display_data"
    },
    {
     "data": {
      "text/html": [
       "5.5"
      ],
      "text/latex": [
       "5.5"
      ],
      "text/markdown": [
       "5.5"
      ],
      "text/plain": [
       "[1] 5.5"
      ]
     },
     "metadata": {},
     "output_type": "display_data"
    }
   ],
   "source": [
    "# 벡터적용함수 실습하기\n",
    "d <- c(1,2,3,4,5,6,7,8,9,10)\n",
    "sum(d)\n",
    "sum(d*2)\n",
    "length(d)\n",
    "mean(d)\n",
    "mean(d[1:5])\n",
    "max(d[1:5])\n",
    "max(d)\n",
    "min(d)\n",
    "sort(d)\n",
    "sort(d, decreasing = F)\n",
    "sort(d, decreasing = T)\n",
    "\n",
    "v1 <- median(d)\n",
    "v1\n",
    "v2 <- sum(d) / length(d)\n",
    "v2"
   ]
  },
  {
   "cell_type": "code",
   "execution_count": 27,
   "metadata": {},
   "outputs": [
    {
     "data": {
      "text/html": [
       "<ol class=list-inline>\n",
       "\t<li>FALSE</li>\n",
       "\t<li>FALSE</li>\n",
       "\t<li>FALSE</li>\n",
       "\t<li>FALSE</li>\n",
       "\t<li>TRUE</li>\n",
       "\t<li>TRUE</li>\n",
       "\t<li>TRUE</li>\n",
       "\t<li>TRUE</li>\n",
       "\t<li>TRUE</li>\n",
       "\t<li>TRUE</li>\n",
       "</ol>\n"
      ],
      "text/latex": [
       "\\begin{enumerate*}\n",
       "\\item FALSE\n",
       "\\item FALSE\n",
       "\\item FALSE\n",
       "\\item FALSE\n",
       "\\item TRUE\n",
       "\\item TRUE\n",
       "\\item TRUE\n",
       "\\item TRUE\n",
       "\\item TRUE\n",
       "\\item TRUE\n",
       "\\end{enumerate*}\n"
      ],
      "text/markdown": [
       "1. FALSE\n",
       "2. FALSE\n",
       "3. FALSE\n",
       "4. FALSE\n",
       "5. TRUE\n",
       "6. TRUE\n",
       "7. TRUE\n",
       "8. TRUE\n",
       "9. TRUE\n",
       "10. TRUE\n",
       "\n",
       "\n"
      ],
      "text/plain": [
       " [1] FALSE FALSE FALSE FALSE  TRUE  TRUE  TRUE  TRUE  TRUE  TRUE"
      ]
     },
     "metadata": {},
     "output_type": "display_data"
    },
    {
     "data": {
      "text/html": [
       "<ol class=list-inline>\n",
       "\t<li>6</li>\n",
       "\t<li>7</li>\n",
       "\t<li>8</li>\n",
       "\t<li>9</li>\n",
       "\t<li>10</li>\n",
       "</ol>\n"
      ],
      "text/latex": [
       "\\begin{enumerate*}\n",
       "\\item 6\n",
       "\\item 7\n",
       "\\item 8\n",
       "\\item 9\n",
       "\\item 10\n",
       "\\end{enumerate*}\n"
      ],
      "text/markdown": [
       "1. 6\n",
       "2. 7\n",
       "3. 8\n",
       "4. 9\n",
       "5. 10\n",
       "\n",
       "\n"
      ],
      "text/plain": [
       "[1]  6  7  8  9 10"
      ]
     },
     "metadata": {},
     "output_type": "display_data"
    },
    {
     "data": {
      "text/html": [
       "5"
      ],
      "text/latex": [
       "5"
      ],
      "text/markdown": [
       "5"
      ],
      "text/plain": [
       "[1] 5"
      ]
     },
     "metadata": {},
     "output_type": "display_data"
    },
    {
     "data": {
      "text/html": [
       "40"
      ],
      "text/latex": [
       "40"
      ],
      "text/markdown": [
       "40"
      ],
      "text/plain": [
       "[1] 40"
      ]
     },
     "metadata": {},
     "output_type": "display_data"
    },
    {
     "data": {
      "text/html": [
       "<ol class=list-inline>\n",
       "\t<li>FALSE</li>\n",
       "\t<li>FALSE</li>\n",
       "\t<li>FALSE</li>\n",
       "\t<li>FALSE</li>\n",
       "\t<li>TRUE</li>\n",
       "\t<li>FALSE</li>\n",
       "\t<li>FALSE</li>\n",
       "\t<li>FALSE</li>\n",
       "\t<li>FALSE</li>\n",
       "\t<li>FALSE</li>\n",
       "</ol>\n"
      ],
      "text/latex": [
       "\\begin{enumerate*}\n",
       "\\item FALSE\n",
       "\\item FALSE\n",
       "\\item FALSE\n",
       "\\item FALSE\n",
       "\\item TRUE\n",
       "\\item FALSE\n",
       "\\item FALSE\n",
       "\\item FALSE\n",
       "\\item FALSE\n",
       "\\item FALSE\n",
       "\\end{enumerate*}\n"
      ],
      "text/markdown": [
       "1. FALSE\n",
       "2. FALSE\n",
       "3. FALSE\n",
       "4. FALSE\n",
       "5. TRUE\n",
       "6. FALSE\n",
       "7. FALSE\n",
       "8. FALSE\n",
       "9. FALSE\n",
       "10. FALSE\n",
       "\n",
       "\n"
      ],
      "text/plain": [
       " [1] FALSE FALSE FALSE FALSE  TRUE FALSE FALSE FALSE FALSE FALSE"
      ]
     },
     "metadata": {},
     "output_type": "display_data"
    },
    {
     "data": {
      "text/html": [
       "<ol class=list-inline>\n",
       "\t<li>FALSE</li>\n",
       "\t<li>FALSE</li>\n",
       "\t<li>FALSE</li>\n",
       "\t<li>FALSE</li>\n",
       "\t<li>FALSE</li>\n",
       "\t<li>TRUE</li>\n",
       "\t<li>TRUE</li>\n",
       "\t<li>FALSE</li>\n",
       "\t<li>FALSE</li>\n",
       "\t<li>FALSE</li>\n",
       "</ol>\n"
      ],
      "text/latex": [
       "\\begin{enumerate*}\n",
       "\\item FALSE\n",
       "\\item FALSE\n",
       "\\item FALSE\n",
       "\\item FALSE\n",
       "\\item FALSE\n",
       "\\item TRUE\n",
       "\\item TRUE\n",
       "\\item FALSE\n",
       "\\item FALSE\n",
       "\\item FALSE\n",
       "\\end{enumerate*}\n"
      ],
      "text/markdown": [
       "1. FALSE\n",
       "2. FALSE\n",
       "3. FALSE\n",
       "4. FALSE\n",
       "5. FALSE\n",
       "6. TRUE\n",
       "7. TRUE\n",
       "8. FALSE\n",
       "9. FALSE\n",
       "10. FALSE\n",
       "\n",
       "\n"
      ],
      "text/plain": [
       " [1] FALSE FALSE FALSE FALSE FALSE  TRUE  TRUE FALSE FALSE FALSE"
      ]
     },
     "metadata": {},
     "output_type": "display_data"
    },
    {
     "data": {
      "text/html": [
       "<ol class=list-inline>\n",
       "\t<li>6</li>\n",
       "\t<li>7</li>\n",
       "</ol>\n"
      ],
      "text/latex": [
       "\\begin{enumerate*}\n",
       "\\item 6\n",
       "\\item 7\n",
       "\\end{enumerate*}\n"
      ],
      "text/markdown": [
       "1. 6\n",
       "2. 7\n",
       "\n",
       "\n"
      ],
      "text/plain": [
       "[1] 6 7"
      ]
     },
     "metadata": {},
     "output_type": "display_data"
    }
   ],
   "source": [
    "# 벡터에 논리연산 적용하기\n",
    "# <, <=, >, >=, ==, !=< |, &\n",
    "\n",
    "d <- c(1,2,3,4,5,6,7,8,9,10)\n",
    "d >= 5\n",
    "d[d>5]\n",
    "sum(d > 5)    # 5보나 큰 놈의 갯수\n",
    "sum(d[d > 5]) # 40 \n",
    "d == 5\n",
    "\n",
    "condi <- d > 5 & d < 8 \n",
    "condi # 논리값이 결과\n",
    "d[condi] # 6, 7"
   ]
  },
  {
   "cell_type": "code",
   "execution_count": 28,
   "metadata": {},
   "outputs": [
    {
     "data": {
      "text/html": [
       "5"
      ],
      "text/latex": [
       "5"
      ],
      "text/markdown": [
       "5"
      ],
      "text/plain": [
       "[1] 5"
      ]
     },
     "metadata": {},
     "output_type": "display_data"
    }
   ],
   "source": [
    "sum(d > 5)"
   ]
  },
  {
   "cell_type": "markdown",
   "metadata": {},
   "source": [
    "##### R의 데이터유형과 구조\n",
    "\n",
    "###### 1. R에서의 자료구조\n",
    ">* Vector : 벡터는 R에서 가장 기본이 되는 자료구조\n",
    " - `1차원의 선형구조`형태\n",
    " - 동일한 자료형의 데이터만 저장할 수 있다.\n",
    "* Matrix :  동일한 자료형을 갖는 `2차원의 배열구조`\n",
    " - 행과 열의 2차원 배열구조의 객체\n",
    " - 동일타입의 데이터만 저장가능\n",
    " - 행렬함수 : matrix(), rbind(), cbind()\n",
    " - 행렬처리함수 : apply()\n",
    "* Array : 동일한 자료형을 갖는 `다차원의 배열구조`\n",
    " - 행,열,면의 3차원 배열형태의 객체\n",
    " - 행렬구조와 동일하게 index를 사용\n",
    " - 배열생성함수 : array()\n",
    "* List : 성격이 다은 객체로 생성\n",
    " - `키와 값이 한쌍`으로 저장\n",
    " - 파이썬의 `dict`자료형과 유사하다.\n",
    " - key를 통해서 값에 접근할 수 있다.\n",
    " - 생성함수 : list()\n",
    " - 처리함수 : unlist(), lapply(), sapply()\n",
    "* DataFrame : R에서 가장 많이 사용하는 자료구조중 하나\n",
    " - RDBMS의 테이블과 유사\n",
    " - 컬럼단위로 서로 다른 형태의 데이터를 저장가능\n",
    " - 생성함수 : data.frame(), read.table(), read.csv()\n",
    " - 처리함수 : str(), ncol(), nrow(), apply(), summary(), subset()..."
   ]
  },
  {
   "cell_type": "markdown",
   "metadata": {},
   "source": [
    "###### 1) Matrix(행렬)\n",
    "\n",
    "벡터는 원소를 단순히 1차원의 요소로 열거해 놓은 것 뿐이지만 실제 데이터는 행과 열로 이루어진 표형식을 따르는 것이 많다. 이러한 데이터 형식을 R에서는 `행렬 Matrix`라고 하고, 표형식의 데이터에 대한 분석함수를 이용하기 위해서는 사전에 `행렬화` 시킬 필요가 있다. \n",
    "\n",
    "행렬은 `matrix() 함수`를 이용해 바탕이 되는 vector에 행의 수 혹은 열의 수에 대한 정보를 추가함으로써 만들 수 있다. \n",
    ">행렬자료구조는 동일한 자료형을 갖는 2차원배열구조 이다.\n",
    "\n",
    "###### Matrix의 특징\n",
    "\n",
    ">* 행과 열의 2차원 배열구조의 객체를 생성\n",
    "* 동일한 타입의 데이터만 저장이 가능\n",
    "* 행렬생성함수 : `matrix(), rbind(), cbind()`\n",
    "* 행렬처리함수 : `apply()`\n",
    "\n",
    "###### matrix() 함수\n",
    "\n",
    ">* 문법 : matrix(data=NA, nrow=1, ncol=1, byrow=F, dimnames=NULL)\n",
    ">>* data : 행렬의 데이터\n",
    ">>* nrow : 행의 갯수\n",
    ">>* ncol : 열의 갯수\n",
    ">>* byrow: 행기준 또는 열기준으로 우선여부\n",
    ">>* dimnames: 차원지정"
   ]
  },
  {
   "cell_type": "code",
   "execution_count": 1,
   "metadata": {},
   "outputs": [
    {
     "data": {
      "text/html": [
       "<ol class=list-inline>\n",
       "\t<li>5</li>\n",
       "\t<li>10</li>\n",
       "\t<li>15</li>\n",
       "\t<li>20</li>\n",
       "\t<li>25</li>\n",
       "\t<li>30</li>\n",
       "\t<li>35</li>\n",
       "\t<li>40</li>\n",
       "\t<li>45</li>\n",
       "\t<li>50</li>\n",
       "\t<li>55</li>\n",
       "\t<li>60</li>\n",
       "</ol>\n"
      ],
      "text/latex": [
       "\\begin{enumerate*}\n",
       "\\item 5\n",
       "\\item 10\n",
       "\\item 15\n",
       "\\item 20\n",
       "\\item 25\n",
       "\\item 30\n",
       "\\item 35\n",
       "\\item 40\n",
       "\\item 45\n",
       "\\item 50\n",
       "\\item 55\n",
       "\\item 60\n",
       "\\end{enumerate*}\n"
      ],
      "text/markdown": [
       "1. 5\n",
       "2. 10\n",
       "3. 15\n",
       "4. 20\n",
       "5. 25\n",
       "6. 30\n",
       "7. 35\n",
       "8. 40\n",
       "9. 45\n",
       "10. 50\n",
       "11. 55\n",
       "12. 60\n",
       "\n",
       "\n"
      ],
      "text/plain": [
       " [1]  5 10 15 20 25 30 35 40 45 50 55 60"
      ]
     },
     "metadata": {},
     "output_type": "display_data"
    }
   ],
   "source": [
    "# 5~60까지 5씩 증가하는 정수형 벡터 작성\n",
    "v <- seq(5, 60, by=5)\n",
    "v"
   ]
  },
  {
   "cell_type": "code",
   "execution_count": 2,
   "metadata": {},
   "outputs": [
    {
     "data": {
      "text/html": [
       "<table>\n",
       "<tbody>\n",
       "\t<tr><td> 5</td><td>20</td><td>35</td><td>50</td></tr>\n",
       "\t<tr><td>10</td><td>25</td><td>40</td><td>55</td></tr>\n",
       "\t<tr><td>15</td><td>30</td><td>45</td><td>60</td></tr>\n",
       "</tbody>\n",
       "</table>\n"
      ],
      "text/latex": [
       "\\begin{tabular}{llll}\n",
       "\t  5 & 20 & 35 & 50\\\\\n",
       "\t 10 & 25 & 40 & 55\\\\\n",
       "\t 15 & 30 & 45 & 60\\\\\n",
       "\\end{tabular}\n"
      ],
      "text/markdown": [
       "\n",
       "|  5 | 20 | 35 | 50 |\n",
       "| 10 | 25 | 40 | 55 |\n",
       "| 15 | 30 | 45 | 60 |\n",
       "\n"
      ],
      "text/plain": [
       "     [,1] [,2] [,3] [,4]\n",
       "[1,]  5   20   35   50  \n",
       "[2,] 10   25   40   55  \n",
       "[3,] 15   30   45   60  "
      ]
     },
     "metadata": {},
     "output_type": "display_data"
    },
    {
     "data": {
      "text/html": [
       "<table>\n",
       "<tbody>\n",
       "\t<tr><td>1</td></tr>\n",
       "\t<tr><td>2</td></tr>\n",
       "\t<tr><td>3</td></tr>\n",
       "\t<tr><td>4</td></tr>\n",
       "\t<tr><td>5</td></tr>\n",
       "</tbody>\n",
       "</table>\n"
      ],
      "text/latex": [
       "\\begin{tabular}{l}\n",
       "\t 1\\\\\n",
       "\t 2\\\\\n",
       "\t 3\\\\\n",
       "\t 4\\\\\n",
       "\t 5\\\\\n",
       "\\end{tabular}\n"
      ],
      "text/markdown": [
       "\n",
       "| 1 |\n",
       "| 2 |\n",
       "| 3 |\n",
       "| 4 |\n",
       "| 5 |\n",
       "\n"
      ],
      "text/plain": [
       "     [,1]\n",
       "[1,] 1   \n",
       "[2,] 2   \n",
       "[3,] 3   \n",
       "[4,] 4   \n",
       "[5,] 5   "
      ]
     },
     "metadata": {},
     "output_type": "display_data"
    },
    {
     "data": {
      "text/html": [
       "<table>\n",
       "<tbody>\n",
       "\t<tr><td>1 </td><td>3 </td><td>5 </td><td>7 </td><td> 9</td></tr>\n",
       "\t<tr><td>2 </td><td>4 </td><td>6 </td><td>8 </td><td>10</td></tr>\n",
       "</tbody>\n",
       "</table>\n"
      ],
      "text/latex": [
       "\\begin{tabular}{lllll}\n",
       "\t 1  & 3  & 5  & 7  &  9\\\\\n",
       "\t 2  & 4  & 6  & 8  & 10\\\\\n",
       "\\end{tabular}\n"
      ],
      "text/markdown": [
       "\n",
       "| 1  | 3  | 5  | 7  |  9 |\n",
       "| 2  | 4  | 6  | 8  | 10 |\n",
       "\n"
      ],
      "text/plain": [
       "     [,1] [,2] [,3] [,4] [,5]\n",
       "[1,] 1    3    5    7     9  \n",
       "[2,] 2    4    6    8    10  "
      ]
     },
     "metadata": {},
     "output_type": "display_data"
    }
   ],
   "source": [
    "# 1. matrix()\n",
    "# 1차원의 벡터를 행렬로 변환\n",
    "matrix(v, ncol=4)\n",
    "\n",
    "m <- matrix(c(1:5)) # 열기준으로 행렬객체를 생성\n",
    "m\n",
    "\n",
    "m1 <- matrix(c(1:10), nrow=2) # 행기준으로\n",
    "m1"
   ]
  },
  {
   "cell_type": "code",
   "execution_count": 3,
   "metadata": {},
   "outputs": [
    {
     "data": {
      "text/html": [
       "<table>\n",
       "<tbody>\n",
       "\t<tr><th scope=row>v1</th><td>1</td><td>2</td><td>3</td></tr>\n",
       "\t<tr><th scope=row>v2</th><td>4</td><td>5</td><td>6</td></tr>\n",
       "\t<tr><th scope=row>v3</th><td>7</td><td>8</td><td>9</td></tr>\n",
       "</tbody>\n",
       "</table>\n"
      ],
      "text/latex": [
       "\\begin{tabular}{r|lll}\n",
       "\tv1 & 1 & 2 & 3\\\\\n",
       "\tv2 & 4 & 5 & 6\\\\\n",
       "\tv3 & 7 & 8 & 9\\\\\n",
       "\\end{tabular}\n"
      ],
      "text/markdown": [
       "\n",
       "| v1 | 1 | 2 | 3 |\n",
       "| v2 | 4 | 5 | 6 |\n",
       "| v3 | 7 | 8 | 9 |\n",
       "\n"
      ],
      "text/plain": [
       "   [,1] [,2] [,3]\n",
       "v1 1    2    3   \n",
       "v2 4    5    6   \n",
       "v3 7    8    9   "
      ]
     },
     "metadata": {},
     "output_type": "display_data"
    },
    {
     "data": {
      "text/html": [
       "<table>\n",
       "<thead><tr><th scope=col>v1</th><th scope=col>v2</th><th scope=col>v3</th></tr></thead>\n",
       "<tbody>\n",
       "\t<tr><td>1</td><td>4</td><td>7</td></tr>\n",
       "\t<tr><td>2</td><td>5</td><td>8</td></tr>\n",
       "\t<tr><td>3</td><td>6</td><td>9</td></tr>\n",
       "</tbody>\n",
       "</table>\n"
      ],
      "text/latex": [
       "\\begin{tabular}{lll}\n",
       " v1 & v2 & v3\\\\\n",
       "\\hline\n",
       "\t 1 & 4 & 7\\\\\n",
       "\t 2 & 5 & 8\\\\\n",
       "\t 3 & 6 & 9\\\\\n",
       "\\end{tabular}\n"
      ],
      "text/markdown": [
       "\n",
       "| v1 | v2 | v3 |\n",
       "|---|---|---|\n",
       "| 1 | 4 | 7 |\n",
       "| 2 | 5 | 8 |\n",
       "| 3 | 6 | 9 |\n",
       "\n"
      ],
      "text/plain": [
       "     v1 v2 v3\n",
       "[1,] 1  4  7 \n",
       "[2,] 2  5  8 \n",
       "[3,] 3  6  9 "
      ]
     },
     "metadata": {},
     "output_type": "display_data"
    },
    {
     "data": {
      "text/html": [
       "<table>\n",
       "<thead><tr><th></th><th scope=col>1st</th><th scope=col>2nd</th><th scope=col>3rd</th></tr></thead>\n",
       "<tbody>\n",
       "\t<tr><th scope=row>v1</th><td>1</td><td>2</td><td>3</td></tr>\n",
       "\t<tr><th scope=row>v2</th><td>4</td><td>5</td><td>6</td></tr>\n",
       "\t<tr><th scope=row>v3</th><td>7</td><td>8</td><td>9</td></tr>\n",
       "</tbody>\n",
       "</table>\n"
      ],
      "text/latex": [
       "\\begin{tabular}{r|lll}\n",
       "  & 1st & 2nd & 3rd\\\\\n",
       "\\hline\n",
       "\tv1 & 1 & 2 & 3\\\\\n",
       "\tv2 & 4 & 5 & 6\\\\\n",
       "\tv3 & 7 & 8 & 9\\\\\n",
       "\\end{tabular}\n"
      ],
      "text/markdown": [
       "\n",
       "| <!--/--> | 1st | 2nd | 3rd |\n",
       "|---|---|---|---|\n",
       "| v1 | 1 | 2 | 3 |\n",
       "| v2 | 4 | 5 | 6 |\n",
       "| v3 | 7 | 8 | 9 |\n",
       "\n"
      ],
      "text/plain": [
       "   1st 2nd 3rd\n",
       "v1 1   2   3  \n",
       "v2 4   5   6  \n",
       "v3 7   8   9  "
      ]
     },
     "metadata": {},
     "output_type": "display_data"
    }
   ],
   "source": [
    "# 2. rbind() : 행으로 합침, cbind() : 열로 합침\n",
    "v1 <- c(1,2,3)\n",
    "v2 <- c(4,5,6)\n",
    "v3 <- c(7,8,9)\n",
    "\n",
    "# 행결합\n",
    "mat1 <- rbind(v1, v2, v3)\n",
    "mat1\n",
    "\n",
    "# 열결합\n",
    "mat2 <- cbind(v1, v2, v3)\n",
    "mat2\n",
    "\n",
    "# 행렬데이터의 컬럼에 이름을 부여\n",
    "colnames(mat1) <- c('1st', '2nd', '3rd')\n",
    "mat1"
   ]
  },
  {
   "cell_type": "code",
   "execution_count": 4,
   "metadata": {},
   "outputs": [
    {
     "data": {
      "text/html": [
       "9"
      ],
      "text/latex": [
       "9"
      ],
      "text/markdown": [
       "9"
      ],
      "text/plain": [
       "[1] 9"
      ]
     },
     "metadata": {},
     "output_type": "display_data"
    },
    {
     "data": {
      "text/html": [
       "<dl class=dl-horizontal>\n",
       "\t<dt>v1</dt>\n",
       "\t\t<dd>6</dd>\n",
       "\t<dt>v2</dt>\n",
       "\t\t<dd>15</dd>\n",
       "\t<dt>v3</dt>\n",
       "\t\t<dd>24</dd>\n",
       "</dl>\n"
      ],
      "text/latex": [
       "\\begin{description*}\n",
       "\\item[v1] 6\n",
       "\\item[v2] 15\n",
       "\\item[v3] 24\n",
       "\\end{description*}\n"
      ],
      "text/markdown": [
       "v1\n",
       ":   6v2\n",
       ":   15v3\n",
       ":   24\n",
       "\n"
      ],
      "text/plain": [
       "v1 v2 v3 \n",
       " 6 15 24 "
      ]
     },
     "metadata": {},
     "output_type": "display_data"
    },
    {
     "data": {
      "text/html": [
       "<dl class=dl-horizontal>\n",
       "\t<dt>1st</dt>\n",
       "\t\t<dd>12</dd>\n",
       "\t<dt>2nd</dt>\n",
       "\t\t<dd>15</dd>\n",
       "\t<dt>3rd</dt>\n",
       "\t\t<dd>18</dd>\n",
       "</dl>\n"
      ],
      "text/latex": [
       "\\begin{description*}\n",
       "\\item[1st] 12\n",
       "\\item[2nd] 15\n",
       "\\item[3rd] 18\n",
       "\\end{description*}\n"
      ],
      "text/markdown": [
       "1st\n",
       ":   122nd\n",
       ":   153rd\n",
       ":   18\n",
       "\n"
      ],
      "text/plain": [
       "1st 2nd 3rd \n",
       " 12  15  18 "
      ]
     },
     "metadata": {},
     "output_type": "display_data"
    },
    {
     "data": {
      "text/html": [
       "<dl class=dl-horizontal>\n",
       "\t<dt>v1</dt>\n",
       "\t\t<dd>3</dd>\n",
       "\t<dt>v2</dt>\n",
       "\t\t<dd>6</dd>\n",
       "\t<dt>v3</dt>\n",
       "\t\t<dd>9</dd>\n",
       "</dl>\n"
      ],
      "text/latex": [
       "\\begin{description*}\n",
       "\\item[v1] 3\n",
       "\\item[v2] 6\n",
       "\\item[v3] 9\n",
       "\\end{description*}\n"
      ],
      "text/markdown": [
       "v1\n",
       ":   3v2\n",
       ":   6v3\n",
       ":   9\n",
       "\n"
      ],
      "text/plain": [
       "v1 v2 v3 \n",
       " 3  6  9 "
      ]
     },
     "metadata": {},
     "output_type": "display_data"
    },
    {
     "data": {
      "text/html": [
       "<dl class=dl-horizontal>\n",
       "\t<dt>1st</dt>\n",
       "\t\t<dd>1</dd>\n",
       "\t<dt>2nd</dt>\n",
       "\t\t<dd>2</dd>\n",
       "\t<dt>3rd</dt>\n",
       "\t\t<dd>3</dd>\n",
       "</dl>\n"
      ],
      "text/latex": [
       "\\begin{description*}\n",
       "\\item[1st] 1\n",
       "\\item[2nd] 2\n",
       "\\item[3rd] 3\n",
       "\\end{description*}\n"
      ],
      "text/markdown": [
       "1st\n",
       ":   12nd\n",
       ":   23rd\n",
       ":   3\n",
       "\n"
      ],
      "text/plain": [
       "1st 2nd 3rd \n",
       "  1   2   3 "
      ]
     },
     "metadata": {},
     "output_type": "display_data"
    }
   ],
   "source": [
    "# 3. apply() : 행렬객체의 처리함수\n",
    "# apply(data, margin(행=1, 열=2), 함수...)\n",
    "length(mat1)\n",
    "apply(mat1, 1, sum)\n",
    "apply(mat1, 2, sum)\n",
    "apply(mat1, 1, max)\n",
    "apply(mat1, 2, min)"
   ]
  },
  {
   "cell_type": "markdown",
   "metadata": {},
   "source": [
    "###### 2) Array(배열)\n",
    "\n",
    "행렬을 다차원으로 확장한 것. 행렬은 2차원이지만 배열은 필요에 따라서 3차원이상으로도 확장이 가능한 `동일한 자료형을 갖는 다차원 배열구조`이다.\n",
    "\n",
    "###### Array의 특징\n",
    ">* 행,열,면의 3차원형태의 객체\n",
    "* 행렬구조와 동일하게 Index로 접근\n",
    "* 생성함수 : `array()`"
   ]
  },
  {
   "cell_type": "code",
   "execution_count": 7,
   "metadata": {},
   "outputs": [
    {
     "data": {
      "text/html": [
       "<table>\n",
       "<tbody>\n",
       "\t<tr><td>1 </td><td>4 </td><td>7 </td><td>10</td></tr>\n",
       "\t<tr><td>2 </td><td>5 </td><td>8 </td><td>11</td></tr>\n",
       "\t<tr><td>3 </td><td>6 </td><td>9 </td><td>12</td></tr>\n",
       "</tbody>\n",
       "</table>\n"
      ],
      "text/latex": [
       "\\begin{tabular}{llll}\n",
       "\t 1  & 4  & 7  & 10\\\\\n",
       "\t 2  & 5  & 8  & 11\\\\\n",
       "\t 3  & 6  & 9  & 12\\\\\n",
       "\\end{tabular}\n"
      ],
      "text/markdown": [
       "\n",
       "| 1  | 4  | 7  | 10 |\n",
       "| 2  | 5  | 8  | 11 |\n",
       "| 3  | 6  | 9  | 12 |\n",
       "\n"
      ],
      "text/plain": [
       "     [,1] [,2] [,3] [,4]\n",
       "[1,] 1    4    7    10  \n",
       "[2,] 2    5    8    11  \n",
       "[3,] 3    6    9    12  "
      ]
     },
     "metadata": {},
     "output_type": "display_data"
    },
    {
     "data": {
      "text/html": [
       "<table>\n",
       "<tbody>\n",
       "\t<tr><td>1</td><td>4</td></tr>\n",
       "\t<tr><td>2</td><td>5</td></tr>\n",
       "\t<tr><td>3</td><td>6</td></tr>\n",
       "</tbody>\n",
       "</table>\n"
      ],
      "text/latex": [
       "\\begin{tabular}{ll}\n",
       "\t 1 & 4\\\\\n",
       "\t 2 & 5\\\\\n",
       "\t 3 & 6\\\\\n",
       "\\end{tabular}\n"
      ],
      "text/markdown": [
       "\n",
       "| 1 | 4 |\n",
       "| 2 | 5 |\n",
       "| 3 | 6 |\n",
       "\n"
      ],
      "text/plain": [
       "     [,1] [,2]\n",
       "[1,] 1    4   \n",
       "[2,] 2    5   \n",
       "[3,] 3    6   "
      ]
     },
     "metadata": {},
     "output_type": "display_data"
    },
    {
     "data": {
      "text/html": [
       "1"
      ],
      "text/latex": [
       "1"
      ],
      "text/markdown": [
       "1"
      ],
      "text/plain": [
       "[1] 1"
      ]
     },
     "metadata": {},
     "output_type": "display_data"
    },
    {
     "data": {
      "text/html": [
       "6"
      ],
      "text/latex": [
       "6"
      ],
      "text/markdown": [
       "6"
      ],
      "text/plain": [
       "[1] 6"
      ]
     },
     "metadata": {},
     "output_type": "display_data"
    }
   ],
   "source": [
    "# 1. array()\n",
    "array(1:12, dim=c(3,4)) # 3행4열의 2차원배열\n",
    "x <- array(1:12, dim=c(3,2))\n",
    "x\n",
    "\n",
    "# 배열의 접근방법\n",
    "x[1,1]\n",
    "x[3,2]"
   ]
  },
  {
   "cell_type": "code",
   "execution_count": 8,
   "metadata": {},
   "outputs": [
    {
     "data": {
      "text/html": [
       "<ol class=list-inline>\n",
       "\t<li>3</li>\n",
       "\t<li>2</li>\n",
       "</ol>\n"
      ],
      "text/latex": [
       "\\begin{enumerate*}\n",
       "\\item 3\n",
       "\\item 2\n",
       "\\end{enumerate*}\n"
      ],
      "text/markdown": [
       "1. 3\n",
       "2. 2\n",
       "\n",
       "\n"
      ],
      "text/plain": [
       "[1] 3 2"
      ]
     },
     "metadata": {},
     "output_type": "display_data"
    }
   ],
   "source": [
    "# 2. dim() : 배열의 차원을 확인\n",
    "dim(x)"
   ]
  },
  {
   "cell_type": "markdown",
   "metadata": {},
   "source": [
    "###### 3) List(리스트)\n",
    "\n",
    "리스트는 벡터나 행렬을 한꺼번에 취급할 수 있는 형태이다. 복수의 관련된 벡터나 행렬을 하나의 리스트에 보관할 수 있으며 `함수 list()`를 이용하여 생성한다. 함수의 인수 값은 리스트에 포함되는 벡터나 행렬을 지정하거나, 데이터의 참조용이름을 부여하여 사용할 수도 있다.\n",
    "\n",
    ">리스트(List)는 성격이 다른 자료구조(벡터, 행렬, 리스트, 데이터프레임등)를 객체로 생성할 수 있다.\n",
    "\n",
    "###### List의 특징\n",
    "\n",
    ">* Key와 Value를 한쌍으로 저장된다.\n",
    "* Python의 dict와 유사한 자료형이다.\n",
    "* 접근방법은 key를 통해서 value에 접근할 수 있다.\n",
    "* 생성함수 : `list()`\n",
    "* 처리함수 : `unlist(), lapply(), sapply()"
   ]
  },
  {
   "cell_type": "code",
   "execution_count": 9,
   "metadata": {},
   "outputs": [
    {
     "data": {
      "text/html": [
       "<ol class=list-inline>\n",
       "\t<li>3</li>\n",
       "\t<li>2</li>\n",
       "\t<li>1</li>\n",
       "\t<li>3</li>\n",
       "\t<li>2</li>\n",
       "\t<li>1</li>\n",
       "\t<li>3</li>\n",
       "\t<li>2</li>\n",
       "\t<li>1</li>\n",
       "</ol>\n"
      ],
      "text/latex": [
       "\\begin{enumerate*}\n",
       "\\item 3\n",
       "\\item 2\n",
       "\\item 1\n",
       "\\item 3\n",
       "\\item 2\n",
       "\\item 1\n",
       "\\item 3\n",
       "\\item 2\n",
       "\\item 1\n",
       "\\end{enumerate*}\n"
      ],
      "text/markdown": [
       "1. 3\n",
       "2. 2\n",
       "3. 1\n",
       "4. 3\n",
       "5. 2\n",
       "6. 1\n",
       "7. 3\n",
       "8. 2\n",
       "9. 1\n",
       "\n",
       "\n"
      ],
      "text/plain": [
       "[1] 3 2 1 3 2 1 3 2 1"
      ]
     },
     "metadata": {},
     "output_type": "display_data"
    }
   ],
   "source": [
    "# 1. list()\n",
    "\n",
    "myvector <- rep(c(3,2,1), 3) # 3,2,1을 3번 반복하는 벡터를 생성\n",
    "myvector"
   ]
  },
  {
   "cell_type": "code",
   "execution_count": 10,
   "metadata": {},
   "outputs": [
    {
     "data": {
      "text/html": [
       "<table>\n",
       "<tbody>\n",
       "\t<tr><td>1 </td><td>4 </td><td>7 </td><td>10</td></tr>\n",
       "\t<tr><td>2 </td><td>5 </td><td>8 </td><td>11</td></tr>\n",
       "\t<tr><td>3 </td><td>6 </td><td>9 </td><td>12</td></tr>\n",
       "</tbody>\n",
       "</table>\n"
      ],
      "text/latex": [
       "\\begin{tabular}{llll}\n",
       "\t 1  & 4  & 7  & 10\\\\\n",
       "\t 2  & 5  & 8  & 11\\\\\n",
       "\t 3  & 6  & 9  & 12\\\\\n",
       "\\end{tabular}\n"
      ],
      "text/markdown": [
       "\n",
       "| 1  | 4  | 7  | 10 |\n",
       "| 2  | 5  | 8  | 11 |\n",
       "| 3  | 6  | 9  | 12 |\n",
       "\n"
      ],
      "text/plain": [
       "     [,1] [,2] [,3] [,4]\n",
       "[1,] 1    4    7    10  \n",
       "[2,] 2    5    8    11  \n",
       "[3,] 3    6    9    12  "
      ]
     },
     "metadata": {},
     "output_type": "display_data"
    }
   ],
   "source": [
    "mymatrix <- matrix(1:12, ncol=4) # 3x4행렬\n",
    "mymatrix"
   ]
  },
  {
   "cell_type": "code",
   "execution_count": 11,
   "metadata": {},
   "outputs": [
    {
     "data": {
      "text/html": [
       "<dl>\n",
       "\t<dt>$dataA</dt>\n",
       "\t\t<dd><ol class=list-inline>\n",
       "\t<li>3</li>\n",
       "\t<li>2</li>\n",
       "\t<li>1</li>\n",
       "\t<li>3</li>\n",
       "\t<li>2</li>\n",
       "\t<li>1</li>\n",
       "\t<li>3</li>\n",
       "\t<li>2</li>\n",
       "\t<li>1</li>\n",
       "</ol>\n",
       "</dd>\n",
       "\t<dt>$dataB</dt>\n",
       "\t\t<dd><table>\n",
       "<tbody>\n",
       "\t<tr><td>1 </td><td>4 </td><td>7 </td><td>10</td></tr>\n",
       "\t<tr><td>2 </td><td>5 </td><td>8 </td><td>11</td></tr>\n",
       "\t<tr><td>3 </td><td>6 </td><td>9 </td><td>12</td></tr>\n",
       "</tbody>\n",
       "</table>\n",
       "</dd>\n",
       "</dl>\n"
      ],
      "text/latex": [
       "\\begin{description}\n",
       "\\item[\\$dataA] \\begin{enumerate*}\n",
       "\\item 3\n",
       "\\item 2\n",
       "\\item 1\n",
       "\\item 3\n",
       "\\item 2\n",
       "\\item 1\n",
       "\\item 3\n",
       "\\item 2\n",
       "\\item 1\n",
       "\\end{enumerate*}\n",
       "\n",
       "\\item[\\$dataB] \\begin{tabular}{llll}\n",
       "\t 1  & 4  & 7  & 10\\\\\n",
       "\t 2  & 5  & 8  & 11\\\\\n",
       "\t 3  & 6  & 9  & 12\\\\\n",
       "\\end{tabular}\n",
       "\n",
       "\\end{description}\n"
      ],
      "text/markdown": [
       "$dataA\n",
       ":   1. 3\n",
       "2. 2\n",
       "3. 1\n",
       "4. 3\n",
       "5. 2\n",
       "6. 1\n",
       "7. 3\n",
       "8. 2\n",
       "9. 1\n",
       "\n",
       "\n",
       "\n",
       "$dataB\n",
       ":   \n",
       "| 1  | 4  | 7  | 10 |\n",
       "| 2  | 5  | 8  | 11 |\n",
       "| 3  | 6  | 9  | 12 |\n",
       "\n",
       "\n",
       "\n",
       "\n"
      ],
      "text/plain": [
       "$dataA\n",
       "[1] 3 2 1 3 2 1 3 2 1\n",
       "\n",
       "$dataB\n",
       "     [,1] [,2] [,3] [,4]\n",
       "[1,]    1    4    7   10\n",
       "[2,]    2    5    8   11\n",
       "[3,]    3    6    9   12\n"
      ]
     },
     "metadata": {},
     "output_type": "display_data"
    },
    {
     "data": {
      "text/html": [
       "<table>\n",
       "<tbody>\n",
       "\t<tr><td>1 </td><td>4 </td><td>7 </td><td>10</td></tr>\n",
       "\t<tr><td>2 </td><td>5 </td><td>8 </td><td>11</td></tr>\n",
       "\t<tr><td>3 </td><td>6 </td><td>9 </td><td>12</td></tr>\n",
       "</tbody>\n",
       "</table>\n"
      ],
      "text/latex": [
       "\\begin{tabular}{llll}\n",
       "\t 1  & 4  & 7  & 10\\\\\n",
       "\t 2  & 5  & 8  & 11\\\\\n",
       "\t 3  & 6  & 9  & 12\\\\\n",
       "\\end{tabular}\n"
      ],
      "text/markdown": [
       "\n",
       "| 1  | 4  | 7  | 10 |\n",
       "| 2  | 5  | 8  | 11 |\n",
       "| 3  | 6  | 9  | 12 |\n",
       "\n"
      ],
      "text/plain": [
       "     [,1] [,2] [,3] [,4]\n",
       "[1,] 1    4    7    10  \n",
       "[2,] 2    5    8    11  \n",
       "[3,] 3    6    9    12  "
      ]
     },
     "metadata": {},
     "output_type": "display_data"
    }
   ],
   "source": [
    "# myvector와 mymatrix를 요소로 갖는 list생성\n",
    "mylist <- list(dataA=myvector, dataB=mymatrix)\n",
    "mylist\n",
    "mylist$dataB"
   ]
  },
  {
   "cell_type": "code",
   "execution_count": null,
   "metadata": {},
   "outputs": [],
   "source": [
    "# 리스트자료\n",
    "member <- list(name=\"홍길동\", address=\"인천\", tel=\"010-9999-8888\", pay=3600)\n",
    "member\n",
    "member$name\n",
    "\n",
    "# 리스트조작\n",
    "member$tel\n",
    "member[1:3]\n",
    "\n",
    "# 리스트에 새로운 데이터를 추가 & 수정\n",
    "member$birthday <- '2020-05-01'\n",
    "member$name <- '소향'\n",
    "member\n",
    "\n",
    "# R"
   ]
  },
  {
   "cell_type": "markdown",
   "metadata": {},
   "source": [
    "###### 4) Dataframe(데이터프레임)\n",
    "\n",
    "데이터프레임은 `다양한 자료형으로 구성된 2차원형태의 데이터구조`이다. 행렬과 데이터프레임은 2차원형태는 동일하지만 다른점은 행렬은 동일한 자료형만 가능하지만 `데이터프레임은 서로 다른 자료형이라도 상관 없다.`\n",
    "\n",
    ">* 데이터프레임은 R에서 데이터분석을 수행할 때 가장 빈번히 사용되는 형식이다. 외부로 부터 R에 데이터를 불러올 때 사용하는 함수들은 불러들인 데이터를 모두 데이터프레임으로 변환시키기 때문이다. 데이터프레임은 `리스트이 한 종류`로 리스트에 포함된 모든 값이 길이가 같은 벡터일 때, 혹은 행의 수, 열의 수가 같은 행렬에 한해서 그 리스트를 `함수 data.frame()`를 이용해 데이터프레임으로 변환시 킬 수 있다.\n",
    "* 데이터프레임은 행렬의 집합으로써 생성할 수도 있지만, 많은 경우 벡터의 집합으로 사용된다. 같은 길이의 벡터의 집합인 데이터프레임은 각각의 벡터를 열 원소로 간주하는 표형식의 데이터로 생각할 수가 있어서 행단위, 열단위의 데이터의 추가, 삭제, 추출등의 조작을 할 수 있다. 또한 데이터프레임을 작성할 때 각 열과 행에는 `행의 이름`, `열의 이름`이 자동으로 부여된다. 열의 이름은 리스트의 참조용이름이 사용되며 행의 이름은 `함수 rownames()`, 열의 이름은 `함수 colnamas()`로 확인할 수 있으며 자유롭게 변경할 수 있다.\n",
    "\n",
    "###### Dataframe의 특징\n",
    ">* 데이터베이스의 테이블구조와 유사\n",
    "* 컬럼단위로 서로 다른 데이터자료형의 저장이 가능\n",
    "* 리스트와 벡터의 혼합형으로 컬럼은 리스트, 컬럼내의 데이터는 벡터자료 구조이다.\n",
    "* 생성함수 : `data.frame()`, `read.table()`, `read.csv()`\n",
    "* 처리함수 : `str()`, `ncol()`, `nrow()`, `apply()`, `summary()`, `subset()`등\n",
    "* 생성방법 : `Vector`, `matrix`, `파일(txt, xls, csv)`을 이용해서 생성"
   ]
  },
  {
   "cell_type": "code",
   "execution_count": 12,
   "metadata": {},
   "outputs": [
    {
     "data": {
      "text/html": [
       "<ol class=list-inline>\n",
       "\t<li>1</li>\n",
       "\t<li>2</li>\n",
       "\t<li>3</li>\n",
       "\t<li>4</li>\n",
       "\t<li>5</li>\n",
       "</ol>\n"
      ],
      "text/latex": [
       "\\begin{enumerate*}\n",
       "\\item 1\n",
       "\\item 2\n",
       "\\item 3\n",
       "\\item 4\n",
       "\\item 5\n",
       "\\end{enumerate*}\n"
      ],
      "text/markdown": [
       "1. 1\n",
       "2. 2\n",
       "3. 3\n",
       "4. 4\n",
       "5. 5\n",
       "\n",
       "\n"
      ],
      "text/plain": [
       "[1] 1 2 3 4 5"
      ]
     },
     "metadata": {},
     "output_type": "display_data"
    },
    {
     "data": {
      "text/html": [
       "<ol class=list-inline>\n",
       "\t<li>6</li>\n",
       "\t<li>7</li>\n",
       "\t<li>8</li>\n",
       "\t<li>9</li>\n",
       "\t<li>10</li>\n",
       "</ol>\n"
      ],
      "text/latex": [
       "\\begin{enumerate*}\n",
       "\\item 6\n",
       "\\item 7\n",
       "\\item 8\n",
       "\\item 9\n",
       "\\item 10\n",
       "\\end{enumerate*}\n"
      ],
      "text/markdown": [
       "1. 6\n",
       "2. 7\n",
       "3. 8\n",
       "4. 9\n",
       "5. 10\n",
       "\n",
       "\n"
      ],
      "text/plain": [
       "[1]  6  7  8  9 10"
      ]
     },
     "metadata": {},
     "output_type": "display_data"
    },
    {
     "data": {
      "text/html": [
       "<dl>\n",
       "\t<dt>$dataA</dt>\n",
       "\t\t<dd><ol class=list-inline>\n",
       "\t<li>1</li>\n",
       "\t<li>2</li>\n",
       "\t<li>3</li>\n",
       "\t<li>4</li>\n",
       "\t<li>5</li>\n",
       "</ol>\n",
       "</dd>\n",
       "\t<dt>$dataB</dt>\n",
       "\t\t<dd><ol class=list-inline>\n",
       "\t<li>6</li>\n",
       "\t<li>7</li>\n",
       "\t<li>8</li>\n",
       "\t<li>9</li>\n",
       "\t<li>10</li>\n",
       "</ol>\n",
       "</dd>\n",
       "</dl>\n"
      ],
      "text/latex": [
       "\\begin{description}\n",
       "\\item[\\$dataA] \\begin{enumerate*}\n",
       "\\item 1\n",
       "\\item 2\n",
       "\\item 3\n",
       "\\item 4\n",
       "\\item 5\n",
       "\\end{enumerate*}\n",
       "\n",
       "\\item[\\$dataB] \\begin{enumerate*}\n",
       "\\item 6\n",
       "\\item 7\n",
       "\\item 8\n",
       "\\item 9\n",
       "\\item 10\n",
       "\\end{enumerate*}\n",
       "\n",
       "\\end{description}\n"
      ],
      "text/markdown": [
       "$dataA\n",
       ":   1. 1\n",
       "2. 2\n",
       "3. 3\n",
       "4. 4\n",
       "5. 5\n",
       "\n",
       "\n",
       "\n",
       "$dataB\n",
       ":   1. 6\n",
       "2. 7\n",
       "3. 8\n",
       "4. 9\n",
       "5. 10\n",
       "\n",
       "\n",
       "\n",
       "\n",
       "\n"
      ],
      "text/plain": [
       "$dataA\n",
       "[1] 1 2 3 4 5\n",
       "\n",
       "$dataB\n",
       "[1]  6  7  8  9 10\n"
      ]
     },
     "metadata": {},
     "output_type": "display_data"
    },
    {
     "data": {
      "text/html": [
       "<table>\n",
       "<thead><tr><th scope=col>dataA</th><th scope=col>dataB</th></tr></thead>\n",
       "<tbody>\n",
       "\t<tr><td>1 </td><td> 6</td></tr>\n",
       "\t<tr><td>2 </td><td> 7</td></tr>\n",
       "\t<tr><td>3 </td><td> 8</td></tr>\n",
       "\t<tr><td>4 </td><td> 9</td></tr>\n",
       "\t<tr><td>5 </td><td>10</td></tr>\n",
       "</tbody>\n",
       "</table>\n"
      ],
      "text/latex": [
       "\\begin{tabular}{r|ll}\n",
       " dataA & dataB\\\\\n",
       "\\hline\n",
       "\t 1  &  6\\\\\n",
       "\t 2  &  7\\\\\n",
       "\t 3  &  8\\\\\n",
       "\t 4  &  9\\\\\n",
       "\t 5  & 10\\\\\n",
       "\\end{tabular}\n"
      ],
      "text/markdown": [
       "\n",
       "| dataA | dataB |\n",
       "|---|---|\n",
       "| 1  |  6 |\n",
       "| 2  |  7 |\n",
       "| 3  |  8 |\n",
       "| 4  |  9 |\n",
       "| 5  | 10 |\n",
       "\n"
      ],
      "text/plain": [
       "  dataA dataB\n",
       "1 1      6   \n",
       "2 2      7   \n",
       "3 3      8   \n",
       "4 4      9   \n",
       "5 5     10   "
      ]
     },
     "metadata": {},
     "output_type": "display_data"
    }
   ],
   "source": [
    "# 1. data.frame()\n",
    "v1 <- 1:5\n",
    "v2 <- 6:10\n",
    "v1\n",
    "v2\n",
    "mylist <- list(dataA=v1, dataB=v2)\n",
    "mylist\n",
    "\n",
    "# 데이터프레임생성\n",
    "data.frame(mylist)"
   ]
  },
  {
   "cell_type": "code",
   "execution_count": 13,
   "metadata": {},
   "outputs": [
    {
     "data": {
      "text/html": [
       "<ol class=list-inline>\n",
       "\t<li>'1'</li>\n",
       "\t<li>'2'</li>\n",
       "\t<li>'3'</li>\n",
       "\t<li>'4'</li>\n",
       "\t<li>'5'</li>\n",
       "</ol>\n"
      ],
      "text/latex": [
       "\\begin{enumerate*}\n",
       "\\item '1'\n",
       "\\item '2'\n",
       "\\item '3'\n",
       "\\item '4'\n",
       "\\item '5'\n",
       "\\end{enumerate*}\n"
      ],
      "text/markdown": [
       "1. '1'\n",
       "2. '2'\n",
       "3. '3'\n",
       "4. '4'\n",
       "5. '5'\n",
       "\n",
       "\n"
      ],
      "text/plain": [
       "[1] \"1\" \"2\" \"3\" \"4\" \"5\""
      ]
     },
     "metadata": {},
     "output_type": "display_data"
    },
    {
     "data": {
      "text/html": [
       "<ol class=list-inline>\n",
       "\t<li>'dataA'</li>\n",
       "\t<li>'dataB'</li>\n",
       "</ol>\n"
      ],
      "text/latex": [
       "\\begin{enumerate*}\n",
       "\\item 'dataA'\n",
       "\\item 'dataB'\n",
       "\\end{enumerate*}\n"
      ],
      "text/markdown": [
       "1. 'dataA'\n",
       "2. 'dataB'\n",
       "\n",
       "\n"
      ],
      "text/plain": [
       "[1] \"dataA\" \"dataB\""
      ]
     },
     "metadata": {},
     "output_type": "display_data"
    }
   ],
   "source": [
    "# 행, 열의 이름을 확인\n",
    "mydf <- data.frame(mylist)\n",
    "\n",
    "rownames(mydf) # 행이름을 아직 부여하지 않았기 때문에 순번으로 출력\n",
    "colnames(mydf)"
   ]
  },
  {
   "cell_type": "code",
   "execution_count": 14,
   "metadata": {},
   "outputs": [
    {
     "data": {
      "text/html": [
       "<table>\n",
       "<thead><tr><th scope=col>No</th><th scope=col>Name</th><th scope=col>Price</th><th scope=col>QTY</th></tr></thead>\n",
       "<tbody>\n",
       "\t<tr><td>1     </td><td>사과  </td><td>500   </td><td>5     </td></tr>\n",
       "\t<tr><td>2     </td><td>바나나</td><td>200   </td><td>2     </td></tr>\n",
       "\t<tr><td>3     </td><td>복숭아</td><td>300   </td><td>7     </td></tr>\n",
       "\t<tr><td>4     </td><td>딸기  </td><td>100   </td><td>9     </td></tr>\n",
       "</tbody>\n",
       "</table>\n"
      ],
      "text/latex": [
       "\\begin{tabular}{r|llll}\n",
       " No & Name & Price & QTY\\\\\n",
       "\\hline\n",
       "\t 1      & 사과   & 500    & 5     \\\\\n",
       "\t 2      & 바나나 & 200    & 2     \\\\\n",
       "\t 3      & 복숭아 & 300    & 7     \\\\\n",
       "\t 4      & 딸기   & 100    & 9     \\\\\n",
       "\\end{tabular}\n"
      ],
      "text/markdown": [
       "\n",
       "| No | Name | Price | QTY |\n",
       "|---|---|---|---|\n",
       "| 1      | 사과   | 500    | 5      |\n",
       "| 2      | 바나나 | 200    | 2      |\n",
       "| 3      | 복숭아 | 300    | 7      |\n",
       "| 4      | 딸기   | 100    | 9      |\n",
       "\n"
      ],
      "text/plain": [
       "  No Name   Price QTY\n",
       "1 1  사과   500   5  \n",
       "2 2  바나나 200   2  \n",
       "3 3  복숭아 300   7  \n",
       "4 4  딸기   100   9  "
      ]
     },
     "metadata": {},
     "output_type": "display_data"
    },
    {
     "data": {
      "text/html": [
       "<table>\n",
       "<thead><tr><th scope=col>No</th><th scope=col>Name</th><th scope=col>Price</th><th scope=col>QTY</th></tr></thead>\n",
       "<tbody>\n",
       "\t<tr><td>1   </td><td>사과</td><td>500 </td><td>5   </td></tr>\n",
       "</tbody>\n",
       "</table>\n"
      ],
      "text/latex": [
       "\\begin{tabular}{r|llll}\n",
       " No & Name & Price & QTY\\\\\n",
       "\\hline\n",
       "\t 1    & 사과 & 500  & 5   \\\\\n",
       "\\end{tabular}\n"
      ],
      "text/markdown": [
       "\n",
       "| No | Name | Price | QTY |\n",
       "|---|---|---|---|\n",
       "| 1    | 사과 | 500  | 5    |\n",
       "\n"
      ],
      "text/plain": [
       "  No Name Price QTY\n",
       "1 1  사과 500   5  "
      ]
     },
     "metadata": {},
     "output_type": "display_data"
    },
    {
     "data": {
      "text/html": [
       "<ol class=list-inline>\n",
       "\t<li>사과</li>\n",
       "\t<li>바나나</li>\n",
       "\t<li>복숭아</li>\n",
       "\t<li>딸기</li>\n",
       "</ol>\n",
       "\n",
       "<details>\n",
       "\t<summary style=display:list-item;cursor:pointer>\n",
       "\t\t<strong>Levels</strong>:\n",
       "\t</summary>\n",
       "\t<ol class=list-inline>\n",
       "\t\t<li>'딸기'</li>\n",
       "\t\t<li>'바나나'</li>\n",
       "\t\t<li>'복숭아'</li>\n",
       "\t\t<li>'사과'</li>\n",
       "\t</ol>\n",
       "</details>"
      ],
      "text/latex": [
       "\\begin{enumerate*}\n",
       "\\item 사과\n",
       "\\item 바나나\n",
       "\\item 복숭아\n",
       "\\item 딸기\n",
       "\\end{enumerate*}\n",
       "\n",
       "\\emph{Levels}: \\begin{enumerate*}\n",
       "\\item '딸기'\n",
       "\\item '바나나'\n",
       "\\item '복숭아'\n",
       "\\item '사과'\n",
       "\\end{enumerate*}\n"
      ],
      "text/markdown": [
       "1. 사과\n",
       "2. 바나나\n",
       "3. 복숭아\n",
       "4. 딸기\n",
       "\n",
       "\n",
       "\n",
       "**Levels**: 1. '딸기'\n",
       "2. '바나나'\n",
       "3. '복숭아'\n",
       "4. '사과'\n",
       "\n",
       "\n"
      ],
      "text/plain": [
       "[1] 사과   바나나 복숭아 딸기  \n",
       "Levels: 딸기 바나나 복숭아 사과"
      ]
     },
     "metadata": {},
     "output_type": "display_data"
    },
    {
     "data": {
      "text/html": [
       "<table>\n",
       "<thead><tr><th scope=col>No</th><th scope=col>Price</th><th scope=col>QTY</th></tr></thead>\n",
       "<tbody>\n",
       "\t<tr><td>1  </td><td>500</td><td>5  </td></tr>\n",
       "\t<tr><td>2  </td><td>200</td><td>2  </td></tr>\n",
       "\t<tr><td>3  </td><td>300</td><td>7  </td></tr>\n",
       "\t<tr><td>4  </td><td>100</td><td>9  </td></tr>\n",
       "</tbody>\n",
       "</table>\n"
      ],
      "text/latex": [
       "\\begin{tabular}{r|lll}\n",
       " No & Price & QTY\\\\\n",
       "\\hline\n",
       "\t 1   & 500 & 5  \\\\\n",
       "\t 2   & 200 & 2  \\\\\n",
       "\t 3   & 300 & 7  \\\\\n",
       "\t 4   & 100 & 9  \\\\\n",
       "\\end{tabular}\n"
      ],
      "text/markdown": [
       "\n",
       "| No | Price | QTY |\n",
       "|---|---|---|\n",
       "| 1   | 500 | 5   |\n",
       "| 2   | 200 | 2   |\n",
       "| 3   | 300 | 7   |\n",
       "| 4   | 100 | 9   |\n",
       "\n"
      ],
      "text/plain": [
       "  No Price QTY\n",
       "1 1  500   5  \n",
       "2 2  200   2  \n",
       "3 3  300   7  \n",
       "4 4  100   9  "
      ]
     },
     "metadata": {},
     "output_type": "display_data"
    }
   ],
   "source": [
    "# 2. data.frame() : 다양한 자료형으로 구성된 df\n",
    "no <- c(1,2,3,4)\n",
    "name <- c('사과', '바나나', '복숭아', '딸기')\n",
    "prices <- c(500, 200, 300, 100)\n",
    "qty <- c(5,2,7,9)\n",
    "\n",
    "# 상기의 벡터들을 데이터프레임으로 생성 \n",
    "# 다양한 자료형을 모아서 구성된 행력\n",
    "fruit <- data.frame(No=no, Name=name, Price=prices, QTY=qty)\n",
    "fruit\n",
    "\n",
    "# 데이터프레임의 조작\n",
    "fruit[1,] # 1행의 모든 열\n",
    "fruit[,2] # 모든행의 2번열\n",
    "fruit[,-2] # 모든행의 -2번열부터 끝까지"
   ]
  },
  {
   "cell_type": "code",
   "execution_count": 15,
   "metadata": {},
   "outputs": [
    {
     "name": "stdout",
     "output_type": "stream",
     "text": [
      "'data.frame':\t4 obs. of  4 variables:\n",
      " $ No   : num  1 2 3 4\n",
      " $ Name : Factor w/ 4 levels \"딸기\",\"바나나\",..: 4 2 3 1\n",
      " $ Price: num  500 200 300 100\n",
      " $ QTY  : num  5 2 7 9\n"
     ]
    }
   ],
   "source": [
    "# 3. str()\n",
    "str(fruit)"
   ]
  },
  {
   "cell_type": "code",
   "execution_count": 16,
   "metadata": {},
   "outputs": [
    {
     "data": {
      "text/plain": [
       "       No           Name       Price          QTY      \n",
       " Min.   :1.00   딸기  :1   Min.   :100   Min.   :2.00  \n",
       " 1st Qu.:1.75   바나나:1   1st Qu.:175   1st Qu.:4.25  \n",
       " Median :2.50   복숭아:1   Median :250   Median :6.00  \n",
       " Mean   :2.50   사과  :1   Mean   :275   Mean   :5.75  \n",
       " 3rd Qu.:3.25              3rd Qu.:350   3rd Qu.:7.50  \n",
       " Max.   :4.00              Max.   :500   Max.   :9.00  "
      ]
     },
     "metadata": {},
     "output_type": "display_data"
    }
   ],
   "source": [
    "# 4. summary() : 기초통계량정보\n",
    "summary(fruit)"
   ]
  },
  {
   "cell_type": "code",
   "execution_count": 17,
   "metadata": {},
   "outputs": [
    {
     "data": {
      "text/html": [
       "<dl class=dl-horizontal>\n",
       "\t<dt>Price</dt>\n",
       "\t\t<dd>1100</dd>\n",
       "\t<dt>QTY</dt>\n",
       "\t\t<dd>23</dd>\n",
       "</dl>\n"
      ],
      "text/latex": [
       "\\begin{description*}\n",
       "\\item[Price] 1100\n",
       "\\item[QTY] 23\n",
       "\\end{description*}\n"
      ],
      "text/markdown": [
       "Price\n",
       ":   1100QTY\n",
       ":   23\n",
       "\n"
      ],
      "text/plain": [
       "Price   QTY \n",
       " 1100    23 "
      ]
     },
     "metadata": {},
     "output_type": "display_data"
    }
   ],
   "source": [
    "# 5. apply()\n",
    "apply(fruit[,c(3,4)], 2, sum)"
   ]
  },
  {
   "cell_type": "code",
   "execution_count": 18,
   "metadata": {},
   "outputs": [
    {
     "data": {
      "text/html": [
       "<table>\n",
       "<thead><tr><th scope=col>No</th><th scope=col>Name</th><th scope=col>Price</th><th scope=col>QTY</th></tr></thead>\n",
       "<tbody>\n",
       "\t<tr><td>1   </td><td>사과</td><td>500 </td><td>5   </td></tr>\n",
       "</tbody>\n",
       "</table>\n"
      ],
      "text/latex": [
       "\\begin{tabular}{r|llll}\n",
       " No & Name & Price & QTY\\\\\n",
       "\\hline\n",
       "\t 1    & 사과 & 500  & 5   \\\\\n",
       "\\end{tabular}\n"
      ],
      "text/markdown": [
       "\n",
       "| No | Name | Price | QTY |\n",
       "|---|---|---|---|\n",
       "| 1    | 사과 | 500  | 5    |\n",
       "\n"
      ],
      "text/plain": [
       "  No Name Price QTY\n",
       "1 1  사과 500   5  "
      ]
     },
     "metadata": {},
     "output_type": "display_data"
    }
   ],
   "source": [
    "# 6. subset()\n",
    "subset(fruit, Price>300)"
   ]
  },
  {
   "cell_type": "code",
   "execution_count": 19,
   "metadata": {},
   "outputs": [
    {
     "data": {
      "text/html": [
       "<table>\n",
       "<thead><tr><th scope=col>Supplier.Name</th><th scope=col>Invoice.Number</th><th scope=col>Part.Number</th><th scope=col>Cost</th><th scope=col>Purchase.Date</th></tr></thead>\n",
       "<tbody>\n",
       "\t<tr><td>A         </td><td>001-1001  </td><td>2341      </td><td>500       </td><td>2014-01-20</td></tr>\n",
       "\t<tr><td>A         </td><td>001-1001  </td><td>2341      </td><td>500       </td><td>2014-01-20</td></tr>\n",
       "\t<tr><td>A         </td><td>001-1001  </td><td>2342      </td><td>750       </td><td>2014-01-20</td></tr>\n",
       "\t<tr><td>A         </td><td>001-1001  </td><td>2342      </td><td>750       </td><td>2014-01-20</td></tr>\n",
       "\t<tr><td>B         </td><td>50-9501   </td><td>7009      </td><td>250       </td><td>2018-01-30</td></tr>\n",
       "\t<tr><td>B         </td><td>50-9501   </td><td>7009      </td><td>250       </td><td>2018-01-30</td></tr>\n",
       "\t<tr><td>B         </td><td>50-9501   </td><td>6650      </td><td>125       </td><td>2018-02-03</td></tr>\n",
       "\t<tr><td>B         </td><td>50-9501   </td><td>6650      </td><td> 12       </td><td>2018-02-03</td></tr>\n",
       "\t<tr><td>C         </td><td>920-4803  </td><td>3321      </td><td>615       </td><td>2017-02-03</td></tr>\n",
       "\t<tr><td>C         </td><td>920-4804  </td><td>3321      </td><td>615       </td><td>2017-02-10</td></tr>\n",
       "\t<tr><td>C         </td><td>920-4805  </td><td>3321      </td><td>615       </td><td>2017-02-17</td></tr>\n",
       "\t<tr><td>C         </td><td>920-4806  </td><td>3321      </td><td>615       </td><td>2014-01-22</td></tr>\n",
       "</tbody>\n",
       "</table>\n"
      ],
      "text/latex": [
       "\\begin{tabular}{r|lllll}\n",
       " Supplier.Name & Invoice.Number & Part.Number & Cost & Purchase.Date\\\\\n",
       "\\hline\n",
       "\t A          & 001-1001   & 2341       & 500        & 2014-01-20\\\\\n",
       "\t A          & 001-1001   & 2341       & 500        & 2014-01-20\\\\\n",
       "\t A          & 001-1001   & 2342       & 750        & 2014-01-20\\\\\n",
       "\t A          & 001-1001   & 2342       & 750        & 2014-01-20\\\\\n",
       "\t B          & 50-9501    & 7009       & 250        & 2018-01-30\\\\\n",
       "\t B          & 50-9501    & 7009       & 250        & 2018-01-30\\\\\n",
       "\t B          & 50-9501    & 6650       & 125        & 2018-02-03\\\\\n",
       "\t B          & 50-9501    & 6650       &  12        & 2018-02-03\\\\\n",
       "\t C          & 920-4803   & 3321       & 615        & 2017-02-03\\\\\n",
       "\t C          & 920-4804   & 3321       & 615        & 2017-02-10\\\\\n",
       "\t C          & 920-4805   & 3321       & 615        & 2017-02-17\\\\\n",
       "\t C          & 920-4806   & 3321       & 615        & 2014-01-22\\\\\n",
       "\\end{tabular}\n"
      ],
      "text/markdown": [
       "\n",
       "| Supplier.Name | Invoice.Number | Part.Number | Cost | Purchase.Date |\n",
       "|---|---|---|---|---|\n",
       "| A          | 001-1001   | 2341       | 500        | 2014-01-20 |\n",
       "| A          | 001-1001   | 2341       | 500        | 2014-01-20 |\n",
       "| A          | 001-1001   | 2342       | 750        | 2014-01-20 |\n",
       "| A          | 001-1001   | 2342       | 750        | 2014-01-20 |\n",
       "| B          | 50-9501    | 7009       | 250        | 2018-01-30 |\n",
       "| B          | 50-9501    | 7009       | 250        | 2018-01-30 |\n",
       "| B          | 50-9501    | 6650       | 125        | 2018-02-03 |\n",
       "| B          | 50-9501    | 6650       |  12        | 2018-02-03 |\n",
       "| C          | 920-4803   | 3321       | 615        | 2017-02-03 |\n",
       "| C          | 920-4804   | 3321       | 615        | 2017-02-10 |\n",
       "| C          | 920-4805   | 3321       | 615        | 2017-02-17 |\n",
       "| C          | 920-4806   | 3321       | 615        | 2014-01-22 |\n",
       "\n"
      ],
      "text/plain": [
       "   Supplier.Name Invoice.Number Part.Number Cost Purchase.Date\n",
       "1  A             001-1001       2341        500  2014-01-20   \n",
       "2  A             001-1001       2341        500  2014-01-20   \n",
       "3  A             001-1001       2342        750  2014-01-20   \n",
       "4  A             001-1001       2342        750  2014-01-20   \n",
       "5  B             50-9501        7009        250  2018-01-30   \n",
       "6  B             50-9501        7009        250  2018-01-30   \n",
       "7  B             50-9501        6650        125  2018-02-03   \n",
       "8  B             50-9501        6650         12  2018-02-03   \n",
       "9  C             920-4803       3321        615  2017-02-03   \n",
       "10 C             920-4804       3321        615  2017-02-10   \n",
       "11 C             920-4805       3321        615  2017-02-17   \n",
       "12 C             920-4806       3321        615  2014-01-22   "
      ]
     },
     "metadata": {},
     "output_type": "display_data"
    }
   ],
   "source": [
    "# 7. read.csv()\n",
    "read.csv('../data/input.csv', header = T)"
   ]
  },
  {
   "cell_type": "markdown",
   "metadata": {},
   "source": [
    "###### factor와 level\n",
    "\n",
    ">* 벡터의 특수한 형태로 설문조사의 선택문항등 카테고리를 저장할 수 있는 벡터인 `factor`라는 형태가 있다. factor는 벡터를 기본으로 하여 `함수 factor()`를 이용하여 작성할 수 있다.\n",
    "* factor()함수에서는 그 기본이 되는 `벡터와 levels`인수에 의해 factor의 레벨(혹은 이름)을 지정한다. level은 factor에 포함된 카테고리의 목록이라 할 수 있다. \n",
    "* factor와 vector의 내용을 R에서 출력해 보면 `factor는 벡터에 레벨정보를 추가`한 것임을 알 수 있다.\n",
    "* R에서는 이 레벨정보를 이용해 카테고리별 단순집계나 그래프를 그리기때문에 카테고리변수는 가능한 벡터가 아닌 `factor로 변환`해 놓는 것이 좋다.\n",
    "* factor와 벡터는 외형상 큰 차이는 없어 보이지만 R의 내부에서는 매우 다른 형태로 취급한다.\n",
    "* 벡터를 숫자로 변환하는 함수 `as.numeric()`함수를 이용하면 factor는 `level의 순서에 따라 그 값이 존재`하지만, 문자형벡터는 그렇지가 않다."
   ]
  },
  {
   "cell_type": "code",
   "execution_count": 20,
   "metadata": {},
   "outputs": [
    {
     "data": {
      "text/html": [
       "<ol class=list-inline>\n",
       "\t<li>'A'</li>\n",
       "\t<li>'C'</li>\n",
       "\t<li>'B'</li>\n",
       "\t<li>'A'</li>\n",
       "\t<li>'A'</li>\n",
       "\t<li>'C'</li>\n",
       "\t<li>'B'</li>\n",
       "</ol>\n"
      ],
      "text/latex": [
       "\\begin{enumerate*}\n",
       "\\item 'A'\n",
       "\\item 'C'\n",
       "\\item 'B'\n",
       "\\item 'A'\n",
       "\\item 'A'\n",
       "\\item 'C'\n",
       "\\item 'B'\n",
       "\\end{enumerate*}\n"
      ],
      "text/markdown": [
       "1. 'A'\n",
       "2. 'C'\n",
       "3. 'B'\n",
       "4. 'A'\n",
       "5. 'A'\n",
       "6. 'C'\n",
       "7. 'B'\n",
       "\n",
       "\n"
      ],
      "text/plain": [
       "[1] \"A\" \"C\" \"B\" \"A\" \"A\" \"C\" \"B\""
      ]
     },
     "metadata": {},
     "output_type": "display_data"
    },
    {
     "data": {
      "text/html": [
       "<ol class=list-inline>\n",
       "\t<li>A</li>\n",
       "\t<li>C</li>\n",
       "\t<li>B</li>\n",
       "\t<li>A</li>\n",
       "\t<li>A</li>\n",
       "\t<li>C</li>\n",
       "\t<li>B</li>\n",
       "</ol>\n",
       "\n",
       "<details>\n",
       "\t<summary style=display:list-item;cursor:pointer>\n",
       "\t\t<strong>Levels</strong>:\n",
       "\t</summary>\n",
       "\t<ol class=list-inline>\n",
       "\t\t<li>'A'</li>\n",
       "\t\t<li>'B'</li>\n",
       "\t\t<li>'C'</li>\n",
       "\t</ol>\n",
       "</details>"
      ],
      "text/latex": [
       "\\begin{enumerate*}\n",
       "\\item A\n",
       "\\item C\n",
       "\\item B\n",
       "\\item A\n",
       "\\item A\n",
       "\\item C\n",
       "\\item B\n",
       "\\end{enumerate*}\n",
       "\n",
       "\\emph{Levels}: \\begin{enumerate*}\n",
       "\\item 'A'\n",
       "\\item 'B'\n",
       "\\item 'C'\n",
       "\\end{enumerate*}\n"
      ],
      "text/markdown": [
       "1. A\n",
       "2. C\n",
       "3. B\n",
       "4. A\n",
       "5. A\n",
       "6. C\n",
       "7. B\n",
       "\n",
       "\n",
       "\n",
       "**Levels**: 1. 'A'\n",
       "2. 'B'\n",
       "3. 'C'\n",
       "\n",
       "\n"
      ],
      "text/plain": [
       "[1] A C B A A C B\n",
       "Levels: A B C"
      ]
     },
     "metadata": {},
     "output_type": "display_data"
    },
    {
     "name": "stderr",
     "output_type": "stream",
     "text": [
      "Warning message in eval(expr, envir, enclos):\n",
      "\"강제형변환에 의해 생성된 NA 입니다\""
     ]
    },
    {
     "data": {
      "text/html": [
       "<ol class=list-inline>\n",
       "\t<li>&lt;NA&gt;</li>\n",
       "\t<li>&lt;NA&gt;</li>\n",
       "\t<li>&lt;NA&gt;</li>\n",
       "\t<li>&lt;NA&gt;</li>\n",
       "\t<li>&lt;NA&gt;</li>\n",
       "\t<li>&lt;NA&gt;</li>\n",
       "\t<li>&lt;NA&gt;</li>\n",
       "</ol>\n"
      ],
      "text/latex": [
       "\\begin{enumerate*}\n",
       "\\item <NA>\n",
       "\\item <NA>\n",
       "\\item <NA>\n",
       "\\item <NA>\n",
       "\\item <NA>\n",
       "\\item <NA>\n",
       "\\item <NA>\n",
       "\\end{enumerate*}\n"
      ],
      "text/markdown": [
       "1. &lt;NA&gt;\n",
       "2. &lt;NA&gt;\n",
       "3. &lt;NA&gt;\n",
       "4. &lt;NA&gt;\n",
       "5. &lt;NA&gt;\n",
       "6. &lt;NA&gt;\n",
       "7. &lt;NA&gt;\n",
       "\n",
       "\n"
      ],
      "text/plain": [
       "[1] NA NA NA NA NA NA NA"
      ]
     },
     "metadata": {},
     "output_type": "display_data"
    },
    {
     "data": {
      "text/html": [
       "<ol class=list-inline>\n",
       "\t<li>1</li>\n",
       "\t<li>3</li>\n",
       "\t<li>2</li>\n",
       "\t<li>1</li>\n",
       "\t<li>1</li>\n",
       "\t<li>3</li>\n",
       "\t<li>2</li>\n",
       "</ol>\n"
      ],
      "text/latex": [
       "\\begin{enumerate*}\n",
       "\\item 1\n",
       "\\item 3\n",
       "\\item 2\n",
       "\\item 1\n",
       "\\item 1\n",
       "\\item 3\n",
       "\\item 2\n",
       "\\end{enumerate*}\n"
      ],
      "text/markdown": [
       "1. 1\n",
       "2. 3\n",
       "3. 2\n",
       "4. 1\n",
       "5. 1\n",
       "6. 3\n",
       "7. 2\n",
       "\n",
       "\n"
      ],
      "text/plain": [
       "[1] 1 3 2 1 1 3 2"
      ]
     },
     "metadata": {},
     "output_type": "display_data"
    }
   ],
   "source": [
    "xv <- c(\"A\",\"C\",\"B\", \"A\", \"A\", \"C\",\"B\")\n",
    "xv\n",
    "\n",
    "x <- factor(xv, levels=c(\"A\", \"B\", \"C\"))\n",
    "x\n",
    "\n",
    "# 벡터 vs factor\n",
    "as.numeric(xv)\n",
    "as.numeric(x)"
   ]
  },
  {
   "cell_type": "code",
   "execution_count": 21,
   "metadata": {},
   "outputs": [
    {
     "data": {
      "text/html": [
       "<ol class=list-inline>\n",
       "\t<li>'사과'</li>\n",
       "\t<li>'복숭아'</li>\n",
       "\t<li>'사과'</li>\n",
       "\t<li>'오렌지'</li>\n",
       "\t<li>'사과'</li>\n",
       "\t<li>'오렌지'</li>\n",
       "\t<li>'복숭아'</li>\n",
       "</ol>\n"
      ],
      "text/latex": [
       "\\begin{enumerate*}\n",
       "\\item '사과'\n",
       "\\item '복숭아'\n",
       "\\item '사과'\n",
       "\\item '오렌지'\n",
       "\\item '사과'\n",
       "\\item '오렌지'\n",
       "\\item '복숭아'\n",
       "\\end{enumerate*}\n"
      ],
      "text/markdown": [
       "1. '사과'\n",
       "2. '복숭아'\n",
       "3. '사과'\n",
       "4. '오렌지'\n",
       "5. '사과'\n",
       "6. '오렌지'\n",
       "7. '복숭아'\n",
       "\n",
       "\n"
      ],
      "text/plain": [
       "[1] \"사과\"   \"복숭아\" \"사과\"   \"오렌지\" \"사과\"   \"오렌지\" \"복숭아\""
      ]
     },
     "metadata": {},
     "output_type": "display_data"
    },
    {
     "data": {
      "text/html": [
       "<ol class=list-inline>\n",
       "\t<li>사과</li>\n",
       "\t<li>복숭아</li>\n",
       "\t<li>사과</li>\n",
       "\t<li>오렌지</li>\n",
       "\t<li>사과</li>\n",
       "\t<li>오렌지</li>\n",
       "\t<li>복숭아</li>\n",
       "</ol>\n",
       "\n",
       "<details>\n",
       "\t<summary style=display:list-item;cursor:pointer>\n",
       "\t\t<strong>Levels</strong>:\n",
       "\t</summary>\n",
       "\t<ol class=list-inline>\n",
       "\t\t<li>'복숭아'</li>\n",
       "\t\t<li>'사과'</li>\n",
       "\t\t<li>'오렌지'</li>\n",
       "\t</ol>\n",
       "</details>"
      ],
      "text/latex": [
       "\\begin{enumerate*}\n",
       "\\item 사과\n",
       "\\item 복숭아\n",
       "\\item 사과\n",
       "\\item 오렌지\n",
       "\\item 사과\n",
       "\\item 오렌지\n",
       "\\item 복숭아\n",
       "\\end{enumerate*}\n",
       "\n",
       "\\emph{Levels}: \\begin{enumerate*}\n",
       "\\item '복숭아'\n",
       "\\item '사과'\n",
       "\\item '오렌지'\n",
       "\\end{enumerate*}\n"
      ],
      "text/markdown": [
       "1. 사과\n",
       "2. 복숭아\n",
       "3. 사과\n",
       "4. 오렌지\n",
       "5. 사과\n",
       "6. 오렌지\n",
       "7. 복숭아\n",
       "\n",
       "\n",
       "\n",
       "**Levels**: 1. '복숭아'\n",
       "2. '사과'\n",
       "3. '오렌지'\n",
       "\n",
       "\n"
      ],
      "text/plain": [
       "[1] 사과   복숭아 사과   오렌지 사과   오렌지 복숭아\n",
       "Levels: 복숭아 사과 오렌지"
      ]
     },
     "metadata": {},
     "output_type": "display_data"
    },
    {
     "name": "stdout",
     "output_type": "stream",
     "text": [
      "[1] 사과   복숭아 사과   오렌지 사과   오렌지 복숭아\n",
      "Levels: 복숭아 사과 오렌지\n",
      "[1] 사과   복숭아 사과   오렌지 사과   오렌지 복숭아\n",
      "Levels: 복숭아 < 사과 < 오렌지\n",
      "[1] 사과   복숭아 사과   <NA>   사과   <NA>   복숭아\n",
      "Levels: 사과 < 복숭아\n",
      "[1] 사과   복숭아 사과   <NA>   사과   <NA>   복숭아\n",
      "Levels: 사과 복숭아\n"
     ]
    }
   ],
   "source": [
    "# factor(x, levels, ordered)\n",
    "# x : factor로 변환할 vector데이터\n",
    "# levels : 입력한 x의 데이터를 범주형으로 정의한 벡터자료형, 범주의 순서도 정의 가능\n",
    "# ordered : 서열형 데이터인 경우 TRUE로 설정(기본값은 FALSE, 명목형)\n",
    "\n",
    "# factor로 변환할 vector\n",
    "v_character <- c(\"사과\", \"복숭아\",\"사과\", \"오렌지\",\"사과\", \"오렌지\",\"복숭아\")\n",
    "v_character\n",
    "v_factor <- factor(v_character)\n",
    "v_factor\n",
    "print(v_factor)\n",
    "\n",
    "# ordered\n",
    "v_factor <- factor(v_character, ordered=T)\n",
    "print(v_factor)\n",
    "\n",
    "v_factor <- factor(v_character, levels=c('사과', '복숭아'), ordered=T)\n",
    "print(v_factor)\n",
    "\n",
    "v_factor <- factor(v_character, levels=c('사과', '복숭아'))\n",
    "print(v_factor)"
   ]
  },
  {
   "cell_type": "code",
   "execution_count": null,
   "metadata": {},
   "outputs": [],
   "source": []
  }
 ],
 "metadata": {
  "kernelspec": {
   "display_name": "R",
   "language": "R",
   "name": "ir"
  },
  "language_info": {
   "codemirror_mode": "r",
   "file_extension": ".r",
   "mimetype": "text/x-r-source",
   "name": "R",
   "pygments_lexer": "r",
   "version": "3.6.1"
  }
 },
 "nbformat": 4,
 "nbformat_minor": 4
}
