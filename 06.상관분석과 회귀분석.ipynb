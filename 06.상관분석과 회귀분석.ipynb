{
 "cells": [
  {
   "cell_type": "markdown",
   "metadata": {},
   "source": [
    "### 상관분석과 회귀분석\n",
    "\n",
    "#### 1. 상관분석\n",
    "\n",
    "##### 상관계수\n",
    "\n",
    ">* `피어슨상관계수` : 두 변수간의 관련성을 위해서 보편적으로 사용됨\n",
    " - 일반적으로 r의 값이\n",
    "   - -1.0 ~ -0.7 : 강한상관관계(음), -0.7~0.3 : 뚜렷, -0.3~-0.1 약한, -0.1~0.1 무시\n",
    "   - 0.7 ~ 1.0 : 강한상관관계(양), 0.3~0.7 : 뚜렷, 0.1~0.3 약한  \n",
    "   \n",
    "* `스피어맨상관계수` : 데이터가 서열척도인 경우 즉, 자료의 값대신에 순위를 이용하는 경우\n",
    " - 두 변수간의 연관관계의 유무를 판단할 때 유용한다.\n",
    " - -1 ~ 1사이의 값을 가지는데 `두 변수안의 순위`가 완전히 일치하면 +1, 반대이면 -1"
   ]
  },
  {
   "cell_type": "code",
   "execution_count": 1,
   "metadata": {},
   "outputs": [
    {
     "data": {
      "text/html": [
       "6"
      ],
      "text/latex": [
       "6"
      ],
      "text/markdown": [
       "6"
      ],
      "text/plain": [
       "[1] 6"
      ]
     },
     "metadata": {},
     "output_type": "display_data"
    },
    {
     "data": {
      "text/html": [
       "0.96936309217407"
      ],
      "text/latex": [
       "0.96936309217407"
      ],
      "text/markdown": [
       "0.96936309217407"
      ],
      "text/plain": [
       "[1] 0.9693631"
      ]
     },
     "metadata": {},
     "output_type": "display_data"
    },
    {
     "data": {
      "text/html": [
       "1"
      ],
      "text/latex": [
       "1"
      ],
      "text/markdown": [
       "1"
      ],
      "text/plain": [
       "[1] 1"
      ]
     },
     "metadata": {},
     "output_type": "display_data"
    }
   ],
   "source": [
    "x <- c(0,1,4,9,16)\n",
    "mean(x)\n",
    "y <- c(1,2,3,4)\n",
    "z <- c(0,5,7,9)\n",
    "\n",
    "# y, z간의 상관관계?\n",
    "# cor() \n",
    "# 절대값 1에 가까울 수록 상관관계가 높음, 0에 가까울 수록 상관관계가 낮음\n",
    "cor(y,z,method='pearson')\n",
    "cor(y,z,method='spearman')"
   ]
  },
  {
   "cell_type": "markdown",
   "metadata": {},
   "source": [
    "#### 실습 1. 담배값의 인상이 흡연에 미치는 영향 분석\n",
    "\n",
    "* 귀무가설 : 담배값인상과 흡연과 상관관계가 없다.\n",
    "* 대립가설 : 담배값인상과 흡연과 상관관계가 있다.\n",
    "\n",
    "샘플데이터\n",
    "인상전 매출액: 70,72,62,64,71,76,0,65,74,72\n",
    "인상후 매출액: 70,74,65,68,72,74,61,66,76,75      "
   ]
  },
  {
   "cell_type": "code",
   "execution_count": 2,
   "metadata": {},
   "outputs": [
    {
     "data": {
      "text/html": [
       "0.772926356405338"
      ],
      "text/latex": [
       "0.772926356405338"
      ],
      "text/markdown": [
       "0.772926356405338"
      ],
      "text/plain": [
       "[1] 0.7729264"
      ]
     },
     "metadata": {},
     "output_type": "display_data"
    },
    {
     "data": {
      "text/html": [
       "0.929878048780488"
      ],
      "text/latex": [
       "0.929878048780488"
      ],
      "text/markdown": [
       "0.929878048780488"
      ],
      "text/plain": [
       "[1] 0.929878"
      ]
     },
     "metadata": {},
     "output_type": "display_data"
    },
    {
     "name": "stderr",
     "output_type": "stream",
     "text": [
      "Warning message in cor.test.default(x, y, method = \"spearman\"):\n",
      "\"Cannot compute exact p-value with ties\""
     ]
    },
    {
     "data": {
      "text/plain": [
       "\n",
       "\tSpearman's rank correlation rho\n",
       "\n",
       "data:  x and y\n",
       "S = 11.57, p-value = 9.713e-05\n",
       "alternative hypothesis: true rho is not equal to 0\n",
       "sample estimates:\n",
       "     rho \n",
       "0.929878 \n"
      ]
     },
     "metadata": {},
     "output_type": "display_data"
    }
   ],
   "source": [
    "x <- c(70,72,62,64,71,76,0,65,74,72)   # 인상전 매출액\n",
    "y <- c(70,74,65,68,72,74,61,66,76,75)  # 인상후 매출액\n",
    "\n",
    "cor(x, y, method='pearson') \n",
    "cor(x, y, method='spearman') \n",
    "cor.test(x, y, method='spearman') \n",
    "# 결과분석\n",
    "# p-value가 0.77, s-value 0.92\n",
    "# cor(상관계수) 0.77 (양의 상관관계) : \n",
    "# 담배인상과 흡연과의 상관관계가 있다. 즉, 대립가설을 채택"
   ]
  },
  {
   "cell_type": "markdown",
   "metadata": {},
   "source": [
    "#### 2. 회귀분석\n",
    "\n",
    "* 독립변수가 증가할 때 종속변수에 미치는 영향을 측정하기 위한 통계적 예측모형"
   ]
  },
  {
   "cell_type": "code",
   "execution_count": 4,
   "metadata": {},
   "outputs": [
    {
     "data": {
      "text/html": [
       "<table>\n",
       "<thead><tr><th scope=col>age</th><th scope=col>height</th><th scope=col>weight</th></tr></thead>\n",
       "<tbody>\n",
       "\t<tr><td>0~3개월  </td><td>59.1     </td><td> 5.9     </td></tr>\n",
       "\t<tr><td>3~6개월  </td><td>66.7     </td><td> 8.0     </td></tr>\n",
       "\t<tr><td>6~9개월  </td><td>71.4     </td><td> 8.9     </td></tr>\n",
       "\t<tr><td>9~12개월 </td><td>75.0     </td><td>10.1     </td></tr>\n",
       "\t<tr><td>12~18개월</td><td>80.1     </td><td>10.9     </td></tr>\n",
       "\t<tr><td>2세      </td><td>87.8     </td><td>13.2     </td></tr>\n",
       "</tbody>\n",
       "</table>\n"
      ],
      "text/latex": [
       "\\begin{tabular}{r|lll}\n",
       " age & height & weight\\\\\n",
       "\\hline\n",
       "\t 0\\textasciitilde{}3개월   & 59.1                       &  5.9                      \\\\\n",
       "\t 3\\textasciitilde{}6개월   & 66.7                       &  8.0                      \\\\\n",
       "\t 6\\textasciitilde{}9개월   & 71.4                       &  8.9                      \\\\\n",
       "\t 9\\textasciitilde{}12개월  & 75.0                       & 10.1                      \\\\\n",
       "\t 12\\textasciitilde{}18개월 & 80.1                       & 10.9                      \\\\\n",
       "\t 2세       & 87.8      & 13.2     \\\\\n",
       "\\end{tabular}\n"
      ],
      "text/markdown": [
       "\n",
       "| age | height | weight |\n",
       "|---|---|---|\n",
       "| 0~3개월   | 59.1      |  5.9      |\n",
       "| 3~6개월   | 66.7      |  8.0      |\n",
       "| 6~9개월   | 71.4      |  8.9      |\n",
       "| 9~12개월  | 75.0      | 10.1      |\n",
       "| 12~18개월 | 80.1      | 10.9      |\n",
       "| 2세       | 87.8      | 13.2      |\n",
       "\n"
      ],
      "text/plain": [
       "  age       height weight\n",
       "1 0~3개월   59.1    5.9  \n",
       "2 3~6개월   66.7    8.0  \n",
       "3 6~9개월   71.4    8.9  \n",
       "4 9~12개월  75.0   10.1  \n",
       "5 12~18개월 80.1   10.9  \n",
       "6 2세       87.8   13.2  "
      ]
     },
     "metadata": {},
     "output_type": "display_data"
    },
    {
     "data": {
      "text/html": [
       "<table>\n",
       "<thead><tr><th></th><th scope=col>age</th><th scope=col>height</th><th scope=col>weight</th></tr></thead>\n",
       "<tbody>\n",
       "\t<tr><th scope=row>15</th><td>30~34세 </td><td>171.3   </td><td>71.5    </td></tr>\n",
       "\t<tr><th scope=row>16</th><td>35~39세 </td><td>170.7   </td><td>72.3    </td></tr>\n",
       "\t<tr><th scope=row>17</th><td>40~49세 </td><td>168.6   </td><td>70.6    </td></tr>\n",
       "\t<tr><th scope=row>18</th><td>50~59세 </td><td>166.1   </td><td>69.1    </td></tr>\n",
       "\t<tr><th scope=row>19</th><td>60~69세 </td><td>164.4   </td><td>65.9    </td></tr>\n",
       "\t<tr><th scope=row>20</th><td>70세이상</td><td>162.4   </td><td>61.1    </td></tr>\n",
       "</tbody>\n",
       "</table>\n"
      ],
      "text/latex": [
       "\\begin{tabular}{r|lll}\n",
       "  & age & height & weight\\\\\n",
       "\\hline\n",
       "\t15 & 30\\textasciitilde{}34세  & 171.3                     & 71.5                     \\\\\n",
       "\t16 & 35\\textasciitilde{}39세  & 170.7                     & 72.3                     \\\\\n",
       "\t17 & 40\\textasciitilde{}49세  & 168.6                     & 70.6                     \\\\\n",
       "\t18 & 50\\textasciitilde{}59세  & 166.1                     & 69.1                     \\\\\n",
       "\t19 & 60\\textasciitilde{}69세  & 164.4                     & 65.9                     \\\\\n",
       "\t20 & 70세이상 & 162.4    & 61.1    \\\\\n",
       "\\end{tabular}\n"
      ],
      "text/markdown": [
       "\n",
       "| <!--/--> | age | height | weight |\n",
       "|---|---|---|---|\n",
       "| 15 | 30~34세  | 171.3    | 71.5     |\n",
       "| 16 | 35~39세  | 170.7    | 72.3     |\n",
       "| 17 | 40~49세  | 168.6    | 70.6     |\n",
       "| 18 | 50~59세  | 166.1    | 69.1     |\n",
       "| 19 | 60~69세  | 164.4    | 65.9     |\n",
       "| 20 | 70세이상 | 162.4    | 61.1     |\n",
       "\n"
      ],
      "text/plain": [
       "   age      height weight\n",
       "15 30~34세  171.3  71.5  \n",
       "16 35~39세  170.7  72.3  \n",
       "17 40~49세  168.6  70.6  \n",
       "18 50~59세  166.1  69.1  \n",
       "19 60~69세  164.4  65.9  \n",
       "20 70세이상 162.4  61.1  "
      ]
     },
     "metadata": {},
     "output_type": "display_data"
    }
   ],
   "source": [
    "# 임의로 생성한 데이터\n",
    "regression <- read.csv('../data/R/regression.csv')\n",
    "head(regression)\n",
    "tail(regression)"
   ]
  },
  {
   "cell_type": "code",
   "execution_count": 5,
   "metadata": {},
   "outputs": [
    {
     "data": {
      "text/plain": [
       "   Min. 1st Qu.  Median    Mean 3rd Qu.    Max. \n",
       "  59.10   85.88  118.75  119.22  162.90  171.30 "
      ]
     },
     "metadata": {},
     "output_type": "display_data"
    },
    {
     "data": {
      "text/plain": [
       "   Min. 1st Qu.  Median    Mean 3rd Qu.    Max. \n",
       "   5.90   12.62   23.20   33.40   62.30   72.30 "
      ]
     },
     "metadata": {},
     "output_type": "display_data"
    }
   ],
   "source": [
    "# 자료는 임의로 생성한 자료이기 때문에 결과는 의미가 없다.\n",
    "summary(regression$height)\n",
    "summary(regression$weight)"
   ]
  },
  {
   "cell_type": "code",
   "execution_count": 6,
   "metadata": {},
   "outputs": [
    {
     "data": {
      "image/png": "[encoded data removed]",
      "text/plain": [
       "Plot with title \"Histogram of regression$height\""
      ]
     },
     "metadata": {},
     "output_type": "display_data"
    },
    {
     "data": {
      "image/png": "[encoded data removed]",
      "text/plain": [
       "Plot with title \"Histogram of regression$weight\""
      ]
     },
     "metadata": {},
     "output_type": "display_data"
    }
   ],
   "source": [
    "# 시각화(1) : 자료의 빈도수\n",
    "hist(regression$height)\n",
    "hist(regression$weight)"
   ]
  },
  {
   "cell_type": "code",
   "execution_count": 7,
   "metadata": {},
   "outputs": [
    {
     "data": {
      "image/png": "[encoded data removed]",
      "text/plain": [
       "Plot with title \"신장과 체중\""
      ]
     },
     "metadata": {},
     "output_type": "display_data"
    }
   ],
   "source": [
    "# 시각화(2) : 산점도\n",
    "plot(regression$weight~regression$height, main=\"신장과 체중\", xlab=\"신장\", ylab='체중')\n",
    "\n",
    "# 결과분석\n",
    "# 신장이 커지면 체중도 커지는 양의 상관관계가 있다."
   ]
  },
  {
   "cell_type": "code",
   "execution_count": 8,
   "metadata": {},
   "outputs": [
    {
     "data": {
      "text/html": [
       "0.96201973894349"
      ],
      "text/latex": [
       "0.96201973894349"
      ],
      "text/markdown": [
       "0.96201973894349"
      ],
      "text/plain": [
       "[1] 0.9620197"
      ]
     },
     "metadata": {},
     "output_type": "display_data"
    }
   ],
   "source": [
    "# 1. 상관분석\n",
    "# -1~1사이의 값\n",
    "cor(regression$height,regression$weight)\n",
    "\n",
    "# 결과분석\n",
    "# 상관계수가 0.96 -> 아주 강한 양의 상관관계가 있다."
   ]
  },
  {
   "cell_type": "code",
   "execution_count": 9,
   "metadata": {},
   "outputs": [
    {
     "data": {
      "text/plain": [
       "\n",
       "Call:\n",
       "lm(formula = regression$height ~ regression$weight)\n",
       "\n",
       "Coefficients:\n",
       "      (Intercept)  regression$weight  \n",
       "           69.772              1.481  \n"
      ]
     },
     "metadata": {},
     "output_type": "display_data"
    },
    {
     "data": {
      "image/png": "[encoded data removed]",
      "text/plain": [
       "Plot with title \"신장과 체중\""
      ]
     },
     "metadata": {},
     "output_type": "display_data"
    }
   ],
   "source": [
    "# 2. 단순회귀분석\n",
    "# 독립변수가 신장(x), 종속변수가 체중(y)\n",
    "# 귀무가설 : 신장은 체중에 영향을 주지 않을 것이다.\n",
    "# 대립가설 : 신장은 체중에 영향을 줄 것이다.\n",
    "\n",
    "# 회귀선 : 각 관측치들과 `평균의 차이의 제곱`이 최소가 되는 직선\n",
    "# 회귀모델 : lm(x~y) -> x가 증가할 때 y에 미치는 영향\n",
    "r <- lm(regression$height~regression$weight)\n",
    "r\n",
    "\n",
    "# Intercept :  69.772 = 절편\n",
    "# regression$weight 1.481 -> 신장이 1이 증가되면 체중은 1.481로 증가\n",
    "plot(regression$height~regression$weight, main=\"신장과 체중\", xlab=\"신장\", ylab=\"체중\")\n",
    "\n",
    "# abline : 그래프위에 선을 그리는 함수\n",
    "# abline(회귀선)은 각 값들의 평균제곱오차가 제일 작은 값을 기준으로 선을 그림\n",
    "abline(r)"
   ]
  },
  {
   "cell_type": "code",
   "execution_count": 10,
   "metadata": {},
   "outputs": [
    {
     "data": {
      "text/plain": [
       "\n",
       "Call:\n",
       "lm(formula = regression$height ~ regression$weight)\n",
       "\n",
       "Residuals:\n",
       "    Min      1Q  Median      3Q     Max \n",
       "-19.409  -6.034  -2.240   8.584  15.824 \n",
       "\n",
       "Coefficients:\n",
       "                  Estimate Std. Error t value Pr(>|t|)    \n",
       "(Intercept)       69.77179    4.10539   17.00 1.57e-12 ***\n",
       "regression$weight  1.48086    0.09904   14.95 1.36e-11 ***\n",
       "---\n",
       "Signif. codes:  0 '***' 0.001 '**' 0.01 '*' 0.05 '.' 0.1 ' ' 1\n",
       "\n",
       "Residual standard error: 10.88 on 18 degrees of freedom\n",
       "Multiple R-squared:  0.9255,\tAdjusted R-squared:  0.9213 \n",
       "F-statistic: 223.6 on 1 and 18 DF,  p-value: 1.361e-11\n"
      ]
     },
     "metadata": {},
     "output_type": "display_data"
    }
   ],
   "source": [
    "summary(r)\n",
    "# 회귀분석결과분석요약\n",
    "# Multiple R-squared:  0.9255, Adjusted R-squared:  0.9213 : 평균제곱오차(R)은 주로\n",
    "# Adjusted R-squared을 주로 본다/\n",
    "# Adjusted R-squared : R제곱값이 92.13이기 때문에 92%설명력을 가진다.\n",
    "# p-value: 1.361e-11가 0.05보다 작으므로 통계적으로 99%이상의 신뢰도를 가진다.\n",
    "# 따라서 귀무가설을 기각하고 대립가설을 채택한다."
   ]
  },
  {
   "cell_type": "markdown",
   "metadata": {},
   "source": [
    "#### 실습2. 다중회귀분석\n"
   ]
  },
  {
   "cell_type": "code",
   "execution_count": 11,
   "metadata": {},
   "outputs": [
    {
     "data": {
      "text/html": [
       "<table>\n",
       "<thead><tr><th scope=col>rating</th><th scope=col>complaints</th><th scope=col>privileges</th><th scope=col>learning</th><th scope=col>raises</th><th scope=col>critical</th><th scope=col>advance</th></tr></thead>\n",
       "<tbody>\n",
       "\t<tr><td>43</td><td>51</td><td>30</td><td>39</td><td>61</td><td>92</td><td>45</td></tr>\n",
       "\t<tr><td>63</td><td>64</td><td>51</td><td>54</td><td>63</td><td>73</td><td>47</td></tr>\n",
       "\t<tr><td>71</td><td>70</td><td>68</td><td>69</td><td>76</td><td>86</td><td>48</td></tr>\n",
       "\t<tr><td>61</td><td>63</td><td>45</td><td>47</td><td>54</td><td>84</td><td>35</td></tr>\n",
       "\t<tr><td>81</td><td>78</td><td>56</td><td>66</td><td>71</td><td>83</td><td>47</td></tr>\n",
       "\t<tr><td>43</td><td>55</td><td>49</td><td>44</td><td>54</td><td>49</td><td>34</td></tr>\n",
       "</tbody>\n",
       "</table>\n"
      ],
      "text/latex": [
       "\\begin{tabular}{r|lllllll}\n",
       " rating & complaints & privileges & learning & raises & critical & advance\\\\\n",
       "\\hline\n",
       "\t 43 & 51 & 30 & 39 & 61 & 92 & 45\\\\\n",
       "\t 63 & 64 & 51 & 54 & 63 & 73 & 47\\\\\n",
       "\t 71 & 70 & 68 & 69 & 76 & 86 & 48\\\\\n",
       "\t 61 & 63 & 45 & 47 & 54 & 84 & 35\\\\\n",
       "\t 81 & 78 & 56 & 66 & 71 & 83 & 47\\\\\n",
       "\t 43 & 55 & 49 & 44 & 54 & 49 & 34\\\\\n",
       "\\end{tabular}\n"
      ],
      "text/markdown": [
       "\n",
       "| rating | complaints | privileges | learning | raises | critical | advance |\n",
       "|---|---|---|---|---|---|---|\n",
       "| 43 | 51 | 30 | 39 | 61 | 92 | 45 |\n",
       "| 63 | 64 | 51 | 54 | 63 | 73 | 47 |\n",
       "| 71 | 70 | 68 | 69 | 76 | 86 | 48 |\n",
       "| 61 | 63 | 45 | 47 | 54 | 84 | 35 |\n",
       "| 81 | 78 | 56 | 66 | 71 | 83 | 47 |\n",
       "| 43 | 55 | 49 | 44 | 54 | 49 | 34 |\n",
       "\n"
      ],
      "text/plain": [
       "  rating complaints privileges learning raises critical advance\n",
       "1 43     51         30         39       61     92       45     \n",
       "2 63     64         51         54       63     73       47     \n",
       "3 71     70         68         69       76     86       48     \n",
       "4 61     63         45         47       54     84       35     \n",
       "5 81     78         56         66       71     83       47     \n",
       "6 43     55         49         44       54     49       34     "
      ]
     },
     "metadata": {},
     "output_type": "display_data"
    },
    {
     "data": {
      "text/html": [
       "<table>\n",
       "<thead><tr><th></th><th scope=col>rating</th><th scope=col>complaints</th><th scope=col>privileges</th><th scope=col>learning</th><th scope=col>raises</th><th scope=col>critical</th><th scope=col>advance</th></tr></thead>\n",
       "<tbody>\n",
       "\t<tr><th scope=row>25</th><td>63</td><td>54</td><td>42</td><td>48</td><td>66</td><td>75</td><td>33</td></tr>\n",
       "\t<tr><th scope=row>26</th><td>66</td><td>77</td><td>66</td><td>63</td><td>88</td><td>76</td><td>72</td></tr>\n",
       "\t<tr><th scope=row>27</th><td>78</td><td>75</td><td>58</td><td>74</td><td>80</td><td>78</td><td>49</td></tr>\n",
       "\t<tr><th scope=row>28</th><td>48</td><td>57</td><td>44</td><td>45</td><td>51</td><td>83</td><td>38</td></tr>\n",
       "\t<tr><th scope=row>29</th><td>85</td><td>85</td><td>71</td><td>71</td><td>77</td><td>74</td><td>55</td></tr>\n",
       "\t<tr><th scope=row>30</th><td>82</td><td>82</td><td>39</td><td>59</td><td>64</td><td>78</td><td>39</td></tr>\n",
       "</tbody>\n",
       "</table>\n"
      ],
      "text/latex": [
       "\\begin{tabular}{r|lllllll}\n",
       "  & rating & complaints & privileges & learning & raises & critical & advance\\\\\n",
       "\\hline\n",
       "\t25 & 63 & 54 & 42 & 48 & 66 & 75 & 33\\\\\n",
       "\t26 & 66 & 77 & 66 & 63 & 88 & 76 & 72\\\\\n",
       "\t27 & 78 & 75 & 58 & 74 & 80 & 78 & 49\\\\\n",
       "\t28 & 48 & 57 & 44 & 45 & 51 & 83 & 38\\\\\n",
       "\t29 & 85 & 85 & 71 & 71 & 77 & 74 & 55\\\\\n",
       "\t30 & 82 & 82 & 39 & 59 & 64 & 78 & 39\\\\\n",
       "\\end{tabular}\n"
      ],
      "text/markdown": [
       "\n",
       "| <!--/--> | rating | complaints | privileges | learning | raises | critical | advance |\n",
       "|---|---|---|---|---|---|---|---|\n",
       "| 25 | 63 | 54 | 42 | 48 | 66 | 75 | 33 |\n",
       "| 26 | 66 | 77 | 66 | 63 | 88 | 76 | 72 |\n",
       "| 27 | 78 | 75 | 58 | 74 | 80 | 78 | 49 |\n",
       "| 28 | 48 | 57 | 44 | 45 | 51 | 83 | 38 |\n",
       "| 29 | 85 | 85 | 71 | 71 | 77 | 74 | 55 |\n",
       "| 30 | 82 | 82 | 39 | 59 | 64 | 78 | 39 |\n",
       "\n"
      ],
      "text/plain": [
       "   rating complaints privileges learning raises critical advance\n",
       "25 63     54         42         48       66     75       33     \n",
       "26 66     77         66         63       88     76       72     \n",
       "27 78     75         58         74       80     78       49     \n",
       "28 48     57         44         45       51     83       38     \n",
       "29 85     85         71         71       77     74       55     \n",
       "30 82     82         39         59       64     78       39     "
      ]
     },
     "metadata": {},
     "output_type": "display_data"
    }
   ],
   "source": [
    "# R에 내장된 데이터셋\n",
    "data()\n",
    "head(attitude)\n",
    "tail(attitude)\n",
    "?attitud"
   ]
  },
  {
   "cell_type": "code",
   "execution_count": 12,
   "metadata": {},
   "outputs": [
    {
     "data": {
      "text/plain": [
       "\n",
       "Call:\n",
       "lm(formula = rating ~ ., data = attitude)\n",
       "\n",
       "Coefficients:\n",
       "(Intercept)   complaints   privileges     learning       raises     critical  \n",
       "   10.78708      0.61319     -0.07305      0.32033      0.08173      0.03838  \n",
       "    advance  \n",
       "   -0.21706  \n"
      ]
     },
     "metadata": {},
     "output_type": "display_data"
    }
   ],
   "source": [
    "# 다중회귀분석\n",
    "#lm(종속변수~., data=데이터셋) -> 점(.)은 종속변수를 제외한 모든 변수를 선택 -> 독립변수\n",
    "model <- lm(rating~., data=attitude)\n",
    "model"
   ]
  },
  {
   "cell_type": "code",
   "execution_count": 13,
   "metadata": {},
   "outputs": [
    {
     "data": {
      "text/plain": [
       "\n",
       "Call:\n",
       "lm(formula = rating ~ ., data = attitude)\n",
       "\n",
       "Residuals:\n",
       "     Min       1Q   Median       3Q      Max \n",
       "-10.9418  -4.3555   0.3158   5.5425  11.5990 \n",
       "\n",
       "Coefficients:\n",
       "            Estimate Std. Error t value Pr(>|t|)    \n",
       "(Intercept) 10.78708   11.58926   0.931 0.361634    \n",
       "complaints   0.61319    0.16098   3.809 0.000903 ***\n",
       "privileges  -0.07305    0.13572  -0.538 0.595594    \n",
       "learning     0.32033    0.16852   1.901 0.069925 .  \n",
       "raises       0.08173    0.22148   0.369 0.715480    \n",
       "critical     0.03838    0.14700   0.261 0.796334    \n",
       "advance     -0.21706    0.17821  -1.218 0.235577    \n",
       "---\n",
       "Signif. codes:  0 '***' 0.001 '**' 0.01 '*' 0.05 '.' 0.1 ' ' 1\n",
       "\n",
       "Residual standard error: 7.068 on 23 degrees of freedom\n",
       "Multiple R-squared:  0.7326,\tAdjusted R-squared:  0.6628 \n",
       "F-statistic:  10.5 on 6 and 23 DF,  p-value: 1.24e-05\n"
      ]
     },
     "metadata": {},
     "output_type": "display_data"
    }
   ],
   "source": [
    "summary(model)\n",
    "# 회귀분석모델분석요약\n",
    "# complaints(***)와 learning(.)이 제일 중요한 값이다.\n",
    "# Adjusted R-squared:  0.6628 으로서 66%정도의 설명력을 가진다.\n",
    "# p-value: 1.24e-05 : 99% 신뢰하에 통계적으로 유의한다."
   ]
  },
  {
   "cell_type": "code",
   "execution_count": 14,
   "metadata": {},
   "outputs": [
    {
     "name": "stdout",
     "output_type": "stream",
     "text": [
      "Start:  AIC=123.36\n",
      "rating ~ complaints + privileges + learning + raises + critical + \n",
      "    advance\n",
      "\n",
      "             Df Sum of Sq    RSS    AIC\n",
      "- critical    1      3.41 1152.4 121.45\n",
      "- raises      1      6.80 1155.8 121.54\n",
      "- privileges  1     14.47 1163.5 121.74\n",
      "- advance     1     74.11 1223.1 123.24\n",
      "<none>                    1149.0 123.36\n",
      "- learning    1    180.50 1329.5 125.74\n",
      "- complaints  1    724.80 1873.8 136.04\n",
      "\n",
      "Step:  AIC=121.45\n",
      "rating ~ complaints + privileges + learning + raises + advance\n",
      "\n",
      "             Df Sum of Sq    RSS    AIC\n",
      "- raises      1     10.61 1163.0 119.73\n",
      "- privileges  1     14.16 1166.6 119.82\n",
      "- advance     1     71.27 1223.7 121.25\n",
      "<none>                    1152.4 121.45\n",
      "- learning    1    177.74 1330.1 123.75\n",
      "- complaints  1    724.70 1877.1 134.09\n",
      "\n",
      "Step:  AIC=119.73\n",
      "rating ~ complaints + privileges + learning + advance\n",
      "\n",
      "             Df Sum of Sq    RSS    AIC\n",
      "- privileges  1     16.10 1179.1 118.14\n",
      "- advance     1     61.60 1224.6 119.28\n",
      "<none>                    1163.0 119.73\n",
      "- learning    1    197.03 1360.0 122.42\n",
      "- complaints  1   1165.94 2328.9 138.56\n",
      "\n",
      "Step:  AIC=118.14\n",
      "rating ~ complaints + learning + advance\n",
      "\n",
      "             Df Sum of Sq    RSS    AIC\n",
      "- advance     1     75.54 1254.7 118.00\n",
      "<none>                    1179.1 118.14\n",
      "- learning    1    186.12 1365.2 120.54\n",
      "- complaints  1   1259.91 2439.0 137.94\n",
      "\n",
      "Step:  AIC=118\n",
      "rating ~ complaints + learning\n",
      "\n",
      "             Df Sum of Sq    RSS    AIC\n",
      "<none>                    1254.7 118.00\n",
      "- learning    1    114.73 1369.4 118.63\n",
      "- complaints  1   1370.91 2625.6 138.16\n"
     ]
    }
   ],
   "source": [
    "# step() : 기여도가 낮은 변수를 제가하여 회귀모델의 예측력을 향상\n",
    "# direction='backward' : 기여도가 낮은 것부터 제외\n",
    "reduced <- step(model, direction='backward')"
   ]
  },
  {
   "cell_type": "code",
   "execution_count": 15,
   "metadata": {},
   "outputs": [
    {
     "data": {
      "text/plain": [
       "\n",
       "Call:\n",
       "lm(formula = rating ~ complaints + learning, data = attitude)\n",
       "\n",
       "Residuals:\n",
       "     Min       1Q   Median       3Q      Max \n",
       "-11.5568  -5.7331   0.6701   6.5341  10.3610 \n",
       "\n",
       "Coefficients:\n",
       "            Estimate Std. Error t value Pr(>|t|)    \n",
       "(Intercept)   9.8709     7.0612   1.398    0.174    \n",
       "complaints    0.6435     0.1185   5.432 9.57e-06 ***\n",
       "learning      0.2112     0.1344   1.571    0.128    \n",
       "---\n",
       "Signif. codes:  0 '***' 0.001 '**' 0.01 '*' 0.05 '.' 0.1 ' ' 1\n",
       "\n",
       "Residual standard error: 6.817 on 27 degrees of freedom\n",
       "Multiple R-squared:  0.708,\tAdjusted R-squared:  0.6864 \n",
       "F-statistic: 32.74 on 2 and 27 DF,  p-value: 6.058e-08\n"
      ]
     },
     "metadata": {},
     "output_type": "display_data"
    }
   ],
   "source": [
    "summary(reduced)\n",
    "# 회귀분석모델분석요약\n",
    "# 최종적으로 독립변수를 complaints + learning의 2개변수 이외는 제거\n",
    "# 모델의 예측력(설명력)이 66%에서 68%로 향상됨"
   ]
  },
  {
   "cell_type": "code",
   "execution_count": 16,
   "metadata": {},
   "outputs": [
    {
     "name": "stdout",
     "output_type": "stream",
     "text": [
      "Start:  AIC=123.36\n",
      "rating ~ complaints + privileges + learning + raises + critical + \n",
      "    advance\n",
      "\n"
     ]
    },
    {
     "data": {
      "text/plain": [
       "\n",
       "Call:\n",
       "lm(formula = rating ~ complaints + privileges + learning + raises + \n",
       "    critical + advance, data = attitude)\n",
       "\n",
       "Residuals:\n",
       "     Min       1Q   Median       3Q      Max \n",
       "-10.9418  -4.3555   0.3158   5.5425  11.5990 \n",
       "\n",
       "Coefficients:\n",
       "            Estimate Std. Error t value Pr(>|t|)    \n",
       "(Intercept) 10.78708   11.58926   0.931 0.361634    \n",
       "complaints   0.61319    0.16098   3.809 0.000903 ***\n",
       "privileges  -0.07305    0.13572  -0.538 0.595594    \n",
       "learning     0.32033    0.16852   1.901 0.069925 .  \n",
       "raises       0.08173    0.22148   0.369 0.715480    \n",
       "critical     0.03838    0.14700   0.261 0.796334    \n",
       "advance     -0.21706    0.17821  -1.218 0.235577    \n",
       "---\n",
       "Signif. codes:  0 '***' 0.001 '**' 0.01 '*' 0.05 '.' 0.1 ' ' 1\n",
       "\n",
       "Residual standard error: 7.068 on 23 degrees of freedom\n",
       "Multiple R-squared:  0.7326,\tAdjusted R-squared:  0.6628 \n",
       "F-statistic:  10.5 on 6 and 23 DF,  p-value: 1.24e-05\n"
      ]
     },
     "metadata": {},
     "output_type": "display_data"
    }
   ],
   "source": [
    "reduced <- step(model, direction='forward')\n",
    "summary(reduced)"
   ]
  },
  {
   "cell_type": "code",
   "execution_count": null,
   "metadata": {},
   "outputs": [],
   "source": []
  }
 ],
 "metadata": {
  "kernelspec": {
   "display_name": "R",
   "language": "R",
   "name": "ir"
  },
  "language_info": {
   "codemirror_mode": "r",
   "file_extension": ".r",
   "mimetype": "text/x-r-source",
   "name": "R",
   "pygments_lexer": "r",
   "version": "3.6.1"
  }
 },
 "nbformat": 4,
 "nbformat_minor": 4
}
