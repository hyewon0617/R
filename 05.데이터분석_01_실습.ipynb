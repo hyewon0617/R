{
 "cells": [
  {
   "cell_type": "markdown",
   "metadata": {},
   "source": [
    "### 1. 도수분포표\n",
    "\n",
    "20만건 관찰치(Observation)가 넘는 데이터셋의 명목형변수 `도수분포표`만들기 \n",
    "\n",
    "* http://blog.naver.com/PostView.nhn?blogId=padosori60&logNo=220868082613\n",
    "\n",
    "R에서 도수분포표나 교차표(분할표)를 작성하기 위해 사용되는 함수는 table, ftable, prop.table, margin.table, addmargins 등이 있다. 먼저  table( )함수는 매개변수가 한 개이면 도수분포표를, 두 개 이상이면 교차표를 출력하는 함수이다.\n",
    " \n",
    "◆ table( …., exclude = dnn = list.names(…), ….)\n",
    "    - ….. : 한 개 이상의 객체를 (character string을 포함하여) 설정할 수 있다. 한 개의 매개변수가 주어지면 도수분포표, 두 개 이상  \n",
    "          의  객체가 주어지면 교차표가 주어진다. (둘 이상이 주어지는 경우 첫 번째가 행, 두 번째가 열 등의 순서이다)\n",
    "    -  exclude : 교차표에서 제외할 수준의 값을 설정한다.\n",
    "    -  dnn : 교차표의 행변수, 열변수 등에 사용되는 이름이다.\n",
    "\n",
    "◆ ftable( )함수\n",
    "ftable( )함수는 2차원 교차표일 경우 table( )함수와 비슷한 결과값을 얻지만 3차원 이상일 경우에는 table( )함수보다 유용한 결과를 얻을 수 있는 함수이다.\n",
    " \n",
    "ftable( ….., exclude = c(NA, NaN), row, vars = NULL, col.vars = NULL)\n",
    "          - …. : 교차표를 생성할 수 있는 R의 객체 (벡터, 데이터프레임, table함수를 \n",
    "                       이용하여 얻은 결과값)\n",
    "          - exclude : 각 변수에서 제외할 값\n",
    "          - row.vars : 행에 사용할 변수의 번호 또는 변수명\n",
    "          - col.vars : 열에 사용할 변수의 번호 또는 변수명\n",
    "\n",
    "\n",
    "◆ prop.table( )함수\n",
    "prop.table( )는 도수분포표, 교차표의 상대도수 값을 얻기위하여 이용\n",
    " \n",
    "prop.table(x, margin = NULL)\n",
    "       - x : table, ftable 함수를 이용하여 얻는 도수분포표 또는 교차표\n",
    "       - margin : 상대도수를 계산할 때, 분모로 사용할 변수를 지정\n",
    "                              NULL- 전체 합에 대한 상대도수\n",
    "        -  1 -  첫 번째 변수(행)에 대한 상대도수\n",
    "         - 2  -  두 번째 변수(열)에 대한 상대도수\n",
    "\n",
    "◆ addmargins( ) 함수\n",
    "행과 열의 합을 계산하기 위한 함수, table( ), ftable( ), prop.table( )함수군은 행과 열의 합을 계산하지 않는다.\n",
    " \n",
    "addmargins(A, margin = seq_along(dim(A)), ….)\n",
    "      - A : table( ), ftable( ), prop.table( )의 결과값을 설정"
   ]
  },
  {
   "cell_type": "code",
   "execution_count": 5,
   "metadata": {},
   "outputs": [
    {
     "name": "stderr",
     "output_type": "stream",
     "text": [
      "Warning message:\n",
      "\"package 'hfligths' is not available (for R version 3.6.1)\""
     ]
    }
   ],
   "source": [
    "# 데이터셋 패키지 로딩\n",
    "install.packages(\"hfligths\")\n",
    "library(hflights)"
   ]
  },
  {
   "cell_type": "code",
   "execution_count": 6,
   "metadata": {},
   "outputs": [
    {
     "name": "stdout",
     "output_type": "stream",
     "text": [
      "'data.frame':\t227496 obs. of  21 variables:\n",
      " $ Year             : int  2011 2011 2011 2011 2011 2011 2011 2011 2011 2011 ...\n",
      " $ Month            : int  1 1 1 1 1 1 1 1 1 1 ...\n",
      " $ DayofMonth       : int  1 2 3 4 5 6 7 8 9 10 ...\n",
      " $ DayOfWeek        : int  6 7 1 2 3 4 5 6 7 1 ...\n",
      " $ DepTime          : int  1400 1401 1352 1403 1405 1359 1359 1355 1443 1443 ...\n",
      " $ ArrTime          : int  1500 1501 1502 1513 1507 1503 1509 1454 1554 1553 ...\n",
      " $ UniqueCarrier    : chr  \"AA\" \"AA\" \"AA\" \"AA\" ...\n",
      " $ FlightNum        : int  428 428 428 428 428 428 428 428 428 428 ...\n",
      " $ TailNum          : chr  \"N576AA\" \"N557AA\" \"N541AA\" \"N403AA\" ...\n",
      " $ ActualElapsedTime: int  60 60 70 70 62 64 70 59 71 70 ...\n",
      " $ AirTime          : int  40 45 48 39 44 45 43 40 41 45 ...\n",
      " $ ArrDelay         : int  -10 -9 -8 3 -3 -7 -1 -16 44 43 ...\n",
      " $ DepDelay         : int  0 1 -8 3 5 -1 -1 -5 43 43 ...\n",
      " $ Origin           : chr  \"IAH\" \"IAH\" \"IAH\" \"IAH\" ...\n",
      " $ Dest             : chr  \"DFW\" \"DFW\" \"DFW\" \"DFW\" ...\n",
      " $ Distance         : int  224 224 224 224 224 224 224 224 224 224 ...\n",
      " $ TaxiIn           : int  7 6 5 9 9 6 12 7 8 6 ...\n",
      " $ TaxiOut          : int  13 9 17 22 9 13 15 12 22 19 ...\n",
      " $ Cancelled        : int  0 0 0 0 0 0 0 0 0 0 ...\n",
      " $ CancellationCode : chr  \"\" \"\" \"\" \"\" ...\n",
      " $ Diverted         : int  0 0 0 0 0 0 0 0 0 0 ...\n"
     ]
    },
    {
     "data": {
      "text/html": [
       "<table>\n",
       "<thead><tr><th></th><th scope=col>Year</th><th scope=col>Month</th><th scope=col>DayofMonth</th><th scope=col>DayOfWeek</th><th scope=col>DepTime</th><th scope=col>ArrTime</th><th scope=col>UniqueCarrier</th><th scope=col>FlightNum</th><th scope=col>TailNum</th><th scope=col>ActualElapsedTime</th><th scope=col>...</th><th scope=col>ArrDelay</th><th scope=col>DepDelay</th><th scope=col>Origin</th><th scope=col>Dest</th><th scope=col>Distance</th><th scope=col>TaxiIn</th><th scope=col>TaxiOut</th><th scope=col>Cancelled</th><th scope=col>CancellationCode</th><th scope=col>Diverted</th></tr></thead>\n",
       "<tbody>\n",
       "\t<tr><th scope=row>5424</th><td>2011  </td><td>1     </td><td>1     </td><td>6     </td><td>1400  </td><td>1500  </td><td>AA    </td><td>428   </td><td>N576AA</td><td>60    </td><td>...   </td><td>-10   </td><td> 0    </td><td>IAH   </td><td>DFW   </td><td>224   </td><td>7     </td><td>13    </td><td>0     </td><td>      </td><td>0     </td></tr>\n",
       "\t<tr><th scope=row>5425</th><td>2011  </td><td>1     </td><td>2     </td><td>7     </td><td>1401  </td><td>1501  </td><td>AA    </td><td>428   </td><td>N557AA</td><td>60    </td><td>...   </td><td> -9   </td><td> 1    </td><td>IAH   </td><td>DFW   </td><td>224   </td><td>6     </td><td> 9    </td><td>0     </td><td>      </td><td>0     </td></tr>\n",
       "\t<tr><th scope=row>5426</th><td>2011  </td><td>1     </td><td>3     </td><td>1     </td><td>1352  </td><td>1502  </td><td>AA    </td><td>428   </td><td>N541AA</td><td>70    </td><td>...   </td><td> -8   </td><td>-8    </td><td>IAH   </td><td>DFW   </td><td>224   </td><td>5     </td><td>17    </td><td>0     </td><td>      </td><td>0     </td></tr>\n",
       "\t<tr><th scope=row>5427</th><td>2011  </td><td>1     </td><td>4     </td><td>2     </td><td>1403  </td><td>1513  </td><td>AA    </td><td>428   </td><td>N403AA</td><td>70    </td><td>...   </td><td>  3   </td><td> 3    </td><td>IAH   </td><td>DFW   </td><td>224   </td><td>9     </td><td>22    </td><td>0     </td><td>      </td><td>0     </td></tr>\n",
       "\t<tr><th scope=row>5428</th><td>2011  </td><td>1     </td><td>5     </td><td>3     </td><td>1405  </td><td>1507  </td><td>AA    </td><td>428   </td><td>N492AA</td><td>62    </td><td>...   </td><td> -3   </td><td> 5    </td><td>IAH   </td><td>DFW   </td><td>224   </td><td>9     </td><td> 9    </td><td>0     </td><td>      </td><td>0     </td></tr>\n",
       "\t<tr><th scope=row>5429</th><td>2011  </td><td>1     </td><td>6     </td><td>4     </td><td>1359  </td><td>1503  </td><td>AA    </td><td>428   </td><td>N262AA</td><td>64    </td><td>...   </td><td> -7   </td><td>-1    </td><td>IAH   </td><td>DFW   </td><td>224   </td><td>6     </td><td>13    </td><td>0     </td><td>      </td><td>0     </td></tr>\n",
       "</tbody>\n",
       "</table>\n"
      ],
      "text/latex": [
       "\\begin{tabular}{r|lllllllllllllllllllll}\n",
       "  & Year & Month & DayofMonth & DayOfWeek & DepTime & ArrTime & UniqueCarrier & FlightNum & TailNum & ActualElapsedTime & ... & ArrDelay & DepDelay & Origin & Dest & Distance & TaxiIn & TaxiOut & Cancelled & CancellationCode & Diverted\\\\\n",
       "\\hline\n",
       "\t5424 & 2011   & 1      & 1      & 6      & 1400   & 1500   & AA     & 428    & N576AA & 60     & ...    & -10    &  0     & IAH    & DFW    & 224    & 7      & 13     & 0      &        & 0     \\\\\n",
       "\t5425 & 2011   & 1      & 2      & 7      & 1401   & 1501   & AA     & 428    & N557AA & 60     & ...    &  -9    &  1     & IAH    & DFW    & 224    & 6      &  9     & 0      &        & 0     \\\\\n",
       "\t5426 & 2011   & 1      & 3      & 1      & 1352   & 1502   & AA     & 428    & N541AA & 70     & ...    &  -8    & -8     & IAH    & DFW    & 224    & 5      & 17     & 0      &        & 0     \\\\\n",
       "\t5427 & 2011   & 1      & 4      & 2      & 1403   & 1513   & AA     & 428    & N403AA & 70     & ...    &   3    &  3     & IAH    & DFW    & 224    & 9      & 22     & 0      &        & 0     \\\\\n",
       "\t5428 & 2011   & 1      & 5      & 3      & 1405   & 1507   & AA     & 428    & N492AA & 62     & ...    &  -3    &  5     & IAH    & DFW    & 224    & 9      &  9     & 0      &        & 0     \\\\\n",
       "\t5429 & 2011   & 1      & 6      & 4      & 1359   & 1503   & AA     & 428    & N262AA & 64     & ...    &  -7    & -1     & IAH    & DFW    & 224    & 6      & 13     & 0      &        & 0     \\\\\n",
       "\\end{tabular}\n"
      ],
      "text/markdown": [
       "\n",
       "| <!--/--> | Year | Month | DayofMonth | DayOfWeek | DepTime | ArrTime | UniqueCarrier | FlightNum | TailNum | ActualElapsedTime | ... | ArrDelay | DepDelay | Origin | Dest | Distance | TaxiIn | TaxiOut | Cancelled | CancellationCode | Diverted |\n",
       "|---|---|---|---|---|---|---|---|---|---|---|---|---|---|---|---|---|---|---|---|---|---|\n",
       "| 5424 | 2011   | 1      | 1      | 6      | 1400   | 1500   | AA     | 428    | N576AA | 60     | ...    | -10    |  0     | IAH    | DFW    | 224    | 7      | 13     | 0      |        | 0      |\n",
       "| 5425 | 2011   | 1      | 2      | 7      | 1401   | 1501   | AA     | 428    | N557AA | 60     | ...    |  -9    |  1     | IAH    | DFW    | 224    | 6      |  9     | 0      |        | 0      |\n",
       "| 5426 | 2011   | 1      | 3      | 1      | 1352   | 1502   | AA     | 428    | N541AA | 70     | ...    |  -8    | -8     | IAH    | DFW    | 224    | 5      | 17     | 0      |        | 0      |\n",
       "| 5427 | 2011   | 1      | 4      | 2      | 1403   | 1513   | AA     | 428    | N403AA | 70     | ...    |   3    |  3     | IAH    | DFW    | 224    | 9      | 22     | 0      |        | 0      |\n",
       "| 5428 | 2011   | 1      | 5      | 3      | 1405   | 1507   | AA     | 428    | N492AA | 62     | ...    |  -3    |  5     | IAH    | DFW    | 224    | 9      |  9     | 0      |        | 0      |\n",
       "| 5429 | 2011   | 1      | 6      | 4      | 1359   | 1503   | AA     | 428    | N262AA | 64     | ...    |  -7    | -1     | IAH    | DFW    | 224    | 6      | 13     | 0      |        | 0      |\n",
       "\n"
      ],
      "text/plain": [
       "     Year Month DayofMonth DayOfWeek DepTime ArrTime UniqueCarrier FlightNum\n",
       "5424 2011 1     1          6         1400    1500    AA            428      \n",
       "5425 2011 1     2          7         1401    1501    AA            428      \n",
       "5426 2011 1     3          1         1352    1502    AA            428      \n",
       "5427 2011 1     4          2         1403    1513    AA            428      \n",
       "5428 2011 1     5          3         1405    1507    AA            428      \n",
       "5429 2011 1     6          4         1359    1503    AA            428      \n",
       "     TailNum ActualElapsedTime ... ArrDelay DepDelay Origin Dest Distance\n",
       "5424 N576AA  60                ... -10       0       IAH    DFW  224     \n",
       "5425 N557AA  60                ...  -9       1       IAH    DFW  224     \n",
       "5426 N541AA  70                ...  -8      -8       IAH    DFW  224     \n",
       "5427 N403AA  70                ...   3       3       IAH    DFW  224     \n",
       "5428 N492AA  62                ...  -3       5       IAH    DFW  224     \n",
       "5429 N262AA  64                ...  -7      -1       IAH    DFW  224     \n",
       "     TaxiIn TaxiOut Cancelled CancellationCode Diverted\n",
       "5424 7      13      0                          0       \n",
       "5425 6       9      0                          0       \n",
       "5426 5      17      0                          0       \n",
       "5427 9      22      0                          0       \n",
       "5428 9       9      0                          0       \n",
       "5429 6      13      0                          0       "
      ]
     },
     "metadata": {},
     "output_type": "display_data"
    }
   ],
   "source": [
    "str(hflights)\n",
    "head(hflights)"
   ]
  },
  {
   "cell_type": "code",
   "execution_count": 7,
   "metadata": {},
   "outputs": [
    {
     "data": {
      "text/plain": [
       "\n",
       " ABQ  AEX  AGS  AMA  ANC  ASE  ATL  AUS  AVL  BFL  BHM  BKG  BNA  BOS  BPT  BRO \n",
       "2812  724    1 1297  125  125 7886 5022  350  504 2736  110 3481 1752    3 1692 \n",
       " BTR  BWI  CAE  CHS  CID  CLE  CLT  CMH  COS  CRP  CRW  CVG  DAL  DAY  DCA  DEN \n",
       "1762 2551  561 1200  410 2140 4735 1348 1657 4813  357 1535 9820  451 2699 5920 \n",
       " DFW  DSM  DTW  ECP  EGE  ELP  EWR  FLL  GJT  GPT  GRK  GRR  GSO  GSP  GUC  HDN \n",
       "6653  647 2601  729  110 3036 4314 2462  403 1618   42  677  630 1123   86  110 \n",
       " HNL  HOB  HRL  HSV  IAD  ICT  IND  JAN  JAX  JFK  LAS  LAX  LBB  LCH  LEX  LFT \n",
       " 402  309 3983  923 1980 1517 1750 2011 2135  695 4082 6064 1333  364  584 2313 \n",
       " LGA  LIT  LRD  MAF  MCI  MCO  MDW  MEM  MFE  MIA  MKE  MLU  MOB  MSP  MSY  MTJ \n",
       "2730 1579 1188 2306 3174 3687 2094 2399 1128 2463 1588  292 1674 2010 6823  164 \n",
       " OAK  OKC  OMA  ONT  ORD  ORF  PBI  PDX  PHL  PHX  PIT  PNS  PSP  RDU  RIC  RNO \n",
       " 690 3170 2044  952 5748  717 1253 1235 2367 5096 1664 1539  106 1740  900  243 \n",
       " RSW  SAN  SAT  SAV  SDF  SEA  SFO  SHV  SJC  SJU  SLC  SMF  SNA  STL  TPA  TUL \n",
       " 948 2936 4893  863 1279 2615 2818  787  885  391 2033 1014 1661 2509 3085 2924 \n",
       " TUS  TYS  VPS  XNA \n",
       "1565 1210  880 1172 "
      ]
     },
     "metadata": {},
     "output_type": "display_data"
    }
   ],
   "source": [
    "# 특정변수보기\n",
    "# table()함수는 데이터의 빈도수를 보여준다.\n",
    "CountofDest <- table(hflights$Dest)\n",
    "CountofDest"
   ]
  },
  {
   "cell_type": "code",
   "execution_count": 8,
   "metadata": {},
   "outputs": [
    {
     "data": {
      "text/html": [
       "116"
      ],
      "text/latex": [
       "116"
      ],
      "text/markdown": [
       "116"
      ],
      "text/plain": [
       "[1] 116"
      ]
     },
     "metadata": {},
     "output_type": "display_data"
    }
   ],
   "source": [
    "# length() : 명목형변수 카운트\n",
    "length(CountofDest)"
   ]
  },
  {
   "cell_type": "code",
   "execution_count": 9,
   "metadata": {},
   "outputs": [
    {
     "data": {
      "text/html": [
       "<ol class=list-inline>\n",
       "\t<li>1</li>\n",
       "\t<li>9820</li>\n",
       "</ol>\n"
      ],
      "text/latex": [
       "\\begin{enumerate*}\n",
       "\\item 1\n",
       "\\item 9820\n",
       "\\end{enumerate*}\n"
      ],
      "text/markdown": [
       "1. 1\n",
       "2. 9820\n",
       "\n",
       "\n"
      ],
      "text/plain": [
       "[1]    1 9820"
      ]
     },
     "metadata": {},
     "output_type": "display_data"
    }
   ],
   "source": [
    "# range() : 데이터의 범위를 표시, 최소값과 최대값을 표시\n",
    "range(CountofDest)"
   ]
  },
  {
   "cell_type": "code",
   "execution_count": 10,
   "metadata": {},
   "outputs": [
    {
     "data": {
      "text/html": [
       "<strong>AGS:</strong> 1"
      ],
      "text/latex": [
       "\\textbf{AGS:} 1"
      ],
      "text/markdown": [
       "**AGS:** 1"
      ],
      "text/plain": [
       "AGS \n",
       "  1 "
      ]
     },
     "metadata": {},
     "output_type": "display_data"
    },
    {
     "data": {
      "text/html": [
       "<strong>DAL:</strong> 9820"
      ],
      "text/latex": [
       "\\textbf{DAL:} 9820"
      ],
      "text/markdown": [
       "**DAL:** 9820"
      ],
      "text/plain": [
       " DAL \n",
       "9820 "
      ]
     },
     "metadata": {},
     "output_type": "display_data"
    }
   ],
   "source": [
    "# 실습1 : 최소도착공항과 최대도착공항을 출력\n",
    "CountofDest[CountofDest==1]    # 오거스터리저널 공항\n",
    "CountofDest[CountofDest==9820] # 달라스 공항"
   ]
  },
  {
   "cell_type": "code",
   "execution_count": 11,
   "metadata": {},
   "outputs": [
    {
     "data": {
      "text/plain": [
       "\n",
       " ATL  DAL  DFW  LAX  MSY \n",
       "7886 9820 6653 6064 6823 "
      ]
     },
     "metadata": {},
     "output_type": "display_data"
    }
   ],
   "source": [
    "# 실습2 : 도착횟수가 6000회가 넘는 공항은?\n",
    "SelectedDest <- CountofDest[CountofDest > 6000]\n",
    "SelectedDest"
   ]
  },
  {
   "cell_type": "code",
   "execution_count": 12,
   "metadata": {},
   "outputs": [
    {
     "data": {
      "text/plain": [
       "\n",
       "  ATL   DAL   DFW   LAX   MSY   Sum \n",
       " 7886  9820  6653  6064  6823 37246 "
      ]
     },
     "metadata": {},
     "output_type": "display_data"
    }
   ],
   "source": [
    "# 실습3 : 6000회가 넘는 공항의 전체합은? \n",
    "# addmargins() : 행과 열의 합을 계산하기 위한 함수\n",
    "addmargins(SelectedDest, margin=1)"
   ]
  },
  {
   "cell_type": "code",
   "execution_count": 13,
   "metadata": {},
   "outputs": [
    {
     "data": {
      "text/plain": [
       "     vs  0  1\n",
       "gear         \n",
       "3       12  3\n",
       "4        2 10\n",
       "5        4  1"
      ]
     },
     "metadata": {},
     "output_type": "display_data"
    },
    {
     "data": {
      "text/plain": [
       "   \n",
       "          1       2       3       4       6       8\n",
       "  3 0.09375 0.12500 0.09375 0.15625 0.00000 0.00000\n",
       "  4 0.12500 0.12500 0.00000 0.12500 0.00000 0.00000\n",
       "  5 0.00000 0.06250 0.00000 0.03125 0.03125 0.03125"
      ]
     },
     "metadata": {},
     "output_type": "display_data"
    },
    {
     "data": {
      "text/plain": [
       "   \n",
       "            1         2         3         4         6         8\n",
       "  3 0.2000000 0.2666667 0.2000000 0.3333333 0.0000000 0.0000000\n",
       "  4 0.3333333 0.3333333 0.0000000 0.3333333 0.0000000 0.0000000\n",
       "  5 0.0000000 0.4000000 0.0000000 0.2000000 0.2000000 0.2000000"
      ]
     },
     "metadata": {},
     "output_type": "display_data"
    },
    {
     "data": {
      "text/html": [
       "<table>\n",
       "<thead><tr><th></th><th scope=col>1</th><th scope=col>2</th><th scope=col>3</th><th scope=col>4</th><th scope=col>6</th><th scope=col>8</th><th scope=col>Sum</th></tr></thead>\n",
       "<tbody>\n",
       "\t<tr><th scope=row>3</th><td>3 </td><td> 4</td><td>3 </td><td> 5</td><td>0 </td><td>0 </td><td>15</td></tr>\n",
       "\t<tr><th scope=row>4</th><td>4 </td><td> 4</td><td>0 </td><td> 4</td><td>0 </td><td>0 </td><td>12</td></tr>\n",
       "\t<tr><th scope=row>5</th><td>0 </td><td> 2</td><td>0 </td><td> 1</td><td>1 </td><td>1 </td><td> 5</td></tr>\n",
       "\t<tr><th scope=row>Sum</th><td>7 </td><td>10</td><td>3 </td><td>10</td><td>1 </td><td>1 </td><td>32</td></tr>\n",
       "</tbody>\n",
       "</table>\n"
      ],
      "text/latex": [
       "\\begin{tabular}{r|lllllll}\n",
       "  & 1 & 2 & 3 & 4 & 6 & 8 & Sum\\\\\n",
       "\\hline\n",
       "\t3 & 3  &  4 & 3  &  5 & 0  & 0  & 15\\\\\n",
       "\t4 & 4  &  4 & 0  &  4 & 0  & 0  & 12\\\\\n",
       "\t5 & 0  &  2 & 0  &  1 & 1  & 1  &  5\\\\\n",
       "\tSum & 7  & 10 & 3  & 10 & 1  & 1  & 32\\\\\n",
       "\\end{tabular}\n"
      ],
      "text/markdown": [
       "\n",
       "| <!--/--> | 1 | 2 | 3 | 4 | 6 | 8 | Sum |\n",
       "|---|---|---|---|---|---|---|---|\n",
       "| 3 | 3  |  4 | 3  |  5 | 0  | 0  | 15 |\n",
       "| 4 | 4  |  4 | 0  |  4 | 0  | 0  | 12 |\n",
       "| 5 | 0  |  2 | 0  |  1 | 1  | 1  |  5 |\n",
       "| Sum | 7  | 10 | 3  | 10 | 1  | 1  | 32 |\n",
       "\n"
      ],
      "text/plain": [
       "     \n",
       "      1 2  3 4  6 8 Sum\n",
       "  3   3  4 3  5 0 0 15 \n",
       "  4   4  4 0  4 0 0 12 \n",
       "  5   0  2 0  1 1 1  5 \n",
       "  Sum 7 10 3 10 1 1 32 "
      ]
     },
     "metadata": {},
     "output_type": "display_data"
    }
   ],
   "source": [
    "# R - 도수분포표/교차표 지원함수\n",
    "# table(), ftable(), prop.table(), addmargins()함수\n",
    "\n",
    "# 1. ftable() \n",
    "# 2차원 교차표일경우 table()함수와 비슷한 결과를 얻지만 \n",
    "# 3차원 이상일 경우에는 table()함수보다 유용한 결과를 얻을 수 있다.\n",
    "ftable(vs~gear, data=mtcars)\n",
    "\n",
    "# 2. prop.table()\n",
    "# 도수분포표, 교차표의 상대도수값을 얻기 위하여 사용\n",
    "prop.table(table(mtcars$gear, mtcars$carb))\n",
    "prop.table(table(mtcars$gear, mtcars$carb),margin=1)\n",
    "\n",
    "# 3. addmargins()\n",
    "# 행과 열의 합을 계산하기 위한 함수(table, ftable, prop.table은 행과 열의 합을 계산 안함)\n",
    "addmargins(table(mtcars$gear, mtcars$carb))"
   ]
  },
  {
   "cell_type": "code",
   "execution_count": 14,
   "metadata": {},
   "outputs": [
    {
     "data": {
      "image/png": "[encoded data removed]",
      "text/plain": [
       "plot without title"
      ]
     },
     "metadata": {},
     "output_type": "display_data"
    }
   ],
   "source": [
    "# 실습4 : 6000회가 넘는 공항의 시각화(R의 기본막대그래프 barplot을 이용)\n",
    "barplot(SelectedDest)"
   ]
  },
  {
   "cell_type": "markdown",
   "metadata": {},
   "source": [
    "#### 2. 대장암환자 자료분석\n",
    "\n",
    "> 건강보험심사평가원의 보건의료 빅데이터 개방 시스템 : http://opendata.hira.or.kr/home.do"
   ]
  },
  {
   "cell_type": "code",
   "execution_count": 15,
   "metadata": {},
   "outputs": [
    {
     "name": "stdout",
     "output_type": "stream",
     "text": [
      "'data.frame':\t18310 obs. of  8 variables:\n",
      " $ age            : int  75 52 67 62 70 76 55 72 64 71 ...\n",
      " $ sex            : Factor w/ 2 levels \"남\",\"여\": 1 2 2 1 1 2 1 1 1 1 ...\n",
      " $ height         : Factor w/ 485 levels \"100\",\"130\",\"130.2\",..: 252 408 182 262 352 352 467 165 172 232 ...\n",
      " $ weight         : Factor w/ 638 levels \"100\",\"101\",\"101.1\",..: 333 446 349 263 343 563 463 243 363 248 ...\n",
      " $ dateOfoperation: Factor w/ 351 levels \"2011-01-02\",\"2011-01-03\",..: 165 134 146 164 154 160 164 147 219 192 ...\n",
      " $ cancerStaging  : Factor w/ 5 levels \"I\",\"II\",\"III\",..: 1 4 3 1 2 3 2 3 1 2 ...\n",
      " $ hospitalization: int  48 17 10 11 10 10 12 18 15 35 ...\n",
      " $ diseaseCode    : Factor w/ 13 levels \"C18\",\"C180\",\"C181\",..: 9 9 9 9 4 11 9 4 13 11 ...\n"
     ]
    }
   ],
   "source": [
    "# 데이터로딩\n",
    "# df()라는 내장함수가 있기 때문에 df는 변수명으로 사용하지 말 것\n",
    "DF <- read.csv('../data/R/example_cancer.csv')\n",
    "str(DF)"
   ]
  },
  {
   "cell_type": "code",
   "execution_count": 16,
   "metadata": {},
   "outputs": [
    {
     "data": {
      "text/plain": [
       "\n",
       "  (10,20]   (20,30]   (30,40]   (40,50]   (50,60]   (60,70]   (70,80]   (80,90] \n",
       "        3        77       482      1917      4558      5679      4598       962 \n",
       " (90,100] (100,110] \n",
       "       33         1 "
      ]
     },
     "metadata": {},
     "output_type": "display_data"
    }
   ],
   "source": [
    "# 년령대별 도수분포 구하기\n",
    "# cut() 함수 : 데이터를 구간별로 구분\n",
    "# breaks=(1:11) : 1~11까지 * 10 -> 10,20....110\n",
    "DegreeOfAge <- table(cut(DF$age, breaks=(1:11)*10))\n",
    "DegreeOfAge"
   ]
  },
  {
   "cell_type": "code",
   "execution_count": 17,
   "metadata": {},
   "outputs": [
    {
     "data": {
      "text/plain": [
       "\n",
       " 10대  20대  30대  40대  50대  60대  70대  80대  90대 100대 \n",
       "    3    77   482  1917  4558  5679  4598   962    33     1 "
      ]
     },
     "metadata": {},
     "output_type": "display_data"
    }
   ],
   "source": [
    "# 행이름을 부여\n",
    "rownames(DegreeOfAge) <- c('10대', '20대', '30대', '40대', '50대', '60대', \n",
    "                           '70대', '80대', '90대', '100대')\n",
    "DegreeOfAge"
   ]
  },
  {
   "cell_type": "code",
   "execution_count": 18,
   "metadata": {},
   "outputs": [
    {
     "name": "stdout",
     "output_type": "stream",
     "text": [
      "package 'ggthemes' successfully unpacked and MD5 sums checked\n",
      "\n",
      "The downloaded binary packages are in\n",
      "\tC:\\Users\\TJOEUN-JR\\AppData\\Local\\Temp\\RtmpUxIbRT\\downloaded_packages\n"
     ]
    }
   ],
   "source": [
    "install.packages(\"ggthemes\")"
   ]
  },
  {
   "cell_type": "code",
   "execution_count": 19,
   "metadata": {},
   "outputs": [
    {
     "name": "stderr",
     "output_type": "stream",
     "text": [
      "Registered S3 methods overwritten by 'ggplot2':\n",
      "  method         from \n",
      "  [.quosures     rlang\n",
      "  c.quosures     rlang\n",
      "  print.quosures rlang\n",
      "Warning message:\n",
      "\"package 'ggthemes' was built under R version 3.6.3\""
     ]
    },
    {
     "data": {
      "image/png": "[encoded data removed]",
      "text/plain": [
       "plot without title"
      ]
     },
     "metadata": {},
     "output_type": "display_data"
    }
   ],
   "source": [
    "# 데이터시각화\n",
    "library(\"ggplot2\")\n",
    "library(ggthemes)\n",
    "ggplot(data=DF, aes(x=age)) +\n",
    "    geom_freqpoly(binwidth=10, size=1.4, colour=\"orange\") +\n",
    "    theme_wsj()"
   ]
  },
  {
   "cell_type": "code",
   "execution_count": 20,
   "metadata": {},
   "outputs": [
    {
     "data": {
      "image/png": "[encoded data removed]",
      "text/plain": [
       "plot without title"
      ]
     },
     "metadata": {},
     "output_type": "display_data"
    }
   ],
   "source": [
    "# binwidth=1 : 구간변경\n",
    "ggplot(data=DF, aes(x=age)) +\n",
    "    geom_freqpoly(binwidth=1, size=1.4, colour=\"orange\") +\n",
    "    theme_wsj()"
   ]
  },
  {
   "cell_type": "markdown",
   "metadata": {},
   "source": [
    "#### 3. 전국 커피샵 폐업/영업상황 분석\n",
    "\n",
    ">공공데이터포털 : http://www.data.go.kr"
   ]
  },
  {
   "cell_type": "code",
   "execution_count": 21,
   "metadata": {},
   "outputs": [
    {
     "name": "stdout",
     "output_type": "stream",
     "text": [
      "package 'data.table' successfully unpacked and MD5 sums checked\n"
     ]
    },
    {
     "name": "stderr",
     "output_type": "stream",
     "text": [
      "Warning message:\n",
      "\"cannot remove prior installation of package 'data.table'\"Warning message in file.copy(savedcopy, lib, recursive = TRUE):\n",
      "\"C:\\ProgramData\\Anaconda3\\Lib\\R\\library\\00LOCK\\data.table\\DESCRIPTION를 C:\\ProgramData\\Anaconda3\\Lib\\R\\library\\data.table\\DESCRIPTION로 복사하는데 문제가 발생했습니다: Permission denied\"Warning message in file.copy(savedcopy, lib, recursive = TRUE):\n",
      "\"C:\\ProgramData\\Anaconda3\\Lib\\R\\library\\00LOCK\\data.table\\doc\\datatable-benchmarking.html를 C:\\ProgramData\\Anaconda3\\Lib\\R\\library\\data.table\\doc\\datatable-benchmarking.html로 복사하는데 문제가 발생했습니다: Permission denied\"Warning message in file.copy(savedcopy, lib, recursive = TRUE):\n",
      "\"C:\\ProgramData\\Anaconda3\\Lib\\R\\library\\00LOCK\\data.table\\doc\\datatable-benchmarking.Rmd를 C:\\ProgramData\\Anaconda3\\Lib\\R\\library\\data.table\\doc\\datatable-benchmarking.Rmd로 복사하는데 문제가 발생했습니다: Permission denied\"Warning message in file.copy(savedcopy, lib, recursive = TRUE):\n",
      "\"C:\\ProgramData\\Anaconda3\\Lib\\R\\library\\00LOCK\\data.table\\doc\\datatable-faq.html를 C:\\ProgramData\\Anaconda3\\Lib\\R\\library\\data.table\\doc\\datatable-faq.html로 복사하는데 문제가 발생했습니다: Permission denied\"Warning message in file.copy(savedcopy, lib, recursive = TRUE):\n",
      "\"C:\\ProgramData\\Anaconda3\\Lib\\R\\library\\00LOCK\\data.table\\doc\\datatable-faq.R를 C:\\ProgramData\\Anaconda3\\Lib\\R\\library\\data.table\\doc\\datatable-faq.R로 복사하는데 문제가 발생했습니다: Permission denied\"Warning message in file.copy(savedcopy, lib, recursive = TRUE):\n",
      "\"C:\\ProgramData\\Anaconda3\\Lib\\R\\library\\00LOCK\\data.table\\doc\\datatable-faq.Rmd를 C:\\ProgramData\\Anaconda3\\Lib\\R\\library\\data.table\\doc\\datatable-faq.Rmd로 복사하는데 문제가 발생했습니다: Permission denied\"Warning message in file.copy(savedcopy, lib, recursive = TRUE):\n",
      "\"C:\\ProgramData\\Anaconda3\\Lib\\R\\library\\00LOCK\\data.table\\doc\\datatable-importing.html를 C:\\ProgramData\\Anaconda3\\Lib\\R\\library\\data.table\\doc\\datatable-importing.html로 복사하는데 문제가 발생했습니다: Permission denied\"Warning message in file.copy(savedcopy, lib, recursive = TRUE):\n",
      "\"C:\\ProgramData\\Anaconda3\\Lib\\R\\library\\00LOCK\\data.table\\doc\\datatable-importing.Rmd를 C:\\ProgramData\\Anaconda3\\Lib\\R\\library\\data.table\\doc\\datatable-importing.Rmd로 복사하는데 문제가 발생했습니다: Permission denied\"Warning message in file.copy(savedcopy, lib, recursive = TRUE):\n",
      "\"C:\\ProgramData\\Anaconda3\\Lib\\R\\library\\00LOCK\\data.table\\doc\\datatable-intro.html를 C:\\ProgramData\\Anaconda3\\Lib\\R\\library\\data.table\\doc\\datatable-intro.html로 복사하는데 문제가 발생했습니다: Permission denied\"Warning message in file.copy(savedcopy, lib, recursive = TRUE):\n",
      "\"C:\\ProgramData\\Anaconda3\\Lib\\R\\library\\00LOCK\\data.table\\doc\\datatable-intro.R를 C:\\ProgramData\\Anaconda3\\Lib\\R\\library\\data.table\\doc\\datatable-intro.R로 복사하는데 문제가 발생했습니다: Permission denied\"Warning message in file.copy(savedcopy, lib, recursive = TRUE):\n",
      "\"C:\\ProgramData\\Anaconda3\\Lib\\R\\library\\00LOCK\\data.table\\doc\\datatable-intro.Rmd를 C:\\ProgramData\\Anaconda3\\Lib\\R\\library\\data.table\\doc\\datatable-intro.Rmd로 복사하는데 문제가 발생했습니다: Permission denied\"Warning message in file.copy(savedcopy, lib, recursive = TRUE):\n",
      "\"C:\\ProgramData\\Anaconda3\\Lib\\R\\library\\00LOCK\\data.table\\doc\\datatable-keys-fast-subset.html를 C:\\ProgramData\\Anaconda3\\Lib\\R\\library\\data.table\\doc\\datatable-keys-fast-subset.html로 복사하는데 문제가 발생했습니다: Permission denied\"Warning message in file.copy(savedcopy, lib, recursive = TRUE):\n",
      "\"C:\\ProgramData\\Anaconda3\\Lib\\R\\library\\00LOCK\\data.table\\doc\\datatable-keys-fast-subset.R를 C:\\ProgramData\\Anaconda3\\Lib\\R\\library\\data.table\\doc\\datatable-keys-fast-subset.R로 복사하는데 문제가 발생했습니다: Permission denied\"Warning message in file.copy(savedcopy, lib, recursive = TRUE):\n",
      "\"C:\\ProgramData\\Anaconda3\\Lib\\R\\library\\00LOCK\\data.table\\doc\\datatable-keys-fast-subset.Rmd를 C:\\ProgramData\\Anaconda3\\Lib\\R\\library\\data.table\\doc\\datatable-keys-fast-subset.Rmd로 복사하는데 문제가 발생했습니다: Permission denied\"Warning message in file.copy(savedcopy, lib, recursive = TRUE):\n",
      "\"C:\\ProgramData\\Anaconda3\\Lib\\R\\library\\00LOCK\\data.table\\doc\\datatable-reference-semantics.html를 C:\\ProgramData\\Anaconda3\\Lib\\R\\library\\data.table\\doc\\datatable-reference-semantics.html로 복사하는데 문제가 발생했습니다: Permission denied\"Warning message in file.copy(savedcopy, lib, recursive = TRUE):\n",
      "\"C:\\ProgramData\\Anaconda3\\Lib\\R\\library\\00LOCK\\data.table\\doc\\datatable-reference-semantics.R를 C:\\ProgramData\\Anaconda3\\Lib\\R\\library\\data.table\\doc\\datatable-reference-semantics.R로 복사하는데 문제가 발생했습니다: Permission denied\"Warning message in file.copy(savedcopy, lib, recursive = TRUE):\n",
      "\"C:\\ProgramData\\Anaconda3\\Lib\\R\\library\\00LOCK\\data.table\\doc\\datatable-reference-semantics.Rmd를 C:\\ProgramData\\Anaconda3\\Lib\\R\\library\\data.table\\doc\\datatable-reference-semantics.Rmd로 복사하는데 문제가 발생했습니다: Permission denied\"Warning message in file.copy(savedcopy, lib, recursive = TRUE):\n",
      "\"C:\\ProgramData\\Anaconda3\\Lib\\R\\library\\00LOCK\\data.table\\doc\\datatable-reshape.html를 C:\\ProgramData\\Anaconda3\\Lib\\R\\library\\data.table\\doc\\datatable-reshape.html로 복사하는데 문제가 발생했습니다: Permission denied\"Warning message in file.copy(savedcopy, lib, recursive = TRUE):\n",
      "\"C:\\ProgramData\\Anaconda3\\Lib\\R\\library\\00LOCK\\data.table\\doc\\datatable-reshape.R를 C:\\ProgramData\\Anaconda3\\Lib\\R\\library\\data.table\\doc\\datatable-reshape.R로 복사하는데 문제가 발생했습니다: Permission denied\"Warning message in file.copy(savedcopy, lib, recursive = TRUE):\n",
      "\"C:\\ProgramData\\Anaconda3\\Lib\\R\\library\\00LOCK\\data.table\\doc\\datatable-reshape.Rmd를 C:\\ProgramData\\Anaconda3\\Lib\\R\\library\\data.table\\doc\\datatable-reshape.Rmd로 복사하는데 문제가 발생했습니다: Permission denied\"Warning message in file.copy(savedcopy, lib, recursive = TRUE):\n",
      "\"C:\\ProgramData\\Anaconda3\\Lib\\R\\library\\00LOCK\\data.table\\doc\\datatable-secondary-indices-and-auto-indexing.html를 C:\\ProgramData\\Anaconda3\\Lib\\R\\library\\data.table\\doc\\datatable-secondary-indices-and-auto-indexing.html로 복사하는데 문제가 발생했습니다: Permission denied\"Warning message in file.copy(savedcopy, lib, recursive = TRUE):\n",
      "\"C:\\ProgramData\\Anaconda3\\Lib\\R\\library\\00LOCK\\data.table\\doc\\datatable-secondary-indices-and-auto-indexing.R를 C:\\ProgramData\\Anaconda3\\Lib\\R\\library\\data.table\\doc\\datatable-secondary-indices-and-auto-indexing.R로 복사하는데 문제가 발생했습니다: Permission denied\"Warning message in file.copy(savedcopy, lib, recursive = TRUE):\n",
      "\"C:\\ProgramData\\Anaconda3\\Lib\\R\\library\\00LOCK\\data.table\\doc\\datatable-secondary-indices-and-auto-indexing.Rmd를 C:\\ProgramData\\Anaconda3\\Lib\\R\\library\\data.table\\doc\\datatable-secondary-indices-and-auto-indexing.Rmd로 복사하는데 문제가 발생했습니다: Permission denied\"Warning message in file.copy(savedcopy, lib, recursive = TRUE):\n",
      "\"C:\\ProgramData\\Anaconda3\\Lib\\R\\library\\00LOCK\\data.table\\doc\\index.html를 C:\\ProgramData\\Anaconda3\\Lib\\R\\library\\data.table\\doc\\index.html로 복사하는데 문제가 발생했습니다: Permission denied\"Warning message in file.copy(savedcopy, lib, recursive = TRUE):\n",
      "\"C:\\ProgramData\\Anaconda3\\Lib\\R\\library\\00LOCK\\data.table\\help\\aliases.rds를 C:\\ProgramData\\Anaconda3\\Lib\\R\\library\\data.table\\help\\aliases.rds로 복사하는데 문제가 발생했습니다: Permission denied\"Warning message in file.copy(savedcopy, lib, recursive = TRUE):\n",
      "\"C:\\ProgramData\\Anaconda3\\Lib\\R\\library\\00LOCK\\data.table\\help\\AnIndex를 C:\\ProgramData\\Anaconda3\\Lib\\R\\library\\data.table\\help\\AnIndex로 복사하는데 문제가 발생했습니다: Permission denied\"Warning message in file.copy(savedcopy, lib, recursive = TRUE):\n",
      "\"C:\\ProgramData\\Anaconda3\\Lib\\R\\library\\00LOCK\\data.table\\help\\data.table.rdb를 C:\\ProgramData\\Anaconda3\\Lib\\R\\library\\data.table\\help\\data.table.rdb로 복사하는데 문제가 발생했습니다: Permission denied\"Warning message in file.copy(savedcopy, lib, recursive = TRUE):\n",
      "\"C:\\ProgramData\\Anaconda3\\Lib\\R\\library\\00LOCK\\data.table\\help\\data.table.rdx를 C:\\ProgramData\\Anaconda3\\Lib\\R\\library\\data.table\\help\\data.table.rdx로 복사하는데 문제가 발생했습니다: Permission denied\"Warning message in file.copy(savedcopy, lib, recursive = TRUE):\n",
      "\"C:\\ProgramData\\Anaconda3\\Lib\\R\\library\\00LOCK\\data.table\\help\\paths.rds를 C:\\ProgramData\\Anaconda3\\Lib\\R\\library\\data.table\\help\\paths.rds로 복사하는데 문제가 발생했습니다: Permission denied\"Warning message in file.copy(savedcopy, lib, recursive = TRUE):\n",
      "\"C:\\ProgramData\\Anaconda3\\Lib\\R\\library\\00LOCK\\data.table\\html\\00Index.html를 C:\\ProgramData\\Anaconda3\\Lib\\R\\library\\data.table\\html\\00Index.html로 복사하는데 문제가 발생했습니다: Permission denied\"Warning message in file.copy(savedcopy, lib, recursive = TRUE):\n"
     ]
    },
    {
     "name": "stderr",
     "output_type": "stream",
     "text": [
      "\"C:\\ProgramData\\Anaconda3\\Lib\\R\\library\\00LOCK\\data.table\\html\\address.html를 C:\\ProgramData\\Anaconda3\\Lib\\R\\library\\data.table\\html\\address.html로 복사하는데 문제가 발생했습니다: Permission denied\"Warning message in file.copy(savedcopy, lib, recursive = TRUE):\n",
      "\"C:\\ProgramData\\Anaconda3\\Lib\\R\\library\\00LOCK\\data.table\\html\\all.equal.data.table.html를 C:\\ProgramData\\Anaconda3\\Lib\\R\\library\\data.table\\html\\all.equal.data.table.html로 복사하는데 문제가 발생했습니다: Permission denied\"Warning message in file.copy(savedcopy, lib, recursive = TRUE):\n",
      "\"C:\\ProgramData\\Anaconda3\\Lib\\R\\library\\00LOCK\\data.table\\html\\as.data.table.html를 C:\\ProgramData\\Anaconda3\\Lib\\R\\library\\data.table\\html\\as.data.table.html로 복사하는데 문제가 발생했습니다: Permission denied\"Warning message in file.copy(savedcopy, lib, recursive = TRUE):\n",
      "\"C:\\ProgramData\\Anaconda3\\Lib\\R\\library\\00LOCK\\data.table\\html\\as.data.table.xts.html를 C:\\ProgramData\\Anaconda3\\Lib\\R\\library\\data.table\\html\\as.data.table.xts.html로 복사하는데 문제가 발생했습니다: Permission denied\"Warning message in file.copy(savedcopy, lib, recursive = TRUE):\n",
      "\"C:\\ProgramData\\Anaconda3\\Lib\\R\\library\\00LOCK\\data.table\\html\\as.matrix.html를 C:\\ProgramData\\Anaconda3\\Lib\\R\\library\\data.table\\html\\as.matrix.html로 복사하는데 문제가 발생했습니다: Permission denied\"Warning message in file.copy(savedcopy, lib, recursive = TRUE):\n",
      "\"C:\\ProgramData\\Anaconda3\\Lib\\R\\library\\00LOCK\\data.table\\html\\as.xts.data.table.html를 C:\\ProgramData\\Anaconda3\\Lib\\R\\library\\data.table\\html\\as.xts.data.table.html로 복사하는데 문제가 발생했습니다: Permission denied\"Warning message in file.copy(savedcopy, lib, recursive = TRUE):\n",
      "\"C:\\ProgramData\\Anaconda3\\Lib\\R\\library\\00LOCK\\data.table\\html\\assign.html를 C:\\ProgramData\\Anaconda3\\Lib\\R\\library\\data.table\\html\\assign.html로 복사하는데 문제가 발생했습니다: Permission denied\"Warning message in file.copy(savedcopy, lib, recursive = TRUE):\n",
      "\"C:\\ProgramData\\Anaconda3\\Lib\\R\\library\\00LOCK\\data.table\\html\\between.html를 C:\\ProgramData\\Anaconda3\\Lib\\R\\library\\data.table\\html\\between.html로 복사하는데 문제가 발생했습니다: Permission denied\"Warning message in file.copy(savedcopy, lib, recursive = TRUE):\n",
      "\"C:\\ProgramData\\Anaconda3\\Lib\\R\\library\\00LOCK\\data.table\\html\\chmatch.html를 C:\\ProgramData\\Anaconda3\\Lib\\R\\library\\data.table\\html\\chmatch.html로 복사하는데 문제가 발생했습니다: Permission denied\"Warning message in file.copy(savedcopy, lib, recursive = TRUE):\n",
      "\"C:\\ProgramData\\Anaconda3\\Lib\\R\\library\\00LOCK\\data.table\\html\\copy.html를 C:\\ProgramData\\Anaconda3\\Lib\\R\\library\\data.table\\html\\copy.html로 복사하는데 문제가 발생했습니다: Permission denied\"Warning message in file.copy(savedcopy, lib, recursive = TRUE):\n",
      "\"C:\\ProgramData\\Anaconda3\\Lib\\R\\library\\00LOCK\\data.table\\html\\data.table-class.html를 C:\\ProgramData\\Anaconda3\\Lib\\R\\library\\data.table\\html\\data.table-class.html로 복사하는데 문제가 발생했습니다: Permission denied\"Warning message in file.copy(savedcopy, lib, recursive = TRUE):\n",
      "\"C:\\ProgramData\\Anaconda3\\Lib\\R\\library\\00LOCK\\data.table\\html\\data.table.html를 C:\\ProgramData\\Anaconda3\\Lib\\R\\library\\data.table\\html\\data.table.html로 복사하는데 문제가 발생했습니다: Permission denied\"Warning message in file.copy(savedcopy, lib, recursive = TRUE):\n",
      "\"C:\\ProgramData\\Anaconda3\\Lib\\R\\library\\00LOCK\\data.table\\html\\datatable-optimize.html를 C:\\ProgramData\\Anaconda3\\Lib\\R\\library\\data.table\\html\\datatable-optimize.html로 복사하는데 문제가 발생했습니다: Permission denied\"Warning message in file.copy(savedcopy, lib, recursive = TRUE):\n",
      "\"C:\\ProgramData\\Anaconda3\\Lib\\R\\library\\00LOCK\\data.table\\html\\dcast.data.table.html를 C:\\ProgramData\\Anaconda3\\Lib\\R\\library\\data.table\\html\\dcast.data.table.html로 복사하는데 문제가 발생했습니다: Permission denied\"Warning message in file.copy(savedcopy, lib, recursive = TRUE):\n",
      "\"C:\\ProgramData\\Anaconda3\\Lib\\R\\library\\00LOCK\\data.table\\html\\duplicated.html를 C:\\ProgramData\\Anaconda3\\Lib\\R\\library\\data.table\\html\\duplicated.html로 복사하는데 문제가 발생했습니다: Permission denied\"Warning message in file.copy(savedcopy, lib, recursive = TRUE):\n",
      "\"C:\\ProgramData\\Anaconda3\\Lib\\R\\library\\00LOCK\\data.table\\html\\first.html를 C:\\ProgramData\\Anaconda3\\Lib\\R\\library\\data.table\\html\\first.html로 복사하는데 문제가 발생했습니다: Permission denied\"Warning message in file.copy(savedcopy, lib, recursive = TRUE):\n",
      "\"C:\\ProgramData\\Anaconda3\\Lib\\R\\library\\00LOCK\\data.table\\html\\foverlaps.html를 C:\\ProgramData\\Anaconda3\\Lib\\R\\library\\data.table\\html\\foverlaps.html로 복사하는데 문제가 발생했습니다: Permission denied\"Warning message in file.copy(savedcopy, lib, recursive = TRUE):\n",
      "\"C:\\ProgramData\\Anaconda3\\Lib\\R\\library\\00LOCK\\data.table\\html\\frank.html를 C:\\ProgramData\\Anaconda3\\Lib\\R\\library\\data.table\\html\\frank.html로 복사하는데 문제가 발생했습니다: Permission denied\"Warning message in file.copy(savedcopy, lib, recursive = TRUE):\n",
      "\"C:\\ProgramData\\Anaconda3\\Lib\\R\\library\\00LOCK\\data.table\\html\\fread.html를 C:\\ProgramData\\Anaconda3\\Lib\\R\\library\\data.table\\html\\fread.html로 복사하는데 문제가 발생했습니다: Permission denied\"Warning message in file.copy(savedcopy, lib, recursive = TRUE):\n",
      "\"C:\\ProgramData\\Anaconda3\\Lib\\R\\library\\00LOCK\\data.table\\html\\froll.html를 C:\\ProgramData\\Anaconda3\\Lib\\R\\library\\data.table\\html\\froll.html로 복사하는데 문제가 발생했습니다: Permission denied\"Warning message in file.copy(savedcopy, lib, recursive = TRUE):\n",
      "\"C:\\ProgramData\\Anaconda3\\Lib\\R\\library\\00LOCK\\data.table\\html\\fsort.html를 C:\\ProgramData\\Anaconda3\\Lib\\R\\library\\data.table\\html\\fsort.html로 복사하는데 문제가 발생했습니다: Permission denied\"Warning message in file.copy(savedcopy, lib, recursive = TRUE):\n",
      "\"C:\\ProgramData\\Anaconda3\\Lib\\R\\library\\00LOCK\\data.table\\html\\fwrite.html를 C:\\ProgramData\\Anaconda3\\Lib\\R\\library\\data.table\\html\\fwrite.html로 복사하는데 문제가 발생했습니다: Permission denied\"Warning message in file.copy(savedcopy, lib, recursive = TRUE):\n",
      "\"C:\\ProgramData\\Anaconda3\\Lib\\R\\library\\00LOCK\\data.table\\html\\groupingsets.html를 C:\\ProgramData\\Anaconda3\\Lib\\R\\library\\data.table\\html\\groupingsets.html로 복사하는데 문제가 발생했습니다: Permission denied\"Warning message in file.copy(savedcopy, lib, recursive = TRUE):\n",
      "\"C:\\ProgramData\\Anaconda3\\Lib\\R\\library\\00LOCK\\data.table\\html\\IDateTime.html를 C:\\ProgramData\\Anaconda3\\Lib\\R\\library\\data.table\\html\\IDateTime.html로 복사하는데 문제가 발생했습니다: Permission denied\"Warning message in file.copy(savedcopy, lib, recursive = TRUE):\n",
      "\"C:\\ProgramData\\Anaconda3\\Lib\\R\\library\\00LOCK\\data.table\\html\\J.html를 C:\\ProgramData\\Anaconda3\\Lib\\R\\library\\data.table\\html\\J.html로 복사하는데 문제가 발생했습니다: Permission denied\"Warning message in file.copy(savedcopy, lib, recursive = TRUE):\n",
      "\"C:\\ProgramData\\Anaconda3\\Lib\\R\\library\\00LOCK\\data.table\\html\\last.html를 C:\\ProgramData\\Anaconda3\\Lib\\R\\library\\data.table\\html\\last.html로 복사하는데 문제가 발생했습니다: Permission denied\"Warning message in file.copy(savedcopy, lib, recursive = TRUE):\n",
      "\"C:\\ProgramData\\Anaconda3\\Lib\\R\\library\\00LOCK\\data.table\\html\\like.html를 C:\\ProgramData\\Anaconda3\\Lib\\R\\library\\data.table\\html\\like.html로 복사하는데 문제가 발생했습니다: Permission denied\"Warning message in file.copy(savedcopy, lib, recursive = TRUE):\n",
      "\"C:\\ProgramData\\Anaconda3\\Lib\\R\\library\\00LOCK\\data.table\\html\\melt.data.table.html를 C:\\ProgramData\\Anaconda3\\Lib\\R\\library\\data.table\\html\\melt.data.table.html로 복사하는데 문제가 발생했습니다: Permission denied\"Warning message in file.copy(savedcopy, lib, recursive = TRUE):\n",
      "\"C:\\ProgramData\\Anaconda3\\Lib\\R\\library\\00LOCK\\data.table\\html\\merge.html를 C:\\ProgramData\\Anaconda3\\Lib\\R\\library\\data.table\\html\\merge.html로 복사하는데 문제가 발생했습니다: Permission denied\"Warning message in file.copy(savedcopy, lib, recursive = TRUE):\n",
      "\"C:\\ProgramData\\Anaconda3\\Lib\\R\\library\\00LOCK\\data.table\\html\\na.omit.data.table.html를 C:\\ProgramData\\Anaconda3\\Lib\\R\\library\\data.table\\html\\na.omit.data.table.html로 복사하는데 문제가 발생했습니다: Permission denied\"Warning message in file.copy(savedcopy, lib, recursive = TRUE):\n",
      "\"C:\\ProgramData\\Anaconda3\\Lib\\R\\library\\00LOCK\\data.table\\html\\openmp-utils.html를 C:\\ProgramData\\Anaconda3\\Lib\\R\\library\\data.table\\html\\openmp-utils.html로 복사하는데 문제가 발생했습니다: Permission denied\"Warning message in file.copy(savedcopy, lib, recursive = TRUE):\n",
      "\"C:\\ProgramData\\Anaconda3\\Lib\\R\\library\\00LOCK\\data.table\\html\\patterns.html를 C:\\ProgramData\\Anaconda3\\Lib\\R\\library\\data.table\\html\\patterns.html로 복사하는데 문제가 발생했습니다: Permission denied\"Warning message in file.copy(savedcopy, lib, recursive = TRUE):\n"
     ]
    },
    {
     "name": "stderr",
     "output_type": "stream",
     "text": [
      "\"C:\\ProgramData\\Anaconda3\\Lib\\R\\library\\00LOCK\\data.table\\html\\print.data.table.html를 C:\\ProgramData\\Anaconda3\\Lib\\R\\library\\data.table\\html\\print.data.table.html로 복사하는데 문제가 발생했습니다: Permission denied\"Warning message in file.copy(savedcopy, lib, recursive = TRUE):\n",
      "\"C:\\ProgramData\\Anaconda3\\Lib\\R\\library\\00LOCK\\data.table\\html\\R.css를 C:\\ProgramData\\Anaconda3\\Lib\\R\\library\\data.table\\html\\R.css로 복사하는데 문제가 발생했습니다: Permission denied\"Warning message in file.copy(savedcopy, lib, recursive = TRUE):\n",
      "\"C:\\ProgramData\\Anaconda3\\Lib\\R\\library\\00LOCK\\data.table\\html\\rbindlist.html를 C:\\ProgramData\\Anaconda3\\Lib\\R\\library\\data.table\\html\\rbindlist.html로 복사하는데 문제가 발생했습니다: Permission denied\"Warning message in file.copy(savedcopy, lib, recursive = TRUE):\n",
      "\"C:\\ProgramData\\Anaconda3\\Lib\\R\\library\\00LOCK\\data.table\\html\\rleid.html를 C:\\ProgramData\\Anaconda3\\Lib\\R\\library\\data.table\\html\\rleid.html로 복사하는데 문제가 발생했습니다: Permission denied\"Warning message in file.copy(savedcopy, lib, recursive = TRUE):\n",
      "\"C:\\ProgramData\\Anaconda3\\Lib\\R\\library\\00LOCK\\data.table\\html\\rowid.html를 C:\\ProgramData\\Anaconda3\\Lib\\R\\library\\data.table\\html\\rowid.html로 복사하는데 문제가 발생했습니다: Permission denied\"Warning message in file.copy(savedcopy, lib, recursive = TRUE):\n",
      "\"C:\\ProgramData\\Anaconda3\\Lib\\R\\library\\00LOCK\\data.table\\html\\set2key.html를 C:\\ProgramData\\Anaconda3\\Lib\\R\\library\\data.table\\html\\set2key.html로 복사하는데 문제가 발생했습니다: Permission denied\"Warning message in file.copy(savedcopy, lib, recursive = TRUE):\n",
      "\"C:\\ProgramData\\Anaconda3\\Lib\\R\\library\\00LOCK\\data.table\\html\\setattr.html를 C:\\ProgramData\\Anaconda3\\Lib\\R\\library\\data.table\\html\\setattr.html로 복사하는데 문제가 발생했습니다: Permission denied\"Warning message in file.copy(savedcopy, lib, recursive = TRUE):\n",
      "\"C:\\ProgramData\\Anaconda3\\Lib\\R\\library\\00LOCK\\data.table\\html\\setcolorder.html를 C:\\ProgramData\\Anaconda3\\Lib\\R\\library\\data.table\\html\\setcolorder.html로 복사하는데 문제가 발생했습니다: Permission denied\"Warning message in file.copy(savedcopy, lib, recursive = TRUE):\n",
      "\"C:\\ProgramData\\Anaconda3\\Lib\\R\\library\\00LOCK\\data.table\\html\\setDF.html를 C:\\ProgramData\\Anaconda3\\Lib\\R\\library\\data.table\\html\\setDF.html로 복사하는데 문제가 발생했습니다: Permission denied\"Warning message in file.copy(savedcopy, lib, recursive = TRUE):\n",
      "\"C:\\ProgramData\\Anaconda3\\Lib\\R\\library\\00LOCK\\data.table\\html\\setDT.html를 C:\\ProgramData\\Anaconda3\\Lib\\R\\library\\data.table\\html\\setDT.html로 복사하는데 문제가 발생했습니다: Permission denied\"Warning message in file.copy(savedcopy, lib, recursive = TRUE):\n",
      "\"C:\\ProgramData\\Anaconda3\\Lib\\R\\library\\00LOCK\\data.table\\html\\setkey.html를 C:\\ProgramData\\Anaconda3\\Lib\\R\\library\\data.table\\html\\setkey.html로 복사하는데 문제가 발생했습니다: Permission denied\"Warning message in file.copy(savedcopy, lib, recursive = TRUE):\n",
      "\"C:\\ProgramData\\Anaconda3\\Lib\\R\\library\\00LOCK\\data.table\\html\\setNumericRounding.html를 C:\\ProgramData\\Anaconda3\\Lib\\R\\library\\data.table\\html\\setNumericRounding.html로 복사하는데 문제가 발생했습니다: Permission denied\"Warning message in file.copy(savedcopy, lib, recursive = TRUE):\n",
      "\"C:\\ProgramData\\Anaconda3\\Lib\\R\\library\\00LOCK\\data.table\\html\\setops.html를 C:\\ProgramData\\Anaconda3\\Lib\\R\\library\\data.table\\html\\setops.html로 복사하는데 문제가 발생했습니다: Permission denied\"Warning message in file.copy(savedcopy, lib, recursive = TRUE):\n",
      "\"C:\\ProgramData\\Anaconda3\\Lib\\R\\library\\00LOCK\\data.table\\html\\setorder.html를 C:\\ProgramData\\Anaconda3\\Lib\\R\\library\\data.table\\html\\setorder.html로 복사하는데 문제가 발생했습니다: Permission denied\"Warning message in file.copy(savedcopy, lib, recursive = TRUE):\n",
      "\"C:\\ProgramData\\Anaconda3\\Lib\\R\\library\\00LOCK\\data.table\\html\\shift.html를 C:\\ProgramData\\Anaconda3\\Lib\\R\\library\\data.table\\html\\shift.html로 복사하는데 문제가 발생했습니다: Permission denied\"Warning message in file.copy(savedcopy, lib, recursive = TRUE):\n",
      "\"C:\\ProgramData\\Anaconda3\\Lib\\R\\library\\00LOCK\\data.table\\html\\shouldPrint.html를 C:\\ProgramData\\Anaconda3\\Lib\\R\\library\\data.table\\html\\shouldPrint.html로 복사하는데 문제가 발생했습니다: Permission denied\"Warning message in file.copy(savedcopy, lib, recursive = TRUE):\n",
      "\"C:\\ProgramData\\Anaconda3\\Lib\\R\\library\\00LOCK\\data.table\\html\\special-symbols.html를 C:\\ProgramData\\Anaconda3\\Lib\\R\\library\\data.table\\html\\special-symbols.html로 복사하는데 문제가 발생했습니다: Permission denied\"Warning message in file.copy(savedcopy, lib, recursive = TRUE):\n",
      "\"C:\\ProgramData\\Anaconda3\\Lib\\R\\library\\00LOCK\\data.table\\html\\split.html를 C:\\ProgramData\\Anaconda3\\Lib\\R\\library\\data.table\\html\\split.html로 복사하는데 문제가 발생했습니다: Permission denied\"Warning message in file.copy(savedcopy, lib, recursive = TRUE):\n",
      "\"C:\\ProgramData\\Anaconda3\\Lib\\R\\library\\00LOCK\\data.table\\html\\subset.data.table.html를 C:\\ProgramData\\Anaconda3\\Lib\\R\\library\\data.table\\html\\subset.data.table.html로 복사하는데 문제가 발생했습니다: Permission denied\"Warning message in file.copy(savedcopy, lib, recursive = TRUE):\n",
      "\"C:\\ProgramData\\Anaconda3\\Lib\\R\\library\\00LOCK\\data.table\\html\\tables.html를 C:\\ProgramData\\Anaconda3\\Lib\\R\\library\\data.table\\html\\tables.html로 복사하는데 문제가 발생했습니다: Permission denied\"Warning message in file.copy(savedcopy, lib, recursive = TRUE):\n",
      "\"C:\\ProgramData\\Anaconda3\\Lib\\R\\library\\00LOCK\\data.table\\html\\test.data.table.html를 C:\\ProgramData\\Anaconda3\\Lib\\R\\library\\data.table\\html\\test.data.table.html로 복사하는데 문제가 발생했습니다: Permission denied\"Warning message in file.copy(savedcopy, lib, recursive = TRUE):\n",
      "\"C:\\ProgramData\\Anaconda3\\Lib\\R\\library\\00LOCK\\data.table\\html\\timetaken.html를 C:\\ProgramData\\Anaconda3\\Lib\\R\\library\\data.table\\html\\timetaken.html로 복사하는데 문제가 발생했습니다: Permission denied\"Warning message in file.copy(savedcopy, lib, recursive = TRUE):\n",
      "\"C:\\ProgramData\\Anaconda3\\Lib\\R\\library\\00LOCK\\data.table\\html\\transform.data.table.html를 C:\\ProgramData\\Anaconda3\\Lib\\R\\library\\data.table\\html\\transform.data.table.html로 복사하는데 문제가 발생했습니다: Permission denied\"Warning message in file.copy(savedcopy, lib, recursive = TRUE):\n",
      "\"C:\\ProgramData\\Anaconda3\\Lib\\R\\library\\00LOCK\\data.table\\html\\transpose.html를 C:\\ProgramData\\Anaconda3\\Lib\\R\\library\\data.table\\html\\transpose.html로 복사하는데 문제가 발생했습니다: Permission denied\"Warning message in file.copy(savedcopy, lib, recursive = TRUE):\n",
      "\"C:\\ProgramData\\Anaconda3\\Lib\\R\\library\\00LOCK\\data.table\\html\\truelength.html를 C:\\ProgramData\\Anaconda3\\Lib\\R\\library\\data.table\\html\\truelength.html로 복사하는데 문제가 발생했습니다: Permission denied\"Warning message in file.copy(savedcopy, lib, recursive = TRUE):\n",
      "\"C:\\ProgramData\\Anaconda3\\Lib\\R\\library\\00LOCK\\data.table\\html\\tstrsplit.html를 C:\\ProgramData\\Anaconda3\\Lib\\R\\library\\data.table\\html\\tstrsplit.html로 복사하는데 문제가 발생했습니다: Permission denied\"Warning message in file.copy(savedcopy, lib, recursive = TRUE):\n",
      "\"C:\\ProgramData\\Anaconda3\\Lib\\R\\library\\00LOCK\\data.table\\html\\update.dev.pkg.html를 C:\\ProgramData\\Anaconda3\\Lib\\R\\library\\data.table\\html\\update.dev.pkg.html로 복사하는데 문제가 발생했습니다: Permission denied\"Warning message in file.copy(savedcopy, lib, recursive = TRUE):\n",
      "\"C:\\ProgramData\\Anaconda3\\Lib\\R\\library\\00LOCK\\data.table\\INDEX를 C:\\ProgramData\\Anaconda3\\Lib\\R\\library\\data.table\\INDEX로 복사하는데 문제가 발생했습니다: Permission denied\"Warning message in file.copy(savedcopy, lib, recursive = TRUE):\n",
      "\"C:\\ProgramData\\Anaconda3\\Lib\\R\\library\\00LOCK\\data.table\\libs\\x64\\datatable.dll를 C:\\ProgramData\\Anaconda3\\Lib\\R\\library\\data.table\\libs\\x64\\datatable.dll로 복사하는데 문제가 발생했습니다: Permission denied\"Warning message in file.copy(savedcopy, lib, recursive = TRUE):\n",
      "\"C:\\ProgramData\\Anaconda3\\Lib\\R\\library\\00LOCK\\data.table\\LICENSE를 C:\\ProgramData\\Anaconda3\\Lib\\R\\library\\data.table\\LICENSE로 복사하는데 문제가 발생했습니다: Permission denied\"Warning message in file.copy(savedcopy, lib, recursive = TRUE):\n",
      "\"C:\\ProgramData\\Anaconda3\\Lib\\R\\library\\00LOCK\\data.table\\MD5를 C:\\ProgramData\\Anaconda3\\Lib\\R\\library\\data.table\\MD5로 복사하는데 문제가 발생했습니다: Permission denied\"Warning message in file.copy(savedcopy, lib, recursive = TRUE):\n",
      "\"C:\\ProgramData\\Anaconda3\\Lib\\R\\library\\00LOCK\\data.table\\Meta\\features.rds를 C:\\ProgramData\\Anaconda3\\Lib\\R\\library\\data.table\\Meta\\features.rds로 복사하는데 문제가 발생했습니다: Permission denied\"Warning message in file.copy(savedcopy, lib, recursive = TRUE):\n",
      "\"C:\\ProgramData\\Anaconda3\\Lib\\R\\library\\00LOCK\\data.table\\Meta\\hsearch.rds를 C:\\ProgramData\\Anaconda3\\Lib\\R\\library\\data.table\\Meta\\hsearch.rds로 복사하는데 문제가 발생했습니다: Permission denied\"Warning message in file.copy(savedcopy, lib, recursive = TRUE):\n"
     ]
    },
    {
     "name": "stderr",
     "output_type": "stream",
     "text": [
      "\"C:\\ProgramData\\Anaconda3\\Lib\\R\\library\\00LOCK\\data.table\\Meta\\links.rds를 C:\\ProgramData\\Anaconda3\\Lib\\R\\library\\data.table\\Meta\\links.rds로 복사하는데 문제가 발생했습니다: Permission denied\"Warning message in file.copy(savedcopy, lib, recursive = TRUE):\n",
      "\"C:\\ProgramData\\Anaconda3\\Lib\\R\\library\\00LOCK\\data.table\\Meta\\nsInfo.rds를 C:\\ProgramData\\Anaconda3\\Lib\\R\\library\\data.table\\Meta\\nsInfo.rds로 복사하는데 문제가 발생했습니다: Permission denied\"Warning message in file.copy(savedcopy, lib, recursive = TRUE):\n",
      "\"C:\\ProgramData\\Anaconda3\\Lib\\R\\library\\00LOCK\\data.table\\Meta\\package.rds를 C:\\ProgramData\\Anaconda3\\Lib\\R\\library\\data.table\\Meta\\package.rds로 복사하는데 문제가 발생했습니다: Permission denied\"Warning message in file.copy(savedcopy, lib, recursive = TRUE):\n",
      "\"C:\\ProgramData\\Anaconda3\\Lib\\R\\library\\00LOCK\\data.table\\Meta\\Rd.rds를 C:\\ProgramData\\Anaconda3\\Lib\\R\\library\\data.table\\Meta\\Rd.rds로 복사하는데 문제가 발생했습니다: Permission denied\"Warning message in file.copy(savedcopy, lib, recursive = TRUE):\n",
      "\"C:\\ProgramData\\Anaconda3\\Lib\\R\\library\\00LOCK\\data.table\\Meta\\vignette.rds를 C:\\ProgramData\\Anaconda3\\Lib\\R\\library\\data.table\\Meta\\vignette.rds로 복사하는데 문제가 발생했습니다: Permission denied\"Warning message in file.copy(savedcopy, lib, recursive = TRUE):\n",
      "\"C:\\ProgramData\\Anaconda3\\Lib\\R\\library\\00LOCK\\data.table\\NAMESPACE를 C:\\ProgramData\\Anaconda3\\Lib\\R\\library\\data.table\\NAMESPACE로 복사하는데 문제가 발생했습니다: Permission denied\"Warning message in file.copy(savedcopy, lib, recursive = TRUE):\n",
      "\"C:\\ProgramData\\Anaconda3\\Lib\\R\\library\\00LOCK\\data.table\\NEWS.md를 C:\\ProgramData\\Anaconda3\\Lib\\R\\library\\data.table\\NEWS.md로 복사하는데 문제가 발생했습니다: Permission denied\"Warning message in file.copy(savedcopy, lib, recursive = TRUE):\n",
      "\"C:\\ProgramData\\Anaconda3\\Lib\\R\\library\\00LOCK\\data.table\\R\\data.table를 C:\\ProgramData\\Anaconda3\\Lib\\R\\library\\data.table\\R\\data.table로 복사하는데 문제가 발생했습니다: Permission denied\"Warning message in file.copy(savedcopy, lib, recursive = TRUE):\n",
      "\"C:\\ProgramData\\Anaconda3\\Lib\\R\\library\\00LOCK\\data.table\\R\\data.table.rdb를 C:\\ProgramData\\Anaconda3\\Lib\\R\\library\\data.table\\R\\data.table.rdb로 복사하는데 문제가 발생했습니다: Permission denied\"Warning message in file.copy(savedcopy, lib, recursive = TRUE):\n",
      "\"C:\\ProgramData\\Anaconda3\\Lib\\R\\library\\00LOCK\\data.table\\R\\data.table.rdx를 C:\\ProgramData\\Anaconda3\\Lib\\R\\library\\data.table\\R\\data.table.rdx로 복사하는데 문제가 발생했습니다: Permission denied\"Warning message in file.copy(savedcopy, lib, recursive = TRUE):\n",
      "\"C:\\ProgramData\\Anaconda3\\Lib\\R\\library\\00LOCK\\data.table\\tests\\1206FUT.txt를 C:\\ProgramData\\Anaconda3\\Lib\\R\\library\\data.table\\tests\\1206FUT.txt로 복사하는데 문제가 발생했습니다: Permission denied\"Warning message in file.copy(savedcopy, lib, recursive = TRUE):\n",
      "\"C:\\ProgramData\\Anaconda3\\Lib\\R\\library\\00LOCK\\data.table\\tests\\1680-fread-header-encoding.csv를 C:\\ProgramData\\Anaconda3\\Lib\\R\\library\\data.table\\tests\\1680-fread-header-encoding.csv로 복사하는데 문제가 발생했습니다: Permission denied\"Warning message in file.copy(savedcopy, lib, recursive = TRUE):\n",
      "\"C:\\ProgramData\\Anaconda3\\Lib\\R\\library\\00LOCK\\data.table\\tests\\2008head.csv를 C:\\ProgramData\\Anaconda3\\Lib\\R\\library\\data.table\\tests\\2008head.csv로 복사하는데 문제가 발생했습니다: Permission denied\"Warning message in file.copy(savedcopy, lib, recursive = TRUE):\n",
      "\"C:\\ProgramData\\Anaconda3\\Lib\\R\\library\\00LOCK\\data.table\\tests\\530_fread.txt를 C:\\ProgramData\\Anaconda3\\Lib\\R\\library\\data.table\\tests\\530_fread.txt로 복사하는데 문제가 발생했습니다: Permission denied\"Warning message in file.copy(savedcopy, lib, recursive = TRUE):\n",
      "\"C:\\ProgramData\\Anaconda3\\Lib\\R\\library\\00LOCK\\data.table\\tests\\536_fread_fill_1.txt를 C:\\ProgramData\\Anaconda3\\Lib\\R\\library\\data.table\\tests\\536_fread_fill_1.txt로 복사하는데 문제가 발생했습니다: Permission denied\"Warning message in file.copy(savedcopy, lib, recursive = TRUE):\n",
      "\"C:\\ProgramData\\Anaconda3\\Lib\\R\\library\\00LOCK\\data.table\\tests\\536_fread_fill_2.txt를 C:\\ProgramData\\Anaconda3\\Lib\\R\\library\\data.table\\tests\\536_fread_fill_2.txt로 복사하는데 문제가 발생했습니다: Permission denied\"Warning message in file.copy(savedcopy, lib, recursive = TRUE):\n",
      "\"C:\\ProgramData\\Anaconda3\\Lib\\R\\library\\00LOCK\\data.table\\tests\\536_fread_fill_3_extreme.txt를 C:\\ProgramData\\Anaconda3\\Lib\\R\\library\\data.table\\tests\\536_fread_fill_3_extreme.txt로 복사하는데 문제가 발생했습니다: Permission denied\"Warning message in file.copy(savedcopy, lib, recursive = TRUE):\n",
      "\"C:\\ProgramData\\Anaconda3\\Lib\\R\\library\\00LOCK\\data.table\\tests\\536_fread_fill_4.txt를 C:\\ProgramData\\Anaconda3\\Lib\\R\\library\\data.table\\tests\\536_fread_fill_4.txt로 복사하는데 문제가 발생했습니다: Permission denied\"Warning message in file.copy(savedcopy, lib, recursive = TRUE):\n",
      "\"C:\\ProgramData\\Anaconda3\\Lib\\R\\library\\00LOCK\\data.table\\tests\\allchar.csv.gz를 C:\\ProgramData\\Anaconda3\\Lib\\R\\library\\data.table\\tests\\allchar.csv.gz로 복사하는데 문제가 발생했습니다: Permission denied\"Warning message in file.copy(savedcopy, lib, recursive = TRUE):\n",
      "\"C:\\ProgramData\\Anaconda3\\Lib\\R\\library\\00LOCK\\data.table\\tests\\alluniquechar.csv를 C:\\ProgramData\\Anaconda3\\Lib\\R\\library\\data.table\\tests\\alluniquechar.csv로 복사하는데 문제가 발생했습니다: Permission denied\"Warning message in file.copy(savedcopy, lib, recursive = TRUE):\n",
      "\"C:\\ProgramData\\Anaconda3\\Lib\\R\\library\\00LOCK\\data.table\\tests\\bad.txt를 C:\\ProgramData\\Anaconda3\\Lib\\R\\library\\data.table\\tests\\bad.txt로 복사하는데 문제가 발생했습니다: Permission denied\"Warning message in file.copy(savedcopy, lib, recursive = TRUE):\n",
      "\"C:\\ProgramData\\Anaconda3\\Lib\\R\\library\\00LOCK\\data.table\\tests\\benchmark.Rraw를 C:\\ProgramData\\Anaconda3\\Lib\\R\\library\\data.table\\tests\\benchmark.Rraw로 복사하는데 문제가 발생했습니다: Permission denied\"Warning message in file.copy(savedcopy, lib, recursive = TRUE):\n",
      "\"C:\\ProgramData\\Anaconda3\\Lib\\R\\library\\00LOCK\\data.table\\tests\\ch11b.dat를 C:\\ProgramData\\Anaconda3\\Lib\\R\\library\\data.table\\tests\\ch11b.dat로 복사하는데 문제가 발생했습니다: Permission denied\"Warning message in file.copy(savedcopy, lib, recursive = TRUE):\n",
      "\"C:\\ProgramData\\Anaconda3\\Lib\\R\\library\\00LOCK\\data.table\\tests\\colnames4096.csv를 C:\\ProgramData\\Anaconda3\\Lib\\R\\library\\data.table\\tests\\colnames4096.csv로 복사하는데 문제가 발생했습니다: Permission denied\"Warning message in file.copy(savedcopy, lib, recursive = TRUE):\n",
      "\"C:\\ProgramData\\Anaconda3\\Lib\\R\\library\\00LOCK\\data.table\\tests\\doublequote_newline.csv를 C:\\ProgramData\\Anaconda3\\Lib\\R\\library\\data.table\\tests\\doublequote_newline.csv로 복사하는데 문제가 발생했습니다: Permission denied\"Warning message in file.copy(savedcopy, lib, recursive = TRUE):\n",
      "\"C:\\ProgramData\\Anaconda3\\Lib\\R\\library\\00LOCK\\data.table\\tests\\fillheader.csv를 C:\\ProgramData\\Anaconda3\\Lib\\R\\library\\data.table\\tests\\fillheader.csv로 복사하는데 문제가 발생했습니다: Permission denied\"Warning message in file.copy(savedcopy, lib, recursive = TRUE):\n",
      "\"C:\\ProgramData\\Anaconda3\\Lib\\R\\library\\00LOCK\\data.table\\tests\\fread_blank.txt를 C:\\ProgramData\\Anaconda3\\Lib\\R\\library\\data.table\\tests\\fread_blank.txt로 복사하는데 문제가 발생했습니다: Permission denied\"Warning message in file.copy(savedcopy, lib, recursive = TRUE):\n",
      "\"C:\\ProgramData\\Anaconda3\\Lib\\R\\library\\00LOCK\\data.table\\tests\\fread_blank2.txt를 C:\\ProgramData\\Anaconda3\\Lib\\R\\library\\data.table\\tests\\fread_blank2.txt로 복사하는데 문제가 발생했습니다: Permission denied\"Warning message in file.copy(savedcopy, lib, recursive = TRUE):\n",
      "\"C:\\ProgramData\\Anaconda3\\Lib\\R\\library\\00LOCK\\data.table\\tests\\fread_blank3.txt를 C:\\ProgramData\\Anaconda3\\Lib\\R\\library\\data.table\\tests\\fread_blank3.txt로 복사하는데 문제가 발생했습니다: Permission denied\"Warning message in file.copy(savedcopy, lib, recursive = TRUE):\n",
      "\"C:\\ProgramData\\Anaconda3\\Lib\\R\\library\\00LOCK\\data.table\\tests\\fread_line_error.csv를 C:\\ProgramData\\Anaconda3\\Lib\\R\\library\\data.table\\tests\\fread_line_error.csv로 복사하는데 문제가 발생했습니다: Permission denied\"Warning message in file.copy(savedcopy, lib, recursive = TRUE):\n",
      "\"C:\\ProgramData\\Anaconda3\\Lib\\R\\library\\00LOCK\\data.table\\tests\\froll.Rraw를 C:\\ProgramData\\Anaconda3\\Lib\\R\\library\\data.table\\tests\\froll.Rraw로 복사하는데 문제가 발생했습니다: Permission denied\"Warning message in file.copy(savedcopy, lib, recursive = TRUE):\n",
      "\"C:\\ProgramData\\Anaconda3\\Lib\\R\\library\\00LOCK\\data.table\\tests\\gb18030.txt를 C:\\ProgramData\\Anaconda3\\Lib\\R\\library\\data.table\\tests\\gb18030.txt로 복사하는데 문제가 발생했습니다: Permission denied\"Warning message in file.copy(savedcopy, lib, recursive = TRUE):\n"
     ]
    },
    {
     "name": "stderr",
     "output_type": "stream",
     "text": [
      "\"C:\\ProgramData\\Anaconda3\\Lib\\R\\library\\00LOCK\\data.table\\tests\\genotypes_genome.txt를 C:\\ProgramData\\Anaconda3\\Lib\\R\\library\\data.table\\tests\\genotypes_genome.txt로 복사하는데 문제가 발생했습니다: Permission denied\"Warning message in file.copy(savedcopy, lib, recursive = TRUE):\n",
      "\"C:\\ProgramData\\Anaconda3\\Lib\\R\\library\\00LOCK\\data.table\\tests\\grr.csv.gz를 C:\\ProgramData\\Anaconda3\\Lib\\R\\library\\data.table\\tests\\grr.csv.gz로 복사하는데 문제가 발생했습니다: Permission denied\"Warning message in file.copy(savedcopy, lib, recursive = TRUE):\n",
      "\"C:\\ProgramData\\Anaconda3\\Lib\\R\\library\\00LOCK\\data.table\\tests\\isoweek_test.csv를 C:\\ProgramData\\Anaconda3\\Lib\\R\\library\\data.table\\tests\\isoweek_test.csv로 복사하는데 문제가 발생했습니다: Permission denied\"Warning message in file.copy(savedcopy, lib, recursive = TRUE):\n",
      "\"C:\\ProgramData\\Anaconda3\\Lib\\R\\library\\00LOCK\\data.table\\tests\\issue_1087_utf8_bom.csv를 C:\\ProgramData\\Anaconda3\\Lib\\R\\library\\data.table\\tests\\issue_1087_utf8_bom.csv로 복사하는데 문제가 발생했습니다: Permission denied\"Warning message in file.copy(savedcopy, lib, recursive = TRUE):\n",
      "\"C:\\ProgramData\\Anaconda3\\Lib\\R\\library\\00LOCK\\data.table\\tests\\issue_1095_fread.txt를 C:\\ProgramData\\Anaconda3\\Lib\\R\\library\\data.table\\tests\\issue_1095_fread.txt로 복사하는데 문제가 발생했습니다: Permission denied\"Warning message in file.copy(savedcopy, lib, recursive = TRUE):\n",
      "\"C:\\ProgramData\\Anaconda3\\Lib\\R\\library\\00LOCK\\data.table\\tests\\issue_1113_fread.txt를 C:\\ProgramData\\Anaconda3\\Lib\\R\\library\\data.table\\tests\\issue_1113_fread.txt로 복사하는데 문제가 발생했습니다: Permission denied\"Warning message in file.copy(savedcopy, lib, recursive = TRUE):\n",
      "\"C:\\ProgramData\\Anaconda3\\Lib\\R\\library\\00LOCK\\data.table\\tests\\issue_1116_fread_few_lines.txt를 C:\\ProgramData\\Anaconda3\\Lib\\R\\library\\data.table\\tests\\issue_1116_fread_few_lines.txt로 복사하는데 문제가 발생했습니다: Permission denied\"Warning message in file.copy(savedcopy, lib, recursive = TRUE):\n",
      "\"C:\\ProgramData\\Anaconda3\\Lib\\R\\library\\00LOCK\\data.table\\tests\\issue_1116_fread_few_lines_2.txt를 C:\\ProgramData\\Anaconda3\\Lib\\R\\library\\data.table\\tests\\issue_1116_fread_few_lines_2.txt로 복사하는데 문제가 발생했습니다: Permission denied\"Warning message in file.copy(savedcopy, lib, recursive = TRUE):\n",
      "\"C:\\ProgramData\\Anaconda3\\Lib\\R\\library\\00LOCK\\data.table\\tests\\issue_1164_json.txt를 C:\\ProgramData\\Anaconda3\\Lib\\R\\library\\data.table\\tests\\issue_1164_json.txt로 복사하는데 문제가 발생했습니다: Permission denied\"Warning message in file.copy(savedcopy, lib, recursive = TRUE):\n",
      "\"C:\\ProgramData\\Anaconda3\\Lib\\R\\library\\00LOCK\\data.table\\tests\\issue_1330_fread.txt를 C:\\ProgramData\\Anaconda3\\Lib\\R\\library\\data.table\\tests\\issue_1330_fread.txt로 복사하는데 문제가 발생했습니다: Permission denied\"Warning message in file.copy(savedcopy, lib, recursive = TRUE):\n",
      "\"C:\\ProgramData\\Anaconda3\\Lib\\R\\library\\00LOCK\\data.table\\tests\\issue_1462_fread_quotes.txt를 C:\\ProgramData\\Anaconda3\\Lib\\R\\library\\data.table\\tests\\issue_1462_fread_quotes.txt로 복사하는데 문제가 발생했습니다: Permission denied\"Warning message in file.copy(savedcopy, lib, recursive = TRUE):\n",
      "\"C:\\ProgramData\\Anaconda3\\Lib\\R\\library\\00LOCK\\data.table\\tests\\issue_1573_fill.txt를 C:\\ProgramData\\Anaconda3\\Lib\\R\\library\\data.table\\tests\\issue_1573_fill.txt로 복사하는데 문제가 발생했습니다: Permission denied\"Warning message in file.copy(savedcopy, lib, recursive = TRUE):\n",
      "\"C:\\ProgramData\\Anaconda3\\Lib\\R\\library\\00LOCK\\data.table\\tests\\issue_2051.csv를 C:\\ProgramData\\Anaconda3\\Lib\\R\\library\\data.table\\tests\\issue_2051.csv로 복사하는데 문제가 발생했습니다: Permission denied\"Warning message in file.copy(savedcopy, lib, recursive = TRUE):\n",
      "\"C:\\ProgramData\\Anaconda3\\Lib\\R\\library\\00LOCK\\data.table\\tests\\issue_2157_sampling_overlap.txt.gz를 C:\\ProgramData\\Anaconda3\\Lib\\R\\library\\data.table\\tests\\issue_2157_sampling_overlap.txt.gz로 복사하는데 문제가 발생했습니다: Permission denied\"Warning message in file.copy(savedcopy, lib, recursive = TRUE):\n",
      "\"C:\\ProgramData\\Anaconda3\\Lib\\R\\library\\00LOCK\\data.table\\tests\\issue_2157_sampling_reached_eof_early.txt.bz2를 C:\\ProgramData\\Anaconda3\\Lib\\R\\library\\data.table\\tests\\issue_2157_sampling_reached_eof_early.txt.bz2로 복사하는데 문제가 발생했습니다: Permission denied\"Warning message in file.copy(savedcopy, lib, recursive = TRUE):\n",
      "\"C:\\ProgramData\\Anaconda3\\Lib\\R\\library\\00LOCK\\data.table\\tests\\issue_563_fread.txt를 C:\\ProgramData\\Anaconda3\\Lib\\R\\library\\data.table\\tests\\issue_563_fread.txt로 복사하는데 문제가 발생했습니다: Permission denied\"Warning message in file.copy(savedcopy, lib, recursive = TRUE):\n",
      "\"C:\\ProgramData\\Anaconda3\\Lib\\R\\library\\00LOCK\\data.table\\tests\\issue_773_fread.txt를 C:\\ProgramData\\Anaconda3\\Lib\\R\\library\\data.table\\tests\\issue_773_fread.txt로 복사하는데 문제가 발생했습니다: Permission denied\"Warning message in file.copy(savedcopy, lib, recursive = TRUE):\n",
      "\"C:\\ProgramData\\Anaconda3\\Lib\\R\\library\\00LOCK\\data.table\\tests\\issue_785_fread.txt를 C:\\ProgramData\\Anaconda3\\Lib\\R\\library\\data.table\\tests\\issue_785_fread.txt로 복사하는데 문제가 발생했습니다: Permission denied\"Warning message in file.copy(savedcopy, lib, recursive = TRUE):\n",
      "\"C:\\ProgramData\\Anaconda3\\Lib\\R\\library\\00LOCK\\data.table\\tests\\iterations.txt를 C:\\ProgramData\\Anaconda3\\Lib\\R\\library\\data.table\\tests\\iterations.txt로 복사하는데 문제가 발생했습니다: Permission denied\"Warning message in file.copy(savedcopy, lib, recursive = TRUE):\n",
      "\"C:\\ProgramData\\Anaconda3\\Lib\\R\\library\\00LOCK\\data.table\\tests\\melt-warning-1752.tsv를 C:\\ProgramData\\Anaconda3\\Lib\\R\\library\\data.table\\tests\\melt-warning-1752.tsv로 복사하는데 문제가 발생했습니다: Permission denied\"Warning message in file.copy(savedcopy, lib, recursive = TRUE):\n",
      "\"C:\\ProgramData\\Anaconda3\\Lib\\R\\library\\00LOCK\\data.table\\tests\\melt_1754.R.gz를 C:\\ProgramData\\Anaconda3\\Lib\\R\\library\\data.table\\tests\\melt_1754.R.gz로 복사하는데 문제가 발생했습니다: Permission denied\"Warning message in file.copy(savedcopy, lib, recursive = TRUE):\n",
      "\"C:\\ProgramData\\Anaconda3\\Lib\\R\\library\\00LOCK\\data.table\\tests\\melt_1754_synth.csv를 C:\\ProgramData\\Anaconda3\\Lib\\R\\library\\data.table\\tests\\melt_1754_synth.csv로 복사하는데 문제가 발생했습니다: Permission denied\"Warning message in file.copy(savedcopy, lib, recursive = TRUE):\n",
      "\"C:\\ProgramData\\Anaconda3\\Lib\\R\\library\\00LOCK\\data.table\\tests\\onecol4096.csv를 C:\\ProgramData\\Anaconda3\\Lib\\R\\library\\data.table\\tests\\onecol4096.csv로 복사하는데 문제가 발생했습니다: Permission denied\"Warning message in file.copy(savedcopy, lib, recursive = TRUE):\n",
      "\"C:\\ProgramData\\Anaconda3\\Lib\\R\\library\\00LOCK\\data.table\\tests\\other.Rraw를 C:\\ProgramData\\Anaconda3\\Lib\\R\\library\\data.table\\tests\\other.Rraw로 복사하는데 문제가 발생했습니다: Permission denied\"Warning message in file.copy(savedcopy, lib, recursive = TRUE):\n",
      "\"C:\\ProgramData\\Anaconda3\\Lib\\R\\library\\00LOCK\\data.table\\tests\\quoted_multiline.csv를 C:\\ProgramData\\Anaconda3\\Lib\\R\\library\\data.table\\tests\\quoted_multiline.csv로 복사하는데 문제가 발생했습니다: Permission denied\"Warning message in file.copy(savedcopy, lib, recursive = TRUE):\n",
      "\"C:\\ProgramData\\Anaconda3\\Lib\\R\\library\\00LOCK\\data.table\\tests\\quoted_no_header.csv를 C:\\ProgramData\\Anaconda3\\Lib\\R\\library\\data.table\\tests\\quoted_no_header.csv로 복사하는데 문제가 발생했습니다: Permission denied\"Warning message in file.copy(savedcopy, lib, recursive = TRUE):\n",
      "\"C:\\ProgramData\\Anaconda3\\Lib\\R\\library\\00LOCK\\data.table\\tests\\russellCRCRLF.csv를 C:\\ProgramData\\Anaconda3\\Lib\\R\\library\\data.table\\tests\\russellCRCRLF.csv로 복사하는데 문제가 발생했습니다: Permission denied\"Warning message in file.copy(savedcopy, lib, recursive = TRUE):\n",
      "\"C:\\ProgramData\\Anaconda3\\Lib\\R\\library\\00LOCK\\data.table\\tests\\russellCRLF.csv를 C:\\ProgramData\\Anaconda3\\Lib\\R\\library\\data.table\\tests\\russellCRLF.csv로 복사하는데 문제가 발생했습니다: Permission denied\"Warning message in file.copy(savedcopy, lib, recursive = TRUE):\n",
      "\"C:\\ProgramData\\Anaconda3\\Lib\\R\\library\\00LOCK\\data.table\\tests\\SA2-by-DJZ.csv를 C:\\ProgramData\\Anaconda3\\Lib\\R\\library\\data.table\\tests\\SA2-by-DJZ.csv로 복사하는데 문제가 발생했습니다: Permission denied\"Warning message in file.copy(savedcopy, lib, recursive = TRUE):\n",
      "\"C:\\ProgramData\\Anaconda3\\Lib\\R\\library\\00LOCK\\data.table\\tests\\session_aborted_fatal_error.txt를 C:\\ProgramData\\Anaconda3\\Lib\\R\\library\\data.table\\tests\\session_aborted_fatal_error.txt로 복사하는데 문제가 발생했습니다: Permission denied\"Warning message in file.copy(savedcopy, lib, recursive = TRUE):\n",
      "\"C:\\ProgramData\\Anaconda3\\Lib\\R\\library\\00LOCK\\data.table\\tests\\test0.txt를 C:\\ProgramData\\Anaconda3\\Lib\\R\\library\\data.table\\tests\\test0.txt로 복사하는데 문제가 발생했습니다: Permission denied\"Warning message in file.copy(savedcopy, lib, recursive = TRUE):\n"
     ]
    },
    {
     "name": "stderr",
     "output_type": "stream",
     "text": [
      "\"C:\\ProgramData\\Anaconda3\\Lib\\R\\library\\00LOCK\\data.table\\tests\\test1372-1.Rdata를 C:\\ProgramData\\Anaconda3\\Lib\\R\\library\\data.table\\tests\\test1372-1.Rdata로 복사하는데 문제가 발생했습니다: Permission denied\"Warning message in file.copy(savedcopy, lib, recursive = TRUE):\n",
      "\"C:\\ProgramData\\Anaconda3\\Lib\\R\\library\\00LOCK\\data.table\\tests\\test1372.Rdata를 C:\\ProgramData\\Anaconda3\\Lib\\R\\library\\data.table\\tests\\test1372.Rdata로 복사하는데 문제가 발생했습니다: Permission denied\"Warning message in file.copy(savedcopy, lib, recursive = TRUE):\n",
      "\"C:\\ProgramData\\Anaconda3\\Lib\\R\\library\\00LOCK\\data.table\\tests\\tests-DESCRIPTION를 C:\\ProgramData\\Anaconda3\\Lib\\R\\library\\data.table\\tests\\tests-DESCRIPTION로 복사하는데 문제가 발생했습니다: Permission denied\"Warning message in file.copy(savedcopy, lib, recursive = TRUE):\n",
      "\"C:\\ProgramData\\Anaconda3\\Lib\\R\\library\\00LOCK\\data.table\\tests\\tests.Rraw를 C:\\ProgramData\\Anaconda3\\Lib\\R\\library\\data.table\\tests\\tests.Rraw로 복사하는데 문제가 발생했습니다: Permission denied\"Warning message in file.copy(savedcopy, lib, recursive = TRUE):\n",
      "\"C:\\ProgramData\\Anaconda3\\Lib\\R\\library\\00LOCK\\data.table\\tests\\unescaped.csv를 C:\\ProgramData\\Anaconda3\\Lib\\R\\library\\data.table\\tests\\unescaped.csv로 복사하는데 문제가 발생했습니다: Permission denied\"Warning message in file.copy(savedcopy, lib, recursive = TRUE):\n",
      "\"C:\\ProgramData\\Anaconda3\\Lib\\R\\library\\00LOCK\\data.table\\tests\\utf16be.txt를 C:\\ProgramData\\Anaconda3\\Lib\\R\\library\\data.table\\tests\\utf16be.txt로 복사하는데 문제가 발생했습니다: Permission denied\"Warning message in file.copy(savedcopy, lib, recursive = TRUE):\n",
      "\"C:\\ProgramData\\Anaconda3\\Lib\\R\\library\\00LOCK\\data.table\\tests\\utf16le.txt를 C:\\ProgramData\\Anaconda3\\Lib\\R\\library\\data.table\\tests\\utf16le.txt로 복사하는데 문제가 발생했습니다: Permission denied\"Warning message in file.copy(savedcopy, lib, recursive = TRUE):\n",
      "\"C:\\ProgramData\\Anaconda3\\Lib\\R\\library\\00LOCK\\data.table\\tests\\winallquoted.csv.bz2를 C:\\ProgramData\\Anaconda3\\Lib\\R\\library\\data.table\\tests\\winallquoted.csv.bz2로 복사하는데 문제가 발생했습니다: Permission denied\"Warning message:\n",
      "\"restored 'data.table'\""
     ]
    },
    {
     "name": "stdout",
     "output_type": "stream",
     "text": [
      "\n",
      "The downloaded binary packages are in\n",
      "\tC:\\Users\\TJOEUN-JR\\AppData\\Local\\Temp\\RtmpUxIbRT\\downloaded_packages\n"
     ]
    }
   ],
   "source": [
    "install.packages(\"data.table\")\n",
    "library(data.table)"
   ]
  },
  {
   "cell_type": "code",
   "execution_count": 22,
   "metadata": {},
   "outputs": [
    {
     "data": {
      "text/plain": [
       "   user  system elapsed \n",
       "   2.25    0.01    2.28 "
      ]
     },
     "metadata": {},
     "output_type": "display_data"
    },
    {
     "data": {
      "text/plain": [
       "   user  system elapsed \n",
       "   0.56    0.05    0.61 "
      ]
     },
     "metadata": {},
     "output_type": "display_data"
    }
   ],
   "source": [
    "system.time(data <- read.csv('../data/R/example_coffee.csv'))\n",
    "system.time(DF <- fread('../data/R/example_coffee.csv', header=T, \n",
    "                        stringsAsFactors=T, data.table=F))"
   ]
  },
  {
   "cell_type": "code",
   "execution_count": 23,
   "metadata": {},
   "outputs": [
    {
     "name": "stdout",
     "output_type": "stream",
     "text": [
      "'data.frame':\t46832 obs. of  23 variables:\n",
      " $ number              : int  1 2 3 4 5 6 7 8 9 10 ...\n",
      " $ companyName         : Factor w/ 36991 levels \"#11(Sharp eleven)\",..: 1 3 4 5 6 7 8 9 10 11 ...\n",
      " $ adress              : Factor w/ 45170 levels \"\",\"강원도 강릉시 강동면 안인진리 3-5번지 통일공원 G동 2층\",..: 32672 44985 14319 25658 35239 44592 44032 16782 4036 16970 ...\n",
      " $ adressBystreet      : Factor w/ 38866 levels \"\",\"강원도 강릉시 가작로 13, 1층 (교동)\",..: 28058 38633 12180 22436 1 38386 37843 14490 3373 14482 ...\n",
      " $ dateOflicensing     : int  20080917 20101124 20130902 20121108 20020911 20130822 20140605 20111209 20130315 20110908 ...\n",
      " $ stateOfbusiness     : Factor w/ 2 levels \"운영중\",\"폐업 등\": 1 1 1 1 2 1 1 1 1 1 ...\n",
      " $ dateOfclosure       : int  NA NA NA NA 20071105 NA NA NA NA NA ...\n",
      " $ startdateOfcessation: logi  NA NA NA NA NA NA ...\n",
      " $ duedateOfcessation  : logi  NA NA NA NA NA NA ...\n",
      " $ dateOfreOpen        : logi  NA NA NA NA NA NA ...\n",
      " $ areaOfsite          : logi  NA NA NA NA NA NA ...\n",
      " $ zip                 : logi  NA NA NA NA NA NA ...\n",
      " $ waterwork           : Factor w/ 5 levels \"\",\"간이상수도\",..: 4 4 4 4 4 4 4 4 4 4 ...\n",
      " $ numOfmenWorker      : int  NA NA NA NA 0 NA NA NA NA NA ...\n",
      " $ yearOfStart         : int  2008 2010 2013 2012 2002 2013 2014 2011 2013 2011 ...\n",
      " $ multipleUse         : Factor w/ 3 levels \"\",\"N\",\"Y\": 2 2 2 2 2 2 2 2 2 2 ...\n",
      " $ grade               : Factor w/ 8 levels \"\",\"갑\",\"관리\",..: 1 1 1 1 1 1 1 1 1 1 ...\n",
      " $ sizeOfsite          : num  20.8 212.7 20 64.2 11.4 ...\n",
      " $ numOfwomenWorker    : int  NA NA NA NA 0 NA NA NA NA NA ...\n",
      " $ vicintyOfsite       : Factor w/ 8 levels \"\",\"결혼예식장주변\",..: 1 1 4 1 1 1 1 3 1 3 ...\n",
      " $ sanitaryName        : Factor w/ 2 levels \"\",\"휴게음식점\": 2 2 2 2 2 2 2 2 2 2 ...\n",
      " $ businessCondition   : Factor w/ 2 levels \"\",\"커피숍\": 2 2 2 2 2 2 2 2 2 2 ...\n",
      " $ totalOfworker       : int  NA NA NA NA 0 NA NA NA NA NA ...\n"
     ]
    },
    {
     "data": {
      "text/html": [
       "<table>\n",
       "<thead><tr><th scope=col>number</th><th scope=col>companyName</th><th scope=col>adress</th><th scope=col>adressBystreet</th><th scope=col>dateOflicensing</th><th scope=col>stateOfbusiness</th><th scope=col>dateOfclosure</th><th scope=col>startdateOfcessation</th><th scope=col>duedateOfcessation</th><th scope=col>dateOfreOpen</th><th scope=col>...</th><th scope=col>numOfmenWorker</th><th scope=col>yearOfStart</th><th scope=col>multipleUse</th><th scope=col>grade</th><th scope=col>sizeOfsite</th><th scope=col>numOfwomenWorker</th><th scope=col>vicintyOfsite</th><th scope=col>sanitaryName</th><th scope=col>businessCondition</th><th scope=col>totalOfworker</th></tr></thead>\n",
       "<tbody>\n",
       "\t<tr><td>1                                                                                       </td><td>#11(Sharp eleven)                                                                       </td><td>서울특별시 양천구 목동 956번지 롯데캐슬위너 상가동 107호(한두3길 44)                    </td><td>서울특별시 양천구 목동중앙북로 38 (목동,롯데캐슬위너 상가동 107호(한두3길 44))          </td><td>20080917                                                                                </td><td>운영중                                                                                  </td><td>      NA                                                                                </td><td>NA                                                                                      </td><td>NA                                                                                      </td><td>NA                                                                                      </td><td>...                                                                                     </td><td>NA                                                                                      </td><td>2008                                                                                    </td><td>N                                                                                       </td><td>                                                                                        </td><td> 20.80                                                                                  </td><td>NA                                                                                      </td><td>                                                                                        </td><td>휴게음식점                                                                              </td><td>커피숍                                                                                  </td><td>NA                                                                                      </td></tr>\n",
       "\t<tr><td>2                                                                                       </td><td>( 주)커피빈코리아청주지웰시티점                                                         </td><td>충청북도 청주시 흥덕구 복대동 3379번지 신영지웰시티1차상업시설 124-1, 125, 126호(1층)   </td><td>충청북도 청주시 흥덕구 대농로 17 (복대동,신영지웰시티1차상업시설 124-1, 125, 126호(1층))</td><td>20101124                                                                                </td><td>운영중                                                                                  </td><td>      NA                                                                                </td><td>NA                                                                                      </td><td>NA                                                                                      </td><td>NA                                                                                      </td><td>...                                                                                     </td><td>NA                                                                                      </td><td>2010                                                                                    </td><td>N                                                                                       </td><td>                                                                                        </td><td>212.72                                                                                  </td><td>NA                                                                                      </td><td>                                                                                        </td><td>휴게음식점                                                                              </td><td>커피숍                                                                                  </td><td>NA                                                                                      </td></tr>\n",
       "\t<tr><td>3                                                                                       </td><td>(aA)더블에이                                                                            </td><td>경상북도 경산시 사동 39번지 108-2호                                                     </td><td>경상북도 경산시 백자로10길 3-11, 108-2호 (사동)                                         </td><td>20130902                                                                                </td><td>운영중                                                                                  </td><td>      NA                                                                                </td><td>NA                                                                                      </td><td>NA                                                                                      </td><td>NA                                                                                      </td><td>...                                                                                     </td><td>NA                                                                                      </td><td>2013                                                                                    </td><td>N                                                                                       </td><td>                                                                                        </td><td> 20.04                                                                                  </td><td>NA                                                                                      </td><td>아파트지역                                                                              </td><td>휴게음식점                                                                              </td><td>커피숍                                                                                  </td><td>NA                                                                                      </td></tr>\n",
       "\t<tr><td>4                                                                                       </td><td>(강서)카페치따                                                                          </td><td>서울특별시 강서구 등촌동 63-12번지 외 2필지 어위쉬예다인 (지상 1층) 104호               </td><td>서울특별시 강서구 양천로 452, 1층 104호 (등촌동, 3동 어위쉬예다인)                      </td><td>20121108                                                                                </td><td>운영중                                                                                  </td><td>      NA                                                                                </td><td>NA                                                                                      </td><td>NA                                                                                      </td><td>NA                                                                                      </td><td>...                                                                                     </td><td>NA                                                                                      </td><td>2012                                                                                    </td><td>N                                                                                       </td><td>                                                                                        </td><td> 64.17                                                                                  </td><td>NA                                                                                      </td><td>                                                                                        </td><td>휴게음식점                                                                              </td><td>커피숍                                                                                  </td><td>NA                                                                                      </td></tr>\n",
       "\t<tr><td>5                                                                                       </td><td>(로즈버드)명동아바타                                                                    </td><td>서울특별시 중구 명동2가 83-5번지 (아바타1층1218)                                        </td><td>                                                                                        </td><td>20020911                                                                                </td><td>폐업 등                                                                                 </td><td>20071105                                                                                </td><td>NA                                                                                      </td><td>NA                                                                                      </td><td>NA                                                                                      </td><td>...                                                                                     </td><td> 0                                                                                      </td><td>2002                                                                                    </td><td>N                                                                                       </td><td>                                                                                        </td><td> 11.40                                                                                  </td><td> 0                                                                                      </td><td>                                                                                        </td><td>휴게음식점                                                                              </td><td>커피숍                                                                                  </td><td> 0                                                                                      </td></tr>\n",
       "\t<tr><td>6                                                                                       </td><td>(루앤비카페(Lu n B cafe)                                                                </td><td>충청북도 청주시 서원구 사직동 720-31번지 외7필지 (1층)                                  </td><td>충청북도 청주시 서원구 사직대로 246 (사직동,  (1층))                                    </td><td>20130822                                                                                </td><td>운영중                                                                                  </td><td>      NA                                                                                </td><td>NA                                                                                      </td><td>NA                                                                                      </td><td>NA                                                                                      </td><td>...                                                                                     </td><td>NA                                                                                      </td><td>2013                                                                                    </td><td>N                                                                                       </td><td>                                                                                        </td><td> 10.99                                                                                  </td><td>NA                                                                                      </td><td>                                                                                        </td><td>휴게음식점                                                                              </td><td>커피숍                                                                                  </td><td>NA                                                                                      </td></tr>\n",
       "</tbody>\n",
       "</table>\n"
      ],
      "text/latex": [
       "\\begin{tabular}{r|lllllllllllllllllllllll}\n",
       " number & companyName & adress & adressBystreet & dateOflicensing & stateOfbusiness & dateOfclosure & startdateOfcessation & duedateOfcessation & dateOfreOpen & ... & numOfmenWorker & yearOfStart & multipleUse & grade & sizeOfsite & numOfwomenWorker & vicintyOfsite & sanitaryName & businessCondition & totalOfworker\\\\\n",
       "\\hline\n",
       "\t 1                                                                                        & \\#11(Sharp eleven)                                                                      & 서울특별시 양천구 목동 956번지 롯데캐슬위너 상가동 107호(한두3길 44)                     & 서울특별시 양천구 목동중앙북로 38 (목동,롯데캐슬위너 상가동 107호(한두3길 44))           & 20080917                                                                                 & 운영중                                                                                   &       NA                                                                                 & NA                                                                                       & NA                                                                                       & NA                                                                                       & ...                                                                                      & NA                                                                                       & 2008                                                                                     & N                                                                                        &                                                                                          &  20.80                                                                                   & NA                                                                                       &                                                                                          & 휴게음식점                                                                               & 커피숍                                                                                   & NA                                                                                      \\\\\n",
       "\t 2                                                                                        & ( 주)커피빈코리아청주지웰시티점                                                          & 충청북도 청주시 흥덕구 복대동 3379번지 신영지웰시티1차상업시설 124-1, 125, 126호(1층)    & 충청북도 청주시 흥덕구 대농로 17 (복대동,신영지웰시티1차상업시설 124-1, 125, 126호(1층)) & 20101124                                                                                 & 운영중                                                                                   &       NA                                                                                 & NA                                                                                       & NA                                                                                       & NA                                                                                       & ...                                                                                      & NA                                                                                       & 2010                                                                                     & N                                                                                        &                                                                                          & 212.72                                                                                   & NA                                                                                       &                                                                                          & 휴게음식점                                                                               & 커피숍                                                                                   & NA                                                                                      \\\\\n",
       "\t 3                                                                                        & (aA)더블에이                                                                             & 경상북도 경산시 사동 39번지 108-2호                                                      & 경상북도 경산시 백자로10길 3-11, 108-2호 (사동)                                          & 20130902                                                                                 & 운영중                                                                                   &       NA                                                                                 & NA                                                                                       & NA                                                                                       & NA                                                                                       & ...                                                                                      & NA                                                                                       & 2013                                                                                     & N                                                                                        &                                                                                          &  20.04                                                                                   & NA                                                                                       & 아파트지역                                                                               & 휴게음식점                                                                               & 커피숍                                                                                   & NA                                                                                      \\\\\n",
       "\t 4                                                                                        & (강서)카페치따                                                                           & 서울특별시 강서구 등촌동 63-12번지 외 2필지 어위쉬예다인 (지상 1층) 104호                & 서울특별시 강서구 양천로 452, 1층 104호 (등촌동, 3동 어위쉬예다인)                       & 20121108                                                                                 & 운영중                                                                                   &       NA                                                                                 & NA                                                                                       & NA                                                                                       & NA                                                                                       & ...                                                                                      & NA                                                                                       & 2012                                                                                     & N                                                                                        &                                                                                          &  64.17                                                                                   & NA                                                                                       &                                                                                          & 휴게음식점                                                                               & 커피숍                                                                                   & NA                                                                                      \\\\\n",
       "\t 5                                                                                        & (로즈버드)명동아바타                                                                     & 서울특별시 중구 명동2가 83-5번지 (아바타1층1218)                                         &                                                                                          & 20020911                                                                                 & 폐업 등                                                                                  & 20071105                                                                                 & NA                                                                                       & NA                                                                                       & NA                                                                                       & ...                                                                                      &  0                                                                                       & 2002                                                                                     & N                                                                                        &                                                                                          &  11.40                                                                                   &  0                                                                                       &                                                                                          & 휴게음식점                                                                               & 커피숍                                                                                   &  0                                                                                      \\\\\n",
       "\t 6                                                                                        & (루앤비카페(Lu n B cafe)                                                                 & 충청북도 청주시 서원구 사직동 720-31번지 외7필지 (1층)                                   & 충청북도 청주시 서원구 사직대로 246 (사직동,  (1층))                                     & 20130822                                                                                 & 운영중                                                                                   &       NA                                                                                 & NA                                                                                       & NA                                                                                       & NA                                                                                       & ...                                                                                      & NA                                                                                       & 2013                                                                                     & N                                                                                        &                                                                                          &  10.99                                                                                   & NA                                                                                       &                                                                                          & 휴게음식점                                                                               & 커피숍                                                                                   & NA                                                                                      \\\\\n",
       "\\end{tabular}\n"
      ],
      "text/markdown": [
       "\n",
       "| number | companyName | adress | adressBystreet | dateOflicensing | stateOfbusiness | dateOfclosure | startdateOfcessation | duedateOfcessation | dateOfreOpen | ... | numOfmenWorker | yearOfStart | multipleUse | grade | sizeOfsite | numOfwomenWorker | vicintyOfsite | sanitaryName | businessCondition | totalOfworker |\n",
       "|---|---|---|---|---|---|---|---|---|---|---|---|---|---|---|---|---|---|---|---|---|\n",
       "| 1                                                                                        | #11(Sharp eleven)                                                                        | 서울특별시 양천구 목동 956번지 롯데캐슬위너 상가동 107호(한두3길 44)                     | 서울특별시 양천구 목동중앙북로 38 (목동,롯데캐슬위너 상가동 107호(한두3길 44))           | 20080917                                                                                 | 운영중                                                                                   |       NA                                                                                 | NA                                                                                       | NA                                                                                       | NA                                                                                       | ...                                                                                      | NA                                                                                       | 2008                                                                                     | N                                                                                        |                                                                                          |  20.80                                                                                   | NA                                                                                       |                                                                                          | 휴게음식점                                                                               | 커피숍                                                                                   | NA                                                                                       |\n",
       "| 2                                                                                        | ( 주)커피빈코리아청주지웰시티점                                                          | 충청북도 청주시 흥덕구 복대동 3379번지 신영지웰시티1차상업시설 124-1, 125, 126호(1층)    | 충청북도 청주시 흥덕구 대농로 17 (복대동,신영지웰시티1차상업시설 124-1, 125, 126호(1층)) | 20101124                                                                                 | 운영중                                                                                   |       NA                                                                                 | NA                                                                                       | NA                                                                                       | NA                                                                                       | ...                                                                                      | NA                                                                                       | 2010                                                                                     | N                                                                                        |                                                                                          | 212.72                                                                                   | NA                                                                                       |                                                                                          | 휴게음식점                                                                               | 커피숍                                                                                   | NA                                                                                       |\n",
       "| 3                                                                                        | (aA)더블에이                                                                             | 경상북도 경산시 사동 39번지 108-2호                                                      | 경상북도 경산시 백자로10길 3-11, 108-2호 (사동)                                          | 20130902                                                                                 | 운영중                                                                                   |       NA                                                                                 | NA                                                                                       | NA                                                                                       | NA                                                                                       | ...                                                                                      | NA                                                                                       | 2013                                                                                     | N                                                                                        |                                                                                          |  20.04                                                                                   | NA                                                                                       | 아파트지역                                                                               | 휴게음식점                                                                               | 커피숍                                                                                   | NA                                                                                       |\n",
       "| 4                                                                                        | (강서)카페치따                                                                           | 서울특별시 강서구 등촌동 63-12번지 외 2필지 어위쉬예다인 (지상 1층) 104호                | 서울특별시 강서구 양천로 452, 1층 104호 (등촌동, 3동 어위쉬예다인)                       | 20121108                                                                                 | 운영중                                                                                   |       NA                                                                                 | NA                                                                                       | NA                                                                                       | NA                                                                                       | ...                                                                                      | NA                                                                                       | 2012                                                                                     | N                                                                                        |                                                                                          |  64.17                                                                                   | NA                                                                                       |                                                                                          | 휴게음식점                                                                               | 커피숍                                                                                   | NA                                                                                       |\n",
       "| 5                                                                                        | (로즈버드)명동아바타                                                                     | 서울특별시 중구 명동2가 83-5번지 (아바타1층1218)                                         |                                                                                          | 20020911                                                                                 | 폐업 등                                                                                  | 20071105                                                                                 | NA                                                                                       | NA                                                                                       | NA                                                                                       | ...                                                                                      |  0                                                                                       | 2002                                                                                     | N                                                                                        |                                                                                          |  11.40                                                                                   |  0                                                                                       |                                                                                          | 휴게음식점                                                                               | 커피숍                                                                                   |  0                                                                                       |\n",
       "| 6                                                                                        | (루앤비카페(Lu n B cafe)                                                                 | 충청북도 청주시 서원구 사직동 720-31번지 외7필지 (1층)                                   | 충청북도 청주시 서원구 사직대로 246 (사직동,  (1층))                                     | 20130822                                                                                 | 운영중                                                                                   |       NA                                                                                 | NA                                                                                       | NA                                                                                       | NA                                                                                       | ...                                                                                      | NA                                                                                       | 2013                                                                                     | N                                                                                        |                                                                                          |  10.99                                                                                   | NA                                                                                       |                                                                                          | 휴게음식점                                                                               | 커피숍                                                                                   | NA                                                                                       |\n",
       "\n"
      ],
      "text/plain": [
       "  number companyName                    \n",
       "1 1      #11(Sharp eleven)              \n",
       "2 2      ( 주)커피빈코리아청주지웰시티점\n",
       "3 3      (aA)더블에이                   \n",
       "4 4      (강서)카페치따                 \n",
       "5 5      (로즈버드)명동아바타           \n",
       "6 6      (루앤비카페(Lu n B cafe)       \n",
       "  adress                                                                                \n",
       "1 서울특별시 양천구 목동 956번지 롯데캐슬위너 상가동 107호(한두3길 44)                  \n",
       "2 충청북도 청주시 흥덕구 복대동 3379번지 신영지웰시티1차상업시설 124-1, 125, 126호(1층) \n",
       "3 경상북도 경산시 사동 39번지 108-2호                                                   \n",
       "4 서울특별시 강서구 등촌동 63-12번지 외 2필지 어위쉬예다인 (지상 1층) 104호             \n",
       "5 서울특별시 중구 명동2가 83-5번지 (아바타1층1218)                                      \n",
       "6 충청북도 청주시 서원구 사직동 720-31번지 외7필지 (1층)                                \n",
       "  adressBystreet                                                                          \n",
       "1 서울특별시 양천구 목동중앙북로 38 (목동,롯데캐슬위너 상가동 107호(한두3길 44))          \n",
       "2 충청북도 청주시 흥덕구 대농로 17 (복대동,신영지웰시티1차상업시설 124-1, 125, 126호(1층))\n",
       "3 경상북도 경산시 백자로10길 3-11, 108-2호 (사동)                                         \n",
       "4 서울특별시 강서구 양천로 452, 1층 104호 (등촌동, 3동 어위쉬예다인)                      \n",
       "5                                                                                         \n",
       "6 충청북도 청주시 서원구 사직대로 246 (사직동,  (1층))                                    \n",
       "  dateOflicensing stateOfbusiness dateOfclosure startdateOfcessation\n",
       "1 20080917        운영중                NA      NA                  \n",
       "2 20101124        운영중                NA      NA                  \n",
       "3 20130902        운영중                NA      NA                  \n",
       "4 20121108        운영중                NA      NA                  \n",
       "5 20020911        폐업 등         20071105      NA                  \n",
       "6 20130822        운영중                NA      NA                  \n",
       "  duedateOfcessation dateOfreOpen ... numOfmenWorker yearOfStart multipleUse\n",
       "1 NA                 NA           ... NA             2008        N          \n",
       "2 NA                 NA           ... NA             2010        N          \n",
       "3 NA                 NA           ... NA             2013        N          \n",
       "4 NA                 NA           ... NA             2012        N          \n",
       "5 NA                 NA           ...  0             2002        N          \n",
       "6 NA                 NA           ... NA             2013        N          \n",
       "  grade sizeOfsite numOfwomenWorker vicintyOfsite sanitaryName\n",
       "1        20.80     NA                             휴게음식점  \n",
       "2       212.72     NA                             휴게음식점  \n",
       "3        20.04     NA               아파트지역    휴게음식점  \n",
       "4        64.17     NA                             휴게음식점  \n",
       "5        11.40      0                             휴게음식점  \n",
       "6        10.99     NA                             휴게음식점  \n",
       "  businessCondition totalOfworker\n",
       "1 커피숍            NA           \n",
       "2 커피숍            NA           \n",
       "3 커피숍            NA           \n",
       "4 커피숍            NA           \n",
       "5 커피숍             0           \n",
       "6 커피숍            NA           "
      ]
     },
     "metadata": {},
     "output_type": "display_data"
    }
   ],
   "source": [
    "str(DF)\n",
    "head(DF)"
   ]
  },
  {
   "cell_type": "code",
   "execution_count": 24,
   "metadata": {},
   "outputs": [
    {
     "name": "stdout",
     "output_type": "stream",
     "text": [
      "'data.frame':\t46832 obs. of  16 variables:\n",
      " $ number           : int  1 2 3 4 5 6 7 8 9 10 ...\n",
      " $ companyName      : Factor w/ 36991 levels \"#11(Sharp eleven)\",..: 1 3 4 5 6 7 8 9 10 11 ...\n",
      " $ dateOflicensing  : int  20080917 20101124 20130902 20121108 20020911 20130822 20140605 20111209 20130315 20110908 ...\n",
      " $ stateOfbusiness  : Factor w/ 2 levels \"운영중\",\"폐업 등\": 1 1 1 1 2 1 1 1 1 1 ...\n",
      " $ areaOfsite       : logi  NA NA NA NA NA NA ...\n",
      " $ waterwork        : Factor w/ 5 levels \"\",\"간이상수도\",..: 4 4 4 4 4 4 4 4 4 4 ...\n",
      " $ numOfmenWorker   : int  NA NA NA NA 0 NA NA NA NA NA ...\n",
      " $ yearOfStart      : int  2008 2010 2013 2012 2002 2013 2014 2011 2013 2011 ...\n",
      " $ multipleUse      : Factor w/ 3 levels \"\",\"N\",\"Y\": 2 2 2 2 2 2 2 2 2 2 ...\n",
      " $ grade            : Factor w/ 8 levels \"\",\"갑\",\"관리\",..: 1 1 1 1 1 1 1 1 1 1 ...\n",
      " $ sizeOfsite       : num  20.8 212.7 20 64.2 11.4 ...\n",
      " $ numOfwomenWorker : int  NA NA NA NA 0 NA NA NA NA NA ...\n",
      " $ vicintyOfsite    : Factor w/ 8 levels \"\",\"결혼예식장주변\",..: 1 1 4 1 1 1 1 3 1 3 ...\n",
      " $ sanitaryName     : Factor w/ 2 levels \"\",\"휴게음식점\": 2 2 2 2 2 2 2 2 2 2 ...\n",
      " $ businessCondition: Factor w/ 2 levels \"\",\"커피숍\": 2 2 2 2 2 2 2 2 2 2 ...\n",
      " $ totalOfworker    : int  NA NA NA NA 0 NA NA NA NA NA ...\n"
     ]
    }
   ],
   "source": [
    "# 데이터정제 : 불필요한 변수등을 삭제\n",
    "DF <- subset(DF, select=c(-adress, -adressBystreet, -dateOfclosure, -startdateOfcessation,\n",
    "                          -duedateOfcessation, -dateOfreOpen, -zip))\n",
    "str(DF)"
   ]
  },
  {
   "cell_type": "code",
   "execution_count": 25,
   "metadata": {},
   "outputs": [
    {
     "data": {
      "text/html": [
       "<ol class=list-inline>\n",
       "\t<li>&lt;NA&gt;</li>\n",
       "\t<li>&lt;NA&gt;</li>\n",
       "</ol>\n"
      ],
      "text/latex": [
       "\\begin{enumerate*}\n",
       "\\item <NA>\n",
       "\\item <NA>\n",
       "\\end{enumerate*}\n"
      ],
      "text/markdown": [
       "1. &lt;NA&gt;\n",
       "2. &lt;NA&gt;\n",
       "\n",
       "\n"
      ],
      "text/plain": [
       "[1] NA NA"
      ]
     },
     "metadata": {},
     "output_type": "display_data"
    },
    {
     "data": {
      "text/html": [
       "<ol class=list-inline>\n",
       "\t<li>1964</li>\n",
       "\t<li>2015</li>\n",
       "</ol>\n"
      ],
      "text/latex": [
       "\\begin{enumerate*}\n",
       "\\item 1964\n",
       "\\item 2015\n",
       "\\end{enumerate*}\n"
      ],
      "text/markdown": [
       "1. 1964\n",
       "2. 2015\n",
       "\n",
       "\n"
      ],
      "text/plain": [
       "[1] 1964 2015"
      ]
     },
     "metadata": {},
     "output_type": "display_data"
    }
   ],
   "source": [
    "# 실습1. 최초커피샵찾기\n",
    "# na.rm+T : 이 옵션이 없으면 결측치때문에 range를 찾을 수 없다.\n",
    "#           NA값을 제외하고 함수를 실행기 위한 옵션\n",
    "range(DF$yearOfStart)\n",
    "range(DF$yearOfStart, na.rm=T)"
   ]
  },
  {
   "cell_type": "code",
   "execution_count": 26,
   "metadata": {},
   "outputs": [
    {
     "data": {
      "text/html": [
       "<table>\n",
       "<thead><tr><th></th><th scope=col>number</th><th scope=col>companyName</th><th scope=col>dateOflicensing</th><th scope=col>stateOfbusiness</th><th scope=col>areaOfsite</th><th scope=col>waterwork</th><th scope=col>numOfmenWorker</th><th scope=col>yearOfStart</th><th scope=col>multipleUse</th><th scope=col>grade</th><th scope=col>sizeOfsite</th><th scope=col>numOfwomenWorker</th><th scope=col>vicintyOfsite</th><th scope=col>sanitaryName</th><th scope=col>businessCondition</th><th scope=col>totalOfworker</th></tr></thead>\n",
       "<tbody>\n",
       "\t<tr><th scope=row>23035</th><td>23035     </td><td>엠에스커피</td><td>19641125  </td><td>폐업 등   </td><td>NA        </td><td>상수도전용</td><td>0         </td><td>1964      </td><td>N         </td><td>          </td><td>0         </td><td>0         </td><td>기타      </td><td>휴게음식점</td><td>커피숍    </td><td>0         </td></tr>\n",
       "\t<tr><th scope=row>46290</th><td>46290     </td><td>홀릭      </td><td>19640929  </td><td>폐업 등   </td><td>NA        </td><td>          </td><td>0         </td><td>1964      </td><td>N         </td><td>기타      </td><td>0         </td><td>0         </td><td>기타      </td><td>휴게음식점</td><td>커피숍    </td><td>0         </td></tr>\n",
       "</tbody>\n",
       "</table>\n"
      ],
      "text/latex": [
       "\\begin{tabular}{r|llllllllllllllll}\n",
       "  & number & companyName & dateOflicensing & stateOfbusiness & areaOfsite & waterwork & numOfmenWorker & yearOfStart & multipleUse & grade & sizeOfsite & numOfwomenWorker & vicintyOfsite & sanitaryName & businessCondition & totalOfworker\\\\\n",
       "\\hline\n",
       "\t23035 & 23035      & 엠에스커피 & 19641125   & 폐업 등    & NA         & 상수도전용 & 0          & 1964       & N          &            & 0          & 0          & 기타       & 휴게음식점 & 커피숍     & 0         \\\\\n",
       "\t46290 & 46290      & 홀릭       & 19640929   & 폐업 등    & NA         &            & 0          & 1964       & N          & 기타       & 0          & 0          & 기타       & 휴게음식점 & 커피숍     & 0         \\\\\n",
       "\\end{tabular}\n"
      ],
      "text/markdown": [
       "\n",
       "| <!--/--> | number | companyName | dateOflicensing | stateOfbusiness | areaOfsite | waterwork | numOfmenWorker | yearOfStart | multipleUse | grade | sizeOfsite | numOfwomenWorker | vicintyOfsite | sanitaryName | businessCondition | totalOfworker |\n",
       "|---|---|---|---|---|---|---|---|---|---|---|---|---|---|---|---|---|\n",
       "| 23035 | 23035      | 엠에스커피 | 19641125   | 폐업 등    | NA         | 상수도전용 | 0          | 1964       | N          |            | 0          | 0          | 기타       | 휴게음식점 | 커피숍     | 0          |\n",
       "| 46290 | 46290      | 홀릭       | 19640929   | 폐업 등    | NA         |            | 0          | 1964       | N          | 기타       | 0          | 0          | 기타       | 휴게음식점 | 커피숍     | 0          |\n",
       "\n"
      ],
      "text/plain": [
       "      number companyName dateOflicensing stateOfbusiness areaOfsite waterwork \n",
       "23035 23035  엠에스커피  19641125        폐업 등         NA         상수도전용\n",
       "46290 46290  홀릭        19640929        폐업 등         NA                   \n",
       "      numOfmenWorker yearOfStart multipleUse grade sizeOfsite numOfwomenWorker\n",
       "23035 0              1964        N                 0          0               \n",
       "46290 0              1964        N           기타  0          0               \n",
       "      vicintyOfsite sanitaryName businessCondition totalOfworker\n",
       "23035 기타          휴게음식점   커피숍            0            \n",
       "46290 기타          휴게음식점   커피숍            0            "
      ]
     },
     "metadata": {},
     "output_type": "display_data"
    },
    {
     "data": {
      "text/html": [
       "<ol class=list-inline>\n",
       "\t<li>1967</li>\n",
       "\t<li>2015</li>\n",
       "</ol>\n"
      ],
      "text/latex": [
       "\\begin{enumerate*}\n",
       "\\item 1967\n",
       "\\item 2015\n",
       "\\end{enumerate*}\n"
      ],
      "text/markdown": [
       "1. 1967\n",
       "2. 2015\n",
       "\n",
       "\n"
      ],
      "text/plain": [
       "[1] 1967 2015"
      ]
     },
     "metadata": {},
     "output_type": "display_data"
    },
    {
     "data": {
      "text/html": [
       "<table>\n",
       "<thead><tr><th></th><th scope=col>number</th><th scope=col>companyName</th><th scope=col>dateOflicensing</th><th scope=col>stateOfbusiness</th><th scope=col>areaOfsite</th><th scope=col>waterwork</th><th scope=col>numOfmenWorker</th><th scope=col>yearOfStart</th><th scope=col>multipleUse</th><th scope=col>grade</th><th scope=col>sizeOfsite</th><th scope=col>numOfwomenWorker</th><th scope=col>vicintyOfsite</th><th scope=col>sanitaryName</th><th scope=col>businessCondition</th><th scope=col>totalOfworker</th></tr></thead>\n",
       "<tbody>\n",
       "\t<tr><th scope=row>24108</th><td>24108      </td><td>왕관 커피숍</td><td>19671013   </td><td>운영중     </td><td>NA         </td><td>상수도전용 </td><td>0          </td><td>1967       </td><td>N          </td><td>갑         </td><td>76.02      </td><td>1          </td><td>기타       </td><td>휴게음식점 </td><td>커피숍     </td><td>1          </td></tr>\n",
       "\t<tr><th scope=row>44934</th><td>44934      </td><td>학커피숍   </td><td>19670414   </td><td>운영중     </td><td>NA         </td><td>           </td><td>0          </td><td>1967       </td><td>N          </td><td>           </td><td>59.13      </td><td>0          </td><td>           </td><td>휴게음식점 </td><td>커피숍     </td><td>0          </td></tr>\n",
       "</tbody>\n",
       "</table>\n"
      ],
      "text/latex": [
       "\\begin{tabular}{r|llllllllllllllll}\n",
       "  & number & companyName & dateOflicensing & stateOfbusiness & areaOfsite & waterwork & numOfmenWorker & yearOfStart & multipleUse & grade & sizeOfsite & numOfwomenWorker & vicintyOfsite & sanitaryName & businessCondition & totalOfworker\\\\\n",
       "\\hline\n",
       "\t24108 & 24108       & 왕관 커피숍 & 19671013    & 운영중      & NA          & 상수도전용  & 0           & 1967        & N           & 갑          & 76.02       & 1           & 기타        & 휴게음식점  & 커피숍      & 1          \\\\\n",
       "\t44934 & 44934       & 학커피숍    & 19670414    & 운영중      & NA          &             & 0           & 1967        & N           &             & 59.13       & 0           &             & 휴게음식점  & 커피숍      & 0          \\\\\n",
       "\\end{tabular}\n"
      ],
      "text/markdown": [
       "\n",
       "| <!--/--> | number | companyName | dateOflicensing | stateOfbusiness | areaOfsite | waterwork | numOfmenWorker | yearOfStart | multipleUse | grade | sizeOfsite | numOfwomenWorker | vicintyOfsite | sanitaryName | businessCondition | totalOfworker |\n",
       "|---|---|---|---|---|---|---|---|---|---|---|---|---|---|---|---|---|\n",
       "| 24108 | 24108       | 왕관 커피숍 | 19671013    | 운영중      | NA          | 상수도전용  | 0           | 1967        | N           | 갑          | 76.02       | 1           | 기타        | 휴게음식점  | 커피숍      | 1           |\n",
       "| 44934 | 44934       | 학커피숍    | 19670414    | 운영중      | NA          |             | 0           | 1967        | N           |             | 59.13       | 0           |             | 휴게음식점  | 커피숍      | 0           |\n",
       "\n"
      ],
      "text/plain": [
       "      number companyName dateOflicensing stateOfbusiness areaOfsite waterwork \n",
       "24108 24108  왕관 커피숍 19671013        운영중          NA         상수도전용\n",
       "44934 44934  학커피숍    19670414        운영중          NA                   \n",
       "      numOfmenWorker yearOfStart multipleUse grade sizeOfsite numOfwomenWorker\n",
       "24108 0              1967        N           갑    76.02      1               \n",
       "44934 0              1967        N                 59.13      0               \n",
       "      vicintyOfsite sanitaryName businessCondition totalOfworker\n",
       "24108 기타          휴게음식점   커피숍            1            \n",
       "44934               휴게음식점   커피숍            0            "
      ]
     },
     "metadata": {},
     "output_type": "display_data"
    }
   ],
   "source": [
    "# 실습2. 현재 운영중인 가장 오래된 커피샵\n",
    "subset(DF, subset=(yearOfStart == 1964)) # 가장오래된 커피샵인데 폐업\n",
    "DFFilter <- subset(DF, subset=(stateOfbusiness == \"운영중\"))\n",
    "range(DFFilter$yearOfStart, na.rm=T) \n",
    "subset(DFFilter, subset=(yearOfStart == 1967))"
   ]
  },
  {
   "cell_type": "code",
   "execution_count": 27,
   "metadata": {},
   "outputs": [
    {
     "data": {
      "text/plain": [
       "\n",
       "1964 1966 1967 1968 1969 1970 1971 1972 1974 1975 1976 1979 1980 1981 1982 1983 \n",
       "   2    2    3    1    2    4    6    3    1    2    5    4    9    8   12    9 \n",
       "1984 1985 1986 1987 1988 1989 1990 1991 1992 1993 1994 1995 1996 1997 1998 1999 \n",
       "  11   18   21   21   26   23   25   28   37   50   48   48   41   54   54   46 \n",
       "2000 2001 2002 2003 2004 2005 2006 2007 2008 2009 2010 2011 2012 2013 2014 2015 \n",
       "  89  183  398  799  648  654  863 1233 1579 2489 4172 5942 6315 7270 9905 3650 "
      ]
     },
     "metadata": {},
     "output_type": "display_data"
    }
   ],
   "source": [
    "# 실습3. 년도별 오픈한 커피샵의 갯수(빈도수)\n",
    "table(DF$yearOfStart)"
   ]
  },
  {
   "cell_type": "code",
   "execution_count": 28,
   "metadata": {},
   "outputs": [
    {
     "name": "stderr",
     "output_type": "stream",
     "text": [
      "Warning message:\n",
      "\"Removed 19 rows containing non-finite values (stat_count).\""
     ]
    },
    {
     "data": {
      "image/png": "[encoded data removed]",
      "text/plain": [
       "plot without title"
      ]
     },
     "metadata": {},
     "output_type": "display_data"
    }
   ],
   "source": [
    "# 실습4. 데이터시각화(qplot: Quick plot 사용)\n",
    "qplot(yearOfStart, data=DF, geom='bar')"
   ]
  },
  {
   "cell_type": "code",
   "execution_count": 29,
   "metadata": {},
   "outputs": [
    {
     "data": {
      "text/plain": [
       "      \n",
       "       운영중 폐업 등\n",
       "  1964      0       2\n",
       "  1966      0       2\n",
       "  1967      2       1\n",
       "  1968      0       1\n",
       "  1969      0       2\n",
       "  1970      2       2\n",
       "  1971      4       2\n",
       "  1972      2       1\n",
       "  1974      1       0\n",
       "  1975      1       1\n",
       "  1976      1       4\n",
       "  1979      2       2\n",
       "  1980      3       6\n",
       "  1981      6       2\n",
       "  1982      2      10\n",
       "  1983      3       6\n",
       "  1984      4       7\n",
       "  1985      5      13\n",
       "  1986      5      16\n",
       "  1987      6      15\n",
       "  1988     11      15\n",
       "  1989      5      18\n",
       "  1990      7      18\n",
       "  1991      7      21\n",
       "  1992      3      34\n",
       "  1993     14      36\n",
       "  1994     14      34\n",
       "  1995     13      35\n",
       "  1996     14      27\n",
       "  1997     21      33\n",
       "  1998     25      29\n",
       "  1999     23      23\n",
       "  2000     26      63\n",
       "  2001     76     107\n",
       "  2002    105     293\n",
       "  2003    163     636\n",
       "  2004    180     468\n",
       "  2005    204     450\n",
       "  2006    314     549\n",
       "  2007    496     737\n",
       "  2008    729     850\n",
       "  2009   1229    1260\n",
       "  2010   2503    1669\n",
       "  2011   3961    1981\n",
       "  2012   4642    1673\n",
       "  2013   6045    1225\n",
       "  2014   9125     780\n",
       "  2015   3564      86"
      ]
     },
     "metadata": {},
     "output_type": "display_data"
    },
    {
     "data": {
      "text/plain": [
       "         \n",
       "          1964 1966 1967 1968 1969 1970 1971 1972 1974 1975 1976 1979 1980 1981\n",
       "  운영중     0    0    2    0    0    2    4    2    1    1    1    2    3    6\n",
       "  폐업 등    2    2    1    1    2    2    2    1    0    1    4    2    6    2\n",
       "         \n",
       "          1982 1983 1984 1985 1986 1987 1988 1989 1990 1991 1992 1993 1994 1995\n",
       "  운영중     2    3    4    5    5    6   11    5    7    7    3   14   14   13\n",
       "  폐업 등   10    6    7   13   16   15   15   18   18   21   34   36   34   35\n",
       "         \n",
       "          1996 1997 1998 1999 2000 2001 2002 2003 2004 2005 2006 2007 2008 2009\n",
       "  운영중    14   21   25   23   26   76  105  163  180  204  314  496  729 1229\n",
       "  폐업 등   27   33   29   23   63  107  293  636  468  450  549  737  850 1260\n",
       "         \n",
       "          2010 2011 2012 2013 2014 2015\n",
       "  운영중  2503 3961 4642 6045 9125 3564\n",
       "  폐업 등 1669 1981 1673 1225  780   86"
      ]
     },
     "metadata": {},
     "output_type": "display_data"
    }
   ],
   "source": [
    "# 영업상태 및 연도에 따른 분할표 생성\n",
    "Freq <- table(DF$yearOfStart, DF$stateOfbusiness)\n",
    "Freq\n",
    "Freq1 <- table(DF$stateOfbusiness, DF$yearOfStart)\n",
    "Freq1"
   ]
  },
  {
   "cell_type": "code",
   "execution_count": 30,
   "metadata": {},
   "outputs": [
    {
     "data": {
      "text/html": [
       "<ol class=list-inline>\n",
       "\t<li>2</li>\n",
       "\t<li>3</li>\n",
       "\t<li>4</li>\n",
       "\t<li>5</li>\n",
       "\t<li>6</li>\n",
       "\t<li>7</li>\n",
       "\t<li>8</li>\n",
       "\t<li>9</li>\n",
       "\t<li>10</li>\n",
       "\t<li>11</li>\n",
       "\t<li>12</li>\n",
       "\t<li>13</li>\n",
       "\t<li>14</li>\n",
       "\t<li>15</li>\n",
       "\t<li>16</li>\n",
       "\t<li>17</li>\n",
       "\t<li>18</li>\n",
       "\t<li>19</li>\n",
       "\t<li>20</li>\n",
       "\t<li>21</li>\n",
       "\t<li>22</li>\n",
       "\t<li>23</li>\n",
       "\t<li>24</li>\n",
       "\t<li>25</li>\n",
       "\t<li>26</li>\n",
       "\t<li>27</li>\n",
       "\t<li>28</li>\n",
       "\t<li>29</li>\n",
       "\t<li>30</li>\n",
       "</ol>\n"
      ],
      "text/latex": [
       "\\begin{enumerate*}\n",
       "\\item 2\n",
       "\\item 3\n",
       "\\item 4\n",
       "\\item 5\n",
       "\\item 6\n",
       "\\item 7\n",
       "\\item 8\n",
       "\\item 9\n",
       "\\item 10\n",
       "\\item 11\n",
       "\\item 12\n",
       "\\item 13\n",
       "\\item 14\n",
       "\\item 15\n",
       "\\item 16\n",
       "\\item 17\n",
       "\\item 18\n",
       "\\item 19\n",
       "\\item 20\n",
       "\\item 21\n",
       "\\item 22\n",
       "\\item 23\n",
       "\\item 24\n",
       "\\item 25\n",
       "\\item 26\n",
       "\\item 27\n",
       "\\item 28\n",
       "\\item 29\n",
       "\\item 30\n",
       "\\end{enumerate*}\n"
      ],
      "text/markdown": [
       "1. 2\n",
       "2. 3\n",
       "3. 4\n",
       "4. 5\n",
       "5. 6\n",
       "6. 7\n",
       "7. 8\n",
       "8. 9\n",
       "9. 10\n",
       "10. 11\n",
       "11. 12\n",
       "12. 13\n",
       "13. 14\n",
       "14. 15\n",
       "15. 16\n",
       "16. 17\n",
       "17. 18\n",
       "18. 19\n",
       "19. 20\n",
       "20. 21\n",
       "21. 22\n",
       "22. 23\n",
       "23. 24\n",
       "24. 25\n",
       "25. 26\n",
       "26. 27\n",
       "27. 28\n",
       "28. 29\n",
       "29. 30\n",
       "\n",
       "\n"
      ],
      "text/plain": [
       " [1]  2  3  4  5  6  7  8  9 10 11 12 13 14 15 16 17 18 19 20 21 22 23 24 25 26\n",
       "[26] 27 28 29 30"
      ]
     },
     "metadata": {},
     "output_type": "display_data"
    },
    {
     "data": {
      "text/html": [
       "2"
      ],
      "text/latex": [
       "2"
      ],
      "text/markdown": [
       "2"
      ],
      "text/plain": [
       "[1] 2"
      ]
     },
     "metadata": {},
     "output_type": "display_data"
    },
    {
     "data": {
      "text/html": [
       "<ol class=list-inline>\n",
       "\t<li>10</li>\n",
       "\t<li>11</li>\n",
       "\t<li>12</li>\n",
       "\t<li>13</li>\n",
       "\t<li>14</li>\n",
       "\t<li>15</li>\n",
       "\t<li>16</li>\n",
       "\t<li>17</li>\n",
       "\t<li>18</li>\n",
       "\t<li>19</li>\n",
       "\t<li>20</li>\n",
       "\t<li>21</li>\n",
       "\t<li>22</li>\n",
       "\t<li>23</li>\n",
       "\t<li>24</li>\n",
       "\t<li>25</li>\n",
       "\t<li>26</li>\n",
       "\t<li>27</li>\n",
       "\t<li>28</li>\n",
       "\t<li>29</li>\n",
       "</ol>\n"
      ],
      "text/latex": [
       "\\begin{enumerate*}\n",
       "\\item 10\n",
       "\\item 11\n",
       "\\item 12\n",
       "\\item 13\n",
       "\\item 14\n",
       "\\item 15\n",
       "\\item 16\n",
       "\\item 17\n",
       "\\item 18\n",
       "\\item 19\n",
       "\\item 20\n",
       "\\item 21\n",
       "\\item 22\n",
       "\\item 23\n",
       "\\item 24\n",
       "\\item 25\n",
       "\\item 26\n",
       "\\item 27\n",
       "\\item 28\n",
       "\\item 29\n",
       "\\end{enumerate*}\n"
      ],
      "text/markdown": [
       "1. 10\n",
       "2. 11\n",
       "3. 12\n",
       "4. 13\n",
       "5. 14\n",
       "6. 15\n",
       "7. 16\n",
       "8. 17\n",
       "9. 18\n",
       "10. 19\n",
       "11. 20\n",
       "12. 21\n",
       "13. 22\n",
       "14. 23\n",
       "15. 24\n",
       "16. 25\n",
       "17. 26\n",
       "18. 27\n",
       "19. 28\n",
       "20. 29\n",
       "\n",
       "\n"
      ],
      "text/plain": [
       " [1] 10 11 12 13 14 15 16 17 18 19 20 21 22 23 24 25 26 27 28 29"
      ]
     },
     "metadata": {},
     "output_type": "display_data"
    },
    {
     "data": {
      "text/html": [
       "<ol class=list-inline>\n",
       "\t<li>1</li>\n",
       "\t<li>3</li>\n",
       "</ol>\n"
      ],
      "text/latex": [
       "\\begin{enumerate*}\n",
       "\\item 1\n",
       "\\item 3\n",
       "\\end{enumerate*}\n"
      ],
      "text/markdown": [
       "1. 1\n",
       "2. 3\n",
       "\n",
       "\n"
      ],
      "text/plain": [
       "[1] 1 3"
      ]
     },
     "metadata": {},
     "output_type": "display_data"
    }
   ],
   "source": [
    "# which() : TRUE값이 어디 있는지를 검색해주는 함수\n",
    "a <- c(2:30)\n",
    "a\n",
    "which(a==3) # 2 : 2번째\n",
    "which(a>10)\n",
    "b <- c(T, F, T)\n",
    "which(b)"
   ]
  },
  {
   "cell_type": "code",
   "execution_count": 31,
   "metadata": {},
   "outputs": [
    {
     "data": {
      "text/html": [
       "<ol class=list-inline>\n",
       "\t<li>'1964'</li>\n",
       "\t<li>'1966'</li>\n",
       "\t<li>'1967'</li>\n",
       "\t<li>'1968'</li>\n",
       "\t<li>'1969'</li>\n",
       "\t<li>'1970'</li>\n",
       "\t<li>'1971'</li>\n",
       "\t<li>'1972'</li>\n",
       "\t<li>'1974'</li>\n",
       "\t<li>'1975'</li>\n",
       "\t<li>'1976'</li>\n",
       "\t<li>'1979'</li>\n",
       "\t<li>'1980'</li>\n",
       "\t<li>'1981'</li>\n",
       "\t<li>'1982'</li>\n",
       "\t<li>'1983'</li>\n",
       "\t<li>'1984'</li>\n",
       "\t<li>'1985'</li>\n",
       "\t<li>'1986'</li>\n",
       "\t<li>'1987'</li>\n",
       "\t<li>'1988'</li>\n",
       "\t<li>'1989'</li>\n",
       "\t<li>'1990'</li>\n",
       "\t<li>'1991'</li>\n",
       "\t<li>'1992'</li>\n",
       "\t<li>'1993'</li>\n",
       "\t<li>'1994'</li>\n",
       "\t<li>'1995'</li>\n",
       "\t<li>'1996'</li>\n",
       "\t<li>'1997'</li>\n",
       "\t<li>'1998'</li>\n",
       "\t<li>'1999'</li>\n",
       "\t<li>'2000'</li>\n",
       "\t<li>'2001'</li>\n",
       "\t<li>'2002'</li>\n",
       "\t<li>'2003'</li>\n",
       "\t<li>'2004'</li>\n",
       "\t<li>'2005'</li>\n",
       "\t<li>'2006'</li>\n",
       "\t<li>'2007'</li>\n",
       "\t<li>'2008'</li>\n",
       "\t<li>'2009'</li>\n",
       "\t<li>'2010'</li>\n",
       "\t<li>'2011'</li>\n",
       "\t<li>'2012'</li>\n",
       "\t<li>'2013'</li>\n",
       "\t<li>'2014'</li>\n",
       "\t<li>'2015'</li>\n",
       "</ol>\n"
      ],
      "text/latex": [
       "\\begin{enumerate*}\n",
       "\\item '1964'\n",
       "\\item '1966'\n",
       "\\item '1967'\n",
       "\\item '1968'\n",
       "\\item '1969'\n",
       "\\item '1970'\n",
       "\\item '1971'\n",
       "\\item '1972'\n",
       "\\item '1974'\n",
       "\\item '1975'\n",
       "\\item '1976'\n",
       "\\item '1979'\n",
       "\\item '1980'\n",
       "\\item '1981'\n",
       "\\item '1982'\n",
       "\\item '1983'\n",
       "\\item '1984'\n",
       "\\item '1985'\n",
       "\\item '1986'\n",
       "\\item '1987'\n",
       "\\item '1988'\n",
       "\\item '1989'\n",
       "\\item '1990'\n",
       "\\item '1991'\n",
       "\\item '1992'\n",
       "\\item '1993'\n",
       "\\item '1994'\n",
       "\\item '1995'\n",
       "\\item '1996'\n",
       "\\item '1997'\n",
       "\\item '1998'\n",
       "\\item '1999'\n",
       "\\item '2000'\n",
       "\\item '2001'\n",
       "\\item '2002'\n",
       "\\item '2003'\n",
       "\\item '2004'\n",
       "\\item '2005'\n",
       "\\item '2006'\n",
       "\\item '2007'\n",
       "\\item '2008'\n",
       "\\item '2009'\n",
       "\\item '2010'\n",
       "\\item '2011'\n",
       "\\item '2012'\n",
       "\\item '2013'\n",
       "\\item '2014'\n",
       "\\item '2015'\n",
       "\\end{enumerate*}\n"
      ],
      "text/markdown": [
       "1. '1964'\n",
       "2. '1966'\n",
       "3. '1967'\n",
       "4. '1968'\n",
       "5. '1969'\n",
       "6. '1970'\n",
       "7. '1971'\n",
       "8. '1972'\n",
       "9. '1974'\n",
       "10. '1975'\n",
       "11. '1976'\n",
       "12. '1979'\n",
       "13. '1980'\n",
       "14. '1981'\n",
       "15. '1982'\n",
       "16. '1983'\n",
       "17. '1984'\n",
       "18. '1985'\n",
       "19. '1986'\n",
       "20. '1987'\n",
       "21. '1988'\n",
       "22. '1989'\n",
       "23. '1990'\n",
       "24. '1991'\n",
       "25. '1992'\n",
       "26. '1993'\n",
       "27. '1994'\n",
       "28. '1995'\n",
       "29. '1996'\n",
       "30. '1997'\n",
       "31. '1998'\n",
       "32. '1999'\n",
       "33. '2000'\n",
       "34. '2001'\n",
       "35. '2002'\n",
       "36. '2003'\n",
       "37. '2004'\n",
       "38. '2005'\n",
       "39. '2006'\n",
       "40. '2007'\n",
       "41. '2008'\n",
       "42. '2009'\n",
       "43. '2010'\n",
       "44. '2011'\n",
       "45. '2012'\n",
       "46. '2013'\n",
       "47. '2014'\n",
       "48. '2015'\n",
       "\n",
       "\n"
      ],
      "text/plain": [
       " [1] \"1964\" \"1966\" \"1967\" \"1968\" \"1969\" \"1970\" \"1971\" \"1972\" \"1974\" \"1975\"\n",
       "[11] \"1976\" \"1979\" \"1980\" \"1981\" \"1982\" \"1983\" \"1984\" \"1985\" \"1986\" \"1987\"\n",
       "[21] \"1988\" \"1989\" \"1990\" \"1991\" \"1992\" \"1993\" \"1994\" \"1995\" \"1996\" \"1997\"\n",
       "[31] \"1998\" \"1999\" \"2000\" \"2001\" \"2002\" \"2003\" \"2004\" \"2005\" \"2006\" \"2007\"\n",
       "[41] \"2008\" \"2009\" \"2010\" \"2011\" \"2012\" \"2013\" \"2014\" \"2015\""
      ]
     },
     "metadata": {},
     "output_type": "display_data"
    },
    {
     "data": {
      "text/html": [
       "30"
      ],
      "text/latex": [
       "30"
      ],
      "text/markdown": [
       "30"
      ],
      "text/plain": [
       "[1] 30"
      ]
     },
     "metadata": {},
     "output_type": "display_data"
    },
    {
     "data": {
      "text/html": [
       "48"
      ],
      "text/latex": [
       "48"
      ],
      "text/markdown": [
       "48"
      ],
      "text/plain": [
       "[1] 48"
      ]
     },
     "metadata": {},
     "output_type": "display_data"
    },
    {
     "data": {
      "text/plain": [
       "         \n",
       "          1997 1998 1999 2000 2001 2002 2003 2004 2005 2006 2007 2008 2009 2010\n",
       "  운영중    21   25   23   26   76  105  163  180  204  314  496  729 1229 2503\n",
       "  폐업 등   33   29   23   63  107  293  636  468  450  549  737  850 1260 1669\n",
       "         \n",
       "          2011 2012 2013 2014\n",
       "  운영중  3961 4642 6045 9125\n",
       "  폐업 등 1981 1673 1225  780"
      ]
     },
     "metadata": {},
     "output_type": "display_data"
    }
   ],
   "source": [
    "# 1997년도이상인 데이터만 저장\n",
    "colnames(Freq1)\n",
    "which(colnames(Freq1) == '1997') # 30\n",
    "which.max(colnames(Freq1)) # 48\n",
    "Freq <- Freq1[, c(30:47)] # 48=2015년자료는 집계가 덜 되었기 때문에 생략\n",
    "Freq"
   ]
  },
  {
   "cell_type": "code",
   "execution_count": 32,
   "metadata": {},
   "outputs": [
    {
     "data": {
      "text/plain": [
       "         \n",
       "                1997       1998       1999       2000       2001       2002\n",
       "  운영중  0.38888889 0.46296296 0.50000000 0.29213483 0.41530055 0.26381910\n",
       "  폐업 등 0.61111111 0.53703704 0.50000000 0.70786517 0.58469945 0.73618090\n",
       "         \n",
       "                2003       2004       2005       2006       2007       2008\n",
       "  운영중  0.20400501 0.27777778 0.31192661 0.36384705 0.40227088 0.46168461\n",
       "  폐업 등 0.79599499 0.72222222 0.68807339 0.63615295 0.59772912 0.53831539\n",
       "         \n",
       "                2009       2010       2011       2012       2013       2014\n",
       "  운영중  0.49377260 0.59995206 0.66661057 0.73507522 0.83149931 0.92125189\n",
       "  폐업 등 0.50622740 0.40004794 0.33338943 0.26492478 0.16850069 0.07874811"
      ]
     },
     "metadata": {},
     "output_type": "display_data"
    }
   ],
   "source": [
    "# 실습 1. 년도별 vs 폐업비율 (상대도수비율, prop.table())\n",
    "# prop.table() : 도수분포표, 교차표의 상대도수의 값을 얻기 위해 사용되는 함수\n",
    "PFreq <- prop.table(Freq, margin=2)\n",
    "PFreq"
   ]
  },
  {
   "cell_type": "code",
   "execution_count": 33,
   "metadata": {},
   "outputs": [
    {
     "name": "stdout",
     "output_type": "stream",
     "text": [
      " 'table' int [1:2, 1:18] 21 33 25 29 23 23 26 63 76 107 ...\n",
      " - attr(*, \"dimnames\")=List of 2\n",
      "  ..$ : chr [1:2] \"운영중\" \"폐업 등\"\n",
      "  ..$ : chr [1:18] \"1997\" \"1998\" \"1999\" \"2000\" ...\n",
      " 'table' num [1:2, 1:18] 0.389 0.611 0.463 0.537 0.5 ...\n",
      " - attr(*, \"dimnames\")=List of 2\n",
      "  ..$ : chr [1:2] \"운영중\" \"폐업 등\"\n",
      "  ..$ : chr [1:18] \"1997\" \"1998\" \"1999\" \"2000\" ...\n"
     ]
    },
    {
     "data": {
      "text/html": [
       "<table>\n",
       "<thead><tr><th></th><th scope=col>colnames.Freq.</th><th scope=col>Freq.1...</th><th scope=col>Freq.2...</th><th scope=col>PFreq.1...</th><th scope=col>PFreq.2...</th></tr></thead>\n",
       "<tbody>\n",
       "\t<tr><th scope=row>1997</th><td>1997      </td><td>  21      </td><td>  33      </td><td>0.3888889 </td><td>0.61111111</td></tr>\n",
       "\t<tr><th scope=row>1998</th><td>1998      </td><td>  25      </td><td>  29      </td><td>0.4629630 </td><td>0.53703704</td></tr>\n",
       "\t<tr><th scope=row>1999</th><td>1999      </td><td>  23      </td><td>  23      </td><td>0.5000000 </td><td>0.50000000</td></tr>\n",
       "\t<tr><th scope=row>2000</th><td>2000      </td><td>  26      </td><td>  63      </td><td>0.2921348 </td><td>0.70786517</td></tr>\n",
       "\t<tr><th scope=row>2001</th><td>2001      </td><td>  76      </td><td> 107      </td><td>0.4153005 </td><td>0.58469945</td></tr>\n",
       "\t<tr><th scope=row>2002</th><td>2002      </td><td> 105      </td><td> 293      </td><td>0.2638191 </td><td>0.73618090</td></tr>\n",
       "\t<tr><th scope=row>2003</th><td>2003      </td><td> 163      </td><td> 636      </td><td>0.2040050 </td><td>0.79599499</td></tr>\n",
       "\t<tr><th scope=row>2004</th><td>2004      </td><td> 180      </td><td> 468      </td><td>0.2777778 </td><td>0.72222222</td></tr>\n",
       "\t<tr><th scope=row>2005</th><td>2005      </td><td> 204      </td><td> 450      </td><td>0.3119266 </td><td>0.68807339</td></tr>\n",
       "\t<tr><th scope=row>2006</th><td>2006      </td><td> 314      </td><td> 549      </td><td>0.3638470 </td><td>0.63615295</td></tr>\n",
       "\t<tr><th scope=row>2007</th><td>2007      </td><td> 496      </td><td> 737      </td><td>0.4022709 </td><td>0.59772912</td></tr>\n",
       "\t<tr><th scope=row>2008</th><td>2008      </td><td> 729      </td><td> 850      </td><td>0.4616846 </td><td>0.53831539</td></tr>\n",
       "\t<tr><th scope=row>2009</th><td>2009      </td><td>1229      </td><td>1260      </td><td>0.4937726 </td><td>0.50622740</td></tr>\n",
       "\t<tr><th scope=row>2010</th><td>2010      </td><td>2503      </td><td>1669      </td><td>0.5999521 </td><td>0.40004794</td></tr>\n",
       "\t<tr><th scope=row>2011</th><td>2011      </td><td>3961      </td><td>1981      </td><td>0.6666106 </td><td>0.33338943</td></tr>\n",
       "\t<tr><th scope=row>2012</th><td>2012      </td><td>4642      </td><td>1673      </td><td>0.7350752 </td><td>0.26492478</td></tr>\n",
       "\t<tr><th scope=row>2013</th><td>2013      </td><td>6045      </td><td>1225      </td><td>0.8314993 </td><td>0.16850069</td></tr>\n",
       "\t<tr><th scope=row>2014</th><td>2014      </td><td>9125      </td><td> 780      </td><td>0.9212519 </td><td>0.07874811</td></tr>\n",
       "</tbody>\n",
       "</table>\n"
      ],
      "text/latex": [
       "\\begin{tabular}{r|lllll}\n",
       "  & colnames.Freq. & Freq.1... & Freq.2... & PFreq.1... & PFreq.2...\\\\\n",
       "\\hline\n",
       "\t1997 & 1997       &   21       &   33       & 0.3888889  & 0.61111111\\\\\n",
       "\t1998 & 1998       &   25       &   29       & 0.4629630  & 0.53703704\\\\\n",
       "\t1999 & 1999       &   23       &   23       & 0.5000000  & 0.50000000\\\\\n",
       "\t2000 & 2000       &   26       &   63       & 0.2921348  & 0.70786517\\\\\n",
       "\t2001 & 2001       &   76       &  107       & 0.4153005  & 0.58469945\\\\\n",
       "\t2002 & 2002       &  105       &  293       & 0.2638191  & 0.73618090\\\\\n",
       "\t2003 & 2003       &  163       &  636       & 0.2040050  & 0.79599499\\\\\n",
       "\t2004 & 2004       &  180       &  468       & 0.2777778  & 0.72222222\\\\\n",
       "\t2005 & 2005       &  204       &  450       & 0.3119266  & 0.68807339\\\\\n",
       "\t2006 & 2006       &  314       &  549       & 0.3638470  & 0.63615295\\\\\n",
       "\t2007 & 2007       &  496       &  737       & 0.4022709  & 0.59772912\\\\\n",
       "\t2008 & 2008       &  729       &  850       & 0.4616846  & 0.53831539\\\\\n",
       "\t2009 & 2009       & 1229       & 1260       & 0.4937726  & 0.50622740\\\\\n",
       "\t2010 & 2010       & 2503       & 1669       & 0.5999521  & 0.40004794\\\\\n",
       "\t2011 & 2011       & 3961       & 1981       & 0.6666106  & 0.33338943\\\\\n",
       "\t2012 & 2012       & 4642       & 1673       & 0.7350752  & 0.26492478\\\\\n",
       "\t2013 & 2013       & 6045       & 1225       & 0.8314993  & 0.16850069\\\\\n",
       "\t2014 & 2014       & 9125       &  780       & 0.9212519  & 0.07874811\\\\\n",
       "\\end{tabular}\n"
      ],
      "text/markdown": [
       "\n",
       "| <!--/--> | colnames.Freq. | Freq.1... | Freq.2... | PFreq.1... | PFreq.2... |\n",
       "|---|---|---|---|---|---|\n",
       "| 1997 | 1997       |   21       |   33       | 0.3888889  | 0.61111111 |\n",
       "| 1998 | 1998       |   25       |   29       | 0.4629630  | 0.53703704 |\n",
       "| 1999 | 1999       |   23       |   23       | 0.5000000  | 0.50000000 |\n",
       "| 2000 | 2000       |   26       |   63       | 0.2921348  | 0.70786517 |\n",
       "| 2001 | 2001       |   76       |  107       | 0.4153005  | 0.58469945 |\n",
       "| 2002 | 2002       |  105       |  293       | 0.2638191  | 0.73618090 |\n",
       "| 2003 | 2003       |  163       |  636       | 0.2040050  | 0.79599499 |\n",
       "| 2004 | 2004       |  180       |  468       | 0.2777778  | 0.72222222 |\n",
       "| 2005 | 2005       |  204       |  450       | 0.3119266  | 0.68807339 |\n",
       "| 2006 | 2006       |  314       |  549       | 0.3638470  | 0.63615295 |\n",
       "| 2007 | 2007       |  496       |  737       | 0.4022709  | 0.59772912 |\n",
       "| 2008 | 2008       |  729       |  850       | 0.4616846  | 0.53831539 |\n",
       "| 2009 | 2009       | 1229       | 1260       | 0.4937726  | 0.50622740 |\n",
       "| 2010 | 2010       | 2503       | 1669       | 0.5999521  | 0.40004794 |\n",
       "| 2011 | 2011       | 3961       | 1981       | 0.6666106  | 0.33338943 |\n",
       "| 2012 | 2012       | 4642       | 1673       | 0.7350752  | 0.26492478 |\n",
       "| 2013 | 2013       | 6045       | 1225       | 0.8314993  | 0.16850069 |\n",
       "| 2014 | 2014       | 9125       |  780       | 0.9212519  | 0.07874811 |\n",
       "\n"
      ],
      "text/plain": [
       "     colnames.Freq. Freq.1... Freq.2... PFreq.1... PFreq.2...\n",
       "1997 1997             21        33      0.3888889  0.61111111\n",
       "1998 1998             25        29      0.4629630  0.53703704\n",
       "1999 1999             23        23      0.5000000  0.50000000\n",
       "2000 2000             26        63      0.2921348  0.70786517\n",
       "2001 2001             76       107      0.4153005  0.58469945\n",
       "2002 2002            105       293      0.2638191  0.73618090\n",
       "2003 2003            163       636      0.2040050  0.79599499\n",
       "2004 2004            180       468      0.2777778  0.72222222\n",
       "2005 2005            204       450      0.3119266  0.68807339\n",
       "2006 2006            314       549      0.3638470  0.63615295\n",
       "2007 2007            496       737      0.4022709  0.59772912\n",
       "2008 2008            729       850      0.4616846  0.53831539\n",
       "2009 2009           1229      1260      0.4937726  0.50622740\n",
       "2010 2010           2503      1669      0.5999521  0.40004794\n",
       "2011 2011           3961      1981      0.6666106  0.33338943\n",
       "2012 2012           4642      1673      0.7350752  0.26492478\n",
       "2013 2013           6045      1225      0.8314993  0.16850069\n",
       "2014 2014           9125       780      0.9212519  0.07874811"
      ]
     },
     "metadata": {},
     "output_type": "display_data"
    }
   ],
   "source": [
    "# 새로운 data.frame으로 생성\n",
    "str(Freq)\n",
    "str(PFreq)\n",
    "\n",
    "NewDF <- data.frame(colnames(Freq), Freq[1,], Freq[2,], PFreq[1,], PFreq[2,])\n",
    "NewDF"
   ]
  },
  {
   "cell_type": "code",
   "execution_count": 34,
   "metadata": {},
   "outputs": [
    {
     "data": {
      "text/html": [
       "<table>\n",
       "<thead><tr><th scope=col>Time</th><th scope=col>Open</th><th scope=col>Close</th><th scope=col>POpen</th><th scope=col>PClose</th></tr></thead>\n",
       "<tbody>\n",
       "\t<tr><td>1997      </td><td>  21      </td><td>  33      </td><td>0.3888889 </td><td>0.61111111</td></tr>\n",
       "\t<tr><td>1998      </td><td>  25      </td><td>  29      </td><td>0.4629630 </td><td>0.53703704</td></tr>\n",
       "\t<tr><td>1999      </td><td>  23      </td><td>  23      </td><td>0.5000000 </td><td>0.50000000</td></tr>\n",
       "\t<tr><td>2000      </td><td>  26      </td><td>  63      </td><td>0.2921348 </td><td>0.70786517</td></tr>\n",
       "\t<tr><td>2001      </td><td>  76      </td><td> 107      </td><td>0.4153005 </td><td>0.58469945</td></tr>\n",
       "\t<tr><td>2002      </td><td> 105      </td><td> 293      </td><td>0.2638191 </td><td>0.73618090</td></tr>\n",
       "\t<tr><td>2003      </td><td> 163      </td><td> 636      </td><td>0.2040050 </td><td>0.79599499</td></tr>\n",
       "\t<tr><td>2004      </td><td> 180      </td><td> 468      </td><td>0.2777778 </td><td>0.72222222</td></tr>\n",
       "\t<tr><td>2005      </td><td> 204      </td><td> 450      </td><td>0.3119266 </td><td>0.68807339</td></tr>\n",
       "\t<tr><td>2006      </td><td> 314      </td><td> 549      </td><td>0.3638470 </td><td>0.63615295</td></tr>\n",
       "\t<tr><td>2007      </td><td> 496      </td><td> 737      </td><td>0.4022709 </td><td>0.59772912</td></tr>\n",
       "\t<tr><td>2008      </td><td> 729      </td><td> 850      </td><td>0.4616846 </td><td>0.53831539</td></tr>\n",
       "\t<tr><td>2009      </td><td>1229      </td><td>1260      </td><td>0.4937726 </td><td>0.50622740</td></tr>\n",
       "\t<tr><td>2010      </td><td>2503      </td><td>1669      </td><td>0.5999521 </td><td>0.40004794</td></tr>\n",
       "\t<tr><td>2011      </td><td>3961      </td><td>1981      </td><td>0.6666106 </td><td>0.33338943</td></tr>\n",
       "\t<tr><td>2012      </td><td>4642      </td><td>1673      </td><td>0.7350752 </td><td>0.26492478</td></tr>\n",
       "\t<tr><td>2013      </td><td>6045      </td><td>1225      </td><td>0.8314993 </td><td>0.16850069</td></tr>\n",
       "\t<tr><td>2014      </td><td>9125      </td><td> 780      </td><td>0.9212519 </td><td>0.07874811</td></tr>\n",
       "</tbody>\n",
       "</table>\n"
      ],
      "text/latex": [
       "\\begin{tabular}{r|lllll}\n",
       " Time & Open & Close & POpen & PClose\\\\\n",
       "\\hline\n",
       "\t 1997       &   21       &   33       & 0.3888889  & 0.61111111\\\\\n",
       "\t 1998       &   25       &   29       & 0.4629630  & 0.53703704\\\\\n",
       "\t 1999       &   23       &   23       & 0.5000000  & 0.50000000\\\\\n",
       "\t 2000       &   26       &   63       & 0.2921348  & 0.70786517\\\\\n",
       "\t 2001       &   76       &  107       & 0.4153005  & 0.58469945\\\\\n",
       "\t 2002       &  105       &  293       & 0.2638191  & 0.73618090\\\\\n",
       "\t 2003       &  163       &  636       & 0.2040050  & 0.79599499\\\\\n",
       "\t 2004       &  180       &  468       & 0.2777778  & 0.72222222\\\\\n",
       "\t 2005       &  204       &  450       & 0.3119266  & 0.68807339\\\\\n",
       "\t 2006       &  314       &  549       & 0.3638470  & 0.63615295\\\\\n",
       "\t 2007       &  496       &  737       & 0.4022709  & 0.59772912\\\\\n",
       "\t 2008       &  729       &  850       & 0.4616846  & 0.53831539\\\\\n",
       "\t 2009       & 1229       & 1260       & 0.4937726  & 0.50622740\\\\\n",
       "\t 2010       & 2503       & 1669       & 0.5999521  & 0.40004794\\\\\n",
       "\t 2011       & 3961       & 1981       & 0.6666106  & 0.33338943\\\\\n",
       "\t 2012       & 4642       & 1673       & 0.7350752  & 0.26492478\\\\\n",
       "\t 2013       & 6045       & 1225       & 0.8314993  & 0.16850069\\\\\n",
       "\t 2014       & 9125       &  780       & 0.9212519  & 0.07874811\\\\\n",
       "\\end{tabular}\n"
      ],
      "text/markdown": [
       "\n",
       "| Time | Open | Close | POpen | PClose |\n",
       "|---|---|---|---|---|\n",
       "| 1997       |   21       |   33       | 0.3888889  | 0.61111111 |\n",
       "| 1998       |   25       |   29       | 0.4629630  | 0.53703704 |\n",
       "| 1999       |   23       |   23       | 0.5000000  | 0.50000000 |\n",
       "| 2000       |   26       |   63       | 0.2921348  | 0.70786517 |\n",
       "| 2001       |   76       |  107       | 0.4153005  | 0.58469945 |\n",
       "| 2002       |  105       |  293       | 0.2638191  | 0.73618090 |\n",
       "| 2003       |  163       |  636       | 0.2040050  | 0.79599499 |\n",
       "| 2004       |  180       |  468       | 0.2777778  | 0.72222222 |\n",
       "| 2005       |  204       |  450       | 0.3119266  | 0.68807339 |\n",
       "| 2006       |  314       |  549       | 0.3638470  | 0.63615295 |\n",
       "| 2007       |  496       |  737       | 0.4022709  | 0.59772912 |\n",
       "| 2008       |  729       |  850       | 0.4616846  | 0.53831539 |\n",
       "| 2009       | 1229       | 1260       | 0.4937726  | 0.50622740 |\n",
       "| 2010       | 2503       | 1669       | 0.5999521  | 0.40004794 |\n",
       "| 2011       | 3961       | 1981       | 0.6666106  | 0.33338943 |\n",
       "| 2012       | 4642       | 1673       | 0.7350752  | 0.26492478 |\n",
       "| 2013       | 6045       | 1225       | 0.8314993  | 0.16850069 |\n",
       "| 2014       | 9125       |  780       | 0.9212519  | 0.07874811 |\n",
       "\n"
      ],
      "text/plain": [
       "   Time Open Close POpen     PClose    \n",
       "1  1997   21   33  0.3888889 0.61111111\n",
       "2  1998   25   29  0.4629630 0.53703704\n",
       "3  1999   23   23  0.5000000 0.50000000\n",
       "4  2000   26   63  0.2921348 0.70786517\n",
       "5  2001   76  107  0.4153005 0.58469945\n",
       "6  2002  105  293  0.2638191 0.73618090\n",
       "7  2003  163  636  0.2040050 0.79599499\n",
       "8  2004  180  468  0.2777778 0.72222222\n",
       "9  2005  204  450  0.3119266 0.68807339\n",
       "10 2006  314  549  0.3638470 0.63615295\n",
       "11 2007  496  737  0.4022709 0.59772912\n",
       "12 2008  729  850  0.4616846 0.53831539\n",
       "13 2009 1229 1260  0.4937726 0.50622740\n",
       "14 2010 2503 1669  0.5999521 0.40004794\n",
       "15 2011 3961 1981  0.6666106 0.33338943\n",
       "16 2012 4642 1673  0.7350752 0.26492478\n",
       "17 2013 6045 1225  0.8314993 0.16850069\n",
       "18 2014 9125  780  0.9212519 0.07874811"
      ]
     },
     "metadata": {},
     "output_type": "display_data"
    }
   ],
   "source": [
    "# 새로운 데이터프레임의 행과 열이름을 부여\n",
    "rownames(NewDF) <- NULL # 년도가 변수로 있으니까 행이름은 필요 없다.\n",
    "colnames(NewDF) <- c('Time', 'Open', 'Close', 'POpen', 'PClose')\n",
    "NewDF"
   ]
  },
  {
   "cell_type": "code",
   "execution_count": 35,
   "metadata": {},
   "outputs": [
    {
     "data": {
      "image/png": "[encoded data removed]",
      "text/plain": [
       "plot without title"
      ]
     },
     "metadata": {},
     "output_type": "display_data"
    }
   ],
   "source": [
    "# 전국커피샵 개업 vs 폐업의 시각화\n",
    "ggplot(NewDF, aes(x=factor(Time), y=Close, group=1)) +\n",
    "    geom_line(colour=\"skyblue1\", size=1) + # 폐업\n",
    "    geom_point(colour=\"skyblue1\", size=3) +\n",
    "    geom_line(aes(y=Open), colour=\"red\", size=1) + # 개업\n",
    "    geom_point(aes(y=Open), colour=\"red\", size=3) +\n",
    "    ggtitle(\"전국 커피샵 개업 vs 폐업 비교\") +\n",
    "    theme_light() +\n",
    "    xlab(\"년도\") +\n",
    "    ylab(\"개수\") +\n",
    "    theme(plot.title=element_text(lineheight =.8, face=\"bold\", size=rel(2), colour=\"#49659F\"))"
   ]
  },
  {
   "cell_type": "code",
   "execution_count": 36,
   "metadata": {},
   "outputs": [
    {
     "name": "stderr",
     "output_type": "stream",
     "text": [
      "\n",
      "Attaching package: 'reshape2'\n",
      "\n",
      "The following objects are masked from 'package:data.table':\n",
      "\n",
      "    dcast, melt\n",
      "\n"
     ]
    }
   ],
   "source": [
    "# 개업과 폐업의 차이분석 비교 그래프\n",
    "# reshape2 패키지 Wide포맷을 Long포맷으로 또는 반대로 데이터의 형태를 변경해주는 패키지\n",
    "# ... melt()와 cast()함수를 사용하는 데 melt()함수는 wide를 long으로 변환\n",
    "library(reshape2)"
   ]
  },
  {
   "cell_type": "code",
   "execution_count": 37,
   "metadata": {},
   "outputs": [
    {
     "name": "stderr",
     "output_type": "stream",
     "text": [
      "Using Time as id variables\n"
     ]
    },
    {
     "data": {
      "image/png": "[encoded data removed]",
      "text/plain": [
       "plot without title"
      ]
     },
     "metadata": {},
     "output_type": "display_data"
    }
   ],
   "source": [
    "N <- subset(NewDF, select=c(-POpen, -PClose))\n",
    "#N\n",
    "N2 <- melt(N)\n",
    "#N2\n",
    "colnames(N2) <- c(\"Time\",\"Stat\",\"Value\")\n",
    "\n",
    "ggplot(N2, aes(x=factor(Time), y=Value, colour=Stat)) + \n",
    "    geom_line(colour=\"steelblue1\", size=1) +\n",
    "    geom_point(size=4) + \n",
    "    ggtitle(\"전국 커피샵 개업 vs 폐업의 차이비교\") +\n",
    "    theme_light() +\n",
    "    xlab(\"년도\") +\n",
    "    ylab(\"개수\") +\n",
    "    theme(plot.title=element_text(lineheight =.8, face=\"bold\", size=rel(2), colour=\"#49659F\"))"
   ]
  },
  {
   "cell_type": "markdown",
   "metadata": {},
   "source": [
    "#### 4. 전국 커피샵 규모 분석"
   ]
  },
  {
   "cell_type": "code",
   "execution_count": 38,
   "metadata": {},
   "outputs": [
    {
     "data": {
      "text/html": [
       "<ol class=list-inline>\n",
       "\t<li>'a'</li>\n",
       "\t<li>'b'</li>\n",
       "\t<li>'CountofDest'</li>\n",
       "\t<li>'data'</li>\n",
       "\t<li>'DegreeOfAge'</li>\n",
       "\t<li>'DF'</li>\n",
       "\t<li>'DFFilter'</li>\n",
       "\t<li>'Freq'</li>\n",
       "\t<li>'Freq1'</li>\n",
       "\t<li>'N'</li>\n",
       "\t<li>'N2'</li>\n",
       "\t<li>'NewDF'</li>\n",
       "\t<li>'PFreq'</li>\n",
       "\t<li>'SelectedDest'</li>\n",
       "</ol>\n"
      ],
      "text/latex": [
       "\\begin{enumerate*}\n",
       "\\item 'a'\n",
       "\\item 'b'\n",
       "\\item 'CountofDest'\n",
       "\\item 'data'\n",
       "\\item 'DegreeOfAge'\n",
       "\\item 'DF'\n",
       "\\item 'DFFilter'\n",
       "\\item 'Freq'\n",
       "\\item 'Freq1'\n",
       "\\item 'N'\n",
       "\\item 'N2'\n",
       "\\item 'NewDF'\n",
       "\\item 'PFreq'\n",
       "\\item 'SelectedDest'\n",
       "\\end{enumerate*}\n"
      ],
      "text/markdown": [
       "1. 'a'\n",
       "2. 'b'\n",
       "3. 'CountofDest'\n",
       "4. 'data'\n",
       "5. 'DegreeOfAge'\n",
       "6. 'DF'\n",
       "7. 'DFFilter'\n",
       "8. 'Freq'\n",
       "9. 'Freq1'\n",
       "10. 'N'\n",
       "11. 'N2'\n",
       "12. 'NewDF'\n",
       "13. 'PFreq'\n",
       "14. 'SelectedDest'\n",
       "\n",
       "\n"
      ],
      "text/plain": [
       " [1] \"a\"            \"b\"            \"CountofDest\"  \"data\"         \"DegreeOfAge\" \n",
       " [6] \"DF\"           \"DFFilter\"     \"Freq\"         \"Freq1\"        \"N\"           \n",
       "[11] \"N2\"           \"NewDF\"        \"PFreq\"        \"SelectedDest\""
      ]
     },
     "metadata": {},
     "output_type": "display_data"
    }
   ],
   "source": [
    "ls()\n",
    "rm(list=ls()) # 현재 세션에 있는 변수삭제\n",
    "library(data.table)"
   ]
  },
  {
   "cell_type": "code",
   "execution_count": 39,
   "metadata": {},
   "outputs": [],
   "source": [
    "DF <- fread('../data/R/example_coffee.csv', header=T, stringsAsFactors=T, data.table=F)\n",
    "\n",
    "# 사업자의 규모정보만 별도 객체에 저장\n",
    "Size <- DF$sizeOfsite\n",
    "# Size\n",
    "# table(Size)"
   ]
  },
  {
   "cell_type": "code",
   "execution_count": 40,
   "metadata": {},
   "outputs": [
    {
     "data": {
      "text/plain": [
       "    Min.  1st Qu.   Median     Mean  3rd Qu.     Max.     NA's \n",
       "    0.00    28.12    50.00    75.53    93.75 24075.00       19 "
      ]
     },
     "metadata": {},
     "output_type": "display_data"
    }
   ],
   "source": [
    "# 자료의 특성 파악\n",
    "summary(Size)\n",
    "\n",
    "# 결과분석\n",
    "# 결측치 19개, 평균은 75.53, 최대규모는 24075.00(이상치일 가능성이 농후)\n",
    "# 결측치와 이상치를 제거해야 한다."
   ]
  },
  {
   "cell_type": "code",
   "execution_count": 41,
   "metadata": {},
   "outputs": [
    {
     "data": {
      "image/png": "[encoded data removed]",
      "text/plain": [
       "plot without title"
      ]
     },
     "metadata": {},
     "output_type": "display_data"
    },
    {
     "data": {
      "image/png": "[encoded data removed]",
      "text/plain": [
       "plot without title"
      ]
     },
     "metadata": {},
     "output_type": "display_data"
    }
   ],
   "source": [
    "# 이상치확인 : boxplot으로 시각화\n",
    "plot(Size)\n",
    "boxplot(Size)"
   ]
  },
  {
   "cell_type": "code",
   "execution_count": 42,
   "metadata": {},
   "outputs": [
    {
     "data": {
      "text/plain": [
       "   Min. 1st Qu.  Median    Mean 3rd Qu.    Max.    NA's \n",
       "   0.00   28.12   50.00   74.92   93.73  982.03      24 "
      ]
     },
     "metadata": {},
     "output_type": "display_data"
    },
    {
     "data": {
      "image/png": "[encoded data removed]",
      "text/plain": [
       "plot without title"
      ]
     },
     "metadata": {},
     "output_type": "display_data"
    }
   ],
   "source": [
    "# 이상치를 삭제\n",
    "Size[Size > 1000] <- NA\n",
    "summary(Size)\n",
    "boxplot(Size)"
   ]
  },
  {
   "cell_type": "code",
   "execution_count": 43,
   "metadata": {},
   "outputs": [
    {
     "data": {
      "text/plain": [
       "   Min. 1st Qu.  Median    Mean 3rd Qu.    Max. \n",
       "   0.25   30.00   51.91   77.13   95.30  982.03 "
      ]
     },
     "metadata": {},
     "output_type": "display_data"
    },
    {
     "data": {
      "image/png": "[encoded data removed]",
      "text/plain": [
       "plot without title"
      ]
     },
     "metadata": {},
     "output_type": "display_data"
    }
   ],
   "source": [
    "# 0과 결측치를 삭제\n",
    "Size[Size == 0] <- NA\n",
    "\n",
    "# R에서 결측치를 확인 및 처리 : is.na(), na.omit(), complete.cases()\n",
    "Size <- Size[complete.cases(Size)] # 벡터에서 이상치를 완전히 제거\n",
    "summary(Size)\n",
    "boxplot(Size)"
   ]
  },
  {
   "cell_type": "code",
   "execution_count": 44,
   "metadata": {},
   "outputs": [
    {
     "data": {
      "text/plain": [
       "\n",
       "             (0,20]             (20,40]             (40,60]             (60,80] \n",
       "               6026               11303                8293                5283 \n",
       "           (80,100]           (100,120]           (120,140]           (140,160] \n",
       "               4239                2246                1751                1297 \n",
       "          (160,180]           (180,200]           (200,220]           (220,240] \n",
       "                959                 882                 568                 512 \n",
       "          (240,260]           (260,280]           (280,300]           (300,320] \n",
       "                394                 331                 347                 179 \n",
       "          (320,340]           (340,360]           (360,380]           (380,400] \n",
       "                191                 112                 105                  94 \n",
       "          (400,420]           (420,440]           (440,460]           (460,480] \n",
       "                 81                  60                  42                  34 \n",
       "          (480,500]           (500,520]           (520,540]           (540,560] \n",
       "                 32                  18                  16                  14 \n",
       "          (560,580]           (580,600]           (600,620]           (620,640] \n",
       "                 12                   9                   9                   5 \n",
       "          (640,660]           (660,680]           (680,700]           (700,720] \n",
       "                  4                   4                   0                   1 \n",
       "          (720,740]           (740,760]           (760,780]           (780,800] \n",
       "                  1                   2                   4                   1 \n",
       "          (800,820]           (820,840]           (840,860]           (860,880] \n",
       "                  1                   1                   0                   0 \n",
       "          (880,900]           (900,920]           (920,940]           (940,960] \n",
       "                  0                   2                   1                   0 \n",
       "          (960,980]         (980,1e+03]    (1e+03,1.02e+03] (1.02e+03,1.04e+03] \n",
       "                  0                   1                   0                   0 \n",
       "(1.04e+03,1.06e+03] (1.06e+03,1.08e+03]  (1.08e+03,1.1e+03]  (1.1e+03,1.12e+03] \n",
       "                  0                   0                   0                   0 \n",
       "(1.12e+03,1.14e+03] (1.14e+03,1.16e+03] (1.16e+03,1.18e+03]  (1.18e+03,1.2e+03] \n",
       "                  0                   0                   0                   0 "
      ]
     },
     "metadata": {},
     "output_type": "display_data"
    }
   ],
   "source": [
    "# 실습 1. 20개의 구간으로 자료를 생성\n",
    "DegreeOfSize <- table(cut(Size, breaks=(0:60)*20))\n",
    "DegreeOfSize"
   ]
  },
  {
   "cell_type": "code",
   "execution_count": 45,
   "metadata": {},
   "outputs": [
    {
     "name": "stderr",
     "output_type": "stream",
     "text": [
      "Warning message:\n",
      "\"Removed 1060 rows containing non-finite values (stat_bin).\"Warning message:\n",
      "\"Removed 2 rows containing missing values (geom_path).\""
     ]
    },
    {
     "data": {
      "image/png": "[encoded data removed]",
      "text/plain": [
       "plot without title"
      ]
     },
     "metadata": {},
     "output_type": "display_data"
    }
   ],
   "source": [
    "# 실습 2. 시각화 (freqpoly)\n",
    "library(ggplot2)\n",
    "library(ggthemes)\n",
    "\n",
    "ggplot(data=DF, aes(x=sizeOfsite)) +\n",
    "    geom_freqpoly(binwidth=10, size=1.2, colour=\"orange\") +\n",
    "    scale_x_continuous(limits = c(0, 300), breaks = seq(0,300, 20)) +\n",
    "    theme_wsj()"
   ]
  },
  {
   "cell_type": "markdown",
   "metadata": {},
   "source": [
    "##### 5. 전국인구조사자료분석(전처리)\n",
    "\n",
    ">통계청에서 작성한 전국 인구조사 자료가 시도별, 인구수 데이터셋으로 데이터전처리가 많아서 조금 어려운 실습"
   ]
  },
  {
   "cell_type": "code",
   "execution_count": 46,
   "metadata": {},
   "outputs": [
    {
     "name": "stdout",
     "output_type": "stream",
     "text": [
      "'data.frame':\t281 obs. of  7 variables:\n",
      " $ City      : chr  \"서울특별시  (1100000000)\" \"서울특별시 종로구 (1111000000)\" \"서울특별시 중구 (1114000000)\" \"서울특별시 용산구 (1117000000)\" ...\n",
      " $ Population: chr  \"10,078,850\" \"155,695\" \"126,817\" \"235,186\" ...\n",
      " $ Households: chr  \"4,197,478\" \"72,882\" \"59,614\" \"108,138\" ...\n",
      " $ PersInHou : num  2.4 2.14 2.13 2.17 2.35 2.28 2.26 2.36 2.41 2.36 ...\n",
      " $ Male      : chr  \"4,962,774\" \"76,962\" \"63,292\" \"114,119\" ...\n",
      " $ Female    : chr  \"5,116,076\" \"78,733\" \"63,525\" \"121,067\" ...\n",
      " $ SexRatio  : num  0.97 0.98 1 0.94 0.99 0.97 1.01 1 0.96 0.97 ...\n"
     ]
    },
    {
     "data": {
      "text/html": [
       "<table>\n",
       "<thead><tr><th scope=col>City</th><th scope=col>Population</th><th scope=col>Households</th><th scope=col>PersInHou</th><th scope=col>Male</th><th scope=col>Female</th><th scope=col>SexRatio</th></tr></thead>\n",
       "<tbody>\n",
       "\t<tr><td>서울특별시  (1100000000)      </td><td>10,078,850                    </td><td>4,197,478                     </td><td>2.40                          </td><td>4,962,774                     </td><td>5,116,076                     </td><td>0.97                          </td></tr>\n",
       "\t<tr><td>서울특별시 종로구 (1111000000)</td><td>155,695                       </td><td>72,882                        </td><td>2.14                          </td><td>76,962                        </td><td>78,733                        </td><td>0.98                          </td></tr>\n",
       "\t<tr><td>서울특별시 중구 (1114000000)  </td><td>126,817                       </td><td>59,614                        </td><td>2.13                          </td><td>63,292                        </td><td>63,525                        </td><td>1.00                          </td></tr>\n",
       "\t<tr><td>서울특별시 용산구 (1117000000)</td><td>235,186                       </td><td>108,138                       </td><td>2.17                          </td><td>114,119                       </td><td>121,067                       </td><td>0.94                          </td></tr>\n",
       "\t<tr><td>서울특별시 성동구 (1120000000)</td><td>298,145                       </td><td>126,915                       </td><td>2.35                          </td><td>148,265                       </td><td>149,880                       </td><td>0.99                          </td></tr>\n",
       "\t<tr><td>서울특별시 광진구 (1121500000)</td><td>362,197                       </td><td>158,769                       </td><td>2.28                          </td><td>177,946                       </td><td>184,251                       </td><td>0.97                          </td></tr>\n",
       "</tbody>\n",
       "</table>\n"
      ],
      "text/latex": [
       "\\begin{tabular}{r|lllllll}\n",
       " City & Population & Households & PersInHou & Male & Female & SexRatio\\\\\n",
       "\\hline\n",
       "\t 서울특별시  (1100000000)       & 10,078,850                     & 4,197,478                      & 2.40                           & 4,962,774                      & 5,116,076                      & 0.97                          \\\\\n",
       "\t 서울특별시 종로구 (1111000000) & 155,695                        & 72,882                         & 2.14                           & 76,962                         & 78,733                         & 0.98                          \\\\\n",
       "\t 서울특별시 중구 (1114000000)   & 126,817                        & 59,614                         & 2.13                           & 63,292                         & 63,525                         & 1.00                          \\\\\n",
       "\t 서울특별시 용산구 (1117000000) & 235,186                        & 108,138                        & 2.17                           & 114,119                        & 121,067                        & 0.94                          \\\\\n",
       "\t 서울특별시 성동구 (1120000000) & 298,145                        & 126,915                        & 2.35                           & 148,265                        & 149,880                        & 0.99                          \\\\\n",
       "\t 서울특별시 광진구 (1121500000) & 362,197                        & 158,769                        & 2.28                           & 177,946                        & 184,251                        & 0.97                          \\\\\n",
       "\\end{tabular}\n"
      ],
      "text/markdown": [
       "\n",
       "| City | Population | Households | PersInHou | Male | Female | SexRatio |\n",
       "|---|---|---|---|---|---|---|\n",
       "| 서울특별시  (1100000000)       | 10,078,850                     | 4,197,478                      | 2.40                           | 4,962,774                      | 5,116,076                      | 0.97                           |\n",
       "| 서울특별시 종로구 (1111000000) | 155,695                        | 72,882                         | 2.14                           | 76,962                         | 78,733                         | 0.98                           |\n",
       "| 서울특별시 중구 (1114000000)   | 126,817                        | 59,614                         | 2.13                           | 63,292                         | 63,525                         | 1.00                           |\n",
       "| 서울특별시 용산구 (1117000000) | 235,186                        | 108,138                        | 2.17                           | 114,119                        | 121,067                        | 0.94                           |\n",
       "| 서울특별시 성동구 (1120000000) | 298,145                        | 126,915                        | 2.35                           | 148,265                        | 149,880                        | 0.99                           |\n",
       "| 서울특별시 광진구 (1121500000) | 362,197                        | 158,769                        | 2.28                           | 177,946                        | 184,251                        | 0.97                           |\n",
       "\n"
      ],
      "text/plain": [
       "  City                           Population Households PersInHou Male     \n",
       "1 서울특별시  (1100000000)       10,078,850 4,197,478  2.40      4,962,774\n",
       "2 서울특별시 종로구 (1111000000) 155,695    72,882     2.14      76,962   \n",
       "3 서울특별시 중구 (1114000000)   126,817    59,614     2.13      63,292   \n",
       "4 서울특별시 용산구 (1117000000) 235,186    108,138    2.17      114,119  \n",
       "5 서울특별시 성동구 (1120000000) 298,145    126,915    2.35      148,265  \n",
       "6 서울특별시 광진구 (1121500000) 362,197    158,769    2.28      177,946  \n",
       "  Female    SexRatio\n",
       "1 5,116,076 0.97    \n",
       "2 78,733    0.98    \n",
       "3 63,525    1.00    \n",
       "4 121,067   0.94    \n",
       "5 149,880   0.99    \n",
       "6 184,251   0.97    "
      ]
     },
     "metadata": {},
     "output_type": "display_data"
    }
   ],
   "source": [
    "# 문자열은 factor형으로 인식되기 때문에 stringsAsFactors=F로 로딩\n",
    "DF <- read.csv('../data/R/example_population.csv', stringsAsFactors=F)\n",
    "str(DF)\n",
    "head(DF)"
   ]
  },
  {
   "cell_type": "code",
   "execution_count": 47,
   "metadata": {},
   "outputs": [],
   "source": [
    "# 문자열정리를 위해 stringr\n",
    "library(stringr)"
   ]
  },
  {
   "cell_type": "code",
   "execution_count": 48,
   "metadata": {},
   "outputs": [
    {
     "data": {
      "text/html": [
       "<table>\n",
       "<tbody>\n",
       "\t<tr><td>서울특별시        </td><td>1100000000)       </td></tr>\n",
       "\t<tr><td>서울특별시 종로구 </td><td>1111000000)       </td></tr>\n",
       "\t<tr><td>서울특별시 중구   </td><td>1114000000)       </td></tr>\n",
       "\t<tr><td>서울특별시 용산구 </td><td>1117000000)       </td></tr>\n",
       "\t<tr><td>서울특별시 성동구 </td><td>1120000000)       </td></tr>\n",
       "\t<tr><td>서울특별시 광진구 </td><td>1121500000)       </td></tr>\n",
       "</tbody>\n",
       "</table>\n"
      ],
      "text/latex": [
       "\\begin{tabular}{ll}\n",
       "\t 서울특별시         & 1100000000)       \\\\\n",
       "\t 서울특별시 종로구  & 1111000000)       \\\\\n",
       "\t 서울특별시 중구    & 1114000000)       \\\\\n",
       "\t 서울특별시 용산구  & 1117000000)       \\\\\n",
       "\t 서울특별시 성동구  & 1120000000)       \\\\\n",
       "\t 서울특별시 광진구  & 1121500000)       \\\\\n",
       "\\end{tabular}\n"
      ],
      "text/markdown": [
       "\n",
       "| 서울특별시         | 1100000000)        |\n",
       "| 서울특별시 종로구  | 1111000000)        |\n",
       "| 서울특별시 중구    | 1114000000)        |\n",
       "| 서울특별시 용산구  | 1117000000)        |\n",
       "| 서울특별시 성동구  | 1120000000)        |\n",
       "| 서울특별시 광진구  | 1121500000)        |\n",
       "\n"
      ],
      "text/plain": [
       "     [,1]               [,2]       \n",
       "[1,] 서울특별시         1100000000)\n",
       "[2,] 서울특별시 종로구  1111000000)\n",
       "[3,] 서울특별시 중구    1114000000)\n",
       "[4,] 서울특별시 용산구  1117000000)\n",
       "[5,] 서울특별시 성동구  1120000000)\n",
       "[6,] 서울특별시 광진구  1121500000)"
      ]
     },
     "metadata": {},
     "output_type": "display_data"
    }
   ],
   "source": [
    "# 서울특별시 (1100000000)\n",
    "# 서울특별시 종로구 (1111000000)\n",
    "# 서울특별시, 종로구로 분리 및 (1100000000)는 삭제\n",
    "temp <- str_split_fixed(DF[,1], \"\\\\(\", 2)\n",
    "temp %>% head()"
   ]
  },
  {
   "cell_type": "code",
   "execution_count": 49,
   "metadata": {},
   "outputs": [
    {
     "data": {
      "text/html": [
       "<table>\n",
       "<tbody>\n",
       "\t<tr><td>서울특별시</td><td>          </td></tr>\n",
       "\t<tr><td>서울특별시</td><td>종로구    </td></tr>\n",
       "\t<tr><td>서울특별시</td><td>중구      </td></tr>\n",
       "\t<tr><td>서울특별시</td><td>용산구    </td></tr>\n",
       "\t<tr><td>서울특별시</td><td>성동구    </td></tr>\n",
       "\t<tr><td>서울특별시</td><td>광진구    </td></tr>\n",
       "</tbody>\n",
       "</table>\n"
      ],
      "text/latex": [
       "\\begin{tabular}{ll}\n",
       "\t 서울특별시 &           \\\\\n",
       "\t 서울특별시 & 종로구    \\\\\n",
       "\t 서울특별시 & 중구      \\\\\n",
       "\t 서울특별시 & 용산구    \\\\\n",
       "\t 서울특별시 & 성동구    \\\\\n",
       "\t 서울특별시 & 광진구    \\\\\n",
       "\\end{tabular}\n"
      ],
      "text/markdown": [
       "\n",
       "| 서울특별시 |            |\n",
       "| 서울특별시 | 종로구     |\n",
       "| 서울특별시 | 중구       |\n",
       "| 서울특별시 | 용산구     |\n",
       "| 서울특별시 | 성동구     |\n",
       "| 서울특별시 | 광진구     |\n",
       "\n"
      ],
      "text/plain": [
       "     [,1]       [,2]   \n",
       "[1,] 서울특별시        \n",
       "[2,] 서울특별시 종로구 \n",
       "[3,] 서울특별시 중구   \n",
       "[4,] 서울특별시 용산구 \n",
       "[5,] 서울특별시 성동구 \n",
       "[6,] 서울특별시 광진구 "
      ]
     },
     "metadata": {},
     "output_type": "display_data"
    }
   ],
   "source": [
    "# 공백을 기준을 시구를 분리\n",
    "NewCity <- str_split_fixed(temp[,1], \" \", 2)\n",
    "NewCity %>% head()"
   ]
  },
  {
   "cell_type": "code",
   "execution_count": 50,
   "metadata": {},
   "outputs": [
    {
     "data": {
      "text/html": [
       "<table>\n",
       "<thead><tr><th></th><th scope=col>Proviences</th><th scope=col>City</th><th scope=col>Population</th><th scope=col>Households</th><th scope=col>PersInHou</th><th scope=col>Male</th><th scope=col>Female</th><th scope=col>SexRatio</th></tr></thead>\n",
       "<tbody>\n",
       "\t<tr><th scope=row>276</th><td>경상남도      </td><td>함양군        </td><td>40,314        </td><td>19,229        </td><td>2.10          </td><td>19,259        </td><td>21,055        </td><td>0.91          </td></tr>\n",
       "\t<tr><th scope=row>277</th><td>경상남도      </td><td>거창군        </td><td>63,069        </td><td>27,724        </td><td>2.27          </td><td>30,582        </td><td>32,487        </td><td>0.94          </td></tr>\n",
       "\t<tr><th scope=row>278</th><td>경상남도      </td><td>합천군        </td><td>48,856        </td><td>24,193        </td><td>2.02          </td><td>23,231        </td><td>25,625        </td><td>0.91          </td></tr>\n",
       "\t<tr><th scope=row>279</th><td>제주특별자치도</td><td>              </td><td>615,250       </td><td>251,478       </td><td>2.45          </td><td>308,627       </td><td>306,623       </td><td>1.01          </td></tr>\n",
       "\t<tr><th scope=row>280</th><td>제주특별자치도</td><td>제주시        </td><td>454,673       </td><td>182,709       </td><td>2.49          </td><td>227,549       </td><td>227,124       </td><td>1.00          </td></tr>\n",
       "\t<tr><th scope=row>281</th><td>제주특별자치도</td><td>서귀포시      </td><td>160,577       </td><td>68,769        </td><td>2.34          </td><td>81,078        </td><td>79,499        </td><td>1.02          </td></tr>\n",
       "</tbody>\n",
       "</table>\n"
      ],
      "text/latex": [
       "\\begin{tabular}{r|llllllll}\n",
       "  & Proviences & City & Population & Households & PersInHou & Male & Female & SexRatio\\\\\n",
       "\\hline\n",
       "\t276 & 경상남도       & 함양군         & 40,314         & 19,229         & 2.10           & 19,259         & 21,055         & 0.91          \\\\\n",
       "\t277 & 경상남도       & 거창군         & 63,069         & 27,724         & 2.27           & 30,582         & 32,487         & 0.94          \\\\\n",
       "\t278 & 경상남도       & 합천군         & 48,856         & 24,193         & 2.02           & 23,231         & 25,625         & 0.91          \\\\\n",
       "\t279 & 제주특별자치도 &                & 615,250        & 251,478        & 2.45           & 308,627        & 306,623        & 1.01          \\\\\n",
       "\t280 & 제주특별자치도 & 제주시         & 454,673        & 182,709        & 2.49           & 227,549        & 227,124        & 1.00          \\\\\n",
       "\t281 & 제주특별자치도 & 서귀포시       & 160,577        & 68,769         & 2.34           & 81,078         & 79,499         & 1.02          \\\\\n",
       "\\end{tabular}\n"
      ],
      "text/markdown": [
       "\n",
       "| <!--/--> | Proviences | City | Population | Households | PersInHou | Male | Female | SexRatio |\n",
       "|---|---|---|---|---|---|---|---|---|\n",
       "| 276 | 경상남도       | 함양군         | 40,314         | 19,229         | 2.10           | 19,259         | 21,055         | 0.91           |\n",
       "| 277 | 경상남도       | 거창군         | 63,069         | 27,724         | 2.27           | 30,582         | 32,487         | 0.94           |\n",
       "| 278 | 경상남도       | 합천군         | 48,856         | 24,193         | 2.02           | 23,231         | 25,625         | 0.91           |\n",
       "| 279 | 제주특별자치도 |                | 615,250        | 251,478        | 2.45           | 308,627        | 306,623        | 1.01           |\n",
       "| 280 | 제주특별자치도 | 제주시         | 454,673        | 182,709        | 2.49           | 227,549        | 227,124        | 1.00           |\n",
       "| 281 | 제주특별자치도 | 서귀포시       | 160,577        | 68,769         | 2.34           | 81,078         | 79,499         | 1.02           |\n",
       "\n"
      ],
      "text/plain": [
       "    Proviences     City      Population Households PersInHou Male    Female \n",
       "276 경상남도       함양군    40,314     19,229     2.10      19,259  21,055 \n",
       "277 경상남도       거창군    63,069     27,724     2.27      30,582  32,487 \n",
       "278 경상남도       합천군    48,856     24,193     2.02      23,231  25,625 \n",
       "279 제주특별자치도           615,250    251,478    2.45      308,627 306,623\n",
       "280 제주특별자치도 제주시    454,673    182,709    2.49      227,549 227,124\n",
       "281 제주특별자치도 서귀포시  160,577    68,769     2.34      81,078  79,499 \n",
       "    SexRatio\n",
       "276 0.91    \n",
       "277 0.94    \n",
       "278 0.91    \n",
       "279 1.01    \n",
       "280 1.00    \n",
       "281 1.02    "
      ]
     },
     "metadata": {},
     "output_type": "display_data"
    }
   ],
   "source": [
    "# 컬럼이름을 변경 및 변수합치기\n",
    "colnames(NewCity) <- c(\"Proviences\", \"City\")\n",
    "DF <- data.frame(NewCity, DF[,c(2:7)])\n",
    "DF %>% tail()"
   ]
  },
  {
   "cell_type": "code",
   "execution_count": 51,
   "metadata": {},
   "outputs": [
    {
     "data": {
      "text/html": [
       "<table>\n",
       "<thead><tr><th></th><th scope=col>Proviences</th><th scope=col>City</th><th scope=col>Population</th><th scope=col>Households</th><th scope=col>PersInHou</th><th scope=col>Male</th><th scope=col>Female</th><th scope=col>SexRatio</th></tr></thead>\n",
       "<tbody>\n",
       "\t<tr><th scope=row>276</th><td>경상남도      </td><td>함양군        </td><td>40,314        </td><td>19,229        </td><td>2.10          </td><td>19,259        </td><td>21,055        </td><td>0.91          </td></tr>\n",
       "\t<tr><th scope=row>277</th><td>경상남도      </td><td>거창군        </td><td>63,069        </td><td>27,724        </td><td>2.27          </td><td>30,582        </td><td>32,487        </td><td>0.94          </td></tr>\n",
       "\t<tr><th scope=row>278</th><td>경상남도      </td><td>합천군        </td><td>48,856        </td><td>24,193        </td><td>2.02          </td><td>23,231        </td><td>25,625        </td><td>0.91          </td></tr>\n",
       "\t<tr><th scope=row>279</th><td>제주특별자치도</td><td>NA            </td><td>615,250       </td><td>251,478       </td><td>2.45          </td><td>308,627       </td><td>306,623       </td><td>1.01          </td></tr>\n",
       "\t<tr><th scope=row>280</th><td>제주특별자치도</td><td>제주시        </td><td>454,673       </td><td>182,709       </td><td>2.49          </td><td>227,549       </td><td>227,124       </td><td>1.00          </td></tr>\n",
       "\t<tr><th scope=row>281</th><td>제주특별자치도</td><td>서귀포시      </td><td>160,577       </td><td>68,769        </td><td>2.34          </td><td>81,078        </td><td>79,499        </td><td>1.02          </td></tr>\n",
       "</tbody>\n",
       "</table>\n"
      ],
      "text/latex": [
       "\\begin{tabular}{r|llllllll}\n",
       "  & Proviences & City & Population & Households & PersInHou & Male & Female & SexRatio\\\\\n",
       "\\hline\n",
       "\t276 & 경상남도       & 함양군         & 40,314         & 19,229         & 2.10           & 19,259         & 21,055         & 0.91          \\\\\n",
       "\t277 & 경상남도       & 거창군         & 63,069         & 27,724         & 2.27           & 30,582         & 32,487         & 0.94          \\\\\n",
       "\t278 & 경상남도       & 합천군         & 48,856         & 24,193         & 2.02           & 23,231         & 25,625         & 0.91          \\\\\n",
       "\t279 & 제주특별자치도 & NA             & 615,250        & 251,478        & 2.45           & 308,627        & 306,623        & 1.01          \\\\\n",
       "\t280 & 제주특별자치도 & 제주시         & 454,673        & 182,709        & 2.49           & 227,549        & 227,124        & 1.00          \\\\\n",
       "\t281 & 제주특별자치도 & 서귀포시       & 160,577        & 68,769         & 2.34           & 81,078         & 79,499         & 1.02          \\\\\n",
       "\\end{tabular}\n"
      ],
      "text/markdown": [
       "\n",
       "| <!--/--> | Proviences | City | Population | Households | PersInHou | Male | Female | SexRatio |\n",
       "|---|---|---|---|---|---|---|---|---|\n",
       "| 276 | 경상남도       | 함양군         | 40,314         | 19,229         | 2.10           | 19,259         | 21,055         | 0.91           |\n",
       "| 277 | 경상남도       | 거창군         | 63,069         | 27,724         | 2.27           | 30,582         | 32,487         | 0.94           |\n",
       "| 278 | 경상남도       | 합천군         | 48,856         | 24,193         | 2.02           | 23,231         | 25,625         | 0.91           |\n",
       "| 279 | 제주특별자치도 | NA             | 615,250        | 251,478        | 2.45           | 308,627        | 306,623        | 1.01           |\n",
       "| 280 | 제주특별자치도 | 제주시         | 454,673        | 182,709        | 2.49           | 227,549        | 227,124        | 1.00           |\n",
       "| 281 | 제주특별자치도 | 서귀포시       | 160,577        | 68,769         | 2.34           | 81,078         | 79,499         | 1.02           |\n",
       "\n"
      ],
      "text/plain": [
       "    Proviences     City      Population Households PersInHou Male    Female \n",
       "276 경상남도       함양군    40,314     19,229     2.10      19,259  21,055 \n",
       "277 경상남도       거창군    63,069     27,724     2.27      30,582  32,487 \n",
       "278 경상남도       합천군    48,856     24,193     2.02      23,231  25,625 \n",
       "279 제주특별자치도 NA        615,250    251,478    2.45      308,627 306,623\n",
       "280 제주특별자치도 제주시    454,673    182,709    2.49      227,549 227,124\n",
       "281 제주특별자치도 서귀포시  160,577    68,769     2.34      81,078  79,499 \n",
       "    SexRatio\n",
       "276 0.91    \n",
       "277 0.94    \n",
       "278 0.91    \n",
       "279 1.01    \n",
       "280 1.00    \n",
       "281 1.02    "
      ]
     },
     "metadata": {},
     "output_type": "display_data"
    }
   ],
   "source": [
    "# City값중 빈값(결측치)을 NA로 변경\n",
    "DF[DF==\" \"] <- NA\n",
    "tail(DF)"
   ]
  },
  {
   "cell_type": "code",
   "execution_count": 52,
   "metadata": {},
   "outputs": [
    {
     "data": {
      "text/html": [
       "<table>\n",
       "<thead><tr><th></th><th scope=col>Proviences</th><th scope=col>City</th><th scope=col>Population</th><th scope=col>Households</th><th scope=col>PersInHou</th><th scope=col>Male</th><th scope=col>Female</th><th scope=col>SexRatio</th></tr></thead>\n",
       "<tbody>\n",
       "\t<tr><th scope=row>275</th><td>경상남도      </td><td>산청군        </td><td>36,122        </td><td>17,985        </td><td>2.01          </td><td>17,630        </td><td>18,492        </td><td>0.95          </td></tr>\n",
       "\t<tr><th scope=row>276</th><td>경상남도      </td><td>함양군        </td><td>40,314        </td><td>19,229        </td><td>2.10          </td><td>19,259        </td><td>21,055        </td><td>0.91          </td></tr>\n",
       "\t<tr><th scope=row>277</th><td>경상남도      </td><td>거창군        </td><td>63,069        </td><td>27,724        </td><td>2.27          </td><td>30,582        </td><td>32,487        </td><td>0.94          </td></tr>\n",
       "\t<tr><th scope=row>278</th><td>경상남도      </td><td>합천군        </td><td>48,856        </td><td>24,193        </td><td>2.02          </td><td>23,231        </td><td>25,625        </td><td>0.91          </td></tr>\n",
       "\t<tr><th scope=row>280</th><td>제주특별자치도</td><td>제주시        </td><td>454,673       </td><td>182,709       </td><td>2.49          </td><td>227,549       </td><td>227,124       </td><td>1.00          </td></tr>\n",
       "\t<tr><th scope=row>281</th><td>제주특별자치도</td><td>서귀포시      </td><td>160,577       </td><td>68,769        </td><td>2.34          </td><td>81,078        </td><td>79,499        </td><td>1.02          </td></tr>\n",
       "</tbody>\n",
       "</table>\n"
      ],
      "text/latex": [
       "\\begin{tabular}{r|llllllll}\n",
       "  & Proviences & City & Population & Households & PersInHou & Male & Female & SexRatio\\\\\n",
       "\\hline\n",
       "\t275 & 경상남도       & 산청군         & 36,122         & 17,985         & 2.01           & 17,630         & 18,492         & 0.95          \\\\\n",
       "\t276 & 경상남도       & 함양군         & 40,314         & 19,229         & 2.10           & 19,259         & 21,055         & 0.91          \\\\\n",
       "\t277 & 경상남도       & 거창군         & 63,069         & 27,724         & 2.27           & 30,582         & 32,487         & 0.94          \\\\\n",
       "\t278 & 경상남도       & 합천군         & 48,856         & 24,193         & 2.02           & 23,231         & 25,625         & 0.91          \\\\\n",
       "\t280 & 제주특별자치도 & 제주시         & 454,673        & 182,709        & 2.49           & 227,549        & 227,124        & 1.00          \\\\\n",
       "\t281 & 제주특별자치도 & 서귀포시       & 160,577        & 68,769         & 2.34           & 81,078         & 79,499         & 1.02          \\\\\n",
       "\\end{tabular}\n"
      ],
      "text/markdown": [
       "\n",
       "| <!--/--> | Proviences | City | Population | Households | PersInHou | Male | Female | SexRatio |\n",
       "|---|---|---|---|---|---|---|---|---|\n",
       "| 275 | 경상남도       | 산청군         | 36,122         | 17,985         | 2.01           | 17,630         | 18,492         | 0.95           |\n",
       "| 276 | 경상남도       | 함양군         | 40,314         | 19,229         | 2.10           | 19,259         | 21,055         | 0.91           |\n",
       "| 277 | 경상남도       | 거창군         | 63,069         | 27,724         | 2.27           | 30,582         | 32,487         | 0.94           |\n",
       "| 278 | 경상남도       | 합천군         | 48,856         | 24,193         | 2.02           | 23,231         | 25,625         | 0.91           |\n",
       "| 280 | 제주특별자치도 | 제주시         | 454,673        | 182,709        | 2.49           | 227,549        | 227,124        | 1.00           |\n",
       "| 281 | 제주특별자치도 | 서귀포시       | 160,577        | 68,769         | 2.34           | 81,078         | 79,499         | 1.02           |\n",
       "\n"
      ],
      "text/plain": [
       "    Proviences     City      Population Households PersInHou Male    Female \n",
       "275 경상남도       산청군    36,122     17,985     2.01      17,630  18,492 \n",
       "276 경상남도       함양군    40,314     19,229     2.10      19,259  21,055 \n",
       "277 경상남도       거창군    63,069     27,724     2.27      30,582  32,487 \n",
       "278 경상남도       합천군    48,856     24,193     2.02      23,231  25,625 \n",
       "280 제주특별자치도 제주시    454,673    182,709    2.49      227,549 227,124\n",
       "281 제주특별자치도 서귀포시  160,577    68,769     2.34      81,078  79,499 \n",
       "    SexRatio\n",
       "275 0.95    \n",
       "276 0.91    \n",
       "277 0.94    \n",
       "278 0.91    \n",
       "280 1.00    \n",
       "281 1.02    "
      ]
     },
     "metadata": {},
     "output_type": "display_data"
    }
   ],
   "source": [
    "# 결츨치제거\n",
    "DF <- DF[complete.cases(DF), ]\n",
    "tail(DF)"
   ]
  },
  {
   "cell_type": "code",
   "execution_count": 53,
   "metadata": {},
   "outputs": [
    {
     "name": "stdout",
     "output_type": "stream",
     "text": [
      "'data.frame':\t263 obs. of  8 variables:\n",
      " $ Proviences: Factor w/ 17 levels \"강원도\",\"경기도\",..: 9 9 9 9 9 9 9 9 9 9 ...\n",
      " $ City      : Factor w/ 241 levels \" \",\"가평군 \",..: 188 189 158 105 32 65 190 106 6 63 ...\n",
      " $ Population: chr  \"155,695\" \"126,817\" \"235,186\" \"298,145\" ...\n",
      " $ Households: chr  \"72,882\" \"59,614\" \"108,138\" \"126,915\" ...\n",
      " $ PersInHou : num  2.14 2.13 2.17 2.35 2.28 2.26 2.36 2.41 2.36 2.57 ...\n",
      " $ Male      : chr  \"76,962\" \"63,292\" \"114,119\" \"148,265\" ...\n",
      " $ Female    : chr  \"78,733\" \"63,525\" \"121,067\" \"149,880\" ...\n",
      " $ SexRatio  : num  0.98 1 0.94 0.99 0.97 1.01 1 0.96 0.97 0.97 ...\n",
      "'data.frame':\t263 obs. of  8 variables:\n",
      " $ Proviences: Factor w/ 17 levels \"강원도\",\"경기도\",..: 9 9 9 9 9 9 9 9 9 9 ...\n",
      " $ City      : Factor w/ 241 levels \" \",\"가평군 \",..: 188 189 158 105 32 65 190 106 6 63 ...\n",
      " $ Population: num  155695 126817 235186 298145 362197 ...\n",
      " $ Households: num  72882 59614 108138 126915 158769 ...\n",
      " $ PersInHou : num  2.14 2.13 2.17 2.35 2.28 2.26 2.36 2.41 2.36 2.57 ...\n",
      " $ Male      : num  76962 63292 114119 148265 177946 ...\n",
      " $ Female    : num  78733 63525 121067 149880 184251 ...\n",
      " $ SexRatio  : num  0.98 1 0.94 0.99 0.97 1.01 1 0.96 0.97 0.97 ...\n"
     ]
    }
   ],
   "source": [
    "# 인구수등 문자열을 수치형으로 변경\n",
    "# sapply(변수, 함수)\n",
    "# gsub(\",\", \"\", 데이터) : 컴마(,)를 제거\n",
    "str(DF)\n",
    "\n",
    "for (i in 3:8) {\n",
    "    DF[,i] <- sapply(DF[,i], function(x) gsub(\",\", \"\", x))\n",
    "    DF[,i] <- as.character(DF[,i])\n",
    "    DF[,i] <- as.numeric(DF[,i])\n",
    "}\n",
    "str(DF)                    "
   ]
  },
  {
   "cell_type": "code",
   "execution_count": 54,
   "metadata": {},
   "outputs": [
    {
     "data": {
      "text/html": [
       "<dl class=dl-horizontal>\n",
       "\t<dt>강원도</dt>\n",
       "\t\t<dd>1547166</dd>\n",
       "\t<dt>경기도</dt>\n",
       "\t\t<dd>18723822</dd>\n",
       "\t<dt>경상남도</dt>\n",
       "\t\t<dd>4428762</dd>\n",
       "\t<dt>경상북도</dt>\n",
       "\t\t<dd>3215695</dd>\n",
       "\t<dt>광주광역시</dt>\n",
       "\t\t<dd>1476974</dd>\n",
       "\t<dt>대구광역시</dt>\n",
       "\t\t<dd>2491137</dd>\n",
       "\t<dt>대전광역시</dt>\n",
       "\t\t<dd>1525656</dd>\n",
       "\t<dt>부산광역시</dt>\n",
       "\t\t<dd>3517491</dd>\n",
       "\t<dt>서울특별시</dt>\n",
       "\t\t<dd>10078850</dd>\n",
       "\t<dt>세종특별자치시</dt>\n",
       "\t\t<dd>&lt;NA&gt;</dd>\n",
       "\t<dt>울산광역시</dt>\n",
       "\t\t<dd>1169768</dd>\n",
       "\t<dt>인천광역시</dt>\n",
       "\t\t<dd>2914271</dd>\n",
       "\t<dt>전라남도</dt>\n",
       "\t\t<dd>1902638</dd>\n",
       "\t<dt>전라북도</dt>\n",
       "\t\t<dd>2523806</dd>\n",
       "\t<dt>제주특별자치도</dt>\n",
       "\t\t<dd>615250</dd>\n",
       "\t<dt>충청남도</dt>\n",
       "\t\t<dd>2671383</dd>\n",
       "\t<dt>충청북도</dt>\n",
       "\t\t<dd>2414568</dd>\n",
       "</dl>\n"
      ],
      "text/latex": [
       "\\begin{description*}\n",
       "\\item[강원도] 1547166\n",
       "\\item[경기도] 18723822\n",
       "\\item[경상남도] 4428762\n",
       "\\item[경상북도] 3215695\n",
       "\\item[광주광역시] 1476974\n",
       "\\item[대구광역시] 2491137\n",
       "\\item[대전광역시] 1525656\n",
       "\\item[부산광역시] 3517491\n",
       "\\item[서울특별시] 10078850\n",
       "\\item[세종특별자치시] <NA>\n",
       "\\item[울산광역시] 1169768\n",
       "\\item[인천광역시] 2914271\n",
       "\\item[전라남도] 1902638\n",
       "\\item[전라북도] 2523806\n",
       "\\item[제주특별자치도] 615250\n",
       "\\item[충청남도] 2671383\n",
       "\\item[충청북도] 2414568\n",
       "\\end{description*}\n"
      ],
      "text/markdown": [
       "강원도\n",
       ":   1547166경기도\n",
       ":   18723822경상남도\n",
       ":   4428762경상북도\n",
       ":   3215695광주광역시\n",
       ":   1476974대구광역시\n",
       ":   2491137대전광역시\n",
       ":   1525656부산광역시\n",
       ":   3517491서울특별시\n",
       ":   10078850세종특별자치시\n",
       ":   &lt;NA&gt;울산광역시\n",
       ":   1169768인천광역시\n",
       ":   2914271전라남도\n",
       ":   1902638전라북도\n",
       ":   2523806제주특별자치도\n",
       ":   615250충청남도\n",
       ":   2671383충청북도\n",
       ":   2414568\n",
       "\n"
      ],
      "text/plain": [
       "        강원도         경기도       경상남도       경상북도     광주광역시 \n",
       "       1547166       18723822        4428762        3215695        1476974 \n",
       "    대구광역시     대전광역시     부산광역시     서울특별시 세종특별자치시 \n",
       "       2491137        1525656        3517491       10078850             NA \n",
       "    울산광역시     인천광역시       전라남도       전라북도 제주특별자치도 \n",
       "       1169768        2914271        1902638        2523806         615250 \n",
       "      충청남도       충청북도 \n",
       "       2671383        2414568 "
      ]
     },
     "metadata": {},
     "output_type": "display_data"
    }
   ],
   "source": [
    "# 데이터전처리완료\n",
    "# 시도별로 인구수합계구하기\n",
    "# tapply() : 그룹별로 특정변수에 동일한 함수를 적용\n",
    "# tapply(적용할 변수, 그룹지울변수, 적용할 함수)\n",
    "ProPopul <- tapply(DF$Population, DF$Proviences, sum)\n",
    "ProPopul"
   ]
  },
  {
   "cell_type": "code",
   "execution_count": 55,
   "metadata": {},
   "outputs": [
    {
     "data": {
      "text/html": [
       "<dl class=dl-horizontal>\n",
       "\t<dt>강원도</dt>\n",
       "\t\t<dd>1547166</dd>\n",
       "\t<dt>경기도</dt>\n",
       "\t\t<dd>18723822</dd>\n",
       "\t<dt>경상남도</dt>\n",
       "\t\t<dd>4428762</dd>\n",
       "\t<dt>경상북도</dt>\n",
       "\t\t<dd>3215695</dd>\n",
       "\t<dt>광주광역시</dt>\n",
       "\t\t<dd>1476974</dd>\n",
       "\t<dt>대구광역시</dt>\n",
       "\t\t<dd>2491137</dd>\n",
       "\t<dt>대전광역시</dt>\n",
       "\t\t<dd>1525656</dd>\n",
       "\t<dt>부산광역시</dt>\n",
       "\t\t<dd>3517491</dd>\n",
       "\t<dt>서울특별시</dt>\n",
       "\t\t<dd>10078850</dd>\n",
       "\t<dt>울산광역시</dt>\n",
       "\t\t<dd>1169768</dd>\n",
       "\t<dt>인천광역시</dt>\n",
       "\t\t<dd>2914271</dd>\n",
       "\t<dt>전라남도</dt>\n",
       "\t\t<dd>1902638</dd>\n",
       "\t<dt>전라북도</dt>\n",
       "\t\t<dd>2523806</dd>\n",
       "\t<dt>제주특별자치도</dt>\n",
       "\t\t<dd>615250</dd>\n",
       "\t<dt>충청남도</dt>\n",
       "\t\t<dd>2671383</dd>\n",
       "\t<dt>충청북도</dt>\n",
       "\t\t<dd>2414568</dd>\n",
       "</dl>\n"
      ],
      "text/latex": [
       "\\begin{description*}\n",
       "\\item[강원도] 1547166\n",
       "\\item[경기도] 18723822\n",
       "\\item[경상남도] 4428762\n",
       "\\item[경상북도] 3215695\n",
       "\\item[광주광역시] 1476974\n",
       "\\item[대구광역시] 2491137\n",
       "\\item[대전광역시] 1525656\n",
       "\\item[부산광역시] 3517491\n",
       "\\item[서울특별시] 10078850\n",
       "\\item[울산광역시] 1169768\n",
       "\\item[인천광역시] 2914271\n",
       "\\item[전라남도] 1902638\n",
       "\\item[전라북도] 2523806\n",
       "\\item[제주특별자치도] 615250\n",
       "\\item[충청남도] 2671383\n",
       "\\item[충청북도] 2414568\n",
       "\\end{description*}\n"
      ],
      "text/markdown": [
       "강원도\n",
       ":   1547166경기도\n",
       ":   18723822경상남도\n",
       ":   4428762경상북도\n",
       ":   3215695광주광역시\n",
       ":   1476974대구광역시\n",
       ":   2491137대전광역시\n",
       ":   1525656부산광역시\n",
       ":   3517491서울특별시\n",
       ":   10078850울산광역시\n",
       ":   1169768인천광역시\n",
       ":   2914271전라남도\n",
       ":   1902638전라북도\n",
       ":   2523806제주특별자치도\n",
       ":   615250충청남도\n",
       ":   2671383충청북도\n",
       ":   2414568\n",
       "\n"
      ],
      "text/plain": [
       "        강원도         경기도       경상남도       경상북도     광주광역시 \n",
       "       1547166       18723822        4428762        3215695        1476974 \n",
       "    대구광역시     대전광역시     부산광역시     서울특별시     울산광역시 \n",
       "       2491137        1525656        3517491       10078850        1169768 \n",
       "    인천광역시       전라남도       전라북도 제주특별자치도       충청남도 \n",
       "       2914271        1902638        2523806         615250        2671383 \n",
       "      충청북도 \n",
       "       2414568 "
      ]
     },
     "metadata": {},
     "output_type": "display_data"
    }
   ],
   "source": [
    "# Factor변수로 정리\n",
    "# 세종특별자치시 <NA> : 세종시에는 City값이 없어 NA로 정리\n",
    "# 인구수가 지나치게 적어 다른 시도와 비교하기가 어려워 삭제\n",
    "DF[,1] <- factor(DF[,1])\n",
    "ProPopul <- tapply(DF$Population, DF$Proviences, sum)\n",
    "ProPopul"
   ]
  },
  {
   "cell_type": "code",
   "execution_count": 56,
   "metadata": {},
   "outputs": [
    {
     "data": {
      "image/png": "[encoded data removed]",
      "text/plain": [
       "plot without title"
      ]
     },
     "metadata": {},
     "output_type": "display_data"
    }
   ],
   "source": [
    "# 시도별 인구수데이터를 시각화\n",
    "ggplot(DF, aes(x=Proviences, y=Population), fill=Proviences) +\n",
    "    geom_bar(stat='identity') +\n",
    "    theme_wsj()"
   ]
  },
  {
   "cell_type": "code",
   "execution_count": 57,
   "metadata": {},
   "outputs": [],
   "source": [
    "# 파일저장\n",
    "write.csv(DF, '../data/R/example_population_f.csv')"
   ]
  },
  {
   "cell_type": "code",
   "execution_count": 58,
   "metadata": {},
   "outputs": [
    {
     "data": {
      "text/html": [
       "<table>\n",
       "<thead><tr><th scope=col>X</th><th scope=col>Proviences</th><th scope=col>City</th><th scope=col>Population</th><th scope=col>Households</th><th scope=col>PersInHou</th><th scope=col>Male</th><th scope=col>Female</th><th scope=col>SexRatio</th></tr></thead>\n",
       "<tbody>\n",
       "\t<tr><td>2         </td><td>서울특별시</td><td>종로구    </td><td>155695    </td><td> 72882    </td><td>2.14      </td><td> 76962    </td><td> 78733    </td><td>0.98      </td></tr>\n",
       "\t<tr><td>3         </td><td>서울특별시</td><td>중구      </td><td>126817    </td><td> 59614    </td><td>2.13      </td><td> 63292    </td><td> 63525    </td><td>1.00      </td></tr>\n",
       "\t<tr><td>4         </td><td>서울특별시</td><td>용산구    </td><td>235186    </td><td>108138    </td><td>2.17      </td><td>114119    </td><td>121067    </td><td>0.94      </td></tr>\n",
       "\t<tr><td>5         </td><td>서울특별시</td><td>성동구    </td><td>298145    </td><td>126915    </td><td>2.35      </td><td>148265    </td><td>149880    </td><td>0.99      </td></tr>\n",
       "\t<tr><td>6         </td><td>서울특별시</td><td>광진구    </td><td>362197    </td><td>158769    </td><td>2.28      </td><td>177946    </td><td>184251    </td><td>0.97      </td></tr>\n",
       "\t<tr><td>7         </td><td>서울특별시</td><td>동대문구  </td><td>362604    </td><td>160110    </td><td>2.26      </td><td>181825    </td><td>180779    </td><td>1.01      </td></tr>\n",
       "</tbody>\n",
       "</table>\n"
      ],
      "text/latex": [
       "\\begin{tabular}{r|lllllllll}\n",
       " X & Proviences & City & Population & Households & PersInHou & Male & Female & SexRatio\\\\\n",
       "\\hline\n",
       "\t 2          & 서울특별시 & 종로구     & 155695     &  72882     & 2.14       &  76962     &  78733     & 0.98      \\\\\n",
       "\t 3          & 서울특별시 & 중구       & 126817     &  59614     & 2.13       &  63292     &  63525     & 1.00      \\\\\n",
       "\t 4          & 서울특별시 & 용산구     & 235186     & 108138     & 2.17       & 114119     & 121067     & 0.94      \\\\\n",
       "\t 5          & 서울특별시 & 성동구     & 298145     & 126915     & 2.35       & 148265     & 149880     & 0.99      \\\\\n",
       "\t 6          & 서울특별시 & 광진구     & 362197     & 158769     & 2.28       & 177946     & 184251     & 0.97      \\\\\n",
       "\t 7          & 서울특별시 & 동대문구   & 362604     & 160110     & 2.26       & 181825     & 180779     & 1.01      \\\\\n",
       "\\end{tabular}\n"
      ],
      "text/markdown": [
       "\n",
       "| X | Proviences | City | Population | Households | PersInHou | Male | Female | SexRatio |\n",
       "|---|---|---|---|---|---|---|---|---|\n",
       "| 2          | 서울특별시 | 종로구     | 155695     |  72882     | 2.14       |  76962     |  78733     | 0.98       |\n",
       "| 3          | 서울특별시 | 중구       | 126817     |  59614     | 2.13       |  63292     |  63525     | 1.00       |\n",
       "| 4          | 서울특별시 | 용산구     | 235186     | 108138     | 2.17       | 114119     | 121067     | 0.94       |\n",
       "| 5          | 서울특별시 | 성동구     | 298145     | 126915     | 2.35       | 148265     | 149880     | 0.99       |\n",
       "| 6          | 서울특별시 | 광진구     | 362197     | 158769     | 2.28       | 177946     | 184251     | 0.97       |\n",
       "| 7          | 서울특별시 | 동대문구   | 362604     | 160110     | 2.26       | 181825     | 180779     | 1.01       |\n",
       "\n"
      ],
      "text/plain": [
       "  X Proviences City      Population Households PersInHou Male   Female SexRatio\n",
       "1 2 서울특별시 종로구    155695      72882     2.14       76962  78733 0.98    \n",
       "2 3 서울특별시 중구      126817      59614     2.13       63292  63525 1.00    \n",
       "3 4 서울특별시 용산구    235186     108138     2.17      114119 121067 0.94    \n",
       "4 5 서울특별시 성동구    298145     126915     2.35      148265 149880 0.99    \n",
       "5 6 서울특별시 광진구    362197     158769     2.28      177946 184251 0.97    \n",
       "6 7 서울특별시 동대문구  362604     160110     2.26      181825 180779 1.01    "
      ]
     },
     "metadata": {},
     "output_type": "display_data"
    }
   ],
   "source": [
    "result <- read.csv('../data/R/example_population_f.csv')\n",
    "head(result)"
   ]
  },
  {
   "cell_type": "markdown",
   "metadata": {},
   "source": [
    "##### 6. lattice패키지\n",
    "\n",
    ">3차원 데이터를 대상으로 그 데이터들의 상관관계를 보여주는 그래프"
   ]
  },
  {
   "cell_type": "code",
   "execution_count": 59,
   "metadata": {},
   "outputs": [
    {
     "data": {
      "text/html": [
       "<table>\n",
       "<thead><tr><th scope=col>lat</th><th scope=col>long</th><th scope=col>depth</th><th scope=col>mag</th><th scope=col>stations</th></tr></thead>\n",
       "<tbody>\n",
       "\t<tr><td>-20.42</td><td>181.62</td><td>562   </td><td>4.8   </td><td>41    </td></tr>\n",
       "\t<tr><td>-20.62</td><td>181.03</td><td>650   </td><td>4.2   </td><td>15    </td></tr>\n",
       "\t<tr><td>-26.00</td><td>184.10</td><td> 42   </td><td>5.4   </td><td>43    </td></tr>\n",
       "\t<tr><td>-17.97</td><td>181.66</td><td>626   </td><td>4.1   </td><td>19    </td></tr>\n",
       "\t<tr><td>-20.42</td><td>181.96</td><td>649   </td><td>4.0   </td><td>11    </td></tr>\n",
       "\t<tr><td>-19.68</td><td>184.31</td><td>195   </td><td>4.0   </td><td>12    </td></tr>\n",
       "</tbody>\n",
       "</table>\n"
      ],
      "text/latex": [
       "\\begin{tabular}{r|lllll}\n",
       " lat & long & depth & mag & stations\\\\\n",
       "\\hline\n",
       "\t -20.42 & 181.62 & 562    & 4.8    & 41    \\\\\n",
       "\t -20.62 & 181.03 & 650    & 4.2    & 15    \\\\\n",
       "\t -26.00 & 184.10 &  42    & 5.4    & 43    \\\\\n",
       "\t -17.97 & 181.66 & 626    & 4.1    & 19    \\\\\n",
       "\t -20.42 & 181.96 & 649    & 4.0    & 11    \\\\\n",
       "\t -19.68 & 184.31 & 195    & 4.0    & 12    \\\\\n",
       "\\end{tabular}\n"
      ],
      "text/markdown": [
       "\n",
       "| lat | long | depth | mag | stations |\n",
       "|---|---|---|---|---|\n",
       "| -20.42 | 181.62 | 562    | 4.8    | 41     |\n",
       "| -20.62 | 181.03 | 650    | 4.2    | 15     |\n",
       "| -26.00 | 184.10 |  42    | 5.4    | 43     |\n",
       "| -17.97 | 181.66 | 626    | 4.1    | 19     |\n",
       "| -20.42 | 181.96 | 649    | 4.0    | 11     |\n",
       "| -19.68 | 184.31 | 195    | 4.0    | 12     |\n",
       "\n"
      ],
      "text/plain": [
       "  lat    long   depth mag stations\n",
       "1 -20.42 181.62 562   4.8 41      \n",
       "2 -20.62 181.03 650   4.2 15      \n",
       "3 -26.00 184.10  42   5.4 43      \n",
       "4 -17.97 181.66 626   4.1 19      \n",
       "5 -20.42 181.96 649   4.0 11      \n",
       "6 -19.68 184.31 195   4.0 12      "
      ]
     },
     "metadata": {},
     "output_type": "display_data"
    }
   ],
   "source": [
    "data(quakes) # 지진관련 내장데이터셋\n",
    "head(quakes)\n",
    "library(lattice)"
   ]
  },
  {
   "cell_type": "code",
   "execution_count": 60,
   "metadata": {},
   "outputs": [
    {
     "data": {
      "text/html": [
       "40"
      ],
      "text/latex": [
       "40"
      ],
      "text/markdown": [
       "40"
      ],
      "text/plain": [
       "[1] 40"
      ]
     },
     "metadata": {},
     "output_type": "display_data"
    },
    {
     "data": {
      "text/html": [
       "680"
      ],
      "text/latex": [
       "680"
      ],
      "text/markdown": [
       "680"
      ],
      "text/plain": [
       "[1] 680"
      ]
     },
     "metadata": {},
     "output_type": "display_data"
    },
    {
     "data": {
      "text/html": [
       "<ol class=list-inline>\n",
       "\t<li>40</li>\n",
       "\t<li>120</li>\n",
       "\t<li>200</li>\n",
       "\t<li>280</li>\n",
       "\t<li>360</li>\n",
       "\t<li>440</li>\n",
       "\t<li>520</li>\n",
       "\t<li>600</li>\n",
       "\t<li>680</li>\n",
       "</ol>\n"
      ],
      "text/latex": [
       "\\begin{enumerate*}\n",
       "\\item 40\n",
       "\\item 120\n",
       "\\item 200\n",
       "\\item 280\n",
       "\\item 360\n",
       "\\item 440\n",
       "\\item 520\n",
       "\\item 600\n",
       "\\item 680\n",
       "\\end{enumerate*}\n"
      ],
      "text/markdown": [
       "1. 40\n",
       "2. 120\n",
       "3. 200\n",
       "4. 280\n",
       "5. 360\n",
       "6. 440\n",
       "7. 520\n",
       "8. 600\n",
       "9. 680\n",
       "\n",
       "\n"
      ],
      "text/plain": [
       "[1]  40 120 200 280 360 440 520 600 680"
      ]
     },
     "metadata": {},
     "output_type": "display_data"
    },
    {
     "data": {
      "image/png": "[encoded data removed]",
      "text/plain": [
       "plot without title"
      ]
     },
     "metadata": {},
     "output_type": "display_data"
    }
   ],
   "source": [
    "mini = min(quakes$depth) # 최소진앙지\n",
    "maxi = max(quakes$depth) # 최대진앙지\n",
    "mini\n",
    "maxi\n",
    "# 시각화하기 위해 진앙지 구간크기를 설정\n",
    "r = ceiling(maxi-mini)/8 # 8구간\n",
    "inf = seq(mini, maxi, r)\n",
    "inf\n",
    "\n",
    "# 지진데이터를 구간별 작업을 위해 factor변수로 변경\n",
    "quakes$depth.cat = factor(floor((quakes$depth-mini)/r), labels=paste(inf, inf+5, sep=\"~\"))\n",
    "# quakes$depth.cat \n",
    "xyplot(lat~long|depth.cat, data=quakes, main='지진데이터')"
   ]
  },
  {
   "cell_type": "code",
   "execution_count": 61,
   "metadata": {},
   "outputs": [
    {
     "data": {
      "image/png": "[encoded data removed]",
      "text/plain": [
       "plot without title"
      ]
     },
     "metadata": {},
     "output_type": "display_data"
    }
   ],
   "source": [
    "# 3차원 그래프\n",
    "# cloud(z축~x축+y축, data=데이터셋, sub=타이틀)\n",
    "cloud(mag~lat+long, data=quakes, sub=\"위도경도별 지진강도\")"
   ]
  },
  {
   "cell_type": "code",
   "execution_count": 62,
   "metadata": {},
   "outputs": [
    {
     "data": {
      "image/png": "[encoded data removed]",
      "text/plain": [
       "plot without title"
      ]
     },
     "metadata": {},
     "output_type": "display_data"
    }
   ],
   "source": [
    "# 산점도 매트릭스\n",
    "splom(quakes[1:4])"
   ]
  },
  {
   "cell_type": "code",
   "execution_count": 63,
   "metadata": {},
   "outputs": [
    {
     "data": {
      "image/png": "[encoded data removed]",
      "text/plain": [
       "plot without title"
      ]
     },
     "metadata": {},
     "output_type": "display_data"
    }
   ],
   "source": [
    "# 깊이에 따른 지진강도\n",
    "bwplot(mag~depth.cat, data=quakes, main=\"진앙지에 따른 지진강도\",sub=\"테스트\")"
   ]
  },
  {
   "cell_type": "code",
   "execution_count": null,
   "metadata": {},
   "outputs": [],
   "source": []
  }
 ],
 "metadata": {
  "kernelspec": {
   "display_name": "R",
   "language": "R",
   "name": "ir"
  },
  "language_info": {
   "codemirror_mode": "r",
   "file_extension": ".r",
   "mimetype": "text/x-r-source",
   "name": "R",
   "pygments_lexer": "r",
   "version": "3.6.1"
  }
 },
 "nbformat": 4,
 "nbformat_minor": 4
}
